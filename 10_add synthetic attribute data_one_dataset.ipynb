{
 "cells": [
  {
   "cell_type": "markdown",
   "id": "9475ab7f-f59d-4644-8e0a-99aa00517392",
   "metadata": {
    "tags": []
   },
   "source": [
    "# Insert synthetic attributes with and without drift behavior for one dataset\n",
    "\n",
    "The user supplies\n",
    "1. an XES file path, \n",
    "2. a list of change points for this file\n",
    "3. the number of relevant attributes to generate\n",
    "4. the number of irrelevant attributes to generate\n",
    "\n",
    "Optionally, the user can provide\n",
    "- the type of attribute distribution change (new value or new distribution)\n",
    "- the type of change (sudden or re-occuring)\n",
    "- the standard deviation of the distance between the attribute change point to the given change point"
   ]
  },
  {
   "cell_type": "code",
   "execution_count": 1,
   "id": "928843ee",
   "metadata": {},
   "outputs": [],
   "source": [
    "import helper"
   ]
  },
  {
   "cell_type": "code",
   "execution_count": 2,
   "id": "2ad55131-0706-44e0-b98b-4393be9e7267",
   "metadata": {},
   "outputs": [],
   "source": [
    "# select a dataset to augment\n",
    "dataset_name = 'data\\\\synthetic\\\\maardji et al 2013_xes\\\\logs\\\\cb\\\\cb2.5k.xes'\n",
    "output_path = 'data\\\\synthetic\\\\maardji et al 2013_xes_attributes\\\\logs\\\\cb\\\\cb2.5k.xes'\n",
    "\n",
    "count_relevant_attributes = 1\n",
    "count_irrelevant_attributes = 1\n",
    "cp_explanations_per_relevant_attribute = 1\n",
    "number_attribute_values = 3\n",
    "type_of_drift = 'sudden'\n",
    "type_of_change = 'mixed'\n",
    "standard_deviation_offset_explain_change_point = 0"
   ]
  },
  {
   "cell_type": "code",
   "execution_count": 3,
   "id": "e2b78ac9",
   "metadata": {},
   "outputs": [
    {
     "name": "stdout",
     "output_type": "stream",
     "text": [
      "Importance: DEBUG\n",
      "Message: Start serializing log to XES.XML\n",
      "\n",
      "Importance: DEBUG\n",
      "Message: finished serializing log (10354.422607421875 msec.)\n",
      "\n"
     ]
    }
   ],
   "source": [
    "helper.add_synthetic_attributes(dataset_name,\n",
    "    output_path, \n",
    "    count_relevant_attributes,\n",
    "    count_irrelevant_attributes,\n",
    "    cp_explanations_per_relevant_attribute,\n",
    "    number_attribute_values,\n",
    "    type_of_drift,\n",
    "    type_of_change,\n",
    "    standard_deviation_offset_explain_change_point)"
   ]
  }
 ],
 "metadata": {
  "interpreter": {
   "hash": "3586acef3f5f923af4b971ce05811a36e3973e810e5c25f95daaeb0237b948ae"
  },
  "kernelspec": {
   "display_name": "Python 3.10.4 ('concept_drift')",
   "language": "python",
   "name": "python3"
  },
  "language_info": {
   "codemirror_mode": {
    "name": "ipython",
    "version": 3
   },
   "file_extension": ".py",
   "mimetype": "text/x-python",
   "name": "python",
   "nbconvert_exporter": "python",
   "pygments_lexer": "ipython3",
   "version": "3.10.4"
  }
 },
 "nbformat": 4,
 "nbformat_minor": 5
}
