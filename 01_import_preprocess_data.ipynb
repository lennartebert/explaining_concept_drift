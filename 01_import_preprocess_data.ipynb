{
 "cells": [
  {
   "cell_type": "markdown",
   "id": "4ffb7b5e-d9c1-4e96-897c-9332efca9e1a",
   "metadata": {
    "tags": []
   },
   "source": [
    "# Import and Preprocess Data\n",
    "Helper notebook to\n",
    "1. unpack data\n",
    "2. transform it into XES format\n",
    "3. create a data dictionary, a catalog with all information about the data"
   ]
  },
  {
   "cell_type": "code",
   "execution_count": 1,
   "id": "55603875-abf9-49e7-ac5f-d89c65cd2e71",
   "metadata": {},
   "outputs": [],
   "source": [
    "import os\n",
    "import opyenxes\n",
    "from opyenxes.data_in import XMxmlParser\n",
    "from opyenxes.data_out import XesXmlSerializer\n",
    "import json\n",
    "import helper\n",
    "import zipfile\n",
    "import shutil\n",
    "import gzip"
   ]
  },
  {
   "cell_type": "markdown",
   "id": "2dafd194-662c-4b98-a517-27c53d56df88",
   "metadata": {},
   "source": [
    "# Synthetic"
   ]
  },
  {
   "cell_type": "markdown",
   "id": "3100afcc-d88e-42b8-94ce-3cda9d462d21",
   "metadata": {
    "tags": []
   },
   "source": [
    "### Maaradji et al. 2013 Dataset\n",
    "\n",
    "72 event logs with different kinds of concept drift.\n",
    "\n",
    "Instructions:\n",
    "1. Download from https://data.4tu.nl/articles/dataset/Business_Process_Drift/12712436\n",
    "2. Specify the file path to the zip file below.\n",
    "3. Execute cells below.\n",
    "4. The extracted files should be placed in d\"ata/synthetic/maardji et al 2015_mxml\"\n",
    "\n",
    "This script does:\n",
    "- unpack the data\n",
    "- convert the data from MXML to XES\n",
    "- create data dictionary entries\n",
    "    - For each event log, a true list of all changepoints should be generated (every 10% of traces)."
   ]
  },
  {
   "cell_type": "code",
   "execution_count": 2,
   "id": "f49a2d10-3505-41fe-be97-718cd02566ab",
   "metadata": {},
   "outputs": [],
   "source": [
    "# change the from path to your download location\n",
    "zip_path = 'data/synthetic/maaradji et al 2013.zip'"
   ]
  },
  {
   "cell_type": "markdown",
   "id": "8f7a1d4e-0451-4f7c-a787-53696e7dcc75",
   "metadata": {},
   "source": [
    "#### 1. Unpack the data"
   ]
  },
  {
   "cell_type": "code",
   "execution_count": 3,
   "id": "b15b8d59-857f-4937-8576-1d37e66807d6",
   "metadata": {},
   "outputs": [],
   "source": [
    "# unpacks the data into the correct folder\n",
    "unzipped_path = 'data/synthetic/maardji et al 2013_mxml/'\n",
    "\n",
    "with zipfile.ZipFile(zip_path, 'r') as zip_ref:\n",
    "    zip_ref.extractall(unzipped_path)"
   ]
  },
  {
   "cell_type": "markdown",
   "id": "7afc1af3-b8d9-4b51-b8bc-cdaf3a820307",
   "metadata": {},
   "source": [
    "#### 2. Convert to XES"
   ]
  },
  {
   "cell_type": "code",
   "execution_count": 4,
   "id": "6595688d-5bb1-4898-8e94-6020c0d84f95",
   "metadata": {},
   "outputs": [],
   "source": [
    "# set the from and to path\n",
    "mxml_path = unzipped_path\n",
    "xes_path = 'data/synthetic/maardji et al 2013_xes/'"
   ]
  },
  {
   "cell_type": "code",
   "execution_count": 5,
   "id": "e9441f4c-d28e-44ce-8fa8-1bc52dac797c",
   "metadata": {},
   "outputs": [],
   "source": [
    "# replicate the folder that has the MXML files but convert them into .XES files\n",
    "def all_mxml_to_xes(mxml_path, xes_path):\n",
    "    # get all mxml files from the path\n",
    "    all_files = set()\n",
    "    for (dirpath, dirnames, filenames) in os.walk(mxml_path):\n",
    "        all_files.update([os.path.normpath(os.path.join(dirpath, file)) for file in filenames])\n",
    "    all_mxml_files = set({file for file in all_files if file.lower().endswith('mxml')})\n",
    "    all_none_mxml_files = all_files - all_mxml_files\n",
    "    # print(all_none_mxml_files)\n",
    "    \n",
    "    # copy all none mxml files without changing them\n",
    "    for none_mxml_file in all_none_mxml_files:\n",
    "        new_path = helper.create_and_get_new_path(none_mxml_file, mxml_path, xes_path)\n",
    "        \n",
    "        # copy content \n",
    "        shutil.copy2(none_mxml_file, new_path)\n",
    "    \n",
    "    # change all mxml to xes\n",
    "    xes_log_file_paths = []\n",
    "    for mxml_log_path in all_mxml_files:\n",
    "        new_path = helper.create_and_get_new_path(mxml_log_path, mxml_path, xes_path, new_extension='.xes')\n",
    "        xes_log_file_paths.append(new_path)\n",
    "        \n",
    "        print(new_path)\n",
    "        # continue\n",
    "\n",
    "        # read the mxml log into OpyenXes\n",
    "        mxml_parser = XMxmlParser.XMxmlParser()\n",
    "        parsed_logs = None\n",
    "        with open(mxml_log_path) as mxml_log_file:\n",
    "            parsed_logs = mxml_parser.parse(mxml_log_file)\n",
    "        \n",
    "        # Our mxml files always only contain one log. Therefore, access this log\n",
    "        parsed_log = parsed_logs[0]\n",
    "        \n",
    "        # write the XES log out\n",
    "        with open(new_path, 'w') as new_file:\n",
    "            # save log back to XES file\n",
    "            XesXmlSerializer.XesXmlSerializer().serialize(parsed_log, new_file)\n",
    "    \n",
    "    return xes_log_file_paths"
   ]
  },
  {
   "cell_type": "code",
   "execution_count": 6,
   "id": "6b1fd004-0ed6-49df-9933-e5c0b7570e6a",
   "metadata": {},
   "outputs": [
    {
     "name": "stdout",
     "output_type": "stream",
     "text": [
      "data\\synthetic\\maardji et al 2013_xes\\logs\\cm\\cm7.5k.xes\n",
      "data\\synthetic\\maardji et al 2013_xes\\logs\\sw\\sw10k.xes\n",
      "data\\synthetic\\maardji et al 2013_xes\\logs\\OIR\\OIR7.5k.xes\n",
      "data\\synthetic\\maardji et al 2013_xes\\logs\\re\\re10k.xes\n",
      "data\\synthetic\\maardji et al 2013_xes\\logs\\pl\\pl2.5k.xes\n",
      "data\\synthetic\\maardji et al 2013_xes\\logs\\cb\\cb7.5k.xes\n",
      "data\\synthetic\\maardji et al 2013_xes\\logs\\cb\\cb5k.xes\n",
      "data\\synthetic\\maardji et al 2013_xes\\logs\\sw\\sw2.5k.xes\n",
      "data\\synthetic\\maardji et al 2013_xes\\logs\\RIO\\RIO5k.xes\n",
      "data\\synthetic\\maardji et al 2013_xes\\logs\\rp\\rp5k.xes\n",
      "data\\synthetic\\maardji et al 2013_xes\\logs\\IOR\\IOR5k.xes\n",
      "data\\synthetic\\maardji et al 2013_xes\\logs\\fr\\fr7.5k.xes\n",
      "data\\synthetic\\maardji et al 2013_xes\\logs\\cb\\cb10k.xes\n",
      "data\\synthetic\\maardji et al 2013_xes\\logs\\ORI\\ORI5k.xes\n",
      "data\\synthetic\\maardji et al 2013_xes\\logs\\OIR\\OIR5k.xes\n",
      "data\\synthetic\\maardji et al 2013_xes\\logs\\fr\\fr10k.xes\n",
      "data\\synthetic\\maardji et al 2013_xes\\logs\\ROI\\ROI10k.xes\n",
      "data\\synthetic\\maardji et al 2013_xes\\logs\\cd\\cd5k.xes\n",
      "data\\synthetic\\maardji et al 2013_xes\\logs\\pl\\pl7.5k.xes\n",
      "data\\synthetic\\maardji et al 2013_xes\\logs\\fr\\fr5k.xes\n",
      "data\\synthetic\\maardji et al 2013_xes\\logs\\rp\\rp7.5k.xes\n",
      "data\\synthetic\\maardji et al 2013_xes\\logs\\sw\\sw5k.xes\n",
      "data\\synthetic\\maardji et al 2013_xes\\logs\\IRO\\IRO10k.xes\n",
      "data\\synthetic\\maardji et al 2013_xes\\logs\\RIO\\RIO2.5k.xes\n",
      "data\\synthetic\\maardji et al 2013_xes\\logs\\cf\\cf7.5k.xes\n",
      "data\\synthetic\\maardji et al 2013_xes\\logs\\ROI\\ROI5k.xes\n",
      "data\\synthetic\\maardji et al 2013_xes\\logs\\OIR\\OIR2.5k.xes\n",
      "data\\synthetic\\maardji et al 2013_xes\\logs\\cf\\cf5k.xes\n",
      "data\\synthetic\\maardji et al 2013_xes\\logs\\lp\\lp7.5k.xes\n",
      "data\\synthetic\\maardji et al 2013_xes\\logs\\IOR\\IOR10k.xes\n",
      "data\\synthetic\\maardji et al 2013_xes\\logs\\RIO\\RIO10k.xes\n",
      "data\\synthetic\\maardji et al 2013_xes\\logs\\pm\\pm7.5k.xes\n",
      "data\\synthetic\\maardji et al 2013_xes\\logs\\re\\re5k.xes\n",
      "data\\synthetic\\maardji et al 2013_xes\\logs\\ROI\\ROI7.5k.xes\n",
      "data\\synthetic\\maardji et al 2013_xes\\logs\\re\\re2.5k.xes\n",
      "data\\synthetic\\maardji et al 2013_xes\\logs\\IRO\\IRO2.5k.xes\n",
      "data\\synthetic\\maardji et al 2013_xes\\logs\\RIO\\RIO7.5k.xes\n",
      "data\\synthetic\\maardji et al 2013_xes\\logs\\fr\\fr2.5k.xes\n",
      "data\\synthetic\\maardji et al 2013_xes\\logs\\cp\\cp2.5k.xes\n",
      "data\\synthetic\\maardji et al 2013_xes\\logs\\cp\\cp5k.xes\n",
      "data\\synthetic\\maardji et al 2013_xes\\logs\\cm\\cm5k.xes\n",
      "data\\synthetic\\maardji et al 2013_xes\\logs\\OIR\\OIR10k.xes\n",
      "data\\synthetic\\maardji et al 2013_xes\\logs\\sw\\sw7.5k.xes\n",
      "data\\synthetic\\maardji et al 2013_xes\\logs\\cd\\cd7.5k.xes\n",
      "data\\synthetic\\maardji et al 2013_xes\\logs\\pm\\pm10k.xes\n",
      "data\\synthetic\\maardji et al 2013_xes\\logs\\cm\\cm10k.xes\n",
      "data\\synthetic\\maardji et al 2013_xes\\logs\\IOR\\IOR2.5k.xes\n",
      "data\\synthetic\\maardji et al 2013_xes\\logs\\cb\\cb2.5k.xes\n",
      "data\\synthetic\\maardji et al 2013_xes\\logs\\ORI\\ORI2.5k.xes\n",
      "data\\synthetic\\maardji et al 2013_xes\\logs\\lp\\lp10k.xes\n",
      "data\\synthetic\\maardji et al 2013_xes\\logs\\pm\\pm2.5k.xes\n",
      "data\\synthetic\\maardji et al 2013_xes\\logs\\ROI\\ROI2.5k.xes\n",
      "data\\synthetic\\maardji et al 2013_xes\\logs\\cd\\cd10k.xes\n",
      "data\\synthetic\\maardji et al 2013_xes\\logs\\cm\\cm2.5k.xes\n",
      "data\\synthetic\\maardji et al 2013_xes\\logs\\cf\\cf2.5k.xes\n",
      "data\\synthetic\\maardji et al 2013_xes\\logs\\pl\\pl5k.xes\n",
      "data\\synthetic\\maardji et al 2013_xes\\logs\\cp\\cp10k.xes\n",
      "data\\synthetic\\maardji et al 2013_xes\\logs\\pm\\pm5k.xes\n",
      "data\\synthetic\\maardji et al 2013_xes\\logs\\re\\re7.5k.xes\n",
      "data\\synthetic\\maardji et al 2013_xes\\logs\\ORI\\ORI7.5k.xes\n",
      "data\\synthetic\\maardji et al 2013_xes\\logs\\lp\\lp2.5k.xes\n",
      "data\\synthetic\\maardji et al 2013_xes\\logs\\cf\\cf10k.xes\n",
      "data\\synthetic\\maardji et al 2013_xes\\logs\\ORI\\ORI10k.xes\n",
      "data\\synthetic\\maardji et al 2013_xes\\logs\\IOR\\IOR7.5k.xes\n",
      "data\\synthetic\\maardji et al 2013_xes\\logs\\pl\\pl10k.xes\n",
      "data\\synthetic\\maardji et al 2013_xes\\logs\\IRO\\IRO5k.xes\n",
      "data\\synthetic\\maardji et al 2013_xes\\logs\\cd\\cd2.5k.xes\n",
      "data\\synthetic\\maardji et al 2013_xes\\logs\\IRO\\IRO7.5k.xes\n",
      "data\\synthetic\\maardji et al 2013_xes\\logs\\rp\\rp2.5k.xes\n",
      "data\\synthetic\\maardji et al 2013_xes\\logs\\cp\\cp7.5k.xes\n",
      "data\\synthetic\\maardji et al 2013_xes\\logs\\rp\\rp10k.xes\n",
      "data\\synthetic\\maardji et al 2013_xes\\logs\\lp\\lp5k.xes\n"
     ]
    }
   ],
   "source": [
    "xes_log_file_paths = all_mxml_to_xes(mxml_path, xes_path)"
   ]
  },
  {
   "cell_type": "code",
   "execution_count": 7,
   "id": "01c7b607-12e5-487d-b364-f588e4447121",
   "metadata": {},
   "outputs": [
    {
     "data": {
      "text/plain": [
       "['data\\\\synthetic\\\\maardji et al 2013_xes\\\\logs\\\\cm\\\\cm7.5k.xes',\n",
       " 'data\\\\synthetic\\\\maardji et al 2013_xes\\\\logs\\\\sw\\\\sw10k.xes',\n",
       " 'data\\\\synthetic\\\\maardji et al 2013_xes\\\\logs\\\\OIR\\\\OIR7.5k.xes',\n",
       " 'data\\\\synthetic\\\\maardji et al 2013_xes\\\\logs\\\\re\\\\re10k.xes',\n",
       " 'data\\\\synthetic\\\\maardji et al 2013_xes\\\\logs\\\\pl\\\\pl2.5k.xes',\n",
       " 'data\\\\synthetic\\\\maardji et al 2013_xes\\\\logs\\\\cb\\\\cb7.5k.xes',\n",
       " 'data\\\\synthetic\\\\maardji et al 2013_xes\\\\logs\\\\cb\\\\cb5k.xes',\n",
       " 'data\\\\synthetic\\\\maardji et al 2013_xes\\\\logs\\\\sw\\\\sw2.5k.xes',\n",
       " 'data\\\\synthetic\\\\maardji et al 2013_xes\\\\logs\\\\RIO\\\\RIO5k.xes',\n",
       " 'data\\\\synthetic\\\\maardji et al 2013_xes\\\\logs\\\\rp\\\\rp5k.xes',\n",
       " 'data\\\\synthetic\\\\maardji et al 2013_xes\\\\logs\\\\IOR\\\\IOR5k.xes',\n",
       " 'data\\\\synthetic\\\\maardji et al 2013_xes\\\\logs\\\\fr\\\\fr7.5k.xes',\n",
       " 'data\\\\synthetic\\\\maardji et al 2013_xes\\\\logs\\\\cb\\\\cb10k.xes',\n",
       " 'data\\\\synthetic\\\\maardji et al 2013_xes\\\\logs\\\\ORI\\\\ORI5k.xes',\n",
       " 'data\\\\synthetic\\\\maardji et al 2013_xes\\\\logs\\\\OIR\\\\OIR5k.xes',\n",
       " 'data\\\\synthetic\\\\maardji et al 2013_xes\\\\logs\\\\fr\\\\fr10k.xes',\n",
       " 'data\\\\synthetic\\\\maardji et al 2013_xes\\\\logs\\\\ROI\\\\ROI10k.xes',\n",
       " 'data\\\\synthetic\\\\maardji et al 2013_xes\\\\logs\\\\cd\\\\cd5k.xes',\n",
       " 'data\\\\synthetic\\\\maardji et al 2013_xes\\\\logs\\\\pl\\\\pl7.5k.xes',\n",
       " 'data\\\\synthetic\\\\maardji et al 2013_xes\\\\logs\\\\fr\\\\fr5k.xes',\n",
       " 'data\\\\synthetic\\\\maardji et al 2013_xes\\\\logs\\\\rp\\\\rp7.5k.xes',\n",
       " 'data\\\\synthetic\\\\maardji et al 2013_xes\\\\logs\\\\sw\\\\sw5k.xes',\n",
       " 'data\\\\synthetic\\\\maardji et al 2013_xes\\\\logs\\\\IRO\\\\IRO10k.xes',\n",
       " 'data\\\\synthetic\\\\maardji et al 2013_xes\\\\logs\\\\RIO\\\\RIO2.5k.xes',\n",
       " 'data\\\\synthetic\\\\maardji et al 2013_xes\\\\logs\\\\cf\\\\cf7.5k.xes',\n",
       " 'data\\\\synthetic\\\\maardji et al 2013_xes\\\\logs\\\\ROI\\\\ROI5k.xes',\n",
       " 'data\\\\synthetic\\\\maardji et al 2013_xes\\\\logs\\\\OIR\\\\OIR2.5k.xes',\n",
       " 'data\\\\synthetic\\\\maardji et al 2013_xes\\\\logs\\\\cf\\\\cf5k.xes',\n",
       " 'data\\\\synthetic\\\\maardji et al 2013_xes\\\\logs\\\\lp\\\\lp7.5k.xes',\n",
       " 'data\\\\synthetic\\\\maardji et al 2013_xes\\\\logs\\\\IOR\\\\IOR10k.xes',\n",
       " 'data\\\\synthetic\\\\maardji et al 2013_xes\\\\logs\\\\RIO\\\\RIO10k.xes',\n",
       " 'data\\\\synthetic\\\\maardji et al 2013_xes\\\\logs\\\\pm\\\\pm7.5k.xes',\n",
       " 'data\\\\synthetic\\\\maardji et al 2013_xes\\\\logs\\\\re\\\\re5k.xes',\n",
       " 'data\\\\synthetic\\\\maardji et al 2013_xes\\\\logs\\\\ROI\\\\ROI7.5k.xes',\n",
       " 'data\\\\synthetic\\\\maardji et al 2013_xes\\\\logs\\\\re\\\\re2.5k.xes',\n",
       " 'data\\\\synthetic\\\\maardji et al 2013_xes\\\\logs\\\\IRO\\\\IRO2.5k.xes',\n",
       " 'data\\\\synthetic\\\\maardji et al 2013_xes\\\\logs\\\\RIO\\\\RIO7.5k.xes',\n",
       " 'data\\\\synthetic\\\\maardji et al 2013_xes\\\\logs\\\\fr\\\\fr2.5k.xes',\n",
       " 'data\\\\synthetic\\\\maardji et al 2013_xes\\\\logs\\\\cp\\\\cp2.5k.xes',\n",
       " 'data\\\\synthetic\\\\maardji et al 2013_xes\\\\logs\\\\cp\\\\cp5k.xes',\n",
       " 'data\\\\synthetic\\\\maardji et al 2013_xes\\\\logs\\\\cm\\\\cm5k.xes',\n",
       " 'data\\\\synthetic\\\\maardji et al 2013_xes\\\\logs\\\\OIR\\\\OIR10k.xes',\n",
       " 'data\\\\synthetic\\\\maardji et al 2013_xes\\\\logs\\\\sw\\\\sw7.5k.xes',\n",
       " 'data\\\\synthetic\\\\maardji et al 2013_xes\\\\logs\\\\cd\\\\cd7.5k.xes',\n",
       " 'data\\\\synthetic\\\\maardji et al 2013_xes\\\\logs\\\\pm\\\\pm10k.xes',\n",
       " 'data\\\\synthetic\\\\maardji et al 2013_xes\\\\logs\\\\cm\\\\cm10k.xes',\n",
       " 'data\\\\synthetic\\\\maardji et al 2013_xes\\\\logs\\\\IOR\\\\IOR2.5k.xes',\n",
       " 'data\\\\synthetic\\\\maardji et al 2013_xes\\\\logs\\\\cb\\\\cb2.5k.xes',\n",
       " 'data\\\\synthetic\\\\maardji et al 2013_xes\\\\logs\\\\ORI\\\\ORI2.5k.xes',\n",
       " 'data\\\\synthetic\\\\maardji et al 2013_xes\\\\logs\\\\lp\\\\lp10k.xes',\n",
       " 'data\\\\synthetic\\\\maardji et al 2013_xes\\\\logs\\\\pm\\\\pm2.5k.xes',\n",
       " 'data\\\\synthetic\\\\maardji et al 2013_xes\\\\logs\\\\ROI\\\\ROI2.5k.xes',\n",
       " 'data\\\\synthetic\\\\maardji et al 2013_xes\\\\logs\\\\cd\\\\cd10k.xes',\n",
       " 'data\\\\synthetic\\\\maardji et al 2013_xes\\\\logs\\\\cm\\\\cm2.5k.xes',\n",
       " 'data\\\\synthetic\\\\maardji et al 2013_xes\\\\logs\\\\cf\\\\cf2.5k.xes',\n",
       " 'data\\\\synthetic\\\\maardji et al 2013_xes\\\\logs\\\\pl\\\\pl5k.xes',\n",
       " 'data\\\\synthetic\\\\maardji et al 2013_xes\\\\logs\\\\cp\\\\cp10k.xes',\n",
       " 'data\\\\synthetic\\\\maardji et al 2013_xes\\\\logs\\\\pm\\\\pm5k.xes',\n",
       " 'data\\\\synthetic\\\\maardji et al 2013_xes\\\\logs\\\\re\\\\re7.5k.xes',\n",
       " 'data\\\\synthetic\\\\maardji et al 2013_xes\\\\logs\\\\ORI\\\\ORI7.5k.xes',\n",
       " 'data\\\\synthetic\\\\maardji et al 2013_xes\\\\logs\\\\lp\\\\lp2.5k.xes',\n",
       " 'data\\\\synthetic\\\\maardji et al 2013_xes\\\\logs\\\\cf\\\\cf10k.xes',\n",
       " 'data\\\\synthetic\\\\maardji et al 2013_xes\\\\logs\\\\ORI\\\\ORI10k.xes',\n",
       " 'data\\\\synthetic\\\\maardji et al 2013_xes\\\\logs\\\\IOR\\\\IOR7.5k.xes',\n",
       " 'data\\\\synthetic\\\\maardji et al 2013_xes\\\\logs\\\\pl\\\\pl10k.xes',\n",
       " 'data\\\\synthetic\\\\maardji et al 2013_xes\\\\logs\\\\IRO\\\\IRO5k.xes',\n",
       " 'data\\\\synthetic\\\\maardji et al 2013_xes\\\\logs\\\\cd\\\\cd2.5k.xes',\n",
       " 'data\\\\synthetic\\\\maardji et al 2013_xes\\\\logs\\\\IRO\\\\IRO7.5k.xes',\n",
       " 'data\\\\synthetic\\\\maardji et al 2013_xes\\\\logs\\\\rp\\\\rp2.5k.xes',\n",
       " 'data\\\\synthetic\\\\maardji et al 2013_xes\\\\logs\\\\cp\\\\cp7.5k.xes',\n",
       " 'data\\\\synthetic\\\\maardji et al 2013_xes\\\\logs\\\\rp\\\\rp10k.xes',\n",
       " 'data\\\\synthetic\\\\maardji et al 2013_xes\\\\logs\\\\lp\\\\lp5k.xes']"
      ]
     },
     "execution_count": 7,
     "metadata": {},
     "output_type": "execute_result"
    }
   ],
   "source": [
    "xes_log_file_paths"
   ]
  },
  {
   "cell_type": "markdown",
   "id": "a8990d64-9b04-4dd7-a66e-900d8f2bfc6f",
   "metadata": {},
   "source": [
    "## 2013 BPI Challenge Dataset\n",
    "TODO: Insert instructions, add to data dictionary"
   ]
  },
  {
   "cell_type": "code",
   "execution_count": 10,
   "id": "6b23e232-a23f-4e15-b158-d6e93d9beaa6",
   "metadata": {},
   "outputs": [],
   "source": [
    "# unpack the 2013 bpi challenge dataset\n",
    "path = 'data/real/bpi_challenge_2013_incidents.xes.gz'\n",
    "\n",
    "with gzip.open(path, 'rb') as f_in:\n",
    "    new_path = path[:-3]\n",
    "    with open(new_path, 'wb') as f_out:\n",
    "        shutil.copyfileobj(f_in, f_out)"
   ]
  }
 ],
 "metadata": {
  "interpreter": {
   "hash": "3586acef3f5f923af4b971ce05811a36e3973e810e5c25f95daaeb0237b948ae"
  },
  "kernelspec": {
   "display_name": "Python 3.10.4 ('concept_drift')",
   "language": "python",
   "name": "python3"
  },
  "language_info": {
   "codemirror_mode": {
    "name": "ipython",
    "version": 3
   },
   "file_extension": ".py",
   "mimetype": "text/x-python",
   "name": "python",
   "nbconvert_exporter": "python",
   "pygments_lexer": "ipython3",
   "version": "3.10.4"
  }
 },
 "nbformat": 4,
 "nbformat_minor": 5
}
