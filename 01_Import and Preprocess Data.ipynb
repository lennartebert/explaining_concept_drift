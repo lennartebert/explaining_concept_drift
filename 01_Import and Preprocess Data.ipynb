{
 "cells": [
  {
   "cell_type": "markdown",
   "id": "4ffb7b5e-d9c1-4e96-897c-9332efca9e1a",
   "metadata": {
    "tags": []
   },
   "source": [
    "# Import and Preprocess Data\n",
    "*Author: Lennart Ebert (mail@lennart-ebert.de)*\n",
    "</br></br>\n",
    "\n",
    "This Jupyter notebook helps with importing the datasets used in the master's thesis. Detailed instructions are provided in each section of the notebook.\n",
    "\n",
    "There are a total of four datasets:\n",
    "1. The synthetic Maaradji et al. 2013 dataset.\n",
    "2. The BPIC 2015 dataset.\n",
    "3. The BPIC 2018 dataset.\n",
    "4. The generated synthetic datasets with attribute drift.\n",
    "\n",
    "\n",
    "If all datasets are imported, the resulting folder structure should look like this:\n",
    "\n",
    "```\n",
    ".data\n",
    "|-real\n",
    "|--bpic_2015\n",
    "|---BPIC15_1.xes\n",
    "|---...\n",
    "|--bpic_2018\n",
    "|---BPI Challenge 2018.xes\n",
    "|-synthetic\n",
    "|--maardji et al 2013_mxml\n",
    "|---logs...\n",
    "|--maardji et al 2013_xes\n",
    "|---logs...\n",
    "|--generated_datasets\n",
    "|---recurring_3_attribute_values...\n",
    "|---sudden_3_attribute_values...\n",
    "|---sudden_10_attribute_values...\n",
    "```"
   ]
  },
  {
   "cell_type": "code",
   "execution_count": 3,
   "id": "55603875-abf9-49e7-ac5f-d89c65cd2e71",
   "metadata": {},
   "outputs": [],
   "source": [
    "# imports\n",
    "import os\n",
    "import opyenxes\n",
    "from opyenxes.data_in import XMxmlParser\n",
    "from opyenxes.data_out import XesXmlSerializer\n",
    "import helper\n",
    "import zipfile\n",
    "import shutil\n",
    "import gzip"
   ]
  },
  {
   "cell_type": "markdown",
   "id": "2dafd194-662c-4b98-a517-27c53d56df88",
   "metadata": {},
   "source": [
    "## Synthetic Maaradji et al. 2013 Dataset"
   ]
  },
  {
   "cell_type": "markdown",
   "id": "a1b151d4",
   "metadata": {},
   "source": [
    "The dataset has 72 event logs with different kinds of concept drift.\n",
    "\n",
    "Instructions:\n",
    "1. Download from https://data.4tu.nl/articles/dataset/Business_Process_Drift/12712436\n",
    "2. Place the file at `data/synthetic/maaradji et al 2013.zip` or change the path specified below.\n",
    "3. Execute cells below.\n",
    "4. The extracted files should be placed in `\"data/synthetic/maardji et al 2015_mxml\"`\n",
    "\n",
    "This script does:\n",
    "- unpack the data\n",
    "- convert the data from MXML to XES"
   ]
  },
  {
   "cell_type": "code",
   "execution_count": 2,
   "id": "f49a2d10-3505-41fe-be97-718cd02566ab",
   "metadata": {},
   "outputs": [],
   "source": [
    "# change the from path to your download location\n",
    "zip_path = 'data/synthetic/maaradji et al 2013.zip'"
   ]
  },
  {
   "cell_type": "markdown",
   "id": "8f7a1d4e-0451-4f7c-a787-53696e7dcc75",
   "metadata": {},
   "source": [
    "#### 1. Unpack the data"
   ]
  },
  {
   "cell_type": "code",
   "execution_count": 3,
   "id": "b15b8d59-857f-4937-8576-1d37e66807d6",
   "metadata": {},
   "outputs": [],
   "source": [
    "# unpacks the data into the correct folder\n",
    "unzipped_path = 'data/synthetic/maardji et al 2013_mxml/'\n",
    "\n",
    "with zipfile.ZipFile(zip_path, 'r') as zip_ref:\n",
    "    zip_ref.extractall(unzipped_path)"
   ]
  },
  {
   "cell_type": "markdown",
   "id": "7afc1af3-b8d9-4b51-b8bc-cdaf3a820307",
   "metadata": {},
   "source": [
    "#### 2. Convert to XES"
   ]
  },
  {
   "cell_type": "code",
   "execution_count": 4,
   "id": "6595688d-5bb1-4898-8e94-6020c0d84f95",
   "metadata": {},
   "outputs": [],
   "source": [
    "# set the from and to path\n",
    "mxml_path = unzipped_path\n",
    "xes_path = 'data/synthetic/maardji et al 2013_xes/'"
   ]
  },
  {
   "cell_type": "code",
   "execution_count": 5,
   "id": "e9441f4c-d28e-44ce-8fa8-1bc52dac797c",
   "metadata": {},
   "outputs": [],
   "source": [
    "# replicate the folder that has the MXML files but convert them into .XES files\n",
    "def all_mxml_to_xes(mxml_path, xes_path):\n",
    "    # get all mxml files from the path\n",
    "    all_files = set()\n",
    "    for (dirpath, dirnames, filenames) in os.walk(mxml_path):\n",
    "        all_files.update([os.path.normpath(os.path.join(dirpath, file)) for file in filenames])\n",
    "    all_mxml_files = set({file for file in all_files if file.lower().endswith('mxml')})\n",
    "    all_none_mxml_files = all_files - all_mxml_files\n",
    "    # print(all_none_mxml_files)\n",
    "    \n",
    "    # copy all none mxml files without changing them\n",
    "    for none_mxml_file in all_none_mxml_files:\n",
    "        new_path = helper.create_and_get_new_path(none_mxml_file, mxml_path, xes_path)\n",
    "        \n",
    "        # copy content \n",
    "        shutil.copy2(none_mxml_file, new_path)\n",
    "    \n",
    "    # change all mxml to xes\n",
    "    xes_log_file_paths = []\n",
    "    for mxml_log_path in all_mxml_files:\n",
    "        new_path = helper.create_and_get_new_path(mxml_log_path, mxml_path, xes_path, new_extension='.xes')\n",
    "        xes_log_file_paths.append(new_path)\n",
    "        \n",
    "        print(new_path)\n",
    "        # continue\n",
    "\n",
    "        # read the mxml log into OpyenXes\n",
    "        mxml_parser = XMxmlParser.XMxmlParser()\n",
    "        parsed_logs = None\n",
    "        with open(mxml_log_path) as mxml_log_file:\n",
    "            parsed_logs = mxml_parser.parse(mxml_log_file)\n",
    "        \n",
    "        # Our mxml files always only contain one log. Therefore, access this log\n",
    "        parsed_log = parsed_logs[0]\n",
    "        \n",
    "        # write the XES log out\n",
    "        with open(new_path, 'w') as new_file:\n",
    "            # save log back to XES file\n",
    "            XesXmlSerializer.XesXmlSerializer().serialize(parsed_log, new_file)\n",
    "    \n",
    "    return xes_log_file_paths"
   ]
  },
  {
   "cell_type": "code",
   "execution_count": 6,
   "id": "6b1fd004-0ed6-49df-9933-e5c0b7570e6a",
   "metadata": {},
   "outputs": [
    {
     "name": "stdout",
     "output_type": "stream",
     "text": [
      "data\\synthetic\\maardji et al 2013_xes\\logs\\cm\\cm7.5k.xes\n",
      "data\\synthetic\\maardji et al 2013_xes\\logs\\sw\\sw10k.xes\n",
      "data\\synthetic\\maardji et al 2013_xes\\logs\\OIR\\OIR7.5k.xes\n",
      "data\\synthetic\\maardji et al 2013_xes\\logs\\re\\re10k.xes\n",
      "data\\synthetic\\maardji et al 2013_xes\\logs\\pl\\pl2.5k.xes\n",
      "data\\synthetic\\maardji et al 2013_xes\\logs\\cb\\cb7.5k.xes\n",
      "data\\synthetic\\maardji et al 2013_xes\\logs\\cb\\cb5k.xes\n",
      "data\\synthetic\\maardji et al 2013_xes\\logs\\sw\\sw2.5k.xes\n",
      "data\\synthetic\\maardji et al 2013_xes\\logs\\RIO\\RIO5k.xes\n",
      "data\\synthetic\\maardji et al 2013_xes\\logs\\rp\\rp5k.xes\n",
      "data\\synthetic\\maardji et al 2013_xes\\logs\\IOR\\IOR5k.xes\n",
      "data\\synthetic\\maardji et al 2013_xes\\logs\\fr\\fr7.5k.xes\n",
      "data\\synthetic\\maardji et al 2013_xes\\logs\\cb\\cb10k.xes\n",
      "data\\synthetic\\maardji et al 2013_xes\\logs\\ORI\\ORI5k.xes\n",
      "data\\synthetic\\maardji et al 2013_xes\\logs\\OIR\\OIR5k.xes\n",
      "data\\synthetic\\maardji et al 2013_xes\\logs\\fr\\fr10k.xes\n",
      "data\\synthetic\\maardji et al 2013_xes\\logs\\ROI\\ROI10k.xes\n",
      "data\\synthetic\\maardji et al 2013_xes\\logs\\cd\\cd5k.xes\n",
      "data\\synthetic\\maardji et al 2013_xes\\logs\\pl\\pl7.5k.xes\n",
      "data\\synthetic\\maardji et al 2013_xes\\logs\\fr\\fr5k.xes\n",
      "data\\synthetic\\maardji et al 2013_xes\\logs\\rp\\rp7.5k.xes\n",
      "data\\synthetic\\maardji et al 2013_xes\\logs\\sw\\sw5k.xes\n",
      "data\\synthetic\\maardji et al 2013_xes\\logs\\IRO\\IRO10k.xes\n",
      "data\\synthetic\\maardji et al 2013_xes\\logs\\RIO\\RIO2.5k.xes\n",
      "data\\synthetic\\maardji et al 2013_xes\\logs\\cf\\cf7.5k.xes\n",
      "data\\synthetic\\maardji et al 2013_xes\\logs\\ROI\\ROI5k.xes\n",
      "data\\synthetic\\maardji et al 2013_xes\\logs\\OIR\\OIR2.5k.xes\n",
      "data\\synthetic\\maardji et al 2013_xes\\logs\\cf\\cf5k.xes\n",
      "data\\synthetic\\maardji et al 2013_xes\\logs\\lp\\lp7.5k.xes\n",
      "data\\synthetic\\maardji et al 2013_xes\\logs\\IOR\\IOR10k.xes\n",
      "data\\synthetic\\maardji et al 2013_xes\\logs\\RIO\\RIO10k.xes\n",
      "data\\synthetic\\maardji et al 2013_xes\\logs\\pm\\pm7.5k.xes\n",
      "data\\synthetic\\maardji et al 2013_xes\\logs\\re\\re5k.xes\n",
      "data\\synthetic\\maardji et al 2013_xes\\logs\\ROI\\ROI7.5k.xes\n",
      "data\\synthetic\\maardji et al 2013_xes\\logs\\re\\re2.5k.xes\n",
      "data\\synthetic\\maardji et al 2013_xes\\logs\\IRO\\IRO2.5k.xes\n",
      "data\\synthetic\\maardji et al 2013_xes\\logs\\RIO\\RIO7.5k.xes\n",
      "data\\synthetic\\maardji et al 2013_xes\\logs\\fr\\fr2.5k.xes\n",
      "data\\synthetic\\maardji et al 2013_xes\\logs\\cp\\cp2.5k.xes\n",
      "data\\synthetic\\maardji et al 2013_xes\\logs\\cp\\cp5k.xes\n",
      "data\\synthetic\\maardji et al 2013_xes\\logs\\cm\\cm5k.xes\n",
      "data\\synthetic\\maardji et al 2013_xes\\logs\\OIR\\OIR10k.xes\n",
      "data\\synthetic\\maardji et al 2013_xes\\logs\\sw\\sw7.5k.xes\n",
      "data\\synthetic\\maardji et al 2013_xes\\logs\\cd\\cd7.5k.xes\n",
      "data\\synthetic\\maardji et al 2013_xes\\logs\\pm\\pm10k.xes\n",
      "data\\synthetic\\maardji et al 2013_xes\\logs\\cm\\cm10k.xes\n",
      "data\\synthetic\\maardji et al 2013_xes\\logs\\IOR\\IOR2.5k.xes\n",
      "data\\synthetic\\maardji et al 2013_xes\\logs\\cb\\cb2.5k.xes\n",
      "data\\synthetic\\maardji et al 2013_xes\\logs\\ORI\\ORI2.5k.xes\n",
      "data\\synthetic\\maardji et al 2013_xes\\logs\\lp\\lp10k.xes\n",
      "data\\synthetic\\maardji et al 2013_xes\\logs\\pm\\pm2.5k.xes\n",
      "data\\synthetic\\maardji et al 2013_xes\\logs\\ROI\\ROI2.5k.xes\n",
      "data\\synthetic\\maardji et al 2013_xes\\logs\\cd\\cd10k.xes\n",
      "data\\synthetic\\maardji et al 2013_xes\\logs\\cm\\cm2.5k.xes\n",
      "data\\synthetic\\maardji et al 2013_xes\\logs\\cf\\cf2.5k.xes\n",
      "data\\synthetic\\maardji et al 2013_xes\\logs\\pl\\pl5k.xes\n",
      "data\\synthetic\\maardji et al 2013_xes\\logs\\cp\\cp10k.xes\n",
      "data\\synthetic\\maardji et al 2013_xes\\logs\\pm\\pm5k.xes\n",
      "data\\synthetic\\maardji et al 2013_xes\\logs\\re\\re7.5k.xes\n",
      "data\\synthetic\\maardji et al 2013_xes\\logs\\ORI\\ORI7.5k.xes\n",
      "data\\synthetic\\maardji et al 2013_xes\\logs\\lp\\lp2.5k.xes\n",
      "data\\synthetic\\maardji et al 2013_xes\\logs\\cf\\cf10k.xes\n",
      "data\\synthetic\\maardji et al 2013_xes\\logs\\ORI\\ORI10k.xes\n",
      "data\\synthetic\\maardji et al 2013_xes\\logs\\IOR\\IOR7.5k.xes\n",
      "data\\synthetic\\maardji et al 2013_xes\\logs\\pl\\pl10k.xes\n",
      "data\\synthetic\\maardji et al 2013_xes\\logs\\IRO\\IRO5k.xes\n",
      "data\\synthetic\\maardji et al 2013_xes\\logs\\cd\\cd2.5k.xes\n",
      "data\\synthetic\\maardji et al 2013_xes\\logs\\IRO\\IRO7.5k.xes\n",
      "data\\synthetic\\maardji et al 2013_xes\\logs\\rp\\rp2.5k.xes\n",
      "data\\synthetic\\maardji et al 2013_xes\\logs\\cp\\cp7.5k.xes\n",
      "data\\synthetic\\maardji et al 2013_xes\\logs\\rp\\rp10k.xes\n",
      "data\\synthetic\\maardji et al 2013_xes\\logs\\lp\\lp5k.xes\n"
     ]
    }
   ],
   "source": [
    "xes_log_file_paths = all_mxml_to_xes(mxml_path, xes_path)"
   ]
  },
  {
   "cell_type": "code",
   "execution_count": 7,
   "id": "01c7b607-12e5-487d-b364-f588e4447121",
   "metadata": {},
   "outputs": [
    {
     "data": {
      "text/plain": [
       "['data\\\\synthetic\\\\maardji et al 2013_xes\\\\logs\\\\cm\\\\cm7.5k.xes',\n",
       " 'data\\\\synthetic\\\\maardji et al 2013_xes\\\\logs\\\\sw\\\\sw10k.xes',\n",
       " 'data\\\\synthetic\\\\maardji et al 2013_xes\\\\logs\\\\OIR\\\\OIR7.5k.xes',\n",
       " 'data\\\\synthetic\\\\maardji et al 2013_xes\\\\logs\\\\re\\\\re10k.xes',\n",
       " 'data\\\\synthetic\\\\maardji et al 2013_xes\\\\logs\\\\pl\\\\pl2.5k.xes',\n",
       " 'data\\\\synthetic\\\\maardji et al 2013_xes\\\\logs\\\\cb\\\\cb7.5k.xes',\n",
       " 'data\\\\synthetic\\\\maardji et al 2013_xes\\\\logs\\\\cb\\\\cb5k.xes',\n",
       " 'data\\\\synthetic\\\\maardji et al 2013_xes\\\\logs\\\\sw\\\\sw2.5k.xes',\n",
       " 'data\\\\synthetic\\\\maardji et al 2013_xes\\\\logs\\\\RIO\\\\RIO5k.xes',\n",
       " 'data\\\\synthetic\\\\maardji et al 2013_xes\\\\logs\\\\rp\\\\rp5k.xes',\n",
       " 'data\\\\synthetic\\\\maardji et al 2013_xes\\\\logs\\\\IOR\\\\IOR5k.xes',\n",
       " 'data\\\\synthetic\\\\maardji et al 2013_xes\\\\logs\\\\fr\\\\fr7.5k.xes',\n",
       " 'data\\\\synthetic\\\\maardji et al 2013_xes\\\\logs\\\\cb\\\\cb10k.xes',\n",
       " 'data\\\\synthetic\\\\maardji et al 2013_xes\\\\logs\\\\ORI\\\\ORI5k.xes',\n",
       " 'data\\\\synthetic\\\\maardji et al 2013_xes\\\\logs\\\\OIR\\\\OIR5k.xes',\n",
       " 'data\\\\synthetic\\\\maardji et al 2013_xes\\\\logs\\\\fr\\\\fr10k.xes',\n",
       " 'data\\\\synthetic\\\\maardji et al 2013_xes\\\\logs\\\\ROI\\\\ROI10k.xes',\n",
       " 'data\\\\synthetic\\\\maardji et al 2013_xes\\\\logs\\\\cd\\\\cd5k.xes',\n",
       " 'data\\\\synthetic\\\\maardji et al 2013_xes\\\\logs\\\\pl\\\\pl7.5k.xes',\n",
       " 'data\\\\synthetic\\\\maardji et al 2013_xes\\\\logs\\\\fr\\\\fr5k.xes',\n",
       " 'data\\\\synthetic\\\\maardji et al 2013_xes\\\\logs\\\\rp\\\\rp7.5k.xes',\n",
       " 'data\\\\synthetic\\\\maardji et al 2013_xes\\\\logs\\\\sw\\\\sw5k.xes',\n",
       " 'data\\\\synthetic\\\\maardji et al 2013_xes\\\\logs\\\\IRO\\\\IRO10k.xes',\n",
       " 'data\\\\synthetic\\\\maardji et al 2013_xes\\\\logs\\\\RIO\\\\RIO2.5k.xes',\n",
       " 'data\\\\synthetic\\\\maardji et al 2013_xes\\\\logs\\\\cf\\\\cf7.5k.xes',\n",
       " 'data\\\\synthetic\\\\maardji et al 2013_xes\\\\logs\\\\ROI\\\\ROI5k.xes',\n",
       " 'data\\\\synthetic\\\\maardji et al 2013_xes\\\\logs\\\\OIR\\\\OIR2.5k.xes',\n",
       " 'data\\\\synthetic\\\\maardji et al 2013_xes\\\\logs\\\\cf\\\\cf5k.xes',\n",
       " 'data\\\\synthetic\\\\maardji et al 2013_xes\\\\logs\\\\lp\\\\lp7.5k.xes',\n",
       " 'data\\\\synthetic\\\\maardji et al 2013_xes\\\\logs\\\\IOR\\\\IOR10k.xes',\n",
       " 'data\\\\synthetic\\\\maardji et al 2013_xes\\\\logs\\\\RIO\\\\RIO10k.xes',\n",
       " 'data\\\\synthetic\\\\maardji et al 2013_xes\\\\logs\\\\pm\\\\pm7.5k.xes',\n",
       " 'data\\\\synthetic\\\\maardji et al 2013_xes\\\\logs\\\\re\\\\re5k.xes',\n",
       " 'data\\\\synthetic\\\\maardji et al 2013_xes\\\\logs\\\\ROI\\\\ROI7.5k.xes',\n",
       " 'data\\\\synthetic\\\\maardji et al 2013_xes\\\\logs\\\\re\\\\re2.5k.xes',\n",
       " 'data\\\\synthetic\\\\maardji et al 2013_xes\\\\logs\\\\IRO\\\\IRO2.5k.xes',\n",
       " 'data\\\\synthetic\\\\maardji et al 2013_xes\\\\logs\\\\RIO\\\\RIO7.5k.xes',\n",
       " 'data\\\\synthetic\\\\maardji et al 2013_xes\\\\logs\\\\fr\\\\fr2.5k.xes',\n",
       " 'data\\\\synthetic\\\\maardji et al 2013_xes\\\\logs\\\\cp\\\\cp2.5k.xes',\n",
       " 'data\\\\synthetic\\\\maardji et al 2013_xes\\\\logs\\\\cp\\\\cp5k.xes',\n",
       " 'data\\\\synthetic\\\\maardji et al 2013_xes\\\\logs\\\\cm\\\\cm5k.xes',\n",
       " 'data\\\\synthetic\\\\maardji et al 2013_xes\\\\logs\\\\OIR\\\\OIR10k.xes',\n",
       " 'data\\\\synthetic\\\\maardji et al 2013_xes\\\\logs\\\\sw\\\\sw7.5k.xes',\n",
       " 'data\\\\synthetic\\\\maardji et al 2013_xes\\\\logs\\\\cd\\\\cd7.5k.xes',\n",
       " 'data\\\\synthetic\\\\maardji et al 2013_xes\\\\logs\\\\pm\\\\pm10k.xes',\n",
       " 'data\\\\synthetic\\\\maardji et al 2013_xes\\\\logs\\\\cm\\\\cm10k.xes',\n",
       " 'data\\\\synthetic\\\\maardji et al 2013_xes\\\\logs\\\\IOR\\\\IOR2.5k.xes',\n",
       " 'data\\\\synthetic\\\\maardji et al 2013_xes\\\\logs\\\\cb\\\\cb2.5k.xes',\n",
       " 'data\\\\synthetic\\\\maardji et al 2013_xes\\\\logs\\\\ORI\\\\ORI2.5k.xes',\n",
       " 'data\\\\synthetic\\\\maardji et al 2013_xes\\\\logs\\\\lp\\\\lp10k.xes',\n",
       " 'data\\\\synthetic\\\\maardji et al 2013_xes\\\\logs\\\\pm\\\\pm2.5k.xes',\n",
       " 'data\\\\synthetic\\\\maardji et al 2013_xes\\\\logs\\\\ROI\\\\ROI2.5k.xes',\n",
       " 'data\\\\synthetic\\\\maardji et al 2013_xes\\\\logs\\\\cd\\\\cd10k.xes',\n",
       " 'data\\\\synthetic\\\\maardji et al 2013_xes\\\\logs\\\\cm\\\\cm2.5k.xes',\n",
       " 'data\\\\synthetic\\\\maardji et al 2013_xes\\\\logs\\\\cf\\\\cf2.5k.xes',\n",
       " 'data\\\\synthetic\\\\maardji et al 2013_xes\\\\logs\\\\pl\\\\pl5k.xes',\n",
       " 'data\\\\synthetic\\\\maardji et al 2013_xes\\\\logs\\\\cp\\\\cp10k.xes',\n",
       " 'data\\\\synthetic\\\\maardji et al 2013_xes\\\\logs\\\\pm\\\\pm5k.xes',\n",
       " 'data\\\\synthetic\\\\maardji et al 2013_xes\\\\logs\\\\re\\\\re7.5k.xes',\n",
       " 'data\\\\synthetic\\\\maardji et al 2013_xes\\\\logs\\\\ORI\\\\ORI7.5k.xes',\n",
       " 'data\\\\synthetic\\\\maardji et al 2013_xes\\\\logs\\\\lp\\\\lp2.5k.xes',\n",
       " 'data\\\\synthetic\\\\maardji et al 2013_xes\\\\logs\\\\cf\\\\cf10k.xes',\n",
       " 'data\\\\synthetic\\\\maardji et al 2013_xes\\\\logs\\\\ORI\\\\ORI10k.xes',\n",
       " 'data\\\\synthetic\\\\maardji et al 2013_xes\\\\logs\\\\IOR\\\\IOR7.5k.xes',\n",
       " 'data\\\\synthetic\\\\maardji et al 2013_xes\\\\logs\\\\pl\\\\pl10k.xes',\n",
       " 'data\\\\synthetic\\\\maardji et al 2013_xes\\\\logs\\\\IRO\\\\IRO5k.xes',\n",
       " 'data\\\\synthetic\\\\maardji et al 2013_xes\\\\logs\\\\cd\\\\cd2.5k.xes',\n",
       " 'data\\\\synthetic\\\\maardji et al 2013_xes\\\\logs\\\\IRO\\\\IRO7.5k.xes',\n",
       " 'data\\\\synthetic\\\\maardji et al 2013_xes\\\\logs\\\\rp\\\\rp2.5k.xes',\n",
       " 'data\\\\synthetic\\\\maardji et al 2013_xes\\\\logs\\\\cp\\\\cp7.5k.xes',\n",
       " 'data\\\\synthetic\\\\maardji et al 2013_xes\\\\logs\\\\rp\\\\rp10k.xes',\n",
       " 'data\\\\synthetic\\\\maardji et al 2013_xes\\\\logs\\\\lp\\\\lp5k.xes']"
      ]
     },
     "execution_count": 7,
     "metadata": {},
     "output_type": "execute_result"
    }
   ],
   "source": [
    "xes_log_file_paths"
   ]
  },
  {
   "cell_type": "markdown",
   "id": "a8990d64-9b04-4dd7-a66e-900d8f2bfc6f",
   "metadata": {},
   "source": [
    "## BPIC 2015 Dataset\n",
    "The dataset consists of 5 event logs which need to be downloaded individually. The XES event log files are available at https://data.4tu.nl/collections/_/5065424/1.\n",
    "\n",
    "Place them into the folder `data/real/bpic_2015` as follows:\n",
    "bpic_2015\n",
    "|- BPIC15_1.xes\n",
    "|- BPIC15_2.xes\n",
    "|- BPIC15_3.xes\n",
    "|- BPIC15_4.xes\n",
    "|- BPIC15_5.xes"
   ]
  },
  {
   "cell_type": "markdown",
   "id": "384c06ad",
   "metadata": {},
   "source": [
    "## BPIC 2018 Dataset\n",
    "Download the dataset from https://data.4tu.nl/articles/dataset/BPI_Challenge_2018/12688355/1 and place it into the folder `data/real/bpic_2018/`.\n",
    "\n",
    "Set the file name to \"BPI Challenge 2018.xes.gz\" or change the variable below.\n",
    "\n",
    "Run the next cell to unpack the dataset."
   ]
  },
  {
   "cell_type": "code",
   "execution_count": null,
   "id": "f9311b09",
   "metadata": {},
   "outputs": [],
   "source": [
    "file_path = 'data/real/bpic_2018/'\n",
    "file_name = 'BPI Challenge 2018.xes.gz'\n",
    "\n",
    "file_out_name = 'BPI Challenge 2018.xes'\n",
    "\n",
    "with gzip.open(file_path+file_name, 'rb') as f_in:\n",
    "    with open(file_path+file_out_name, 'wb') as f_out:\n",
    "        shutil.copyfileobj(f_in, f_out)"
   ]
  },
  {
   "cell_type": "markdown",
   "id": "8dd27701",
   "metadata": {},
   "source": [
    "## Generated Synthetic Datasets\n",
    "\n",
    "Either re-run the generation scipt in notebook \"11_add synthetic attribute data_many_datasets.ipynb\" or download the datasets at https://drive.google.com/drive/folders/1dh-a0aUjZt9eGlVYpA5_cEzFtEpQosVp.\n",
    "\n",
    "The datasets are provided as .zip files. Unpack the files into the folder `data/synthetic/generated_datasets/`."
   ]
  }
 ],
 "metadata": {
  "interpreter": {
   "hash": "3586acef3f5f923af4b971ce05811a36e3973e810e5c25f95daaeb0237b948ae"
  },
  "kernelspec": {
   "display_name": "Python 3.10.4 ('concept_drift')",
   "language": "python",
   "name": "python3"
  },
  "language_info": {
   "codemirror_mode": {
    "name": "ipython",
    "version": 3
   },
   "file_extension": ".py",
   "mimetype": "text/x-python",
   "name": "python",
   "nbconvert_exporter": "python",
   "pygments_lexer": "ipython3",
   "version": "3.10.4"
  }
 },
 "nbformat": 4,
 "nbformat_minor": 5
}
