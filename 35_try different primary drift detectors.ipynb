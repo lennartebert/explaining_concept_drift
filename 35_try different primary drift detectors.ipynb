{
 "cells": [
  {
   "cell_type": "markdown",
   "id": "1f7017a7-9b03-48fa-a285-ce184f6403dc",
   "metadata": {},
   "source": [
    "# Trying out different primary drift detection strategy\n",
    "\n",
    "Do a visual analysis of results."
   ]
  },
  {
   "cell_type": "code",
   "execution_count": 1,
   "id": "8f294e18-0a29-4492-a8f9-a9287872684f",
   "metadata": {},
   "outputs": [],
   "source": [
    "import helper\n",
    "import pandas as pd\n",
    "from processdrift.framework import drift_detection\n",
    "from processdrift.framework import drift_explanation\n",
    "from processdrift.framework import feature_extraction\n",
    "from processdrift.framework import pop_comparison\n",
    "from processdrift.framework import windowing\n",
    "from pm4py.objects.log.importer.xes import importer as xes_importer"
   ]
  },
  {
   "cell_type": "code",
   "execution_count": 2,
   "id": "40fc19f7-a38b-41d8-9a9f-595b9d9b8d8e",
   "metadata": {},
   "outputs": [],
   "source": [
    "data_file_path = r'C:\\Users\\Lennart\\Documents\\1_Workspaces\\explaining_concept_drift\\data\\synthetic\\maardji et al 2013_xes\\logs\\cf\\cf5k.xes'"
   ]
  },
  {
   "cell_type": "markdown",
   "id": "1663a296-baa2-4778-ac0a-31c8e3aa9464",
   "metadata": {
    "tags": []
   },
   "source": [
    "## Load an event log"
   ]
  },
  {
   "cell_type": "code",
   "execution_count": 3,
   "id": "0d258cdc-e351-4c90-9b2d-c22d58d1d261",
   "metadata": {},
   "outputs": [
    {
     "ename": "KeyError",
     "evalue": "'C:\\\\Users\\\\Lennart\\\\Documents\\\\1_Workspaces\\\\explaining_concept_drift\\\\data\\\\synthetic\\\\maardji et al 2013_xes\\\\logs\\\\cf\\\\cf5k.xes'",
     "output_type": "error",
     "traceback": [
      "\u001b[1;31m---------------------------------------------------------------------------\u001b[0m",
      "\u001b[1;31mKeyError\u001b[0m                                  Traceback (most recent call last)",
      "\u001b[1;32mc:\\Users\\Lennart\\Documents\\1_Workspaces\\explaining_concept_drift\\35_try different primary drift detectors.ipynb Cell 5'\u001b[0m in \u001b[0;36m<cell line: 2>\u001b[1;34m()\u001b[0m\n\u001b[0;32m      <a href='vscode-notebook-cell:/c%3A/Users/Lennart/Documents/1_Workspaces/explaining_concept_drift/35_try%20different%20primary%20drift%20detectors.ipynb#ch0000004?line=0'>1</a>\u001b[0m \u001b[39m# Display the data info\u001b[39;00m\n\u001b[1;32m----> <a href='vscode-notebook-cell:/c%3A/Users/Lennart/Documents/1_Workspaces/explaining_concept_drift/35_try%20different%20primary%20drift%20detectors.ipynb#ch0000004?line=1'>2</a>\u001b[0m data_info \u001b[39m=\u001b[39m helper\u001b[39m.\u001b[39;49mget_data_information(data_file_path)\n\u001b[0;32m      <a href='vscode-notebook-cell:/c%3A/Users/Lennart/Documents/1_Workspaces/explaining_concept_drift/35_try%20different%20primary%20drift%20detectors.ipynb#ch0000004?line=2'>3</a>\u001b[0m data_info\n\u001b[0;32m      <a href='vscode-notebook-cell:/c%3A/Users/Lennart/Documents/1_Workspaces/explaining_concept_drift/35_try%20different%20primary%20drift%20detectors.ipynb#ch0000004?line=4'>5</a>\u001b[0m change_points \u001b[39m=\u001b[39m data_info[\u001b[39m'\u001b[39m\u001b[39mchange_points\u001b[39m\u001b[39m'\u001b[39m]\n",
      "File \u001b[1;32mc:\\Users\\Lennart\\Documents\\1_Workspaces\\explaining_concept_drift\\helper.py:152\u001b[0m, in \u001b[0;36mget_data_information\u001b[1;34m(data_file_path, data_dict_file_path)\u001b[0m\n\u001b[0;32m    <a href='file:///c%3A/Users/Lennart/Documents/1_Workspaces/explaining_concept_drift/helper.py?line=148'>149</a>\u001b[0m data_file_path \u001b[39m=\u001b[39m os\u001b[39m.\u001b[39mpath\u001b[39m.\u001b[39mnormpath(data_file_path)\n\u001b[0;32m    <a href='file:///c%3A/Users/Lennart/Documents/1_Workspaces/explaining_concept_drift/helper.py?line=150'>151</a>\u001b[0m \u001b[39m# get the data information\u001b[39;00m\n\u001b[1;32m--> <a href='file:///c%3A/Users/Lennart/Documents/1_Workspaces/explaining_concept_drift/helper.py?line=151'>152</a>\u001b[0m data_information \u001b[39m=\u001b[39m data_dictionary[data_file_path]\n\u001b[0;32m    <a href='file:///c%3A/Users/Lennart/Documents/1_Workspaces/explaining_concept_drift/helper.py?line=152'>153</a>\u001b[0m \u001b[39mreturn\u001b[39;00m data_information\n",
      "\u001b[1;31mKeyError\u001b[0m: 'C:\\\\Users\\\\Lennart\\\\Documents\\\\1_Workspaces\\\\explaining_concept_drift\\\\data\\\\synthetic\\\\maardji et al 2013_xes\\\\logs\\\\cf\\\\cf5k.xes'"
     ]
    }
   ],
   "source": [
    "# Display the data info\n",
    "data_info = helper.get_data_information(data_file_path)\n",
    "data_info\n",
    "\n",
    "change_points = data_info['change_points']"
   ]
  },
  {
   "cell_type": "code",
   "execution_count": null,
   "id": "bf81c64e-8121-4d9d-998f-00bf2d3b4a29",
   "metadata": {},
   "outputs": [
    {
     "name": "stderr",
     "output_type": "stream",
     "text": [
      "c:\\Users\\Lennart\\Tools\\Anaconda3\\envs\\concept_drift\\lib\\site-packages\\tqdm\\auto.py:22: TqdmWarning: IProgress not found. Please update jupyter and ipywidgets. See https://ipywidgets.readthedocs.io/en/stable/user_install.html\n",
      "  from .autonotebook import tqdm as notebook_tqdm\n",
      "parsing log, completed traces :: 100%|██████████| 10000/10000 [00:08<00:00, 1214.68it/s]\n"
     ]
    }
   ],
   "source": [
    "# load the event log into pm4py\n",
    "event_log = xes_importer.apply(data_file_path)"
   ]
  },
  {
   "cell_type": "code",
   "execution_count": null,
   "id": "9dfc6d54",
   "metadata": {},
   "outputs": [],
   "source": [
    "path_to_pro_drift = r\"C:\\Users\\Lennart\\Documents\\1_Workspaces\\explaining_concept_drift\\ProDrift2.5\\ProDrift2.5.jar\"\n",
    "primary_process_drift_detector = drift_detection.DriftDetectorProDrift(path_to_pro_drift)"
   ]
  },
  {
   "cell_type": "code",
   "execution_count": null,
   "id": "99ac0a69",
   "metadata": {},
   "outputs": [
    {
     "name": "stderr",
     "output_type": "stream",
     "text": [
      "exporting log, completed traces :: 100%|██████████| 10000/10000 [00:07<00:00, 1386.88it/s]\n"
     ]
    },
    {
     "name": "stdout",
     "output_type": "stream",
     "text": [
      "b'event_log.xes\\r\\nruns\\r\\nInitial window size = 200\\r\\nWindow type = ADWIN\\r\\n*********************************************\\r\\n\\r\\n(1) Sudden drift detected at trace: 5124 (Tue Mar 10 11:14:17 CET 2015) after reading 5247 traces.\\r\\n\\r\\n\\r\\n'\n"
     ]
    },
    {
     "data": {
      "text/plain": [
       "[5124]"
      ]
     },
     "execution_count": 6,
     "metadata": {},
     "output_type": "execute_result"
    }
   ],
   "source": [
    "primary_process_drift_detector.get_change_points(event_log)"
   ]
  }
 ],
 "metadata": {
  "interpreter": {
   "hash": "3586acef3f5f923af4b971ce05811a36e3973e810e5c25f95daaeb0237b948ae"
  },
  "kernelspec": {
   "display_name": "Python 3 (ipykernel)",
   "language": "python",
   "name": "python3"
  },
  "language_info": {
   "codemirror_mode": {
    "name": "ipython",
    "version": 3
   },
   "file_extension": ".py",
   "mimetype": "text/x-python",
   "name": "python",
   "nbconvert_exporter": "python",
   "pygments_lexer": "ipython3",
   "version": "3.10.4"
  }
 },
 "nbformat": 4,
 "nbformat_minor": 5
}
