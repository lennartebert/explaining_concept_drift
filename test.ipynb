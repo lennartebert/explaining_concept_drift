{
 "cells": [
  {
   "cell_type": "markdown",
   "metadata": {},
   "source": [
    "# Notebook for experimentation and testing"
   ]
  },
  {
   "cell_type": "code",
   "execution_count": 1,
   "metadata": {},
   "outputs": [],
   "source": [
    "from pm4py.objects.log.importer.xes import importer as xes_importer"
   ]
  },
  {
   "cell_type": "code",
   "execution_count": 3,
   "metadata": {},
   "outputs": [
    {
     "name": "stderr",
     "output_type": "stream",
     "text": [
      "parsing log, completed traces :: 100%|██████████| 2500/2500 [00:02<00:00, 1078.20it/s]\n"
     ]
    }
   ],
   "source": [
    "# load a log\n",
    "\n",
    "# data settings\n",
    "data_file_path = 'data\\\\synthetic\\\\maardji et al 2013_xes_attributes\\\\logs\\\\cb\\\\cb2.5k.xes'\n",
    "\n",
    "# load event log\n",
    "event_log = xes_importer.apply(data_file_path)"
   ]
  },
  {
   "cell_type": "code",
   "execution_count": null,
   "metadata": {},
   "outputs": [],
   "source": []
  },
  {
   "cell_type": "markdown",
   "metadata": {},
   "source": [
    "Test the runs feature"
   ]
  },
  {
   "cell_type": "code",
   "execution_count": 14,
   "metadata": {},
   "outputs": [],
   "source": [
    "from processdrift import features\n",
    "import networkx as nx\n",
    "\n",
    "def get_runs(traces):\n",
    "    global_concurrency = features.get_concurrency(traces)\n",
    "    concurrency_dict = features.get_concurrency_dict(global_concurrency)\n",
    "\n",
    "    # build a list of runs\n",
    "    runs = []\n",
    "\n",
    "    # prior implementation of runs closer to Maaradji et al. 2017\n",
    "    for trace in traces:\n",
    "        # get all edges that result from the trace\n",
    "        # if an edge is among the global concurrency set, add its \n",
    "        # abcd, acbd -> ab ac \n",
    "        for index_activity_1 in range(len(trace) - 1):\n",
    "            index_activity_2 = index_activity_1\n",
    "            activity_1 = trace[index_activity_1]\n",
    "            activity_2 = trace[index_activity_2]\n",
    "\n",
    "            for (activity_1, activity_2) in global_concurrency:\n",
    "                pass\n",
    "\n",
    "        trace_edges_precede = features.get_alpha_direct_relationships([trace], direction='precedes')\n",
    "        trace_graph = nx.DiGraph(trace_edges_precede)\n",
    "\n",
    "        # apply transitive closure (expands the graph)\n",
    "        trace_transitive_closure_graph = nx.transitive_closure(trace_graph, reflexive=False)\n",
    "\n",
    "        # remove the global concurrency relations\n",
    "        trace_transitive_closure_graph.remove_edges_from(global_concurrency)\n",
    "\n",
    "        # perform transitive reduction only if the graph is acyclic\n",
    "        reduced_graph = trace_transitive_closure_graph\n",
    "\n",
    "        try:\n",
    "            reduced_graph = nx.transitive_reduction(trace_transitive_closure_graph)\n",
    "        except nx.NetworkXError as e:\n",
    "            # A networkx error is expected for cyclic graphs\n",
    "            pass\n",
    "        \n",
    "        runs.append(str(sorted(list(reduced_graph.edges))))\n",
    "\n",
    "    return runs"
   ]
  },
  {
   "cell_type": "code",
   "execution_count": 15,
   "metadata": {},
   "outputs": [
    {
     "data": {
      "text/plain": [
       "{\"[('a', 'b'), ('a', 'c'), ('b', 'd'), ('c', 'd')]\"}"
      ]
     },
     "execution_count": 15,
     "metadata": {},
     "output_type": "execute_result"
    }
   ],
   "source": [
    "# two traces with a parallel behavior should result in the same run\n",
    "example_traces = [['a', 'b', 'c', 'd'], ['a', 'c', 'b', 'd']]\n",
    "\n",
    "runs = get_runs(example_traces)\n",
    "set(runs)"
   ]
  },
  {
   "cell_type": "code",
   "execution_count": 16,
   "metadata": {},
   "outputs": [
    {
     "data": {
      "text/plain": [
       "1"
      ]
     },
     "execution_count": 16,
     "metadata": {},
     "output_type": "execute_result"
    }
   ],
   "source": [
    "# two traces with a parallel behavior should result in the same run\n",
    "example_traces = [['a', 'b', 'c', 'd'] * 2, ['a', 'c', 'b', 'd'] * 3]\n",
    "\n",
    "runs = features.get_runs(example_traces)\n",
    "len(set(runs))"
   ]
  },
  {
   "cell_type": "code",
   "execution_count": 29,
   "metadata": {},
   "outputs": [
    {
     "data": {
      "text/plain": [
       "{('Appraise_property', 'Appraise_property'),\n",
       " ('Appraise_property', 'Assess_loan_risk'),\n",
       " ('Appraise_property', 'Check_credit_history'),\n",
       " ('Approve_application', 'Approve_application'),\n",
       " ('Assess_eligibility', 'Assess_eligibility'),\n",
       " ('Assess_loan_risk', 'Appraise_property'),\n",
       " ('Assess_loan_risk', 'Assess_loan_risk'),\n",
       " ('Cancel_application', 'Cancel_application'),\n",
       " ('Check__application__form_completeness',\n",
       "  'Check__application__form_completeness'),\n",
       " ('Check_credit_history', 'Appraise_property'),\n",
       " ('Check_credit_history', 'Check_credit_history'),\n",
       " ('Check_if_home_insurance_quote_is_requested',\n",
       "  'Check_if_home_insurance_quote_is_requested'),\n",
       " ('Loan__application_approved', 'Loan__application_approved'),\n",
       " ('Loan__application_canceled', 'Loan__application_canceled'),\n",
       " ('Loan__application_received', 'Loan__application_received'),\n",
       " ('Loan_application_rejected', 'Loan_application_rejected'),\n",
       " ('Prepare_acceptance_pack', 'Prepare_acceptance_pack'),\n",
       " ('Receive_updated_application', 'Receive_updated_application'),\n",
       " ('Reject_application', 'Reject_application'),\n",
       " ('Return_application_back_to_applicant',\n",
       "  'Return_application_back_to_applicant'),\n",
       " ('Send_acceptance_pack', 'Send_acceptance_pack'),\n",
       " ('Send_home_insurance_quote', 'Send_home_insurance_quote'),\n",
       " ('Verify_repayment_agreement', 'Verify_repayment_agreement')}"
      ]
     },
     "execution_count": 29,
     "metadata": {},
     "output_type": "execute_result"
    }
   ],
   "source": [
    "features.get_concurrency(features._get_traces(event_log))"
   ]
  },
  {
   "cell_type": "code",
   "execution_count": 24,
   "metadata": {},
   "outputs": [
    {
     "name": "stdout",
     "output_type": "stream",
     "text": [
      "{('c', 'b'), ('e', 'f'), ('f', 'e'), ('b', 'b'), ('b', 'c')}\n",
      "{\"[('a', 'b'), ('a', 'c'), ('b', 'c'), ('b', 'd'), ('c', 'b'), ('c', 'd'), ('d', 'e'), ('d', 'f'), ('e', 'a'), ('e', 'f'), ('f', 'a'), ('f', 'e')]\", \"[('a', 'b'), ('a', 'c'), ('b', 'b'), ('b', 'c'), ('b', 'd'), ('c', 'b'), ('c', 'd'), ('d', 'e'), ('d', 'f'), ('e', 'f'), ('f', 'e')]\", \"[('a', 'b'), ('a', 'c'), ('b', 'd'), ('c', 'd'), ('d', 'e'), ('d', 'f'), ('e', 'a'), ('e', 'f'), ('f', 'a'), ('f', 'e')]\"}\n",
      "3\n"
     ]
    }
   ],
   "source": [
    "# build a more complex test case\n",
    "# activities: a, b, c, d, e, f\n",
    "# b sometimes occurs parallel to c\n",
    "# e sometimes parallel with f\n",
    "# should result in a single run \n",
    "example_traces = [['a', 'b', 'c', 'd', 'e', 'f'] * 2, \n",
    "    ['a', 'c', 'b', 'd', 'e', 'f']  * 3,\n",
    "    ['a', 'c', 'b', 'd', 'f', 'e']  * 3,\n",
    "    ['a', 'c', 'd', 'e', 'f']  * 3, \n",
    "    ['a', 'b', 'd', 'e', 'f']  * 3, \n",
    "    ['a', 'b', 'b', 'd', 'e', 'f'] ]\n",
    "runs = features.get_runs(example_traces)\n",
    "print(features.get_concurrency(example_traces))\n",
    "print(set(runs))\n",
    "print(len(set(runs)))"
   ]
  },
  {
   "cell_type": "code",
   "execution_count": null,
   "metadata": {},
   "outputs": [],
   "source": [
    "traces = features._get_traces(event_log)\n",
    "runs = features.get_runs(traces)"
   ]
  }
 ],
 "metadata": {
  "kernelspec": {
   "display_name": "Python 3.9.7 ('upc_ir')",
   "language": "python",
   "name": "python3"
  },
  "language_info": {
   "codemirror_mode": {
    "name": "ipython",
    "version": 3
   },
   "file_extension": ".py",
   "mimetype": "text/x-python",
   "name": "python",
   "nbconvert_exporter": "python",
   "pygments_lexer": "ipython3",
   "version": "3.9.7"
  },
  "orig_nbformat": 4,
  "vscode": {
   "interpreter": {
    "hash": "82dedc04ea80db69e61fe0f8a5aa6ffcdec9126a8fcbb32582dc55388d809d83"
   }
  }
 },
 "nbformat": 4,
 "nbformat_minor": 2
}
