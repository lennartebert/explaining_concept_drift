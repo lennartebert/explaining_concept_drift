{
 "cells": [
  {
   "cell_type": "markdown",
   "id": "1f7017a7-9b03-48fa-a285-ce184f6403dc",
   "metadata": {},
   "source": [
    "# Attribute importance ranking for synthetic data with known change points\n",
    "The process change points are known. Hence, no change point detection algorithm needs to be used."
   ]
  },
  {
   "cell_type": "code",
   "execution_count": 1,
   "id": "8f294e18-0a29-4492-a8f9-a9287872684f",
   "metadata": {},
   "outputs": [],
   "source": [
    "import pm4py\n",
    "import helper\n",
    "import pandas as pd"
   ]
  },
  {
   "cell_type": "code",
   "execution_count": 2,
   "id": "40fc19f7-a38b-41d8-9a9f-595b9d9b8d8e",
   "metadata": {},
   "outputs": [],
   "source": [
    "# data_file_path = 'data/synthetic/maardji et al 2013_xes_attributes/logs/ROI/ROI2.5k.xes'\n",
    "data_file_path = 'data/synthetic/maardji et al 2013_xes_attributes/logs/cb/cb10k.xes'"
   ]
  },
  {
   "cell_type": "markdown",
   "id": "1663a296-baa2-4778-ac0a-31c8e3aa9464",
   "metadata": {
    "tags": []
   },
   "source": [
    "## Load an event log"
   ]
  },
  {
   "cell_type": "code",
   "execution_count": 3,
   "id": "0d258cdc-e351-4c90-9b2d-c22d58d1d261",
   "metadata": {},
   "outputs": [],
   "source": [
    "# Display the data info\n",
    "data_info = helper.get_data_information(data_file_path)\n",
    "data_info\n",
    "\n",
    "change_points = data_info['change_points']"
   ]
  },
  {
   "cell_type": "code",
   "execution_count": 4,
   "id": "bf81c64e-8121-4d9d-998f-00bf2d3b4a29",
   "metadata": {},
   "outputs": [
    {
     "name": "stderr",
     "output_type": "stream",
     "text": [
      "C:\\Users\\Lennart\\Tools\\Anaconda3\\envs\\concept_drift\\lib\\site-packages\\tqdm\\auto.py:22: TqdmWarning: IProgress not found. Please update jupyter and ipywidgets. See https://ipywidgets.readthedocs.io/en/stable/user_install.html\n",
      "  from .autonotebook import tqdm as notebook_tqdm\n",
      "parsing log, completed traces :: 100%|█████████████████████████████████████████| 10000/10000 [00:08<00:00, 1129.45it/s]\n"
     ]
    }
   ],
   "source": [
    "# load the event log into pm4py\n",
    "from pm4py.objects.log.importer.xes import importer as xes_importer\n",
    "event_log = xes_importer.apply(data_file_path)"
   ]
  },
  {
   "cell_type": "code",
   "execution_count": 5,
   "id": "e783296d-a4ee-4b05-980a-d05d20e1f186",
   "metadata": {},
   "outputs": [],
   "source": [
    "from concept_drift import framework\n",
    "from concept_drift import drift_point_detectors\n",
    "from concept_drift import window_creators\n",
    "from concept_drift import importance_measurers"
   ]
  },
  {
   "cell_type": "code",
   "execution_count": 6,
   "id": "a2e5cfd7-2f13-463e-a995-55b6161e3d44",
   "metadata": {},
   "outputs": [],
   "source": [
    "drift_point_detector = drift_point_detectors.DriftPointDetectorTrueKnown(change_points)"
   ]
  },
  {
   "cell_type": "code",
   "execution_count": 7,
   "id": "225cc02c-dfd1-409c-b52c-a81b684dec3f",
   "metadata": {},
   "outputs": [],
   "source": [
    "window_size = 300\n",
    "window_creator = window_creators.WindowCreator(window_size=window_size)"
   ]
  },
  {
   "cell_type": "code",
   "execution_count": 8,
   "id": "a14befeb-4fed-4dba-b12e-ab5ce2c4ebfc",
   "metadata": {},
   "outputs": [],
   "source": [
    "# threshold = 0.03\n",
    "# difference_measure = importance_measurers.DifferenceMeasureChiSquare(threshold)"
   ]
  },
  {
   "cell_type": "code",
   "execution_count": 9,
   "id": "7d39f992-1577-4987-9422-07a63a08fcbf",
   "metadata": {},
   "outputs": [],
   "source": [
    "difference_measure = importance_measurers.DifferenceMeasureHellinger()"
   ]
  },
  {
   "cell_type": "code",
   "execution_count": 10,
   "id": "cc717951-b8a0-430b-a1b1-d57f8d6ceca6",
   "metadata": {},
   "outputs": [],
   "source": [
    "start_before_change_point = window_size + 100\n",
    "attribute_importance_measurer = importance_measurers.AttributeImportanceMeasurer(window_creator, start_before_change_point, difference_measure)"
   ]
  },
  {
   "cell_type": "code",
   "execution_count": 11,
   "id": "6a477ba0-06a1-4d5d-8bde-51d9b1cbaecc",
   "metadata": {},
   "outputs": [],
   "source": [
    "concept_drift_explainer = framework.ConceptDriftExplainer(drift_point_detector, attribute_importance_measurer)"
   ]
  },
  {
   "cell_type": "code",
   "execution_count": 12,
   "id": "59908d96-65bf-48aa-8a82-1ab468278885",
   "metadata": {},
   "outputs": [
    {
     "data": {
      "text/plain": [
       "{1000: concept:name              1.000000\n",
       " relevant_attribute_1      0.109996\n",
       " relevant_attribute_2      0.046328\n",
       " relevant_attribute_3      0.042032\n",
       " irrelevant_attribute_1    0.034365\n",
       " irrelevant_attribute_2    0.041559\n",
       " irrelevant_attribute_3    0.040423\n",
       " dtype: float64,\n",
       " 2000: concept:name              1.000000\n",
       " relevant_attribute_1      0.044729\n",
       " relevant_attribute_2      0.198724\n",
       " relevant_attribute_3      0.026353\n",
       " irrelevant_attribute_1    0.062430\n",
       " irrelevant_attribute_2    0.026691\n",
       " irrelevant_attribute_3    0.042188\n",
       " dtype: float64,\n",
       " 3000: concept:name              1.000000\n",
       " relevant_attribute_1      0.051015\n",
       " relevant_attribute_2      0.037972\n",
       " relevant_attribute_3      0.412242\n",
       " irrelevant_attribute_1    0.038421\n",
       " irrelevant_attribute_2    0.051659\n",
       " irrelevant_attribute_3    0.042854\n",
       " dtype: float64,\n",
       " 4000: concept:name              1.000000\n",
       " relevant_attribute_1      0.019136\n",
       " relevant_attribute_2      0.039838\n",
       " relevant_attribute_3      0.095872\n",
       " irrelevant_attribute_1    0.030159\n",
       " irrelevant_attribute_2    0.029864\n",
       " irrelevant_attribute_3    0.031629\n",
       " dtype: float64,\n",
       " 5000: concept:name              1.000000\n",
       " relevant_attribute_1      0.046328\n",
       " relevant_attribute_2      0.058981\n",
       " relevant_attribute_3      0.026449\n",
       " irrelevant_attribute_1    0.042637\n",
       " irrelevant_attribute_2    0.033839\n",
       " irrelevant_attribute_3    0.055102\n",
       " dtype: float64,\n",
       " 6000: concept:name              1.000000\n",
       " relevant_attribute_1      0.018411\n",
       " relevant_attribute_2      0.031550\n",
       " relevant_attribute_3      0.044867\n",
       " irrelevant_attribute_1    0.084939\n",
       " irrelevant_attribute_2    0.017073\n",
       " irrelevant_attribute_3    0.032127\n",
       " dtype: float64,\n",
       " 7000: concept:name              1.000000\n",
       " relevant_attribute_1      0.028150\n",
       " relevant_attribute_2      0.054396\n",
       " relevant_attribute_3      0.062674\n",
       " irrelevant_attribute_1    0.048554\n",
       " irrelevant_attribute_2    0.024130\n",
       " irrelevant_attribute_3    0.041178\n",
       " dtype: float64,\n",
       " 8000: concept:name              1.000000\n",
       " relevant_attribute_1      0.026449\n",
       " relevant_attribute_2      0.019286\n",
       " relevant_attribute_3      0.036345\n",
       " irrelevant_attribute_1    0.024968\n",
       " irrelevant_attribute_2    0.067544\n",
       " irrelevant_attribute_3    0.031288\n",
       " dtype: float64,\n",
       " 9000: concept:name              1.000000\n",
       " relevant_attribute_1      0.072845\n",
       " relevant_attribute_2      0.042531\n",
       " relevant_attribute_3      0.031759\n",
       " irrelevant_attribute_1    0.058591\n",
       " irrelevant_attribute_2    0.040944\n",
       " irrelevant_attribute_3    0.035487\n",
       " dtype: float64}"
      ]
     },
     "execution_count": 12,
     "metadata": {},
     "output_type": "execute_result"
    }
   ],
   "source": [
    "attribute_importance_per_changepoint = concept_drift_explainer.get_attribute_importance_per_changepoint(event_log)\n",
    "attribute_importance_per_changepoint"
   ]
  },
  {
   "cell_type": "code",
   "execution_count": 13,
   "id": "c4f517ea-dbfe-4dd8-87ff-87f47ac9d5ce",
   "metadata": {},
   "outputs": [
    {
     "data": {
      "text/plain": [
       "concept:name              9.000000\n",
       "relevant_attribute_3      0.778594\n",
       "relevant_attribute_2      0.529606\n",
       "irrelevant_attribute_1    0.425065\n",
       "relevant_attribute_1      0.417058\n",
       "irrelevant_attribute_3    0.352276\n",
       "irrelevant_attribute_2    0.333302\n",
       "dtype: float64"
      ]
     },
     "execution_count": 13,
     "metadata": {},
     "output_type": "execute_result"
    }
   ],
   "source": [
    "concept_drift_explainer.get_attribute_importance(event_log)"
   ]
  }
 ],
 "metadata": {
  "kernelspec": {
   "display_name": "Python 3 (ipykernel)",
   "language": "python",
   "name": "python3"
  },
  "language_info": {
   "codemirror_mode": {
    "name": "ipython",
    "version": 3
   },
   "file_extension": ".py",
   "mimetype": "text/x-python",
   "name": "python",
   "nbconvert_exporter": "python",
   "pygments_lexer": "ipython3",
   "version": "3.10.4"
  }
 },
 "nbformat": 4,
 "nbformat_minor": 5
}
