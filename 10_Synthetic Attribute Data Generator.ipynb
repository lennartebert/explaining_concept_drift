{
 "cells": [
  {
   "cell_type": "markdown",
   "id": "9475ab7f-f59d-4644-8e0a-99aa00517392",
   "metadata": {
    "tags": []
   },
   "source": [
    "# Synthetic Attribute Data Generator\n",
    "*Author: Lennart Ebert (mail@lennart-ebert.de)*\n",
    "</br></br>\n",
    "\n",
    "The synthetic attribute data generator lets the user add drifting attribute data to an XES formatted event log.\n",
    "\n",
    "The user supplies\n",
    "1. an XES file path, \n",
    "2. a list of change points for this file,\n",
    "3. the number of relevant attributes to generate,\n",
    "4. the number of irrelevant attributes to generate.\n",
    "\n",
    "Optionally, the user can provide:\n",
    "- the type of attribute distribution change (new value or new distribution),\n",
    "- the type of change (sudden or re-occuring),\n",
    "- the standard deviation of the distance between the attribute change point to the given change point."
   ]
  },
  {
   "cell_type": "code",
   "execution_count": 5,
   "id": "928843ee",
   "metadata": {},
   "outputs": [],
   "source": [
    "from processdrift import attribute_generation\n",
    "import helper"
   ]
  },
  {
   "cell_type": "code",
   "execution_count": 6,
   "id": "2ad55131-0706-44e0-b98b-4393be9e7267",
   "metadata": {},
   "outputs": [],
   "source": [
    "# select a dataset to augment\n",
    "input_file_path = 'data\\\\synthetic\\\\maardji et al 2013_xes\\\\logs\\\\cb\\\\cb2.5k.xes' # path to event log to which the attributes are added\n",
    "output_file_path = 'data\\\\synthetic\\\\maardji et al 2013_xes_attributes\\\\logs\\\\cb\\\\cb2.5k.xes' # output path\n",
    "\n",
    "count_relevant_attributes = 5 # number of relevant attributes to generate\n",
    "count_irrelevant_attributes = 5 # number of irrelevant attributes to generate\n",
    "number_attribute_values = 3 # number of attribute values per attribute\n",
    "drift_type = 'sudden' # 'sudden' or 'recurring'; whether the drift is of type 'sudden' or 'recurring'\n",
    "distribution_change_type = 'mixed' # 'new_value', 'new_distribution', or 'mixed'; how the distributions change\n",
    "sd_offset_explain_change_point = 0 # standard deviation of the drift to a pre-specified change point\n",
    "min_hellinger_distance = 0.3 # minimum hellinger distance between drifted distributions\n",
    "\n",
    "change_points = helper.get_change_points_maardji_et_al_2013(2500)"
   ]
  },
  {
   "cell_type": "code",
   "execution_count": 7,
   "id": "660c51fe",
   "metadata": {},
   "outputs": [
    {
     "data": {
      "text/plain": [
       "[250, 500, 750, 1000, 1250, 1500, 1750, 2000, 2250]"
      ]
     },
     "execution_count": 7,
     "metadata": {},
     "output_type": "execute_result"
    }
   ],
   "source": [
    "change_points"
   ]
  },
  {
   "cell_type": "code",
   "execution_count": 8,
   "id": "742282f3",
   "metadata": {},
   "outputs": [],
   "source": [
    "# create the attribute generator:\n",
    "ag = attribute_generation.create_and_populate_attribute_generator(\n",
    "    change_points=change_points,\n",
    "    count_relevant_attributes=count_relevant_attributes,\n",
    "    count_irrelevant_attributes=count_irrelevant_attributes,\n",
    "    number_attribute_values=number_attribute_values,\n",
    "    drift_type=drift_type,\n",
    "    distribution_change_type=distribution_change_type,\n",
    "    sd_offset_explain_change_point=sd_offset_explain_change_point,\n",
    "    min_hellinger_distance=min_hellinger_distance\n",
    "    )"
   ]
  },
  {
   "cell_type": "code",
   "execution_count": 9,
   "id": "48daa44e",
   "metadata": {},
   "outputs": [
    {
     "name": "stdout",
     "output_type": "stream",
     "text": [
      "Importance: DEBUG\n",
      "Message: Start serializing log to XES.XML\n",
      "\n",
      "Importance: DEBUG\n",
      "Message: finished serializing log (7653.834228515625 msec.)\n",
      "\n"
     ]
    }
   ],
   "source": [
    "attribute_generation.apply_attribute_generator_to_log_file(ag, input_file_path, output_file_path)"
   ]
  },
  {
   "cell_type": "code",
   "execution_count": 10,
   "id": "3d2a846e",
   "metadata": {},
   "outputs": [
    {
     "name": "stdout",
     "output_type": "stream",
     "text": [
      "[{'attribute_name': 'relevant_attribute_01', 'base_distribution': array([0.44331063, 0.55668937, 0.        ]), 'explain_change_point': 250, 'change_point': 250, 'drift_type': 'sudden'}, {'attribute_name': 'relevant_attribute_02', 'base_distribution': array([0.35697842, 0.38186855, 0.26115303]), 'explain_change_point': 500, 'change_point': 500, 'drift_type': 'sudden'}, {'attribute_name': 'relevant_attribute_03', 'base_distribution': array([0.34475699, 0.23294562, 0.42229738]), 'explain_change_point': 750, 'change_point': 750, 'drift_type': 'sudden'}, {'attribute_name': 'relevant_attribute_04', 'base_distribution': array([0.42229726, 0.39705523, 0.18064751]), 'explain_change_point': 1000, 'change_point': 1000, 'drift_type': 'sudden'}, {'attribute_name': 'relevant_attribute_05', 'base_distribution': array([0.07919391, 0.50411143, 0.41669466]), 'explain_change_point': 1250, 'change_point': 1250, 'drift_type': 'sudden'}]\n"
     ]
    }
   ],
   "source": [
    "# print the change point explanations\n",
    "print(ag.change_point_explanations)"
   ]
  }
 ],
 "metadata": {
  "interpreter": {
   "hash": "3586acef3f5f923af4b971ce05811a36e3973e810e5c25f95daaeb0237b948ae"
  },
  "kernelspec": {
   "display_name": "Python 3.10.4 ('concept_drift')",
   "language": "python",
   "name": "python3"
  },
  "language_info": {
   "codemirror_mode": {
    "name": "ipython",
    "version": 3
   },
   "file_extension": ".py",
   "mimetype": "text/x-python",
   "name": "python",
   "nbconvert_exporter": "python",
   "pygments_lexer": "ipython3",
   "version": "3.10.4"
  }
 },
 "nbformat": 4,
 "nbformat_minor": 5
}
