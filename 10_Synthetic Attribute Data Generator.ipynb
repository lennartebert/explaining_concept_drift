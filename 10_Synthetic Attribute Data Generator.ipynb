{
 "cells": [
  {
   "cell_type": "markdown",
   "id": "9475ab7f-f59d-4644-8e0a-99aa00517392",
   "metadata": {
    "tags": []
   },
   "source": [
    "# Synthetic Attribute Data Generator\n",
    "*Author: Lennart Ebert (mail@lennart-ebert.de)*\n",
    "</br></br>\n",
    "\n",
    "The synthetic attribute data generator lets the user add drifting attribute data to an XES formatted event log.\n",
    "\n",
    "The user supplies\n",
    "1. an XES file path, \n",
    "2. a list of change points for this file,\n",
    "3. the number of relevant attributes to generate,\n",
    "4. the number of irrelevant attributes to generate.\n",
    "\n",
    "Optionally, the user can provide:\n",
    "- the type of attribute distribution change (new value or new distribution),\n",
    "- the type of change (sudden or re-occuring),\n",
    "- the standard deviation of the distance between the attribute change point to the given change point."
   ]
  },
  {
   "cell_type": "code",
   "execution_count": 12,
   "id": "928843ee",
   "metadata": {},
   "outputs": [],
   "source": [
    "import helper"
   ]
  },
  {
   "cell_type": "code",
   "execution_count": 13,
   "id": "2ad55131-0706-44e0-b98b-4393be9e7267",
   "metadata": {},
   "outputs": [],
   "source": [
    "# select a dataset to augment\n",
    "input_file_path = 'data\\\\synthetic\\\\maardji et al 2013_xes\\\\logs\\\\cb\\\\cb2.5k.xes'\n",
    "output_file_path = 'data\\\\synthetic\\\\maardji et al 2013_xes_attributes\\\\logs\\\\cb\\\\cb2.5k.xes'\n",
    "\n",
    "count_relevant_attributes = 2\n",
    "count_irrelevant_attributes = 2\n",
    "number_attribute_values = 3\n",
    "type_of_drift = 'sudden'\n",
    "type_of_change = 'mixed'\n",
    "standard_deviation_offset_explain_change_point = 0\n",
    "\n",
    "change_points = helper.get_change_points_maardji_et_al_2013(2500)"
   ]
  },
  {
   "cell_type": "code",
   "execution_count": 14,
   "id": "660c51fe",
   "metadata": {},
   "outputs": [
    {
     "data": {
      "text/plain": [
       "[250, 500, 750, 1000, 1250, 1500, 1750, 2000, 2250]"
      ]
     },
     "execution_count": 14,
     "metadata": {},
     "output_type": "execute_result"
    }
   ],
   "source": [
    "change_points"
   ]
  },
  {
   "cell_type": "code",
   "execution_count": 15,
   "id": "e2b78ac9",
   "metadata": {},
   "outputs": [
    {
     "name": "stdout",
     "output_type": "stream",
     "text": [
      "Importance: DEBUG\n",
      "Message: Start serializing log to XES.XML\n",
      "\n",
      "Importance: DEBUG\n",
      "Message: finished serializing log (6954.952880859375 msec.)\n",
      "\n"
     ]
    }
   ],
   "source": [
    "change_point_explanations = helper.add_synthetic_attributes(\n",
    "    input_file_path=input_file_path,\n",
    "    output_file_path=output_file_path,\n",
    "    change_points=change_points,\n",
    "    count_relevant_attributes=count_relevant_attributes,\n",
    "    count_irrelevant_attributes=count_irrelevant_attributes,\n",
    "    number_attribute_values=number_attribute_values,\n",
    "    type_of_drift=type_of_drift,\n",
    "    type_of_change=type_of_change,\n",
    "    standard_deviation_offset_explain_change_point=standard_deviation_offset_explain_change_point\n",
    ")"
   ]
  },
  {
   "cell_type": "code",
   "execution_count": 16,
   "id": "3d2a846e",
   "metadata": {},
   "outputs": [
    {
     "name": "stdout",
     "output_type": "stream",
     "text": [
      "[{'attribute_name': 'relevant_attribute_01', 'base_distribution': [0.4534729560449287, 0.5465270439550712, 0], 'explain_change_point': 250, 'change_point': 250, 'drift_type': 'sudden'}, {'attribute_name': 'relevant_attribute_02', 'base_distribution': [0.5066518389236309, 0.21699618732796083, 0.27635197374840836], 'explain_change_point': 500, 'change_point': 500, 'drift_type': 'sudden'}]\n"
     ]
    }
   ],
   "source": [
    "print(change_point_explanations)"
   ]
  }
 ],
 "metadata": {
  "interpreter": {
   "hash": "3586acef3f5f923af4b971ce05811a36e3973e810e5c25f95daaeb0237b948ae"
  },
  "kernelspec": {
   "display_name": "Python 3.10.4 ('concept_drift')",
   "language": "python",
   "name": "python3"
  },
  "language_info": {
   "codemirror_mode": {
    "name": "ipython",
    "version": 3
   },
   "file_extension": ".py",
   "mimetype": "text/x-python",
   "name": "python",
   "nbconvert_exporter": "python",
   "pygments_lexer": "ipython3",
   "version": "3.10.4"
  }
 },
 "nbformat": 4,
 "nbformat_minor": 5
}
