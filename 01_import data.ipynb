{
 "cells": [
  {
   "cell_type": "markdown",
   "id": "973ab320-47c6-4829-983b-28ba1deca11d",
   "metadata": {},
   "source": [
    "# Helper notebook to import real and synthetic datasets"
   ]
  },
  {
   "cell_type": "markdown",
   "id": "c5480404-a70e-4e31-95e2-4414b2df27b0",
   "metadata": {},
   "source": [
    "## Synthetic: Maaradji et al. 2013\n",
    "72 event logs with different kinds of concept drift.\n",
    "\n",
    "1. Download from https://data.4tu.nl/articles/dataset/Business_Process_Drift/12712436\n",
    "2. Specify the file path to the zip file below.\n",
    "3. Execute cell.\n",
    "4. The extracted files should be placed in data/synthetic/maardji et al 2015"
   ]
  },
  {
   "cell_type": "code",
   "execution_count": 4,
   "id": "2b993d3d-2fd8-4bbd-8f93-49e0dd55bff3",
   "metadata": {},
   "outputs": [],
   "source": [
    "# change the from path to download location\n",
    "from_path = 'data/synthetic/maaradji et al 2015.zip'\n",
    "\n",
    "# unpacks the data into the correct folder\n",
    "# no edits needed\n",
    "to_path = 'data/synthetic/maardji et al 2015_mxml'\n",
    "\n",
    "import zipfile\n",
    "with zipfile.ZipFile(from_path, 'r') as zip_ref:\n",
    "    zip_ref.extractall(to_path)"
   ]
  },
  {
   "cell_type": "code",
   "execution_count": null,
   "id": "19de747f-95a7-4063-8393-7325995896d1",
   "metadata": {},
   "outputs": [],
   "source": []
  },
  {
   "cell_type": "code",
   "execution_count": 7,
   "id": "18680da5-122f-4374-be2b-9911a4258764",
   "metadata": {},
   "outputs": [],
   "source": [
    "# unpack the 2013 bpi challenge dataset\n",
    "path = 'data/real/bpi_challenge_2013_incidents.xes.gz'\n",
    "\n",
    "import gzip\n",
    "import shutil\n",
    "with gzip.open(path, 'rb') as f_in:\n",
    "    new_path = path[:-3]\n",
    "    with open(new_path, 'wb') as f_out:\n",
    "        shutil.copyfileobj(f_in, f_out)"
   ]
  },
  {
   "cell_type": "code",
   "execution_count": 9,
   "id": "ed41604b-5466-417b-9d3c-56aea310e079",
   "metadata": {},
   "outputs": [],
   "source": [
    "size = 5000\n",
    "changepoints = [(int)(size * (i+1)/10) for i in range(9)]"
   ]
  },
  {
   "cell_type": "code",
   "execution_count": null,
   "id": "070ae624-8439-4bc1-b8ed-d23b3e611c2a",
   "metadata": {},
   "outputs": [],
   "source": []
  }
 ],
 "metadata": {
  "kernelspec": {
   "display_name": "Python 3 (ipykernel)",
   "language": "python",
   "name": "python3"
  },
  "language_info": {
   "codemirror_mode": {
    "name": "ipython",
    "version": 3
   },
   "file_extension": ".py",
   "mimetype": "text/x-python",
   "name": "python",
   "nbconvert_exporter": "python",
   "pygments_lexer": "ipython3",
   "version": "3.10.4"
  }
 },
 "nbformat": 4,
 "nbformat_minor": 5
}
