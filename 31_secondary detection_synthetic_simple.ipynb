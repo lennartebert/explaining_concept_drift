{
 "cells": [
  {
   "cell_type": "markdown",
   "id": "89d46962-50d0-4a78-9552-08db7fa8e639",
   "metadata": {
    "tags": []
   },
   "source": [
    "# Secondary Drift Detection for Simple Configuration\n",
    "\n",
    "## Setup\n",
    "### Imports"
   ]
  },
  {
   "cell_type": "code",
   "execution_count": 1,
   "id": "9df7d0f7-1aa4-4c89-9392-3376586554d3",
   "metadata": {},
   "outputs": [],
   "source": [
    "# imports\n",
    "import helper\n",
    "from pm4py.objects.log.importer.xes import importer as xes_importer\n",
    "\n",
    "from processdrift.framework import drift_detection\n",
    "from processdrift.framework import drift_explanation\n",
    "from processdrift.framework import feature_extraction\n",
    "from processdrift.framework import pop_comparison\n",
    "from processdrift.framework import windowing\n",
    "from processdrift.framework import evaluation\n",
    "\n",
    "import time\n",
    "import os"
   ]
  },
  {
   "cell_type": "markdown",
   "id": "33d7ccb6",
   "metadata": {},
   "source": [
    "### Data settings and event log loading"
   ]
  },
  {
   "cell_type": "code",
   "execution_count": 2,
   "id": "1155596b",
   "metadata": {},
   "outputs": [],
   "source": [
    "input_path = r'data\\synthetic\\attribute_drift\\simple\\10000'\n",
    "output_path = r'results\\synthetic\\attribute_drift\\simple\\10000'\n",
    "size = 10000\n",
    "number_relevant_attributes = 5\n",
    "\n",
    "results_path = r'results\\simple\\10000\\results.csv'\n",
    "delete_if_results_exists = True\n",
    "\n",
    "window_generator_types = ['fixed', 'adaptive']\n",
    "window_sizes= [100, 200]\n",
    "population_comparers = [pop_comparison.HellingerDistanceComparer()]\n",
    "thresholds = [0.5, 0.8]\n",
    "max_distances = [200]\n",
    "slide_bys = [5, 10]\n",
    "\n",
    "# always exclude the concept name as an attribute\n",
    "exclude_attributes = ['concept:name']"
   ]
  },
  {
   "cell_type": "code",
   "execution_count": 3,
   "id": "1b39b77e",
   "metadata": {},
   "outputs": [],
   "source": [
    "# get the true change points and true change point explanations\n",
    "true_change_points = helper.get_change_points_maardji_et_al_2013(10000)\n",
    "true_change_point_explanations = [(true_change_points[i], f'relevant_attribute_{i+1:02d}') for i in range(number_relevant_attributes)]"
   ]
  },
  {
   "cell_type": "code",
   "execution_count": 4,
   "id": "2525ddc9",
   "metadata": {},
   "outputs": [],
   "source": [
    "# load all event logs from the input path\n",
    "event_log_file_paths = helper.get_all_files_in_dir(input_path, include_files_in_subdirs=True)"
   ]
  },
  {
   "cell_type": "code",
   "execution_count": 5,
   "id": "5685f73f",
   "metadata": {},
   "outputs": [],
   "source": [
    "# primary drift detector stays always the same\n",
    "primary_process_drift_detector = drift_detection.DriftDetectorTrueKnown(true_change_points)"
   ]
  },
  {
   "cell_type": "code",
   "execution_count": 6,
   "id": "98d02474",
   "metadata": {},
   "outputs": [],
   "source": [
    "# build all possible configuration:\n",
    "configurations = []\n",
    "for window_generator_type in window_generator_types:\n",
    "    for window_size in window_sizes:\n",
    "        for population_comparer in population_comparers:\n",
    "            for threshold in thresholds:\n",
    "                for max_distance in max_distances:\n",
    "                    for slide_by in slide_bys:\n",
    "                        configurations.append({\n",
    "                            'window_generator_type': window_generator_type,\n",
    "                            'window_size': window_size,\n",
    "                            'population_comparer': population_comparer,\n",
    "                            'threshold': threshold,\n",
    "                            'max_distance': max_distance,\n",
    "                            'slide_by': slide_by\n",
    "                        })"
   ]
  },
  {
   "cell_type": "code",
   "execution_count": 7,
   "id": "eb7cfde7",
   "metadata": {},
   "outputs": [],
   "source": [
    "# build a cache of loaded event logs to make process faster\n",
    "loaded_event_logs = {}\n",
    "\n",
    "# delete results file if exists\n",
    "if delete_if_results_exists:\n",
    "    os.path.exists(results_path):\n",
    "    os.remove(results_path)"
   ]
  },
  {
   "cell_type": "code",
   "execution_count": 8,
   "id": "ceea0560",
   "metadata": {},
   "outputs": [
    {
     "name": "stderr",
     "output_type": "stream",
     "text": [
      "c:\\Users\\Lennart\\Tools\\Anaconda3\\envs\\concept_drift\\lib\\site-packages\\tqdm\\auto.py:22: TqdmWarning: IProgress not found. Please update jupyter and ipywidgets. See https://ipywidgets.readthedocs.io/en/stable/user_install.html\n",
      "  from .autonotebook import tqdm as notebook_tqdm\n",
      "parsing log, completed traces :: 100%|██████████| 10000/10000 [00:11<00:00, 867.10it/s]\n",
      "parsing log, completed traces :: 100%|██████████| 10000/10000 [00:16<00:00, 624.85it/s]\n"
     ]
    },
    {
     "ename": "KeyboardInterrupt",
     "evalue": "",
     "output_type": "error",
     "traceback": [
      "\u001b[1;31m---------------------------------------------------------------------------\u001b[0m",
      "\u001b[1;31mKeyboardInterrupt\u001b[0m                         Traceback (most recent call last)",
      "\u001b[1;32mc:\\Users\\Lennart\\Documents\\1_Workspaces\\explaining_concept_drift\\31_secondary detection_synthetic_simple.ipynb Cell 10'\u001b[0m in \u001b[0;36m<cell line: 2>\u001b[1;34m()\u001b[0m\n\u001b[0;32m     <a href='vscode-notebook-cell:/c%3A/Users/Lennart/Documents/1_Workspaces/explaining_concept_drift/31_secondary%20detection_synthetic_simple.ipynb#ch0000023?line=34'>35</a>\u001b[0m drift_explainer \u001b[39m=\u001b[39m drift_explanation\u001b[39m.\u001b[39mDriftExplainer(primary_process_drift_detector, secondary_drift_detectors)\n\u001b[0;32m     <a href='vscode-notebook-cell:/c%3A/Users/Lennart/Documents/1_Workspaces/explaining_concept_drift/31_secondary%20detection_synthetic_simple.ipynb#ch0000023?line=36'>37</a>\u001b[0m \u001b[39m# calculate the drift explanations\u001b[39;00m\n\u001b[1;32m---> <a href='vscode-notebook-cell:/c%3A/Users/Lennart/Documents/1_Workspaces/explaining_concept_drift/31_secondary%20detection_synthetic_simple.ipynb#ch0000023?line=37'>38</a>\u001b[0m observed_changes \u001b[39m=\u001b[39m drift_explainer\u001b[39m.\u001b[39;49mget_primary_and_secondary_changes(event_log, max_distance)\n\u001b[0;32m     <a href='vscode-notebook-cell:/c%3A/Users/Lennart/Documents/1_Workspaces/explaining_concept_drift/31_secondary%20detection_synthetic_simple.ipynb#ch0000023?line=38'>39</a>\u001b[0m observed_drift_point_explanations \u001b[39m=\u001b[39m drift_explanation\u001b[39m.\u001b[39mattribute_importance_per_primary_change_point(observed_changes, max_distance)\n\u001b[0;32m     <a href='vscode-notebook-cell:/c%3A/Users/Lennart/Documents/1_Workspaces/explaining_concept_drift/31_secondary%20detection_synthetic_simple.ipynb#ch0000023?line=40'>41</a>\u001b[0m \u001b[39m# evaluate the change point explanations\u001b[39;00m\n",
      "File \u001b[1;32mc:\\Users\\Lennart\\Documents\\1_Workspaces\\explaining_concept_drift\\processdrift\\framework\\drift_explanation.py:44\u001b[0m, in \u001b[0;36mDriftExplainer.get_primary_and_secondary_changes\u001b[1;34m(self, event_log, max_distance)\u001b[0m\n\u001b[0;32m     <a href='file:///c%3A/Users/Lennart/Documents/1_Workspaces/explaining_concept_drift/processdrift/framework/drift_explanation.py?line=41'>42</a>\u001b[0m \u001b[39m# pass the primary changes, depending on whether the max_distance was set\u001b[39;00m\n\u001b[0;32m     <a href='file:///c%3A/Users/Lennart/Documents/1_Workspaces/explaining_concept_drift/processdrift/framework/drift_explanation.py?line=42'>43</a>\u001b[0m \u001b[39mif\u001b[39;00m max_distance \u001b[39mis\u001b[39;00m \u001b[39mnot\u001b[39;00m \u001b[39mNone\u001b[39;00m:\n\u001b[1;32m---> <a href='file:///c%3A/Users/Lennart/Documents/1_Workspaces/explaining_concept_drift/processdrift/framework/drift_explanation.py?line=43'>44</a>\u001b[0m     secondary_changes \u001b[39m=\u001b[39m secondary_drift_detector\u001b[39m.\u001b[39;49mget_changes(event_log, primary_change_points, max_distance)\n\u001b[0;32m     <a href='file:///c%3A/Users/Lennart/Documents/1_Workspaces/explaining_concept_drift/processdrift/framework/drift_explanation.py?line=44'>45</a>\u001b[0m \u001b[39melse\u001b[39;00m:\n\u001b[0;32m     <a href='file:///c%3A/Users/Lennart/Documents/1_Workspaces/explaining_concept_drift/processdrift/framework/drift_explanation.py?line=45'>46</a>\u001b[0m     secondary_changes \u001b[39m=\u001b[39m secondary_drift_detector\u001b[39m.\u001b[39mget_changes(event_log)\n",
      "File \u001b[1;32mc:\\Users\\Lennart\\Documents\\1_Workspaces\\explaining_concept_drift\\processdrift\\framework\\drift_detection.py:59\u001b[0m, in \u001b[0;36mDriftDetector.get_changes\u001b[1;34m(self, event_log, around_traces, max_distance)\u001b[0m\n\u001b[0;32m     <a href='file:///c%3A/Users/Lennart/Documents/1_Workspaces/explaining_concept_drift/processdrift/framework/drift_detection.py?line=44'>45</a>\u001b[0m \u001b[39m\"\"\"Get changes in the selected feature from an event log.\u001b[39;00m\n\u001b[0;32m     <a href='file:///c%3A/Users/Lennart/Documents/1_Workspaces/explaining_concept_drift/processdrift/framework/drift_detection.py?line=45'>46</a>\u001b[0m \n\u001b[0;32m     <a href='file:///c%3A/Users/Lennart/Documents/1_Workspaces/explaining_concept_drift/processdrift/framework/drift_detection.py?line=46'>47</a>\u001b[0m \u001b[39mThe search for changes can be restricted to the area of max_distance around traces specified in a list.\u001b[39;00m\n\u001b[1;32m   (...)\u001b[0m\n\u001b[0;32m     <a href='file:///c%3A/Users/Lennart/Documents/1_Workspaces/explaining_concept_drift/processdrift/framework/drift_detection.py?line=54'>55</a>\u001b[0m \u001b[39m    Dictionary with change points and change series: {change_points: [...], change_series: pandas.Series}\u001b[39;00m\n\u001b[0;32m     <a href='file:///c%3A/Users/Lennart/Documents/1_Workspaces/explaining_concept_drift/processdrift/framework/drift_detection.py?line=55'>56</a>\u001b[0m \u001b[39m\"\"\"\u001b[39;00m\n\u001b[0;32m     <a href='file:///c%3A/Users/Lennart/Documents/1_Workspaces/explaining_concept_drift/processdrift/framework/drift_detection.py?line=57'>58</a>\u001b[0m \u001b[39m# get the change series\u001b[39;00m\n\u001b[1;32m---> <a href='file:///c%3A/Users/Lennart/Documents/1_Workspaces/explaining_concept_drift/processdrift/framework/drift_detection.py?line=58'>59</a>\u001b[0m change_series \u001b[39m=\u001b[39m \u001b[39mself\u001b[39;49m\u001b[39m.\u001b[39;49m_get_change_series(event_log, around_traces\u001b[39m=\u001b[39;49maround_traces, max_distance\u001b[39m=\u001b[39;49mmax_distance)\n\u001b[0;32m     <a href='file:///c%3A/Users/Lennart/Documents/1_Workspaces/explaining_concept_drift/processdrift/framework/drift_detection.py?line=60'>61</a>\u001b[0m \u001b[39m# get the change points\u001b[39;00m\n\u001b[0;32m     <a href='file:///c%3A/Users/Lennart/Documents/1_Workspaces/explaining_concept_drift/processdrift/framework/drift_detection.py?line=61'>62</a>\u001b[0m change_points \u001b[39m=\u001b[39m \u001b[39mself\u001b[39m\u001b[39m.\u001b[39m_get_change_points(change_series)\n",
      "File \u001b[1;32mc:\\Users\\Lennart\\Documents\\1_Workspaces\\explaining_concept_drift\\processdrift\\framework\\drift_detection.py:109\u001b[0m, in \u001b[0;36mDriftDetector._get_change_series\u001b[1;34m(self, event_log, around_traces, max_distance)\u001b[0m\n\u001b[0;32m    <a href='file:///c%3A/Users/Lennart/Documents/1_Workspaces/explaining_concept_drift/processdrift/framework/drift_detection.py?line=106'>107</a>\u001b[0m \u001b[39m# update window size\u001b[39;00m\n\u001b[0;32m    <a href='file:///c%3A/Users/Lennart/Documents/1_Workspaces/explaining_concept_drift/processdrift/framework/drift_detection.py?line=107'>108</a>\u001b[0m \u001b[39mif\u001b[39;00m \u001b[39misinstance\u001b[39m(\u001b[39mself\u001b[39m\u001b[39m.\u001b[39mwindow_generator, windowing\u001b[39m.\u001b[39mAdaptiveWindowGenerator):\n\u001b[1;32m--> <a href='file:///c%3A/Users/Lennart/Documents/1_Workspaces/explaining_concept_drift/processdrift/framework/drift_detection.py?line=108'>109</a>\u001b[0m     \u001b[39mself\u001b[39;49m\u001b[39m.\u001b[39;49mwindow_generator\u001b[39m.\u001b[39;49mupdate_window_size(features_window_a, features_window_b)\n\u001b[0;32m    <a href='file:///c%3A/Users/Lennart/Documents/1_Workspaces/explaining_concept_drift/processdrift/framework/drift_detection.py?line=110'>111</a>\u001b[0m \u001b[39m# print(pd.concat([features_window_a, features_window_b], axis=1))# , right_index=True, left_index=True))\u001b[39;00m\n\u001b[0;32m    <a href='file:///c%3A/Users/Lennart/Documents/1_Workspaces/explaining_concept_drift/processdrift/framework/drift_detection.py?line=111'>112</a>\u001b[0m \n\u001b[0;32m    <a href='file:///c%3A/Users/Lennart/Documents/1_Workspaces/explaining_concept_drift/processdrift/framework/drift_detection.py?line=112'>113</a>\u001b[0m \u001b[39m# compare both windows\u001b[39;00m\n\u001b[0;32m    <a href='file:///c%3A/Users/Lennart/Documents/1_Workspaces/explaining_concept_drift/processdrift/framework/drift_detection.py?line=113'>114</a>\u001b[0m \u001b[39m# result is true if a significant change is found\u001b[39;00m\n\u001b[0;32m    <a href='file:///c%3A/Users/Lennart/Documents/1_Workspaces/explaining_concept_drift/processdrift/framework/drift_detection.py?line=114'>115</a>\u001b[0m result \u001b[39m=\u001b[39m \u001b[39mself\u001b[39m\u001b[39m.\u001b[39mpopulation_comparer\u001b[39m.\u001b[39mcompare(features_window_a, features_window_b)\n",
      "File \u001b[1;32mc:\\Users\\Lennart\\Documents\\1_Workspaces\\explaining_concept_drift\\processdrift\\framework\\windowing.py:182\u001b[0m, in \u001b[0;36mAdaptiveWindowGenerator.update_window_size\u001b[1;34m(self, features_window_a, features_window_b)\u001b[0m\n\u001b[0;32m    <a href='file:///c%3A/Users/Lennart/Documents/1_Workspaces/explaining_concept_drift/processdrift/framework/windowing.py?line=178'>179</a>\u001b[0m     \u001b[39mself\u001b[39m\u001b[39m.\u001b[39mprevious_variability \u001b[39m=\u001b[39m \u001b[39mself\u001b[39m\u001b[39m.\u001b[39m_get_variability(features_window_a, features_window_b)\n\u001b[0;32m    <a href='file:///c%3A/Users/Lennart/Documents/1_Workspaces/explaining_concept_drift/processdrift/framework/windowing.py?line=179'>180</a>\u001b[0m     \u001b[39mreturn\u001b[39;00m\n\u001b[1;32m--> <a href='file:///c%3A/Users/Lennart/Documents/1_Workspaces/explaining_concept_drift/processdrift/framework/windowing.py?line=181'>182</a>\u001b[0m new_variability \u001b[39m=\u001b[39m \u001b[39mself\u001b[39;49m\u001b[39m.\u001b[39;49m_get_variability(features_window_a, features_window_b)\n\u001b[0;32m    <a href='file:///c%3A/Users/Lennart/Documents/1_Workspaces/explaining_concept_drift/processdrift/framework/windowing.py?line=183'>184</a>\u001b[0m \u001b[39m# the evolution ratio is the change in variability between two windows\u001b[39;00m\n\u001b[0;32m    <a href='file:///c%3A/Users/Lennart/Documents/1_Workspaces/explaining_concept_drift/processdrift/framework/windowing.py?line=184'>185</a>\u001b[0m evolution_ratio \u001b[39m=\u001b[39m new_variability \u001b[39m/\u001b[39m \u001b[39mself\u001b[39m\u001b[39m.\u001b[39mprevious_variability\n",
      "File \u001b[1;32mc:\\Users\\Lennart\\Documents\\1_Workspaces\\explaining_concept_drift\\processdrift\\framework\\windowing.py:165\u001b[0m, in \u001b[0;36mAdaptiveWindowGenerator._get_variability\u001b[1;34m(self, features_window_a, features_window_b)\u001b[0m\n\u001b[0;32m    <a href='file:///c%3A/Users/Lennart/Documents/1_Workspaces/explaining_concept_drift/processdrift/framework/windowing.py?line=157'>158</a>\u001b[0m \u001b[39m\"\"\"Get the variability as the number of observed unique values in the windows.\u001b[39;00m\n\u001b[0;32m    <a href='file:///c%3A/Users/Lennart/Documents/1_Workspaces/explaining_concept_drift/processdrift/framework/windowing.py?line=158'>159</a>\u001b[0m \u001b[39m\u001b[39;00m\n\u001b[0;32m    <a href='file:///c%3A/Users/Lennart/Documents/1_Workspaces/explaining_concept_drift/processdrift/framework/windowing.py?line=159'>160</a>\u001b[0m \u001b[39mArgs:\u001b[39;00m\n\u001b[0;32m    <a href='file:///c%3A/Users/Lennart/Documents/1_Workspaces/explaining_concept_drift/processdrift/framework/windowing.py?line=160'>161</a>\u001b[0m \u001b[39m    features_window_a: Extracted features from window a. numpy array.\u001b[39;00m\n\u001b[0;32m    <a href='file:///c%3A/Users/Lennart/Documents/1_Workspaces/explaining_concept_drift/processdrift/framework/windowing.py?line=161'>162</a>\u001b[0m \u001b[39m    features_window_b: Extracted features from window b. numpy array.\u001b[39;00m\n\u001b[0;32m    <a href='file:///c%3A/Users/Lennart/Documents/1_Workspaces/explaining_concept_drift/processdrift/framework/windowing.py?line=162'>163</a>\u001b[0m \u001b[39m\"\"\"\u001b[39;00m\n\u001b[0;32m    <a href='file:///c%3A/Users/Lennart/Documents/1_Workspaces/explaining_concept_drift/processdrift/framework/windowing.py?line=163'>164</a>\u001b[0m features \u001b[39m=\u001b[39m np\u001b[39m.\u001b[39mconcatenate([features_window_a, features_window_b])\n\u001b[1;32m--> <a href='file:///c%3A/Users/Lennart/Documents/1_Workspaces/explaining_concept_drift/processdrift/framework/windowing.py?line=164'>165</a>\u001b[0m unique_values_in_windows \u001b[39m=\u001b[39m np\u001b[39m.\u001b[39;49munique(features)\n\u001b[0;32m    <a href='file:///c%3A/Users/Lennart/Documents/1_Workspaces/explaining_concept_drift/processdrift/framework/windowing.py?line=165'>166</a>\u001b[0m number_unique_values_in_windows \u001b[39m=\u001b[39m \u001b[39mlen\u001b[39m(unique_values_in_windows)\n\u001b[0;32m    <a href='file:///c%3A/Users/Lennart/Documents/1_Workspaces/explaining_concept_drift/processdrift/framework/windowing.py?line=167'>168</a>\u001b[0m \u001b[39mreturn\u001b[39;00m number_unique_values_in_windows\n",
      "File \u001b[1;32m<__array_function__ internals>:5\u001b[0m, in \u001b[0;36munique\u001b[1;34m(*args, **kwargs)\u001b[0m\n",
      "File \u001b[1;32mc:\\Users\\Lennart\\Tools\\Anaconda3\\envs\\concept_drift\\lib\\site-packages\\numpy\\lib\\arraysetops.py:272\u001b[0m, in \u001b[0;36munique\u001b[1;34m(ar, return_index, return_inverse, return_counts, axis)\u001b[0m\n\u001b[0;32m    <a href='file:///c%3A/Users/Lennart/Tools/Anaconda3/envs/concept_drift/lib/site-packages/numpy/lib/arraysetops.py?line=269'>270</a>\u001b[0m ar \u001b[39m=\u001b[39m np\u001b[39m.\u001b[39masanyarray(ar)\n\u001b[0;32m    <a href='file:///c%3A/Users/Lennart/Tools/Anaconda3/envs/concept_drift/lib/site-packages/numpy/lib/arraysetops.py?line=270'>271</a>\u001b[0m \u001b[39mif\u001b[39;00m axis \u001b[39mis\u001b[39;00m \u001b[39mNone\u001b[39;00m:\n\u001b[1;32m--> <a href='file:///c%3A/Users/Lennart/Tools/Anaconda3/envs/concept_drift/lib/site-packages/numpy/lib/arraysetops.py?line=271'>272</a>\u001b[0m     ret \u001b[39m=\u001b[39m _unique1d(ar, return_index, return_inverse, return_counts)\n\u001b[0;32m    <a href='file:///c%3A/Users/Lennart/Tools/Anaconda3/envs/concept_drift/lib/site-packages/numpy/lib/arraysetops.py?line=272'>273</a>\u001b[0m     \u001b[39mreturn\u001b[39;00m _unpack_tuple(ret)\n\u001b[0;32m    <a href='file:///c%3A/Users/Lennart/Tools/Anaconda3/envs/concept_drift/lib/site-packages/numpy/lib/arraysetops.py?line=274'>275</a>\u001b[0m \u001b[39m# axis was specified and not None\u001b[39;00m\n",
      "File \u001b[1;32mc:\\Users\\Lennart\\Tools\\Anaconda3\\envs\\concept_drift\\lib\\site-packages\\numpy\\lib\\arraysetops.py:333\u001b[0m, in \u001b[0;36m_unique1d\u001b[1;34m(ar, return_index, return_inverse, return_counts)\u001b[0m\n\u001b[0;32m    <a href='file:///c%3A/Users/Lennart/Tools/Anaconda3/envs/concept_drift/lib/site-packages/numpy/lib/arraysetops.py?line=330'>331</a>\u001b[0m     aux \u001b[39m=\u001b[39m ar[perm]\n\u001b[0;32m    <a href='file:///c%3A/Users/Lennart/Tools/Anaconda3/envs/concept_drift/lib/site-packages/numpy/lib/arraysetops.py?line=331'>332</a>\u001b[0m \u001b[39melse\u001b[39;00m:\n\u001b[1;32m--> <a href='file:///c%3A/Users/Lennart/Tools/Anaconda3/envs/concept_drift/lib/site-packages/numpy/lib/arraysetops.py?line=332'>333</a>\u001b[0m     ar\u001b[39m.\u001b[39;49msort()\n\u001b[0;32m    <a href='file:///c%3A/Users/Lennart/Tools/Anaconda3/envs/concept_drift/lib/site-packages/numpy/lib/arraysetops.py?line=333'>334</a>\u001b[0m     aux \u001b[39m=\u001b[39m ar\n\u001b[0;32m    <a href='file:///c%3A/Users/Lennart/Tools/Anaconda3/envs/concept_drift/lib/site-packages/numpy/lib/arraysetops.py?line=334'>335</a>\u001b[0m mask \u001b[39m=\u001b[39m np\u001b[39m.\u001b[39mempty(aux\u001b[39m.\u001b[39mshape, dtype\u001b[39m=\u001b[39mnp\u001b[39m.\u001b[39mbool_)\n",
      "\u001b[1;31mKeyboardInterrupt\u001b[0m: "
     ]
    }
   ],
   "source": [
    "# for each configuration, get the results over all datasets\n",
    "for configuration in configurations:\n",
    "    window_generator_type = configuration['window_generator_type']\n",
    "    window_size = configuration['window_size']\n",
    "    population_comparer = configuration['population_comparer']\n",
    "    threshold = configuration['threshold']\n",
    "    max_distance = configuration['max_distance']\n",
    "    slide_by = configuration['slide_by']\n",
    "\n",
    "    print(f'\\nEvaluating configuration {configuration}')\n",
    "\n",
    "    # iterate all datasets with according settings\n",
    "    for i, event_log_file_path in enumerate(event_log_file_paths):\n",
    "        print(f'Event log {i}')\n",
    "        start_time = time.now()\n",
    "        \n",
    "        # see if event log is already in cache\n",
    "        event_log = None\n",
    "        if event_log_file_path in loaded_event_logs:\n",
    "            event_log = loaded_event_logs[event_log_file_path]\n",
    "        else:\n",
    "            # load the event log into pm4py\n",
    "            event_log = xes_importer.apply(event_log_file_path)\n",
    "            # add event log to chache\n",
    "            loaded_event_logs[event_log_file_path] = event_log\n",
    "\n",
    "        window_generator = None\n",
    "        # build the secondary drift detector\n",
    "        if window_generator_type == 'fixed':\n",
    "            window_generator = windowing.FixedSizeWindowGenerator(window_size, slide_by=slide_by)\n",
    "        elif window_generator_type == 'adaptive':\n",
    "            window_generator = windowing.AdaptiveWindowGenerator(window_size, slide_by=slide_by)\n",
    "\n",
    "        secondary_drift_detectors = drift_detection.get_all_attribute_drift_detectors(event_log,\n",
    "                                                                            window_generator, \n",
    "                                                                            population_comparer, \n",
    "                                                                            threshold=threshold,\n",
    "                                                                            exclude_attributes=exclude_attributes)\n",
    "\n",
    "        drift_explainer = drift_explanation.DriftExplainer(primary_process_drift_detector, secondary_drift_detectors)\n",
    "\n",
    "        # calculate the drift explanations\n",
    "        observed_changes = drift_explainer.get_primary_and_secondary_changes(event_log, max_distance)\n",
    "        observed_drift_point_explanations = drift_explanation.attribute_importance_per_primary_change_point(observed_changes, max_distance)\n",
    "        \n",
    "        # evaluate the change point explanations\n",
    "        observed_drift_point_explanations_simple =  helper.get_simple_change_point_list_from_explainer(observed_drift_point_explanations)    \n",
    "\n",
    "        result = evaluation.evaluate_explanations(true_change_point_explanations, observed_drift_point_explanations_simple, max_distance=window_size)\n",
    "        \n",
    "        # get end time\n",
    "        end_time = time.now()\n",
    "        # get the compute time and write into results\n",
    "        compute_time = end_time - start_time\n",
    "        \n",
    "        # write the configuration results to file\n",
    "        helper.append_config_results(results_path, event_log_file_path, configuration, result, compute_time)"
   ]
  }
 ],
 "metadata": {
  "interpreter": {
   "hash": "3586acef3f5f923af4b971ce05811a36e3973e810e5c25f95daaeb0237b948ae"
  },
  "kernelspec": {
   "display_name": "Python 3.10.4 ('concept_drift')",
   "language": "python",
   "name": "python3"
  },
  "language_info": {
   "codemirror_mode": {
    "name": "ipython",
    "version": 3
   },
   "file_extension": ".py",
   "mimetype": "text/x-python",
   "name": "python",
   "nbconvert_exporter": "python",
   "pygments_lexer": "ipython3",
   "version": "3.10.4"
  }
 },
 "nbformat": 4,
 "nbformat_minor": 5
}
