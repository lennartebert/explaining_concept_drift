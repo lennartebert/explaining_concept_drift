{
 "cells": [
  {
   "cell_type": "markdown",
   "id": "89d46962-50d0-4a78-9552-08db7fa8e639",
   "metadata": {
    "tags": []
   },
   "source": [
    "# Secondary Drift Detection for Simple Configuration\n",
    "\n",
    "## Setup\n",
    "### Imports"
   ]
  },
  {
   "cell_type": "code",
   "execution_count": 1,
   "id": "9df7d0f7-1aa4-4c89-9392-3376586554d3",
   "metadata": {},
   "outputs": [],
   "source": [
    "# imports\n",
    "import helper\n",
    "from pm4py.objects.log.importer.xes import importer as xes_importer\n",
    "\n",
    "from processdrift.framework import drift_detection\n",
    "from processdrift.framework import drift_explanation\n",
    "from processdrift.framework import feature_extraction\n",
    "from processdrift.framework import population_comparison\n",
    "from processdrift.framework import windowing\n",
    "from processdrift.framework import evaluation\n",
    "from processdrift.framework import change_point_extraction\n",
    "\n",
    "\n",
    "import time\n",
    "import os\n",
    "import math"
   ]
  },
  {
   "cell_type": "markdown",
   "id": "33d7ccb6",
   "metadata": {},
   "source": [
    "### Data settings and event log loading"
   ]
  },
  {
   "cell_type": "code",
   "execution_count": 2,
   "id": "3b8eb961",
   "metadata": {},
   "outputs": [],
   "source": [
    "# original settings\n",
    "input_path = r'data\\synthetic\\attribute_drift\\sudden_3_attribute_values\\10000'\n",
    "size = 10000\n",
    "number_relevant_attributes = 5\n",
    "\n",
    "results_path = r'results\\sudden_3_attribute_values\\10000\\100_iter_results.csv'\n",
    "delete_if_results_exists = True\n",
    "\n",
    "window_generator_types = ['fixed', 'adaptive']\n",
    "window_sizes= [100, 150, 200]\n",
    "population_comparers = [population_comparison.GTestPC()] #[pop_comparison.ChiSquaredComparer(), pop_comparison.KSTestPopComparer()] # pop_comparison.HellingerDistanceComparer()]# pop_comparison.KSTestPopComparer(), pop_comparison.ChiSquaredComparer()]\n",
    "thresholds = [0.05]\n",
    "max_distances = [300]\n",
    "slide_bys = [10, 20] # , 10]\n",
    "proportional_phis = [0.25, 0.5, 1]\n",
    "rho = 1\n",
    "\n",
    "# always exclude the concept name as an attribute\n",
    "exclude_attributes = ['concept:name']\n",
    "\n",
    "# limit iterations\n",
    "limit_iterations = None"
   ]
  },
  {
   "cell_type": "code",
   "execution_count": 3,
   "id": "1155596b",
   "metadata": {},
   "outputs": [],
   "source": [
    "# input_path = r'data\\synthetic\\attribute_drift\\sudden_3_attribute_values\\10000'\n",
    "# size = 10000\n",
    "# number_relevant_attributes = 5\n",
    "\n",
    "# results_path = r'results\\sudden_3_attribute_values\\10000\\100_iter_results.csv'\n",
    "# delete_if_results_exists = False\n",
    "\n",
    "# window_generator_types = ['adaptive']\n",
    "# window_sizes= [150] # [100, 200]\n",
    "# population_comparers = [pop_comparison.GTestComparer()] #[pop_comparison.ChiSquaredComparer(), pop_comparison.KSTestPopComparer()] # pop_comparison.HellingerDistanceComparer()]# pop_comparison.KSTestPopComparer(), pop_comparison.ChiSquaredComparer()]\n",
    "# thresholds = [0.05]\n",
    "# max_distances = [300]\n",
    "# slide_bys = [1, 15, 20, 25, 30] # , 10]\n",
    "# proportional_phi = [1]\n",
    "# rho = 1\n",
    "\n",
    "# # always exclude the concept name as an attribute\n",
    "# exclude_attributes = ['concept:name']\n",
    "\n",
    "# # limit iterations\n",
    "# limit_iterations = None"
   ]
  },
  {
   "cell_type": "code",
   "execution_count": 4,
   "id": "1b39b77e",
   "metadata": {},
   "outputs": [],
   "source": [
    "# get the true change points and true change point explanations\n",
    "true_change_points = helper.get_change_points_maardji_et_al_2013(10000)\n",
    "true_change_point_explanations = [(true_change_points[i], f'relevant_attribute_{i+1:02d}') for i in range(number_relevant_attributes)]"
   ]
  },
  {
   "cell_type": "code",
   "execution_count": 5,
   "id": "2525ddc9",
   "metadata": {},
   "outputs": [],
   "source": [
    "# load all event logs from the input path\n",
    "event_log_file_paths = helper.get_all_files_in_dir(input_path, include_files_in_subdirs=True)"
   ]
  },
  {
   "cell_type": "code",
   "execution_count": 6,
   "id": "5685f73f",
   "metadata": {},
   "outputs": [],
   "source": [
    "# primary drift detector stays always the same\n",
    "primary_process_drift_detector = drift_detection.TrueKnownDD(true_change_points)"
   ]
  },
  {
   "cell_type": "code",
   "execution_count": 7,
   "id": "98d02474",
   "metadata": {},
   "outputs": [],
   "source": [
    "# build all possible configuration:\n",
    "configurations = []\n",
    "for window_generator_type in window_generator_types:\n",
    "    for window_size in window_sizes:\n",
    "        for population_comparer in population_comparers:\n",
    "            for threshold in thresholds:\n",
    "                for max_distance in max_distances:\n",
    "                    for slide_by in slide_bys:\n",
    "                        for proportional_phi in proportional_phis:\n",
    "                            configurations.append({\n",
    "                                'window_generator_type': window_generator_type,\n",
    "                                'window_size': window_size,\n",
    "                                'population_comparer': population_comparer,\n",
    "                                'threshold': threshold,\n",
    "                                'max_distance': max_distance,\n",
    "                                'slide_by': slide_by,\n",
    "                                'proportional_phi': proportional_phi\n",
    "                            })"
   ]
  },
  {
   "cell_type": "code",
   "execution_count": 8,
   "id": "eb7cfde7",
   "metadata": {},
   "outputs": [],
   "source": [
    "# delete results file if exists\n",
    "if delete_if_results_exists:\n",
    "    if os.path.exists(results_path):\n",
    "        os.remove(results_path)"
   ]
  },
  {
   "cell_type": "code",
   "execution_count": 9,
   "id": "ceea0560",
   "metadata": {},
   "outputs": [
    {
     "name": "stdout",
     "output_type": "stream",
     "text": [
      "Event log 0\n"
     ]
    },
    {
     "name": "stderr",
     "output_type": "stream",
     "text": [
      "c:\\Users\\Lennart\\Tools\\Anaconda3\\envs\\concept_drift\\lib\\site-packages\\tqdm\\auto.py:22: TqdmWarning: IProgress not found. Please update jupyter and ipywidgets. See https://ipywidgets.readthedocs.io/en/stable/user_install.html\n",
      "  from .autonotebook import tqdm as notebook_tqdm\n",
      "parsing log, completed traces :: 100%|██████████| 10000/10000 [00:08<00:00, 1144.07it/s]\n"
     ]
    },
    {
     "name": "stdout",
     "output_type": "stream",
     "text": [
      "\n",
      "Evaluating configuration {'window_generator_type': 'fixed', 'window_size': 100, 'population_comparer': GTestPC, 'threshold': 0.05, 'max_distance': 300, 'slide_by': 10, 'proportional_phi': 0.25}\n",
      "\n",
      "Evaluating configuration {'window_generator_type': 'fixed', 'window_size': 100, 'population_comparer': GTestPC, 'threshold': 0.05, 'max_distance': 300, 'slide_by': 10, 'proportional_phi': 0.5}\n",
      "\n",
      "Evaluating configuration {'window_generator_type': 'fixed', 'window_size': 100, 'population_comparer': GTestPC, 'threshold': 0.05, 'max_distance': 300, 'slide_by': 10, 'proportional_phi': 1}\n",
      "\n",
      "Evaluating configuration {'window_generator_type': 'fixed', 'window_size': 100, 'population_comparer': GTestPC, 'threshold': 0.05, 'max_distance': 300, 'slide_by': 20, 'proportional_phi': 0.25}\n",
      "\n",
      "Evaluating configuration {'window_generator_type': 'fixed', 'window_size': 100, 'population_comparer': GTestPC, 'threshold': 0.05, 'max_distance': 300, 'slide_by': 20, 'proportional_phi': 0.5}\n",
      "\n",
      "Evaluating configuration {'window_generator_type': 'fixed', 'window_size': 100, 'population_comparer': GTestPC, 'threshold': 0.05, 'max_distance': 300, 'slide_by': 20, 'proportional_phi': 1}\n",
      "\n",
      "Evaluating configuration {'window_generator_type': 'fixed', 'window_size': 200, 'population_comparer': GTestPC, 'threshold': 0.05, 'max_distance': 300, 'slide_by': 10, 'proportional_phi': 0.25}\n",
      "\n",
      "Evaluating configuration {'window_generator_type': 'fixed', 'window_size': 200, 'population_comparer': GTestPC, 'threshold': 0.05, 'max_distance': 300, 'slide_by': 10, 'proportional_phi': 0.5}\n"
     ]
    },
    {
     "ename": "KeyboardInterrupt",
     "evalue": "",
     "output_type": "error",
     "traceback": [
      "\u001b[1;31m---------------------------------------------------------------------------\u001b[0m",
      "\u001b[1;31mKeyboardInterrupt\u001b[0m                         Traceback (most recent call last)",
      "\u001b[1;32mc:\\Users\\Lennart\\Documents\\1_Workspaces\\explaining_concept_drift\\31_secondary detection_synthetic_simple.ipynb Cell 11'\u001b[0m in \u001b[0;36m<cell line: 2>\u001b[1;34m()\u001b[0m\n\u001b[0;32m     <a href='vscode-notebook-cell:/c%3A/Users/Lennart/Documents/1_Workspaces/explaining_concept_drift/31_secondary%20detection_synthetic_simple.ipynb#ch0000009?line=38'>39</a>\u001b[0m drift_explainer \u001b[39m=\u001b[39m drift_explanation\u001b[39m.\u001b[39mDriftExplainer(primary_process_drift_detector, secondary_drift_detectors)\n\u001b[0;32m     <a href='vscode-notebook-cell:/c%3A/Users/Lennart/Documents/1_Workspaces/explaining_concept_drift/31_secondary%20detection_synthetic_simple.ipynb#ch0000009?line=40'>41</a>\u001b[0m \u001b[39m# calculate the drift explanations\u001b[39;00m\n\u001b[1;32m---> <a href='vscode-notebook-cell:/c%3A/Users/Lennart/Documents/1_Workspaces/explaining_concept_drift/31_secondary%20detection_synthetic_simple.ipynb#ch0000009?line=41'>42</a>\u001b[0m drift_explanation_result \u001b[39m=\u001b[39m drift_explainer\u001b[39m.\u001b[39;49mget_possible_drift_explanations(event_log, max_distance)\n\u001b[0;32m     <a href='vscode-notebook-cell:/c%3A/Users/Lennart/Documents/1_Workspaces/explaining_concept_drift/31_secondary%20detection_synthetic_simple.ipynb#ch0000009?line=43'>44</a>\u001b[0m \u001b[39m# evaluate the change point explanations\u001b[39;00m\n\u001b[0;32m     <a href='vscode-notebook-cell:/c%3A/Users/Lennart/Documents/1_Workspaces/explaining_concept_drift/31_secondary%20detection_synthetic_simple.ipynb#ch0000009?line=44'>45</a>\u001b[0m observed_drift_point_explanations_simple \u001b[39m=\u001b[39m  helper\u001b[39m.\u001b[39mget_simple_change_point_list_from_dictonary(drift_explanation_result\u001b[39m.\u001b[39mpossible_drift_explanations)    \n",
      "File \u001b[1;32mc:\\Users\\Lennart\\Documents\\1_Workspaces\\explaining_concept_drift\\processdrift\\framework\\drift_explanation.py:44\u001b[0m, in \u001b[0;36mDriftExplainer.get_possible_drift_explanations\u001b[1;34m(self, event_log, max_distance)\u001b[0m\n\u001b[0;32m     42\u001b[0m \u001b[39m# pass the primary changes, depending on whether the max_distance was set\u001b[39;00m\n\u001b[0;32m     43\u001b[0m \u001b[39mif\u001b[39;00m max_distance \u001b[39mis\u001b[39;00m \u001b[39mnot\u001b[39;00m \u001b[39mNone\u001b[39;00m:\n\u001b[1;32m---> 44\u001b[0m     secondary_dd_result \u001b[39m=\u001b[39m secondary_drift_detector\u001b[39m.\u001b[39;49mget_changes(event_log, primary_change_points, max_distance)\n\u001b[0;32m     45\u001b[0m \u001b[39melse\u001b[39;00m:\n\u001b[0;32m     46\u001b[0m     secondary_dd_result \u001b[39m=\u001b[39m secondary_drift_detector\u001b[39m.\u001b[39mget_changes(event_log)\n",
      "File \u001b[1;32mc:\\Users\\Lennart\\Documents\\1_Workspaces\\explaining_concept_drift\\processdrift\\framework\\drift_detection.py:73\u001b[0m, in \u001b[0;36mWindowTestDD.get_changes\u001b[1;34m(self, event_log, around_change_points, max_distance, unit_of_measure)\u001b[0m\n\u001b[0;32m     59\u001b[0m \u001b[39m\"\"\"Get drift points for an event log by comparing windows.\u001b[39;00m\n\u001b[0;32m     60\u001b[0m \n\u001b[0;32m     61\u001b[0m \u001b[39mThe search for changes can be restricted to the area of max_distance around traces specified in a list.\u001b[39;00m\n\u001b[1;32m   (...)\u001b[0m\n\u001b[0;32m     69\u001b[0m \u001b[39m    A DriftDetectionResult object with a change series and the change points.\u001b[39;00m\n\u001b[0;32m     70\u001b[0m \u001b[39m\"\"\"\u001b[39;00m\n\u001b[0;32m     72\u001b[0m \u001b[39m# get the change series\u001b[39;00m\n\u001b[1;32m---> 73\u001b[0m change_series \u001b[39m=\u001b[39m \u001b[39mself\u001b[39;49m\u001b[39m.\u001b[39;49m_get_change_series(event_log, around_change_points\u001b[39m=\u001b[39;49maround_change_points, max_distance\u001b[39m=\u001b[39;49mmax_distance)\n\u001b[0;32m     75\u001b[0m \u001b[39m# get the change points\u001b[39;00m\n\u001b[0;32m     76\u001b[0m change_points \u001b[39m=\u001b[39m \u001b[39mself\u001b[39m\u001b[39m.\u001b[39mchange_point_extractor\u001b[39m.\u001b[39mget_change_points(change_series)\n",
      "File \u001b[1;32mc:\\Users\\Lennart\\Documents\\1_Workspaces\\explaining_concept_drift\\processdrift\\framework\\drift_detection.py:138\u001b[0m, in \u001b[0;36mWindowTestDD._get_change_series\u001b[1;34m(self, event_log, around_change_points, max_distance, unit_of_measure)\u001b[0m\n\u001b[0;32m    134\u001b[0m                 \u001b[39mself\u001b[39m\u001b[39m.\u001b[39mwindow_generator\u001b[39m.\u001b[39mupdate_window_size(features_window_a, features_window_b)\n\u001b[0;32m    136\u001b[0m             \u001b[39m# compare both windows\u001b[39;00m\n\u001b[0;32m    137\u001b[0m             \u001b[39m# result is true if a significant change is found\u001b[39;00m\n\u001b[1;32m--> 138\u001b[0m             result \u001b[39m=\u001b[39m \u001b[39mself\u001b[39;49m\u001b[39m.\u001b[39;49mpopulation_comparer\u001b[39m.\u001b[39;49mcompare(features_window_a, features_window_b)\n\u001b[0;32m    140\u001b[0m             change_dictionary[window_b\u001b[39m.\u001b[39mend] \u001b[39m=\u001b[39m result\n\u001b[0;32m    141\u001b[0m \u001b[39m# look for change globally, not just around change points\u001b[39;00m\n\u001b[0;32m    142\u001b[0m \u001b[39melse\u001b[39;00m:\n\u001b[0;32m    143\u001b[0m     \u001b[39m# get windows for comparison\u001b[39;00m\n",
      "File \u001b[1;32mc:\\Users\\Lennart\\Documents\\1_Workspaces\\explaining_concept_drift\\processdrift\\framework\\population_comparison.py:161\u001b[0m, in \u001b[0;36mGTestPC.compare\u001b[1;34m(self, population_1, population_2)\u001b[0m\n\u001b[0;32m    158\u001b[0m contingency_table \u001b[39m=\u001b[39m preprocess_get_contingency_table(population_1, population_2)\n\u001b[0;32m    160\u001b[0m \u001b[39m# calculate the chi-squared p-value\u001b[39;00m\n\u001b[1;32m--> 161\u001b[0m stat, p_value, dof, expected \u001b[39m=\u001b[39m scipy\u001b[39m.\u001b[39;49mstats\u001b[39m.\u001b[39;49mchi2_contingency(contingency_table, lambda_\u001b[39m=\u001b[39;49m\u001b[39m\"\u001b[39;49m\u001b[39mlog-likelihood\u001b[39;49m\u001b[39m\"\u001b[39;49m)\n\u001b[0;32m    163\u001b[0m \u001b[39m# check if all expected values are >= 5\u001b[39;00m\n\u001b[0;32m    164\u001b[0m \u001b[39mif\u001b[39;00m (expected \u001b[39m<\u001b[39m \u001b[39m5\u001b[39m)\u001b[39m.\u001b[39many():\n",
      "File \u001b[1;32mc:\\Users\\Lennart\\Tools\\Anaconda3\\envs\\concept_drift\\lib\\site-packages\\scipy\\stats\\contingency.py:297\u001b[0m, in \u001b[0;36mchi2_contingency\u001b[1;34m(observed, correction, lambda_)\u001b[0m\n\u001b[0;32m    294\u001b[0m         magnitude \u001b[39m=\u001b[39m np\u001b[39m.\u001b[39mminimum(\u001b[39m0.5\u001b[39m, np\u001b[39m.\u001b[39mabs(diff))\n\u001b[0;32m    295\u001b[0m         observed \u001b[39m=\u001b[39m observed \u001b[39m+\u001b[39m magnitude \u001b[39m*\u001b[39m direction\n\u001b[1;32m--> 297\u001b[0m     chi2, p \u001b[39m=\u001b[39m power_divergence(observed, expected,\n\u001b[0;32m    298\u001b[0m                                ddof\u001b[39m=\u001b[39;49mobserved\u001b[39m.\u001b[39;49msize \u001b[39m-\u001b[39;49m \u001b[39m1\u001b[39;49m \u001b[39m-\u001b[39;49m dof, axis\u001b[39m=\u001b[39;49m\u001b[39mNone\u001b[39;49;00m,\n\u001b[0;32m    299\u001b[0m                                lambda_\u001b[39m=\u001b[39;49mlambda_)\n\u001b[0;32m    301\u001b[0m \u001b[39mreturn\u001b[39;00m chi2, p, dof, expected\n",
      "File \u001b[1;32mc:\\Users\\Lennart\\Tools\\Anaconda3\\envs\\concept_drift\\lib\\site-packages\\scipy\\stats\\stats.py:6723\u001b[0m, in \u001b[0;36mpower_divergence\u001b[1;34m(f_obs, f_exp, ddof, axis, lambda_)\u001b[0m\n\u001b[0;32m   6721\u001b[0m num_obs \u001b[39m=\u001b[39m _count(terms, axis\u001b[39m=\u001b[39maxis)\n\u001b[0;32m   6722\u001b[0m ddof \u001b[39m=\u001b[39m asarray(ddof)\n\u001b[1;32m-> 6723\u001b[0m p \u001b[39m=\u001b[39m distributions\u001b[39m.\u001b[39;49mchi2\u001b[39m.\u001b[39;49msf(stat, num_obs \u001b[39m-\u001b[39;49m \u001b[39m1\u001b[39;49m \u001b[39m-\u001b[39;49m ddof)\n\u001b[0;32m   6725\u001b[0m \u001b[39mreturn\u001b[39;00m Power_divergenceResult(stat, p)\n",
      "File \u001b[1;32mc:\\Users\\Lennart\\Tools\\Anaconda3\\envs\\concept_drift\\lib\\site-packages\\scipy\\stats\\_distn_infrastructure.py:2042\u001b[0m, in \u001b[0;36mrv_continuous.sf\u001b[1;34m(self, x, *args, **kwds)\u001b[0m\n\u001b[0;32m   2040\u001b[0m cond \u001b[39m=\u001b[39m cond0 \u001b[39m&\u001b[39m cond1\n\u001b[0;32m   2041\u001b[0m output \u001b[39m=\u001b[39m zeros(shape(cond), dtyp)\n\u001b[1;32m-> 2042\u001b[0m place(output, (\u001b[39m1\u001b[39;49m\u001b[39m-\u001b[39;49mcond0)\u001b[39m+\u001b[39;49mnp\u001b[39m.\u001b[39;49misnan(x), \u001b[39mself\u001b[39;49m\u001b[39m.\u001b[39;49mbadvalue)\n\u001b[0;32m   2043\u001b[0m place(output, cond2, \u001b[39m1.0\u001b[39m)\n\u001b[0;32m   2044\u001b[0m \u001b[39mif\u001b[39;00m np\u001b[39m.\u001b[39many(cond):\n",
      "File \u001b[1;32m<__array_function__ internals>:5\u001b[0m, in \u001b[0;36mplace\u001b[1;34m(*args, **kwargs)\u001b[0m\n",
      "File \u001b[1;32mc:\\Users\\Lennart\\Tools\\Anaconda3\\envs\\concept_drift\\lib\\site-packages\\numpy\\lib\\function_base.py:1798\u001b[0m, in \u001b[0;36mplace\u001b[1;34m(arr, mask, vals)\u001b[0m\n\u001b[0;32m   1794\u001b[0m \u001b[39mif\u001b[39;00m \u001b[39mnot\u001b[39;00m \u001b[39misinstance\u001b[39m(arr, np\u001b[39m.\u001b[39mndarray):\n\u001b[0;32m   1795\u001b[0m     \u001b[39mraise\u001b[39;00m \u001b[39mTypeError\u001b[39;00m(\u001b[39m\"\u001b[39m\u001b[39margument 1 must be numpy.ndarray, \u001b[39m\u001b[39m\"\u001b[39m\n\u001b[0;32m   1796\u001b[0m                     \u001b[39m\"\u001b[39m\u001b[39mnot \u001b[39m\u001b[39m{name}\u001b[39;00m\u001b[39m\"\u001b[39m\u001b[39m.\u001b[39mformat(name\u001b[39m=\u001b[39m\u001b[39mtype\u001b[39m(arr)\u001b[39m.\u001b[39m\u001b[39m__name__\u001b[39m))\n\u001b[1;32m-> 1798\u001b[0m \u001b[39mreturn\u001b[39;00m _insert(arr, mask, vals)\n",
      "\u001b[1;31mKeyboardInterrupt\u001b[0m: "
     ]
    }
   ],
   "source": [
    "# iterate all datasets with all settings\n",
    "for i, event_log_file_path in enumerate(event_log_file_paths):\n",
    "    if limit_iterations is not None:\n",
    "        if i >= limit_iterations: break\n",
    "    \n",
    "    print(f'Event log {i}')\n",
    "    event_log = xes_importer.apply(event_log_file_path)\n",
    "\n",
    "    for configuration in configurations:\n",
    "        print(f'\\nEvaluating configuration {configuration}')\n",
    "        \n",
    "        start_time = time.time()\n",
    "\n",
    "        window_generator_type = configuration['window_generator_type']\n",
    "        window_size = configuration['window_size']\n",
    "        population_comparer = configuration['population_comparer']\n",
    "        threshold = configuration['threshold']\n",
    "        max_distance = configuration['max_distance']\n",
    "        slide_by = configuration['slide_by']\n",
    "        proportional_phi = configuration['proportional_phi']\n",
    "        \n",
    "        window_generator = None\n",
    "        # build the secondary drift detector\n",
    "        if window_generator_type == 'fixed':\n",
    "            window_generator = windowing.FixedWG(window_size, slide_by=slide_by)\n",
    "        elif window_generator_type == 'adaptive':\n",
    "            window_generator = windowing.AdaptiveWG(window_size, slide_by=slide_by)\n",
    "        \n",
    "        phi = math.ceil(proportional_phi * window_size / slide_by)\n",
    "        \n",
    "        change_point_extractor = change_point_extraction.PhiFilterCPE(threshold, phi, rho)\n",
    "\n",
    "        secondary_drift_detectors = drift_detection.get_all_attribute_drift_detectors(event_log,\n",
    "                                                                            window_generator, \n",
    "                                                                            population_comparer,\n",
    "                                                                            change_point_extractor=change_point_extractor,\n",
    "                                                                            exclude_attributes=exclude_attributes)\n",
    "        \n",
    "        drift_explainer = drift_explanation.DriftExplainer(primary_process_drift_detector, secondary_drift_detectors)\n",
    "\n",
    "        # calculate the drift explanations\n",
    "        drift_explanation_result = drift_explainer.get_possible_drift_explanations(event_log, max_distance)\n",
    "        \n",
    "        # evaluate the change point explanations\n",
    "        observed_drift_point_explanations_simple =  helper.get_simple_change_point_list_from_dictonary(drift_explanation_result.possible_drift_explanations)    \n",
    "\n",
    "        result = evaluation.evaluate_explanations(true_change_point_explanations, observed_drift_point_explanations_simple, max_distance=window_size)\n",
    "        \n",
    "        # get end time\n",
    "        end_time = time.time()\n",
    "        # get the compute time and write into results\n",
    "        compute_time = end_time - start_time\n",
    "        \n",
    "        # write the configuration results to file\n",
    "        helper.append_config_results(results_path, event_log_file_path, configuration, result, compute_time)"
   ]
  },
  {
   "cell_type": "code",
   "execution_count": null,
   "id": "8963b369",
   "metadata": {},
   "outputs": [],
   "source": [
    "import winsound\n",
    "for i in range(1, 10):\n",
    "    winsound.Beep(500, 200)"
   ]
  }
 ],
 "metadata": {
  "interpreter": {
   "hash": "3586acef3f5f923af4b971ce05811a36e3973e810e5c25f95daaeb0237b948ae"
  },
  "kernelspec": {
   "display_name": "Python 3.10.4 ('concept_drift')",
   "language": "python",
   "name": "python3"
  },
  "language_info": {
   "codemirror_mode": {
    "name": "ipython",
    "version": 3
   },
   "file_extension": ".py",
   "mimetype": "text/x-python",
   "name": "python",
   "nbconvert_exporter": "python",
   "pygments_lexer": "ipython3",
   "version": "3.10.4"
  }
 },
 "nbformat": 4,
 "nbformat_minor": 5
}
