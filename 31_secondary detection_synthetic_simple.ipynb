{
 "cells": [
  {
   "cell_type": "markdown",
   "id": "89d46962-50d0-4a78-9552-08db7fa8e639",
   "metadata": {
    "tags": []
   },
   "source": [
    "# Secondary Drift Detection for Simple Configuration\n",
    "\n",
    "## Setup\n",
    "### Imports"
   ]
  },
  {
   "cell_type": "code",
   "execution_count": 10,
   "id": "9df7d0f7-1aa4-4c89-9392-3376586554d3",
   "metadata": {},
   "outputs": [],
   "source": [
    "# imports\n",
    "import helper\n",
    "from pm4py.objects.log.importer.xes import importer as xes_importer\n",
    "\n",
    "from processdrift.framework import drift_detection\n",
    "from processdrift.framework import drift_explanation\n",
    "from processdrift.framework import feature_extraction\n",
    "from processdrift.framework import pop_comparison\n",
    "from processdrift.framework import windowing\n",
    "from processdrift.framework import evaluation\n",
    "\n",
    "import time\n",
    "import os\n",
    "import math"
   ]
  },
  {
   "cell_type": "markdown",
   "id": "33d7ccb6",
   "metadata": {},
   "source": [
    "### Data settings and event log loading"
   ]
  },
  {
   "cell_type": "code",
   "execution_count": 11,
   "id": "1155596b",
   "metadata": {},
   "outputs": [],
   "source": [
    "input_path = r'data\\synthetic\\attribute_drift\\sudden_3_attribute_values\\10000'\n",
    "size = 10000\n",
    "number_relevant_attributes = 5\n",
    "rho = 1\n",
    "\n",
    "results_path = r'results\\sudden_3_attribute_values\\10000\\100_iter_results.csv'\n",
    "delete_if_results_exists = False\n",
    "\n",
    "window_generator_types = ['adaptive']\n",
    "window_sizes= [150] # [100, 200]\n",
    "population_comparers = [pop_comparison.GTestComparer()] #[pop_comparison.ChiSquaredComparer(), pop_comparison.KSTestPopComparer()] # pop_comparison.HellingerDistanceComparer()]# pop_comparison.KSTestPopComparer(), pop_comparison.ChiSquaredComparer()]\n",
    "thresholds = [0.05]\n",
    "max_distances = [300]\n",
    "slide_bys = [1, 15, 20, 25, 30] # , 10]\n",
    "phis_window_slide_bys = [1]\n",
    "\n",
    "# always exclude the concept name as an attribute\n",
    "exclude_attributes = ['concept:name']\n",
    "\n",
    "# limit iterations\n",
    "limit_iterations = None"
   ]
  },
  {
   "cell_type": "code",
   "execution_count": 12,
   "id": "1b39b77e",
   "metadata": {},
   "outputs": [],
   "source": [
    "# get the true change points and true change point explanations\n",
    "true_change_points = helper.get_change_points_maardji_et_al_2013(10000)\n",
    "true_change_point_explanations = [(true_change_points[i], f'relevant_attribute_{i+1:02d}') for i in range(number_relevant_attributes)]"
   ]
  },
  {
   "cell_type": "code",
   "execution_count": 13,
   "id": "2525ddc9",
   "metadata": {},
   "outputs": [],
   "source": [
    "# load all event logs from the input path\n",
    "event_log_file_paths = helper.get_all_files_in_dir(input_path, include_files_in_subdirs=True)"
   ]
  },
  {
   "cell_type": "code",
   "execution_count": 14,
   "id": "5685f73f",
   "metadata": {},
   "outputs": [],
   "source": [
    "# primary drift detector stays always the same\n",
    "primary_process_drift_detector = drift_detection.DriftDetectorTrueKnown(true_change_points)"
   ]
  },
  {
   "cell_type": "code",
   "execution_count": 15,
   "id": "98d02474",
   "metadata": {},
   "outputs": [],
   "source": [
    "# build all possible configuration:\n",
    "configurations = []\n",
    "for window_generator_type in window_generator_types:\n",
    "    for window_size in window_sizes:\n",
    "        for population_comparer in population_comparers:\n",
    "            for threshold in thresholds:\n",
    "                for max_distance in max_distances:\n",
    "                    for slide_by in slide_bys:\n",
    "                        for phis_window_slide_by in phis_window_slide_bys:\n",
    "                            configurations.append({\n",
    "                                'window_generator_type': window_generator_type,\n",
    "                                'window_size': window_size,\n",
    "                                'population_comparer': population_comparer,\n",
    "                                'threshold': threshold,\n",
    "                                'max_distance': max_distance,\n",
    "                                'slide_by': slide_by,\n",
    "                                'phis_window_slide_by': phis_window_slide_by\n",
    "                            })"
   ]
  },
  {
   "cell_type": "code",
   "execution_count": 16,
   "id": "eb7cfde7",
   "metadata": {},
   "outputs": [],
   "source": [
    "# delete results file if exists\n",
    "if delete_if_results_exists:\n",
    "    if os.path.exists(results_path):\n",
    "        os.remove(results_path)"
   ]
  },
  {
   "cell_type": "code",
   "execution_count": 17,
   "id": "ceea0560",
   "metadata": {},
   "outputs": [
    {
     "name": "stdout",
     "output_type": "stream",
     "text": [
      "Event log 0\n"
     ]
    },
    {
     "name": "stderr",
     "output_type": "stream",
     "text": [
      "parsing log, completed traces :: 100%|██████████| 10000/10000 [00:08<00:00, 1147.41it/s]\n"
     ]
    },
    {
     "name": "stdout",
     "output_type": "stream",
     "text": [
      "\n",
      "Evaluating configuration {'window_generator_type': 'adaptive', 'window_size': 150, 'population_comparer': GTestComparer, 'threshold': 0.05, 'max_distance': 300, 'slide_by': 1, 'phis_window_slide_by': 1}\n",
      "\n",
      "Evaluating configuration {'window_generator_type': 'adaptive', 'window_size': 150, 'population_comparer': GTestComparer, 'threshold': 0.05, 'max_distance': 300, 'slide_by': 15, 'phis_window_slide_by': 1}\n",
      "\n",
      "Evaluating configuration {'window_generator_type': 'adaptive', 'window_size': 150, 'population_comparer': GTestComparer, 'threshold': 0.05, 'max_distance': 300, 'slide_by': 20, 'phis_window_slide_by': 1}\n",
      "\n",
      "Evaluating configuration {'window_generator_type': 'adaptive', 'window_size': 150, 'population_comparer': GTestComparer, 'threshold': 0.05, 'max_distance': 300, 'slide_by': 25, 'phis_window_slide_by': 1}\n",
      "\n",
      "Evaluating configuration {'window_generator_type': 'adaptive', 'window_size': 150, 'population_comparer': GTestComparer, 'threshold': 0.05, 'max_distance': 300, 'slide_by': 30, 'phis_window_slide_by': 1}\n",
      "Event log 1\n"
     ]
    },
    {
     "name": "stderr",
     "output_type": "stream",
     "text": [
      "parsing log, completed traces :: 100%|██████████| 10000/10000 [00:07<00:00, 1298.42it/s]\n"
     ]
    },
    {
     "name": "stdout",
     "output_type": "stream",
     "text": [
      "\n",
      "Evaluating configuration {'window_generator_type': 'adaptive', 'window_size': 150, 'population_comparer': GTestComparer, 'threshold': 0.05, 'max_distance': 300, 'slide_by': 1, 'phis_window_slide_by': 1}\n",
      "\n",
      "Evaluating configuration {'window_generator_type': 'adaptive', 'window_size': 150, 'population_comparer': GTestComparer, 'threshold': 0.05, 'max_distance': 300, 'slide_by': 15, 'phis_window_slide_by': 1}\n",
      "\n",
      "Evaluating configuration {'window_generator_type': 'adaptive', 'window_size': 150, 'population_comparer': GTestComparer, 'threshold': 0.05, 'max_distance': 300, 'slide_by': 20, 'phis_window_slide_by': 1}\n",
      "\n",
      "Evaluating configuration {'window_generator_type': 'adaptive', 'window_size': 150, 'population_comparer': GTestComparer, 'threshold': 0.05, 'max_distance': 300, 'slide_by': 25, 'phis_window_slide_by': 1}\n",
      "\n",
      "Evaluating configuration {'window_generator_type': 'adaptive', 'window_size': 150, 'population_comparer': GTestComparer, 'threshold': 0.05, 'max_distance': 300, 'slide_by': 30, 'phis_window_slide_by': 1}\n",
      "Event log 2\n"
     ]
    },
    {
     "name": "stderr",
     "output_type": "stream",
     "text": [
      "parsing log, completed traces :: 100%|██████████| 10000/10000 [00:07<00:00, 1259.15it/s]\n"
     ]
    },
    {
     "name": "stdout",
     "output_type": "stream",
     "text": [
      "\n",
      "Evaluating configuration {'window_generator_type': 'adaptive', 'window_size': 150, 'population_comparer': GTestComparer, 'threshold': 0.05, 'max_distance': 300, 'slide_by': 1, 'phis_window_slide_by': 1}\n",
      "\n",
      "Evaluating configuration {'window_generator_type': 'adaptive', 'window_size': 150, 'population_comparer': GTestComparer, 'threshold': 0.05, 'max_distance': 300, 'slide_by': 15, 'phis_window_slide_by': 1}\n",
      "\n",
      "Evaluating configuration {'window_generator_type': 'adaptive', 'window_size': 150, 'population_comparer': GTestComparer, 'threshold': 0.05, 'max_distance': 300, 'slide_by': 20, 'phis_window_slide_by': 1}\n",
      "\n",
      "Evaluating configuration {'window_generator_type': 'adaptive', 'window_size': 150, 'population_comparer': GTestComparer, 'threshold': 0.05, 'max_distance': 300, 'slide_by': 25, 'phis_window_slide_by': 1}\n",
      "\n",
      "Evaluating configuration {'window_generator_type': 'adaptive', 'window_size': 150, 'population_comparer': GTestComparer, 'threshold': 0.05, 'max_distance': 300, 'slide_by': 30, 'phis_window_slide_by': 1}\n",
      "Event log 3\n"
     ]
    },
    {
     "name": "stderr",
     "output_type": "stream",
     "text": [
      "parsing log, completed traces :: 100%|██████████| 10000/10000 [00:10<00:00, 956.40it/s]\n"
     ]
    },
    {
     "name": "stdout",
     "output_type": "stream",
     "text": [
      "\n",
      "Evaluating configuration {'window_generator_type': 'adaptive', 'window_size': 150, 'population_comparer': GTestComparer, 'threshold': 0.05, 'max_distance': 300, 'slide_by': 1, 'phis_window_slide_by': 1}\n",
      "\n",
      "Evaluating configuration {'window_generator_type': 'adaptive', 'window_size': 150, 'population_comparer': GTestComparer, 'threshold': 0.05, 'max_distance': 300, 'slide_by': 15, 'phis_window_slide_by': 1}\n",
      "\n",
      "Evaluating configuration {'window_generator_type': 'adaptive', 'window_size': 150, 'population_comparer': GTestComparer, 'threshold': 0.05, 'max_distance': 300, 'slide_by': 20, 'phis_window_slide_by': 1}\n",
      "\n",
      "Evaluating configuration {'window_generator_type': 'adaptive', 'window_size': 150, 'population_comparer': GTestComparer, 'threshold': 0.05, 'max_distance': 300, 'slide_by': 25, 'phis_window_slide_by': 1}\n",
      "\n",
      "Evaluating configuration {'window_generator_type': 'adaptive', 'window_size': 150, 'population_comparer': GTestComparer, 'threshold': 0.05, 'max_distance': 300, 'slide_by': 30, 'phis_window_slide_by': 1}\n",
      "Event log 4\n"
     ]
    },
    {
     "name": "stderr",
     "output_type": "stream",
     "text": [
      "parsing log, completed traces :: 100%|██████████| 10000/10000 [00:07<00:00, 1262.75it/s]\n"
     ]
    },
    {
     "name": "stdout",
     "output_type": "stream",
     "text": [
      "\n",
      "Evaluating configuration {'window_generator_type': 'adaptive', 'window_size': 150, 'population_comparer': GTestComparer, 'threshold': 0.05, 'max_distance': 300, 'slide_by': 1, 'phis_window_slide_by': 1}\n",
      "\n",
      "Evaluating configuration {'window_generator_type': 'adaptive', 'window_size': 150, 'population_comparer': GTestComparer, 'threshold': 0.05, 'max_distance': 300, 'slide_by': 15, 'phis_window_slide_by': 1}\n",
      "\n",
      "Evaluating configuration {'window_generator_type': 'adaptive', 'window_size': 150, 'population_comparer': GTestComparer, 'threshold': 0.05, 'max_distance': 300, 'slide_by': 20, 'phis_window_slide_by': 1}\n",
      "\n",
      "Evaluating configuration {'window_generator_type': 'adaptive', 'window_size': 150, 'population_comparer': GTestComparer, 'threshold': 0.05, 'max_distance': 300, 'slide_by': 25, 'phis_window_slide_by': 1}\n",
      "\n",
      "Evaluating configuration {'window_generator_type': 'adaptive', 'window_size': 150, 'population_comparer': GTestComparer, 'threshold': 0.05, 'max_distance': 300, 'slide_by': 30, 'phis_window_slide_by': 1}\n",
      "Event log 5\n"
     ]
    },
    {
     "name": "stderr",
     "output_type": "stream",
     "text": [
      "parsing log, completed traces :: 100%|██████████| 10000/10000 [00:10<00:00, 962.97it/s]\n"
     ]
    },
    {
     "name": "stdout",
     "output_type": "stream",
     "text": [
      "\n",
      "Evaluating configuration {'window_generator_type': 'adaptive', 'window_size': 150, 'population_comparer': GTestComparer, 'threshold': 0.05, 'max_distance': 300, 'slide_by': 1, 'phis_window_slide_by': 1}\n",
      "\n",
      "Evaluating configuration {'window_generator_type': 'adaptive', 'window_size': 150, 'population_comparer': GTestComparer, 'threshold': 0.05, 'max_distance': 300, 'slide_by': 15, 'phis_window_slide_by': 1}\n",
      "\n",
      "Evaluating configuration {'window_generator_type': 'adaptive', 'window_size': 150, 'population_comparer': GTestComparer, 'threshold': 0.05, 'max_distance': 300, 'slide_by': 20, 'phis_window_slide_by': 1}\n",
      "\n",
      "Evaluating configuration {'window_generator_type': 'adaptive', 'window_size': 150, 'population_comparer': GTestComparer, 'threshold': 0.05, 'max_distance': 300, 'slide_by': 25, 'phis_window_slide_by': 1}\n",
      "\n",
      "Evaluating configuration {'window_generator_type': 'adaptive', 'window_size': 150, 'population_comparer': GTestComparer, 'threshold': 0.05, 'max_distance': 300, 'slide_by': 30, 'phis_window_slide_by': 1}\n",
      "Event log 6\n"
     ]
    },
    {
     "name": "stderr",
     "output_type": "stream",
     "text": [
      "parsing log, completed traces :: 100%|██████████| 10000/10000 [00:09<00:00, 1096.00it/s]\n"
     ]
    },
    {
     "name": "stdout",
     "output_type": "stream",
     "text": [
      "\n",
      "Evaluating configuration {'window_generator_type': 'adaptive', 'window_size': 150, 'population_comparer': GTestComparer, 'threshold': 0.05, 'max_distance': 300, 'slide_by': 1, 'phis_window_slide_by': 1}\n",
      "\n",
      "Evaluating configuration {'window_generator_type': 'adaptive', 'window_size': 150, 'population_comparer': GTestComparer, 'threshold': 0.05, 'max_distance': 300, 'slide_by': 15, 'phis_window_slide_by': 1}\n",
      "\n",
      "Evaluating configuration {'window_generator_type': 'adaptive', 'window_size': 150, 'population_comparer': GTestComparer, 'threshold': 0.05, 'max_distance': 300, 'slide_by': 20, 'phis_window_slide_by': 1}\n",
      "\n",
      "Evaluating configuration {'window_generator_type': 'adaptive', 'window_size': 150, 'population_comparer': GTestComparer, 'threshold': 0.05, 'max_distance': 300, 'slide_by': 25, 'phis_window_slide_by': 1}\n",
      "\n",
      "Evaluating configuration {'window_generator_type': 'adaptive', 'window_size': 150, 'population_comparer': GTestComparer, 'threshold': 0.05, 'max_distance': 300, 'slide_by': 30, 'phis_window_slide_by': 1}\n",
      "Event log 7\n"
     ]
    },
    {
     "name": "stderr",
     "output_type": "stream",
     "text": [
      "parsing log, completed traces :: 100%|██████████| 10000/10000 [00:07<00:00, 1292.05it/s]\n"
     ]
    },
    {
     "name": "stdout",
     "output_type": "stream",
     "text": [
      "\n",
      "Evaluating configuration {'window_generator_type': 'adaptive', 'window_size': 150, 'population_comparer': GTestComparer, 'threshold': 0.05, 'max_distance': 300, 'slide_by': 1, 'phis_window_slide_by': 1}\n",
      "\n",
      "Evaluating configuration {'window_generator_type': 'adaptive', 'window_size': 150, 'population_comparer': GTestComparer, 'threshold': 0.05, 'max_distance': 300, 'slide_by': 15, 'phis_window_slide_by': 1}\n",
      "\n",
      "Evaluating configuration {'window_generator_type': 'adaptive', 'window_size': 150, 'population_comparer': GTestComparer, 'threshold': 0.05, 'max_distance': 300, 'slide_by': 20, 'phis_window_slide_by': 1}\n",
      "\n",
      "Evaluating configuration {'window_generator_type': 'adaptive', 'window_size': 150, 'population_comparer': GTestComparer, 'threshold': 0.05, 'max_distance': 300, 'slide_by': 25, 'phis_window_slide_by': 1}\n",
      "\n",
      "Evaluating configuration {'window_generator_type': 'adaptive', 'window_size': 150, 'population_comparer': GTestComparer, 'threshold': 0.05, 'max_distance': 300, 'slide_by': 30, 'phis_window_slide_by': 1}\n",
      "Event log 8\n"
     ]
    },
    {
     "name": "stderr",
     "output_type": "stream",
     "text": [
      "parsing log, completed traces :: 100%|██████████| 10000/10000 [00:08<00:00, 1245.74it/s]\n"
     ]
    },
    {
     "name": "stdout",
     "output_type": "stream",
     "text": [
      "\n",
      "Evaluating configuration {'window_generator_type': 'adaptive', 'window_size': 150, 'population_comparer': GTestComparer, 'threshold': 0.05, 'max_distance': 300, 'slide_by': 1, 'phis_window_slide_by': 1}\n",
      "\n",
      "Evaluating configuration {'window_generator_type': 'adaptive', 'window_size': 150, 'population_comparer': GTestComparer, 'threshold': 0.05, 'max_distance': 300, 'slide_by': 15, 'phis_window_slide_by': 1}\n",
      "\n",
      "Evaluating configuration {'window_generator_type': 'adaptive', 'window_size': 150, 'population_comparer': GTestComparer, 'threshold': 0.05, 'max_distance': 300, 'slide_by': 20, 'phis_window_slide_by': 1}\n",
      "\n",
      "Evaluating configuration {'window_generator_type': 'adaptive', 'window_size': 150, 'population_comparer': GTestComparer, 'threshold': 0.05, 'max_distance': 300, 'slide_by': 25, 'phis_window_slide_by': 1}\n",
      "\n",
      "Evaluating configuration {'window_generator_type': 'adaptive', 'window_size': 150, 'population_comparer': GTestComparer, 'threshold': 0.05, 'max_distance': 300, 'slide_by': 30, 'phis_window_slide_by': 1}\n",
      "Event log 9\n"
     ]
    },
    {
     "name": "stderr",
     "output_type": "stream",
     "text": [
      "parsing log, completed traces :: 100%|██████████| 10000/10000 [00:08<00:00, 1200.96it/s]\n"
     ]
    },
    {
     "name": "stdout",
     "output_type": "stream",
     "text": [
      "\n",
      "Evaluating configuration {'window_generator_type': 'adaptive', 'window_size': 150, 'population_comparer': GTestComparer, 'threshold': 0.05, 'max_distance': 300, 'slide_by': 1, 'phis_window_slide_by': 1}\n",
      "\n",
      "Evaluating configuration {'window_generator_type': 'adaptive', 'window_size': 150, 'population_comparer': GTestComparer, 'threshold': 0.05, 'max_distance': 300, 'slide_by': 15, 'phis_window_slide_by': 1}\n",
      "\n",
      "Evaluating configuration {'window_generator_type': 'adaptive', 'window_size': 150, 'population_comparer': GTestComparer, 'threshold': 0.05, 'max_distance': 300, 'slide_by': 20, 'phis_window_slide_by': 1}\n",
      "\n",
      "Evaluating configuration {'window_generator_type': 'adaptive', 'window_size': 150, 'population_comparer': GTestComparer, 'threshold': 0.05, 'max_distance': 300, 'slide_by': 25, 'phis_window_slide_by': 1}\n",
      "\n",
      "Evaluating configuration {'window_generator_type': 'adaptive', 'window_size': 150, 'population_comparer': GTestComparer, 'threshold': 0.05, 'max_distance': 300, 'slide_by': 30, 'phis_window_slide_by': 1}\n",
      "Event log 10\n"
     ]
    },
    {
     "name": "stderr",
     "output_type": "stream",
     "text": [
      "parsing log, completed traces :: 100%|██████████| 10000/10000 [00:08<00:00, 1204.44it/s]\n"
     ]
    },
    {
     "name": "stdout",
     "output_type": "stream",
     "text": [
      "\n",
      "Evaluating configuration {'window_generator_type': 'adaptive', 'window_size': 150, 'population_comparer': GTestComparer, 'threshold': 0.05, 'max_distance': 300, 'slide_by': 1, 'phis_window_slide_by': 1}\n",
      "\n",
      "Evaluating configuration {'window_generator_type': 'adaptive', 'window_size': 150, 'population_comparer': GTestComparer, 'threshold': 0.05, 'max_distance': 300, 'slide_by': 15, 'phis_window_slide_by': 1}\n",
      "\n",
      "Evaluating configuration {'window_generator_type': 'adaptive', 'window_size': 150, 'population_comparer': GTestComparer, 'threshold': 0.05, 'max_distance': 300, 'slide_by': 20, 'phis_window_slide_by': 1}\n",
      "\n",
      "Evaluating configuration {'window_generator_type': 'adaptive', 'window_size': 150, 'population_comparer': GTestComparer, 'threshold': 0.05, 'max_distance': 300, 'slide_by': 25, 'phis_window_slide_by': 1}\n",
      "\n",
      "Evaluating configuration {'window_generator_type': 'adaptive', 'window_size': 150, 'population_comparer': GTestComparer, 'threshold': 0.05, 'max_distance': 300, 'slide_by': 30, 'phis_window_slide_by': 1}\n",
      "Event log 11\n"
     ]
    },
    {
     "name": "stderr",
     "output_type": "stream",
     "text": [
      "parsing log, completed traces :: 100%|██████████| 10000/10000 [00:07<00:00, 1266.27it/s]\n"
     ]
    },
    {
     "name": "stdout",
     "output_type": "stream",
     "text": [
      "\n",
      "Evaluating configuration {'window_generator_type': 'adaptive', 'window_size': 150, 'population_comparer': GTestComparer, 'threshold': 0.05, 'max_distance': 300, 'slide_by': 1, 'phis_window_slide_by': 1}\n",
      "\n",
      "Evaluating configuration {'window_generator_type': 'adaptive', 'window_size': 150, 'population_comparer': GTestComparer, 'threshold': 0.05, 'max_distance': 300, 'slide_by': 15, 'phis_window_slide_by': 1}\n",
      "\n",
      "Evaluating configuration {'window_generator_type': 'adaptive', 'window_size': 150, 'population_comparer': GTestComparer, 'threshold': 0.05, 'max_distance': 300, 'slide_by': 20, 'phis_window_slide_by': 1}\n",
      "\n",
      "Evaluating configuration {'window_generator_type': 'adaptive', 'window_size': 150, 'population_comparer': GTestComparer, 'threshold': 0.05, 'max_distance': 300, 'slide_by': 25, 'phis_window_slide_by': 1}\n",
      "\n",
      "Evaluating configuration {'window_generator_type': 'adaptive', 'window_size': 150, 'population_comparer': GTestComparer, 'threshold': 0.05, 'max_distance': 300, 'slide_by': 30, 'phis_window_slide_by': 1}\n",
      "Event log 12\n"
     ]
    },
    {
     "name": "stderr",
     "output_type": "stream",
     "text": [
      "parsing log, completed traces :: 100%|██████████| 10000/10000 [00:08<00:00, 1236.75it/s]\n"
     ]
    },
    {
     "name": "stdout",
     "output_type": "stream",
     "text": [
      "\n",
      "Evaluating configuration {'window_generator_type': 'adaptive', 'window_size': 150, 'population_comparer': GTestComparer, 'threshold': 0.05, 'max_distance': 300, 'slide_by': 1, 'phis_window_slide_by': 1}\n",
      "\n",
      "Evaluating configuration {'window_generator_type': 'adaptive', 'window_size': 150, 'population_comparer': GTestComparer, 'threshold': 0.05, 'max_distance': 300, 'slide_by': 15, 'phis_window_slide_by': 1}\n",
      "\n",
      "Evaluating configuration {'window_generator_type': 'adaptive', 'window_size': 150, 'population_comparer': GTestComparer, 'threshold': 0.05, 'max_distance': 300, 'slide_by': 20, 'phis_window_slide_by': 1}\n",
      "\n",
      "Evaluating configuration {'window_generator_type': 'adaptive', 'window_size': 150, 'population_comparer': GTestComparer, 'threshold': 0.05, 'max_distance': 300, 'slide_by': 25, 'phis_window_slide_by': 1}\n",
      "\n",
      "Evaluating configuration {'window_generator_type': 'adaptive', 'window_size': 150, 'population_comparer': GTestComparer, 'threshold': 0.05, 'max_distance': 300, 'slide_by': 30, 'phis_window_slide_by': 1}\n",
      "Event log 13\n"
     ]
    },
    {
     "name": "stderr",
     "output_type": "stream",
     "text": [
      "parsing log, completed traces :: 100%|██████████| 10000/10000 [00:08<00:00, 1192.45it/s]\n"
     ]
    },
    {
     "name": "stdout",
     "output_type": "stream",
     "text": [
      "\n",
      "Evaluating configuration {'window_generator_type': 'adaptive', 'window_size': 150, 'population_comparer': GTestComparer, 'threshold': 0.05, 'max_distance': 300, 'slide_by': 1, 'phis_window_slide_by': 1}\n",
      "\n",
      "Evaluating configuration {'window_generator_type': 'adaptive', 'window_size': 150, 'population_comparer': GTestComparer, 'threshold': 0.05, 'max_distance': 300, 'slide_by': 15, 'phis_window_slide_by': 1}\n",
      "\n",
      "Evaluating configuration {'window_generator_type': 'adaptive', 'window_size': 150, 'population_comparer': GTestComparer, 'threshold': 0.05, 'max_distance': 300, 'slide_by': 20, 'phis_window_slide_by': 1}\n",
      "\n",
      "Evaluating configuration {'window_generator_type': 'adaptive', 'window_size': 150, 'population_comparer': GTestComparer, 'threshold': 0.05, 'max_distance': 300, 'slide_by': 25, 'phis_window_slide_by': 1}\n",
      "\n",
      "Evaluating configuration {'window_generator_type': 'adaptive', 'window_size': 150, 'population_comparer': GTestComparer, 'threshold': 0.05, 'max_distance': 300, 'slide_by': 30, 'phis_window_slide_by': 1}\n",
      "Event log 14\n"
     ]
    },
    {
     "name": "stderr",
     "output_type": "stream",
     "text": [
      "parsing log, completed traces :: 100%|██████████| 10000/10000 [00:07<00:00, 1272.33it/s]\n"
     ]
    },
    {
     "name": "stdout",
     "output_type": "stream",
     "text": [
      "\n",
      "Evaluating configuration {'window_generator_type': 'adaptive', 'window_size': 150, 'population_comparer': GTestComparer, 'threshold': 0.05, 'max_distance': 300, 'slide_by': 1, 'phis_window_slide_by': 1}\n",
      "\n",
      "Evaluating configuration {'window_generator_type': 'adaptive', 'window_size': 150, 'population_comparer': GTestComparer, 'threshold': 0.05, 'max_distance': 300, 'slide_by': 15, 'phis_window_slide_by': 1}\n",
      "\n",
      "Evaluating configuration {'window_generator_type': 'adaptive', 'window_size': 150, 'population_comparer': GTestComparer, 'threshold': 0.05, 'max_distance': 300, 'slide_by': 20, 'phis_window_slide_by': 1}\n",
      "\n",
      "Evaluating configuration {'window_generator_type': 'adaptive', 'window_size': 150, 'population_comparer': GTestComparer, 'threshold': 0.05, 'max_distance': 300, 'slide_by': 25, 'phis_window_slide_by': 1}\n",
      "\n",
      "Evaluating configuration {'window_generator_type': 'adaptive', 'window_size': 150, 'population_comparer': GTestComparer, 'threshold': 0.05, 'max_distance': 300, 'slide_by': 30, 'phis_window_slide_by': 1}\n",
      "Event log 15\n"
     ]
    },
    {
     "name": "stderr",
     "output_type": "stream",
     "text": [
      "parsing log, completed traces :: 100%|██████████| 10000/10000 [00:08<00:00, 1233.55it/s]\n"
     ]
    },
    {
     "name": "stdout",
     "output_type": "stream",
     "text": [
      "\n",
      "Evaluating configuration {'window_generator_type': 'adaptive', 'window_size': 150, 'population_comparer': GTestComparer, 'threshold': 0.05, 'max_distance': 300, 'slide_by': 1, 'phis_window_slide_by': 1}\n",
      "\n",
      "Evaluating configuration {'window_generator_type': 'adaptive', 'window_size': 150, 'population_comparer': GTestComparer, 'threshold': 0.05, 'max_distance': 300, 'slide_by': 15, 'phis_window_slide_by': 1}\n",
      "\n",
      "Evaluating configuration {'window_generator_type': 'adaptive', 'window_size': 150, 'population_comparer': GTestComparer, 'threshold': 0.05, 'max_distance': 300, 'slide_by': 20, 'phis_window_slide_by': 1}\n",
      "\n",
      "Evaluating configuration {'window_generator_type': 'adaptive', 'window_size': 150, 'population_comparer': GTestComparer, 'threshold': 0.05, 'max_distance': 300, 'slide_by': 25, 'phis_window_slide_by': 1}\n",
      "\n",
      "Evaluating configuration {'window_generator_type': 'adaptive', 'window_size': 150, 'population_comparer': GTestComparer, 'threshold': 0.05, 'max_distance': 300, 'slide_by': 30, 'phis_window_slide_by': 1}\n",
      "Event log 16\n"
     ]
    },
    {
     "name": "stderr",
     "output_type": "stream",
     "text": [
      "parsing log, completed traces :: 100%|██████████| 10000/10000 [00:08<00:00, 1165.03it/s]\n"
     ]
    },
    {
     "name": "stdout",
     "output_type": "stream",
     "text": [
      "\n",
      "Evaluating configuration {'window_generator_type': 'adaptive', 'window_size': 150, 'population_comparer': GTestComparer, 'threshold': 0.05, 'max_distance': 300, 'slide_by': 1, 'phis_window_slide_by': 1}\n",
      "\n",
      "Evaluating configuration {'window_generator_type': 'adaptive', 'window_size': 150, 'population_comparer': GTestComparer, 'threshold': 0.05, 'max_distance': 300, 'slide_by': 15, 'phis_window_slide_by': 1}\n",
      "\n",
      "Evaluating configuration {'window_generator_type': 'adaptive', 'window_size': 150, 'population_comparer': GTestComparer, 'threshold': 0.05, 'max_distance': 300, 'slide_by': 20, 'phis_window_slide_by': 1}\n",
      "\n",
      "Evaluating configuration {'window_generator_type': 'adaptive', 'window_size': 150, 'population_comparer': GTestComparer, 'threshold': 0.05, 'max_distance': 300, 'slide_by': 25, 'phis_window_slide_by': 1}\n",
      "\n",
      "Evaluating configuration {'window_generator_type': 'adaptive', 'window_size': 150, 'population_comparer': GTestComparer, 'threshold': 0.05, 'max_distance': 300, 'slide_by': 30, 'phis_window_slide_by': 1}\n",
      "Event log 17\n"
     ]
    },
    {
     "name": "stderr",
     "output_type": "stream",
     "text": [
      "parsing log, completed traces :: 100%|██████████| 10000/10000 [00:07<00:00, 1250.82it/s]\n"
     ]
    },
    {
     "name": "stdout",
     "output_type": "stream",
     "text": [
      "\n",
      "Evaluating configuration {'window_generator_type': 'adaptive', 'window_size': 150, 'population_comparer': GTestComparer, 'threshold': 0.05, 'max_distance': 300, 'slide_by': 1, 'phis_window_slide_by': 1}\n",
      "\n",
      "Evaluating configuration {'window_generator_type': 'adaptive', 'window_size': 150, 'population_comparer': GTestComparer, 'threshold': 0.05, 'max_distance': 300, 'slide_by': 15, 'phis_window_slide_by': 1}\n",
      "\n",
      "Evaluating configuration {'window_generator_type': 'adaptive', 'window_size': 150, 'population_comparer': GTestComparer, 'threshold': 0.05, 'max_distance': 300, 'slide_by': 20, 'phis_window_slide_by': 1}\n",
      "\n",
      "Evaluating configuration {'window_generator_type': 'adaptive', 'window_size': 150, 'population_comparer': GTestComparer, 'threshold': 0.05, 'max_distance': 300, 'slide_by': 25, 'phis_window_slide_by': 1}\n",
      "\n",
      "Evaluating configuration {'window_generator_type': 'adaptive', 'window_size': 150, 'population_comparer': GTestComparer, 'threshold': 0.05, 'max_distance': 300, 'slide_by': 30, 'phis_window_slide_by': 1}\n",
      "Event log 18\n"
     ]
    },
    {
     "name": "stderr",
     "output_type": "stream",
     "text": [
      "parsing log, completed traces :: 100%|██████████| 10000/10000 [00:08<00:00, 1214.24it/s]\n"
     ]
    },
    {
     "name": "stdout",
     "output_type": "stream",
     "text": [
      "\n",
      "Evaluating configuration {'window_generator_type': 'adaptive', 'window_size': 150, 'population_comparer': GTestComparer, 'threshold': 0.05, 'max_distance': 300, 'slide_by': 1, 'phis_window_slide_by': 1}\n",
      "\n",
      "Evaluating configuration {'window_generator_type': 'adaptive', 'window_size': 150, 'population_comparer': GTestComparer, 'threshold': 0.05, 'max_distance': 300, 'slide_by': 15, 'phis_window_slide_by': 1}\n",
      "\n",
      "Evaluating configuration {'window_generator_type': 'adaptive', 'window_size': 150, 'population_comparer': GTestComparer, 'threshold': 0.05, 'max_distance': 300, 'slide_by': 20, 'phis_window_slide_by': 1}\n",
      "\n",
      "Evaluating configuration {'window_generator_type': 'adaptive', 'window_size': 150, 'population_comparer': GTestComparer, 'threshold': 0.05, 'max_distance': 300, 'slide_by': 25, 'phis_window_slide_by': 1}\n",
      "\n",
      "Evaluating configuration {'window_generator_type': 'adaptive', 'window_size': 150, 'population_comparer': GTestComparer, 'threshold': 0.05, 'max_distance': 300, 'slide_by': 30, 'phis_window_slide_by': 1}\n",
      "Event log 19\n"
     ]
    },
    {
     "name": "stderr",
     "output_type": "stream",
     "text": [
      "parsing log, completed traces :: 100%|██████████| 10000/10000 [00:08<00:00, 1189.45it/s]\n"
     ]
    },
    {
     "name": "stdout",
     "output_type": "stream",
     "text": [
      "\n",
      "Evaluating configuration {'window_generator_type': 'adaptive', 'window_size': 150, 'population_comparer': GTestComparer, 'threshold': 0.05, 'max_distance': 300, 'slide_by': 1, 'phis_window_slide_by': 1}\n",
      "\n",
      "Evaluating configuration {'window_generator_type': 'adaptive', 'window_size': 150, 'population_comparer': GTestComparer, 'threshold': 0.05, 'max_distance': 300, 'slide_by': 15, 'phis_window_slide_by': 1}\n",
      "\n",
      "Evaluating configuration {'window_generator_type': 'adaptive', 'window_size': 150, 'population_comparer': GTestComparer, 'threshold': 0.05, 'max_distance': 300, 'slide_by': 20, 'phis_window_slide_by': 1}\n",
      "\n",
      "Evaluating configuration {'window_generator_type': 'adaptive', 'window_size': 150, 'population_comparer': GTestComparer, 'threshold': 0.05, 'max_distance': 300, 'slide_by': 25, 'phis_window_slide_by': 1}\n",
      "\n",
      "Evaluating configuration {'window_generator_type': 'adaptive', 'window_size': 150, 'population_comparer': GTestComparer, 'threshold': 0.05, 'max_distance': 300, 'slide_by': 30, 'phis_window_slide_by': 1}\n",
      "Event log 20\n"
     ]
    },
    {
     "name": "stderr",
     "output_type": "stream",
     "text": [
      "parsing log, completed traces :: 100%|██████████| 10000/10000 [00:07<00:00, 1260.31it/s]\n"
     ]
    },
    {
     "name": "stdout",
     "output_type": "stream",
     "text": [
      "\n",
      "Evaluating configuration {'window_generator_type': 'adaptive', 'window_size': 150, 'population_comparer': GTestComparer, 'threshold': 0.05, 'max_distance': 300, 'slide_by': 1, 'phis_window_slide_by': 1}\n",
      "\n",
      "Evaluating configuration {'window_generator_type': 'adaptive', 'window_size': 150, 'population_comparer': GTestComparer, 'threshold': 0.05, 'max_distance': 300, 'slide_by': 15, 'phis_window_slide_by': 1}\n",
      "\n",
      "Evaluating configuration {'window_generator_type': 'adaptive', 'window_size': 150, 'population_comparer': GTestComparer, 'threshold': 0.05, 'max_distance': 300, 'slide_by': 20, 'phis_window_slide_by': 1}\n",
      "\n",
      "Evaluating configuration {'window_generator_type': 'adaptive', 'window_size': 150, 'population_comparer': GTestComparer, 'threshold': 0.05, 'max_distance': 300, 'slide_by': 25, 'phis_window_slide_by': 1}\n",
      "\n",
      "Evaluating configuration {'window_generator_type': 'adaptive', 'window_size': 150, 'population_comparer': GTestComparer, 'threshold': 0.05, 'max_distance': 300, 'slide_by': 30, 'phis_window_slide_by': 1}\n",
      "Event log 21\n"
     ]
    },
    {
     "name": "stderr",
     "output_type": "stream",
     "text": [
      "parsing log, completed traces :: 100%|██████████| 10000/10000 [00:08<00:00, 1209.83it/s]\n"
     ]
    },
    {
     "name": "stdout",
     "output_type": "stream",
     "text": [
      "\n",
      "Evaluating configuration {'window_generator_type': 'adaptive', 'window_size': 150, 'population_comparer': GTestComparer, 'threshold': 0.05, 'max_distance': 300, 'slide_by': 1, 'phis_window_slide_by': 1}\n",
      "\n",
      "Evaluating configuration {'window_generator_type': 'adaptive', 'window_size': 150, 'population_comparer': GTestComparer, 'threshold': 0.05, 'max_distance': 300, 'slide_by': 15, 'phis_window_slide_by': 1}\n",
      "\n",
      "Evaluating configuration {'window_generator_type': 'adaptive', 'window_size': 150, 'population_comparer': GTestComparer, 'threshold': 0.05, 'max_distance': 300, 'slide_by': 20, 'phis_window_slide_by': 1}\n",
      "\n",
      "Evaluating configuration {'window_generator_type': 'adaptive', 'window_size': 150, 'population_comparer': GTestComparer, 'threshold': 0.05, 'max_distance': 300, 'slide_by': 25, 'phis_window_slide_by': 1}\n",
      "\n",
      "Evaluating configuration {'window_generator_type': 'adaptive', 'window_size': 150, 'population_comparer': GTestComparer, 'threshold': 0.05, 'max_distance': 300, 'slide_by': 30, 'phis_window_slide_by': 1}\n",
      "Event log 22\n"
     ]
    },
    {
     "name": "stderr",
     "output_type": "stream",
     "text": [
      "parsing log, completed traces :: 100%|██████████| 10000/10000 [00:08<00:00, 1183.88it/s]\n"
     ]
    },
    {
     "name": "stdout",
     "output_type": "stream",
     "text": [
      "\n",
      "Evaluating configuration {'window_generator_type': 'adaptive', 'window_size': 150, 'population_comparer': GTestComparer, 'threshold': 0.05, 'max_distance': 300, 'slide_by': 1, 'phis_window_slide_by': 1}\n",
      "\n",
      "Evaluating configuration {'window_generator_type': 'adaptive', 'window_size': 150, 'population_comparer': GTestComparer, 'threshold': 0.05, 'max_distance': 300, 'slide_by': 15, 'phis_window_slide_by': 1}\n",
      "\n",
      "Evaluating configuration {'window_generator_type': 'adaptive', 'window_size': 150, 'population_comparer': GTestComparer, 'threshold': 0.05, 'max_distance': 300, 'slide_by': 20, 'phis_window_slide_by': 1}\n",
      "\n",
      "Evaluating configuration {'window_generator_type': 'adaptive', 'window_size': 150, 'population_comparer': GTestComparer, 'threshold': 0.05, 'max_distance': 300, 'slide_by': 25, 'phis_window_slide_by': 1}\n",
      "\n",
      "Evaluating configuration {'window_generator_type': 'adaptive', 'window_size': 150, 'population_comparer': GTestComparer, 'threshold': 0.05, 'max_distance': 300, 'slide_by': 30, 'phis_window_slide_by': 1}\n",
      "Event log 23\n"
     ]
    },
    {
     "name": "stderr",
     "output_type": "stream",
     "text": [
      "parsing log, completed traces :: 100%|██████████| 10000/10000 [00:08<00:00, 1184.91it/s]\n"
     ]
    },
    {
     "name": "stdout",
     "output_type": "stream",
     "text": [
      "\n",
      "Evaluating configuration {'window_generator_type': 'adaptive', 'window_size': 150, 'population_comparer': GTestComparer, 'threshold': 0.05, 'max_distance': 300, 'slide_by': 1, 'phis_window_slide_by': 1}\n",
      "\n",
      "Evaluating configuration {'window_generator_type': 'adaptive', 'window_size': 150, 'population_comparer': GTestComparer, 'threshold': 0.05, 'max_distance': 300, 'slide_by': 15, 'phis_window_slide_by': 1}\n",
      "\n",
      "Evaluating configuration {'window_generator_type': 'adaptive', 'window_size': 150, 'population_comparer': GTestComparer, 'threshold': 0.05, 'max_distance': 300, 'slide_by': 20, 'phis_window_slide_by': 1}\n",
      "\n",
      "Evaluating configuration {'window_generator_type': 'adaptive', 'window_size': 150, 'population_comparer': GTestComparer, 'threshold': 0.05, 'max_distance': 300, 'slide_by': 25, 'phis_window_slide_by': 1}\n",
      "\n",
      "Evaluating configuration {'window_generator_type': 'adaptive', 'window_size': 150, 'population_comparer': GTestComparer, 'threshold': 0.05, 'max_distance': 300, 'slide_by': 30, 'phis_window_slide_by': 1}\n",
      "Event log 24\n"
     ]
    },
    {
     "name": "stderr",
     "output_type": "stream",
     "text": [
      "parsing log, completed traces :: 100%|██████████| 10000/10000 [00:08<00:00, 1229.84it/s]\n"
     ]
    },
    {
     "name": "stdout",
     "output_type": "stream",
     "text": [
      "\n",
      "Evaluating configuration {'window_generator_type': 'adaptive', 'window_size': 150, 'population_comparer': GTestComparer, 'threshold': 0.05, 'max_distance': 300, 'slide_by': 1, 'phis_window_slide_by': 1}\n",
      "\n",
      "Evaluating configuration {'window_generator_type': 'adaptive', 'window_size': 150, 'population_comparer': GTestComparer, 'threshold': 0.05, 'max_distance': 300, 'slide_by': 15, 'phis_window_slide_by': 1}\n",
      "\n",
      "Evaluating configuration {'window_generator_type': 'adaptive', 'window_size': 150, 'population_comparer': GTestComparer, 'threshold': 0.05, 'max_distance': 300, 'slide_by': 20, 'phis_window_slide_by': 1}\n",
      "\n",
      "Evaluating configuration {'window_generator_type': 'adaptive', 'window_size': 150, 'population_comparer': GTestComparer, 'threshold': 0.05, 'max_distance': 300, 'slide_by': 25, 'phis_window_slide_by': 1}\n",
      "\n",
      "Evaluating configuration {'window_generator_type': 'adaptive', 'window_size': 150, 'population_comparer': GTestComparer, 'threshold': 0.05, 'max_distance': 300, 'slide_by': 30, 'phis_window_slide_by': 1}\n",
      "Event log 25\n"
     ]
    },
    {
     "name": "stderr",
     "output_type": "stream",
     "text": [
      "parsing log, completed traces :: 100%|██████████| 10000/10000 [00:08<00:00, 1219.25it/s]\n"
     ]
    },
    {
     "name": "stdout",
     "output_type": "stream",
     "text": [
      "\n",
      "Evaluating configuration {'window_generator_type': 'adaptive', 'window_size': 150, 'population_comparer': GTestComparer, 'threshold': 0.05, 'max_distance': 300, 'slide_by': 1, 'phis_window_slide_by': 1}\n",
      "\n",
      "Evaluating configuration {'window_generator_type': 'adaptive', 'window_size': 150, 'population_comparer': GTestComparer, 'threshold': 0.05, 'max_distance': 300, 'slide_by': 15, 'phis_window_slide_by': 1}\n",
      "\n",
      "Evaluating configuration {'window_generator_type': 'adaptive', 'window_size': 150, 'population_comparer': GTestComparer, 'threshold': 0.05, 'max_distance': 300, 'slide_by': 20, 'phis_window_slide_by': 1}\n",
      "\n",
      "Evaluating configuration {'window_generator_type': 'adaptive', 'window_size': 150, 'population_comparer': GTestComparer, 'threshold': 0.05, 'max_distance': 300, 'slide_by': 25, 'phis_window_slide_by': 1}\n",
      "\n",
      "Evaluating configuration {'window_generator_type': 'adaptive', 'window_size': 150, 'population_comparer': GTestComparer, 'threshold': 0.05, 'max_distance': 300, 'slide_by': 30, 'phis_window_slide_by': 1}\n",
      "Event log 26\n"
     ]
    },
    {
     "name": "stderr",
     "output_type": "stream",
     "text": [
      "parsing log, completed traces :: 100%|██████████| 10000/10000 [00:08<00:00, 1166.15it/s]\n"
     ]
    },
    {
     "name": "stdout",
     "output_type": "stream",
     "text": [
      "\n",
      "Evaluating configuration {'window_generator_type': 'adaptive', 'window_size': 150, 'population_comparer': GTestComparer, 'threshold': 0.05, 'max_distance': 300, 'slide_by': 1, 'phis_window_slide_by': 1}\n",
      "\n",
      "Evaluating configuration {'window_generator_type': 'adaptive', 'window_size': 150, 'population_comparer': GTestComparer, 'threshold': 0.05, 'max_distance': 300, 'slide_by': 15, 'phis_window_slide_by': 1}\n",
      "\n",
      "Evaluating configuration {'window_generator_type': 'adaptive', 'window_size': 150, 'population_comparer': GTestComparer, 'threshold': 0.05, 'max_distance': 300, 'slide_by': 20, 'phis_window_slide_by': 1}\n",
      "\n",
      "Evaluating configuration {'window_generator_type': 'adaptive', 'window_size': 150, 'population_comparer': GTestComparer, 'threshold': 0.05, 'max_distance': 300, 'slide_by': 25, 'phis_window_slide_by': 1}\n",
      "\n",
      "Evaluating configuration {'window_generator_type': 'adaptive', 'window_size': 150, 'population_comparer': GTestComparer, 'threshold': 0.05, 'max_distance': 300, 'slide_by': 30, 'phis_window_slide_by': 1}\n",
      "Event log 27\n"
     ]
    },
    {
     "name": "stderr",
     "output_type": "stream",
     "text": [
      "parsing log, completed traces :: 100%|██████████| 10000/10000 [00:08<00:00, 1222.16it/s]\n"
     ]
    },
    {
     "name": "stdout",
     "output_type": "stream",
     "text": [
      "\n",
      "Evaluating configuration {'window_generator_type': 'adaptive', 'window_size': 150, 'population_comparer': GTestComparer, 'threshold': 0.05, 'max_distance': 300, 'slide_by': 1, 'phis_window_slide_by': 1}\n",
      "\n",
      "Evaluating configuration {'window_generator_type': 'adaptive', 'window_size': 150, 'population_comparer': GTestComparer, 'threshold': 0.05, 'max_distance': 300, 'slide_by': 15, 'phis_window_slide_by': 1}\n",
      "\n",
      "Evaluating configuration {'window_generator_type': 'adaptive', 'window_size': 150, 'population_comparer': GTestComparer, 'threshold': 0.05, 'max_distance': 300, 'slide_by': 20, 'phis_window_slide_by': 1}\n",
      "\n",
      "Evaluating configuration {'window_generator_type': 'adaptive', 'window_size': 150, 'population_comparer': GTestComparer, 'threshold': 0.05, 'max_distance': 300, 'slide_by': 25, 'phis_window_slide_by': 1}\n",
      "\n",
      "Evaluating configuration {'window_generator_type': 'adaptive', 'window_size': 150, 'population_comparer': GTestComparer, 'threshold': 0.05, 'max_distance': 300, 'slide_by': 30, 'phis_window_slide_by': 1}\n",
      "Event log 28\n"
     ]
    },
    {
     "name": "stderr",
     "output_type": "stream",
     "text": [
      "parsing log, completed traces :: 100%|██████████| 10000/10000 [00:08<00:00, 1220.48it/s]\n"
     ]
    },
    {
     "name": "stdout",
     "output_type": "stream",
     "text": [
      "\n",
      "Evaluating configuration {'window_generator_type': 'adaptive', 'window_size': 150, 'population_comparer': GTestComparer, 'threshold': 0.05, 'max_distance': 300, 'slide_by': 1, 'phis_window_slide_by': 1}\n",
      "\n",
      "Evaluating configuration {'window_generator_type': 'adaptive', 'window_size': 150, 'population_comparer': GTestComparer, 'threshold': 0.05, 'max_distance': 300, 'slide_by': 15, 'phis_window_slide_by': 1}\n",
      "\n",
      "Evaluating configuration {'window_generator_type': 'adaptive', 'window_size': 150, 'population_comparer': GTestComparer, 'threshold': 0.05, 'max_distance': 300, 'slide_by': 20, 'phis_window_slide_by': 1}\n",
      "\n",
      "Evaluating configuration {'window_generator_type': 'adaptive', 'window_size': 150, 'population_comparer': GTestComparer, 'threshold': 0.05, 'max_distance': 300, 'slide_by': 25, 'phis_window_slide_by': 1}\n",
      "\n",
      "Evaluating configuration {'window_generator_type': 'adaptive', 'window_size': 150, 'population_comparer': GTestComparer, 'threshold': 0.05, 'max_distance': 300, 'slide_by': 30, 'phis_window_slide_by': 1}\n",
      "Event log 29\n"
     ]
    },
    {
     "name": "stderr",
     "output_type": "stream",
     "text": [
      "parsing log, completed traces :: 100%|██████████| 10000/10000 [00:08<00:00, 1163.69it/s]\n"
     ]
    },
    {
     "name": "stdout",
     "output_type": "stream",
     "text": [
      "\n",
      "Evaluating configuration {'window_generator_type': 'adaptive', 'window_size': 150, 'population_comparer': GTestComparer, 'threshold': 0.05, 'max_distance': 300, 'slide_by': 1, 'phis_window_slide_by': 1}\n",
      "\n",
      "Evaluating configuration {'window_generator_type': 'adaptive', 'window_size': 150, 'population_comparer': GTestComparer, 'threshold': 0.05, 'max_distance': 300, 'slide_by': 15, 'phis_window_slide_by': 1}\n",
      "\n",
      "Evaluating configuration {'window_generator_type': 'adaptive', 'window_size': 150, 'population_comparer': GTestComparer, 'threshold': 0.05, 'max_distance': 300, 'slide_by': 20, 'phis_window_slide_by': 1}\n",
      "\n",
      "Evaluating configuration {'window_generator_type': 'adaptive', 'window_size': 150, 'population_comparer': GTestComparer, 'threshold': 0.05, 'max_distance': 300, 'slide_by': 25, 'phis_window_slide_by': 1}\n",
      "\n",
      "Evaluating configuration {'window_generator_type': 'adaptive', 'window_size': 150, 'population_comparer': GTestComparer, 'threshold': 0.05, 'max_distance': 300, 'slide_by': 30, 'phis_window_slide_by': 1}\n",
      "Event log 30\n"
     ]
    },
    {
     "name": "stderr",
     "output_type": "stream",
     "text": [
      "parsing log, completed traces :: 100%|██████████| 10000/10000 [00:08<00:00, 1205.78it/s]\n"
     ]
    },
    {
     "name": "stdout",
     "output_type": "stream",
     "text": [
      "\n",
      "Evaluating configuration {'window_generator_type': 'adaptive', 'window_size': 150, 'population_comparer': GTestComparer, 'threshold': 0.05, 'max_distance': 300, 'slide_by': 1, 'phis_window_slide_by': 1}\n",
      "\n",
      "Evaluating configuration {'window_generator_type': 'adaptive', 'window_size': 150, 'population_comparer': GTestComparer, 'threshold': 0.05, 'max_distance': 300, 'slide_by': 15, 'phis_window_slide_by': 1}\n",
      "\n",
      "Evaluating configuration {'window_generator_type': 'adaptive', 'window_size': 150, 'population_comparer': GTestComparer, 'threshold': 0.05, 'max_distance': 300, 'slide_by': 20, 'phis_window_slide_by': 1}\n",
      "\n",
      "Evaluating configuration {'window_generator_type': 'adaptive', 'window_size': 150, 'population_comparer': GTestComparer, 'threshold': 0.05, 'max_distance': 300, 'slide_by': 25, 'phis_window_slide_by': 1}\n",
      "\n",
      "Evaluating configuration {'window_generator_type': 'adaptive', 'window_size': 150, 'population_comparer': GTestComparer, 'threshold': 0.05, 'max_distance': 300, 'slide_by': 30, 'phis_window_slide_by': 1}\n",
      "Event log 31\n"
     ]
    },
    {
     "name": "stderr",
     "output_type": "stream",
     "text": [
      "parsing log, completed traces :: 100%|██████████| 10000/10000 [00:08<00:00, 1230.24it/s]\n"
     ]
    },
    {
     "name": "stdout",
     "output_type": "stream",
     "text": [
      "\n",
      "Evaluating configuration {'window_generator_type': 'adaptive', 'window_size': 150, 'population_comparer': GTestComparer, 'threshold': 0.05, 'max_distance': 300, 'slide_by': 1, 'phis_window_slide_by': 1}\n",
      "\n",
      "Evaluating configuration {'window_generator_type': 'adaptive', 'window_size': 150, 'population_comparer': GTestComparer, 'threshold': 0.05, 'max_distance': 300, 'slide_by': 15, 'phis_window_slide_by': 1}\n",
      "\n",
      "Evaluating configuration {'window_generator_type': 'adaptive', 'window_size': 150, 'population_comparer': GTestComparer, 'threshold': 0.05, 'max_distance': 300, 'slide_by': 20, 'phis_window_slide_by': 1}\n",
      "\n",
      "Evaluating configuration {'window_generator_type': 'adaptive', 'window_size': 150, 'population_comparer': GTestComparer, 'threshold': 0.05, 'max_distance': 300, 'slide_by': 25, 'phis_window_slide_by': 1}\n",
      "\n",
      "Evaluating configuration {'window_generator_type': 'adaptive', 'window_size': 150, 'population_comparer': GTestComparer, 'threshold': 0.05, 'max_distance': 300, 'slide_by': 30, 'phis_window_slide_by': 1}\n",
      "Event log 32\n"
     ]
    },
    {
     "name": "stderr",
     "output_type": "stream",
     "text": [
      "parsing log, completed traces :: 100%|██████████| 10000/10000 [00:08<00:00, 1212.67it/s]\n"
     ]
    },
    {
     "name": "stdout",
     "output_type": "stream",
     "text": [
      "\n",
      "Evaluating configuration {'window_generator_type': 'adaptive', 'window_size': 150, 'population_comparer': GTestComparer, 'threshold': 0.05, 'max_distance': 300, 'slide_by': 1, 'phis_window_slide_by': 1}\n",
      "\n",
      "Evaluating configuration {'window_generator_type': 'adaptive', 'window_size': 150, 'population_comparer': GTestComparer, 'threshold': 0.05, 'max_distance': 300, 'slide_by': 15, 'phis_window_slide_by': 1}\n",
      "\n",
      "Evaluating configuration {'window_generator_type': 'adaptive', 'window_size': 150, 'population_comparer': GTestComparer, 'threshold': 0.05, 'max_distance': 300, 'slide_by': 20, 'phis_window_slide_by': 1}\n",
      "\n",
      "Evaluating configuration {'window_generator_type': 'adaptive', 'window_size': 150, 'population_comparer': GTestComparer, 'threshold': 0.05, 'max_distance': 300, 'slide_by': 25, 'phis_window_slide_by': 1}\n",
      "\n",
      "Evaluating configuration {'window_generator_type': 'adaptive', 'window_size': 150, 'population_comparer': GTestComparer, 'threshold': 0.05, 'max_distance': 300, 'slide_by': 30, 'phis_window_slide_by': 1}\n",
      "Event log 33\n"
     ]
    },
    {
     "name": "stderr",
     "output_type": "stream",
     "text": [
      "parsing log, completed traces :: 100%|██████████| 10000/10000 [00:08<00:00, 1163.10it/s]\n"
     ]
    },
    {
     "name": "stdout",
     "output_type": "stream",
     "text": [
      "\n",
      "Evaluating configuration {'window_generator_type': 'adaptive', 'window_size': 150, 'population_comparer': GTestComparer, 'threshold': 0.05, 'max_distance': 300, 'slide_by': 1, 'phis_window_slide_by': 1}\n",
      "\n",
      "Evaluating configuration {'window_generator_type': 'adaptive', 'window_size': 150, 'population_comparer': GTestComparer, 'threshold': 0.05, 'max_distance': 300, 'slide_by': 15, 'phis_window_slide_by': 1}\n",
      "\n",
      "Evaluating configuration {'window_generator_type': 'adaptive', 'window_size': 150, 'population_comparer': GTestComparer, 'threshold': 0.05, 'max_distance': 300, 'slide_by': 20, 'phis_window_slide_by': 1}\n",
      "\n",
      "Evaluating configuration {'window_generator_type': 'adaptive', 'window_size': 150, 'population_comparer': GTestComparer, 'threshold': 0.05, 'max_distance': 300, 'slide_by': 25, 'phis_window_slide_by': 1}\n",
      "\n",
      "Evaluating configuration {'window_generator_type': 'adaptive', 'window_size': 150, 'population_comparer': GTestComparer, 'threshold': 0.05, 'max_distance': 300, 'slide_by': 30, 'phis_window_slide_by': 1}\n",
      "Event log 34\n"
     ]
    },
    {
     "name": "stderr",
     "output_type": "stream",
     "text": [
      "parsing log, completed traces :: 100%|██████████| 10000/10000 [00:08<00:00, 1229.98it/s]\n"
     ]
    },
    {
     "name": "stdout",
     "output_type": "stream",
     "text": [
      "\n",
      "Evaluating configuration {'window_generator_type': 'adaptive', 'window_size': 150, 'population_comparer': GTestComparer, 'threshold': 0.05, 'max_distance': 300, 'slide_by': 1, 'phis_window_slide_by': 1}\n",
      "\n",
      "Evaluating configuration {'window_generator_type': 'adaptive', 'window_size': 150, 'population_comparer': GTestComparer, 'threshold': 0.05, 'max_distance': 300, 'slide_by': 15, 'phis_window_slide_by': 1}\n",
      "\n",
      "Evaluating configuration {'window_generator_type': 'adaptive', 'window_size': 150, 'population_comparer': GTestComparer, 'threshold': 0.05, 'max_distance': 300, 'slide_by': 20, 'phis_window_slide_by': 1}\n",
      "\n",
      "Evaluating configuration {'window_generator_type': 'adaptive', 'window_size': 150, 'population_comparer': GTestComparer, 'threshold': 0.05, 'max_distance': 300, 'slide_by': 25, 'phis_window_slide_by': 1}\n",
      "\n",
      "Evaluating configuration {'window_generator_type': 'adaptive', 'window_size': 150, 'population_comparer': GTestComparer, 'threshold': 0.05, 'max_distance': 300, 'slide_by': 30, 'phis_window_slide_by': 1}\n",
      "Event log 35\n"
     ]
    },
    {
     "name": "stderr",
     "output_type": "stream",
     "text": [
      "parsing log, completed traces :: 100%|██████████| 10000/10000 [00:08<00:00, 1209.22it/s]\n"
     ]
    },
    {
     "name": "stdout",
     "output_type": "stream",
     "text": [
      "\n",
      "Evaluating configuration {'window_generator_type': 'adaptive', 'window_size': 150, 'population_comparer': GTestComparer, 'threshold': 0.05, 'max_distance': 300, 'slide_by': 1, 'phis_window_slide_by': 1}\n",
      "\n",
      "Evaluating configuration {'window_generator_type': 'adaptive', 'window_size': 150, 'population_comparer': GTestComparer, 'threshold': 0.05, 'max_distance': 300, 'slide_by': 15, 'phis_window_slide_by': 1}\n",
      "\n",
      "Evaluating configuration {'window_generator_type': 'adaptive', 'window_size': 150, 'population_comparer': GTestComparer, 'threshold': 0.05, 'max_distance': 300, 'slide_by': 20, 'phis_window_slide_by': 1}\n",
      "\n",
      "Evaluating configuration {'window_generator_type': 'adaptive', 'window_size': 150, 'population_comparer': GTestComparer, 'threshold': 0.05, 'max_distance': 300, 'slide_by': 25, 'phis_window_slide_by': 1}\n",
      "\n",
      "Evaluating configuration {'window_generator_type': 'adaptive', 'window_size': 150, 'population_comparer': GTestComparer, 'threshold': 0.05, 'max_distance': 300, 'slide_by': 30, 'phis_window_slide_by': 1}\n",
      "Event log 36\n"
     ]
    },
    {
     "name": "stderr",
     "output_type": "stream",
     "text": [
      "parsing log, completed traces :: 100%|██████████| 10000/10000 [00:08<00:00, 1165.11it/s]\n"
     ]
    },
    {
     "name": "stdout",
     "output_type": "stream",
     "text": [
      "\n",
      "Evaluating configuration {'window_generator_type': 'adaptive', 'window_size': 150, 'population_comparer': GTestComparer, 'threshold': 0.05, 'max_distance': 300, 'slide_by': 1, 'phis_window_slide_by': 1}\n",
      "\n",
      "Evaluating configuration {'window_generator_type': 'adaptive', 'window_size': 150, 'population_comparer': GTestComparer, 'threshold': 0.05, 'max_distance': 300, 'slide_by': 15, 'phis_window_slide_by': 1}\n",
      "\n",
      "Evaluating configuration {'window_generator_type': 'adaptive', 'window_size': 150, 'population_comparer': GTestComparer, 'threshold': 0.05, 'max_distance': 300, 'slide_by': 20, 'phis_window_slide_by': 1}\n",
      "\n",
      "Evaluating configuration {'window_generator_type': 'adaptive', 'window_size': 150, 'population_comparer': GTestComparer, 'threshold': 0.05, 'max_distance': 300, 'slide_by': 25, 'phis_window_slide_by': 1}\n",
      "\n",
      "Evaluating configuration {'window_generator_type': 'adaptive', 'window_size': 150, 'population_comparer': GTestComparer, 'threshold': 0.05, 'max_distance': 300, 'slide_by': 30, 'phis_window_slide_by': 1}\n",
      "Event log 37\n"
     ]
    },
    {
     "name": "stderr",
     "output_type": "stream",
     "text": [
      "parsing log, completed traces :: 100%|██████████| 10000/10000 [00:08<00:00, 1237.18it/s]\n"
     ]
    },
    {
     "name": "stdout",
     "output_type": "stream",
     "text": [
      "\n",
      "Evaluating configuration {'window_generator_type': 'adaptive', 'window_size': 150, 'population_comparer': GTestComparer, 'threshold': 0.05, 'max_distance': 300, 'slide_by': 1, 'phis_window_slide_by': 1}\n",
      "\n",
      "Evaluating configuration {'window_generator_type': 'adaptive', 'window_size': 150, 'population_comparer': GTestComparer, 'threshold': 0.05, 'max_distance': 300, 'slide_by': 15, 'phis_window_slide_by': 1}\n",
      "\n",
      "Evaluating configuration {'window_generator_type': 'adaptive', 'window_size': 150, 'population_comparer': GTestComparer, 'threshold': 0.05, 'max_distance': 300, 'slide_by': 20, 'phis_window_slide_by': 1}\n",
      "\n",
      "Evaluating configuration {'window_generator_type': 'adaptive', 'window_size': 150, 'population_comparer': GTestComparer, 'threshold': 0.05, 'max_distance': 300, 'slide_by': 25, 'phis_window_slide_by': 1}\n",
      "\n",
      "Evaluating configuration {'window_generator_type': 'adaptive', 'window_size': 150, 'population_comparer': GTestComparer, 'threshold': 0.05, 'max_distance': 300, 'slide_by': 30, 'phis_window_slide_by': 1}\n",
      "Event log 38\n"
     ]
    },
    {
     "name": "stderr",
     "output_type": "stream",
     "text": [
      "parsing log, completed traces :: 100%|██████████| 10000/10000 [00:08<00:00, 1203.40it/s]\n"
     ]
    },
    {
     "name": "stdout",
     "output_type": "stream",
     "text": [
      "\n",
      "Evaluating configuration {'window_generator_type': 'adaptive', 'window_size': 150, 'population_comparer': GTestComparer, 'threshold': 0.05, 'max_distance': 300, 'slide_by': 1, 'phis_window_slide_by': 1}\n",
      "\n",
      "Evaluating configuration {'window_generator_type': 'adaptive', 'window_size': 150, 'population_comparer': GTestComparer, 'threshold': 0.05, 'max_distance': 300, 'slide_by': 15, 'phis_window_slide_by': 1}\n",
      "\n",
      "Evaluating configuration {'window_generator_type': 'adaptive', 'window_size': 150, 'population_comparer': GTestComparer, 'threshold': 0.05, 'max_distance': 300, 'slide_by': 20, 'phis_window_slide_by': 1}\n",
      "\n",
      "Evaluating configuration {'window_generator_type': 'adaptive', 'window_size': 150, 'population_comparer': GTestComparer, 'threshold': 0.05, 'max_distance': 300, 'slide_by': 25, 'phis_window_slide_by': 1}\n",
      "\n",
      "Evaluating configuration {'window_generator_type': 'adaptive', 'window_size': 150, 'population_comparer': GTestComparer, 'threshold': 0.05, 'max_distance': 300, 'slide_by': 30, 'phis_window_slide_by': 1}\n",
      "Event log 39\n"
     ]
    },
    {
     "name": "stderr",
     "output_type": "stream",
     "text": [
      "parsing log, completed traces :: 100%|██████████| 10000/10000 [00:08<00:00, 1170.78it/s]\n"
     ]
    },
    {
     "name": "stdout",
     "output_type": "stream",
     "text": [
      "\n",
      "Evaluating configuration {'window_generator_type': 'adaptive', 'window_size': 150, 'population_comparer': GTestComparer, 'threshold': 0.05, 'max_distance': 300, 'slide_by': 1, 'phis_window_slide_by': 1}\n",
      "\n",
      "Evaluating configuration {'window_generator_type': 'adaptive', 'window_size': 150, 'population_comparer': GTestComparer, 'threshold': 0.05, 'max_distance': 300, 'slide_by': 15, 'phis_window_slide_by': 1}\n",
      "\n",
      "Evaluating configuration {'window_generator_type': 'adaptive', 'window_size': 150, 'population_comparer': GTestComparer, 'threshold': 0.05, 'max_distance': 300, 'slide_by': 20, 'phis_window_slide_by': 1}\n",
      "\n",
      "Evaluating configuration {'window_generator_type': 'adaptive', 'window_size': 150, 'population_comparer': GTestComparer, 'threshold': 0.05, 'max_distance': 300, 'slide_by': 25, 'phis_window_slide_by': 1}\n",
      "\n",
      "Evaluating configuration {'window_generator_type': 'adaptive', 'window_size': 150, 'population_comparer': GTestComparer, 'threshold': 0.05, 'max_distance': 300, 'slide_by': 30, 'phis_window_slide_by': 1}\n",
      "Event log 40\n"
     ]
    },
    {
     "name": "stderr",
     "output_type": "stream",
     "text": [
      "parsing log, completed traces :: 100%|██████████| 10000/10000 [00:08<00:00, 1233.59it/s]\n"
     ]
    },
    {
     "name": "stdout",
     "output_type": "stream",
     "text": [
      "\n",
      "Evaluating configuration {'window_generator_type': 'adaptive', 'window_size': 150, 'population_comparer': GTestComparer, 'threshold': 0.05, 'max_distance': 300, 'slide_by': 1, 'phis_window_slide_by': 1}\n",
      "\n",
      "Evaluating configuration {'window_generator_type': 'adaptive', 'window_size': 150, 'population_comparer': GTestComparer, 'threshold': 0.05, 'max_distance': 300, 'slide_by': 15, 'phis_window_slide_by': 1}\n",
      "\n",
      "Evaluating configuration {'window_generator_type': 'adaptive', 'window_size': 150, 'population_comparer': GTestComparer, 'threshold': 0.05, 'max_distance': 300, 'slide_by': 20, 'phis_window_slide_by': 1}\n",
      "\n",
      "Evaluating configuration {'window_generator_type': 'adaptive', 'window_size': 150, 'population_comparer': GTestComparer, 'threshold': 0.05, 'max_distance': 300, 'slide_by': 25, 'phis_window_slide_by': 1}\n",
      "\n",
      "Evaluating configuration {'window_generator_type': 'adaptive', 'window_size': 150, 'population_comparer': GTestComparer, 'threshold': 0.05, 'max_distance': 300, 'slide_by': 30, 'phis_window_slide_by': 1}\n",
      "Event log 41\n"
     ]
    },
    {
     "name": "stderr",
     "output_type": "stream",
     "text": [
      "parsing log, completed traces :: 100%|██████████| 10000/10000 [00:08<00:00, 1199.90it/s]\n"
     ]
    },
    {
     "name": "stdout",
     "output_type": "stream",
     "text": [
      "\n",
      "Evaluating configuration {'window_generator_type': 'adaptive', 'window_size': 150, 'population_comparer': GTestComparer, 'threshold': 0.05, 'max_distance': 300, 'slide_by': 1, 'phis_window_slide_by': 1}\n",
      "\n",
      "Evaluating configuration {'window_generator_type': 'adaptive', 'window_size': 150, 'population_comparer': GTestComparer, 'threshold': 0.05, 'max_distance': 300, 'slide_by': 15, 'phis_window_slide_by': 1}\n",
      "\n",
      "Evaluating configuration {'window_generator_type': 'adaptive', 'window_size': 150, 'population_comparer': GTestComparer, 'threshold': 0.05, 'max_distance': 300, 'slide_by': 20, 'phis_window_slide_by': 1}\n",
      "\n",
      "Evaluating configuration {'window_generator_type': 'adaptive', 'window_size': 150, 'population_comparer': GTestComparer, 'threshold': 0.05, 'max_distance': 300, 'slide_by': 25, 'phis_window_slide_by': 1}\n",
      "\n",
      "Evaluating configuration {'window_generator_type': 'adaptive', 'window_size': 150, 'population_comparer': GTestComparer, 'threshold': 0.05, 'max_distance': 300, 'slide_by': 30, 'phis_window_slide_by': 1}\n",
      "Event log 42\n"
     ]
    },
    {
     "name": "stderr",
     "output_type": "stream",
     "text": [
      "parsing log, completed traces :: 100%|██████████| 10000/10000 [00:08<00:00, 1156.24it/s]\n"
     ]
    },
    {
     "name": "stdout",
     "output_type": "stream",
     "text": [
      "\n",
      "Evaluating configuration {'window_generator_type': 'adaptive', 'window_size': 150, 'population_comparer': GTestComparer, 'threshold': 0.05, 'max_distance': 300, 'slide_by': 1, 'phis_window_slide_by': 1}\n",
      "\n",
      "Evaluating configuration {'window_generator_type': 'adaptive', 'window_size': 150, 'population_comparer': GTestComparer, 'threshold': 0.05, 'max_distance': 300, 'slide_by': 15, 'phis_window_slide_by': 1}\n",
      "\n",
      "Evaluating configuration {'window_generator_type': 'adaptive', 'window_size': 150, 'population_comparer': GTestComparer, 'threshold': 0.05, 'max_distance': 300, 'slide_by': 20, 'phis_window_slide_by': 1}\n",
      "\n",
      "Evaluating configuration {'window_generator_type': 'adaptive', 'window_size': 150, 'population_comparer': GTestComparer, 'threshold': 0.05, 'max_distance': 300, 'slide_by': 25, 'phis_window_slide_by': 1}\n",
      "\n",
      "Evaluating configuration {'window_generator_type': 'adaptive', 'window_size': 150, 'population_comparer': GTestComparer, 'threshold': 0.05, 'max_distance': 300, 'slide_by': 30, 'phis_window_slide_by': 1}\n",
      "Event log 43\n"
     ]
    },
    {
     "name": "stderr",
     "output_type": "stream",
     "text": [
      "parsing log, completed traces :: 100%|██████████| 10000/10000 [00:08<00:00, 1173.10it/s]\n"
     ]
    },
    {
     "name": "stdout",
     "output_type": "stream",
     "text": [
      "\n",
      "Evaluating configuration {'window_generator_type': 'adaptive', 'window_size': 150, 'population_comparer': GTestComparer, 'threshold': 0.05, 'max_distance': 300, 'slide_by': 1, 'phis_window_slide_by': 1}\n",
      "\n",
      "Evaluating configuration {'window_generator_type': 'adaptive', 'window_size': 150, 'population_comparer': GTestComparer, 'threshold': 0.05, 'max_distance': 300, 'slide_by': 15, 'phis_window_slide_by': 1}\n",
      "\n",
      "Evaluating configuration {'window_generator_type': 'adaptive', 'window_size': 150, 'population_comparer': GTestComparer, 'threshold': 0.05, 'max_distance': 300, 'slide_by': 20, 'phis_window_slide_by': 1}\n",
      "\n",
      "Evaluating configuration {'window_generator_type': 'adaptive', 'window_size': 150, 'population_comparer': GTestComparer, 'threshold': 0.05, 'max_distance': 300, 'slide_by': 25, 'phis_window_slide_by': 1}\n",
      "\n",
      "Evaluating configuration {'window_generator_type': 'adaptive', 'window_size': 150, 'population_comparer': GTestComparer, 'threshold': 0.05, 'max_distance': 300, 'slide_by': 30, 'phis_window_slide_by': 1}\n",
      "Event log 44\n"
     ]
    },
    {
     "name": "stderr",
     "output_type": "stream",
     "text": [
      "parsing log, completed traces :: 100%|██████████| 10000/10000 [00:08<00:00, 1236.02it/s]\n"
     ]
    },
    {
     "name": "stdout",
     "output_type": "stream",
     "text": [
      "\n",
      "Evaluating configuration {'window_generator_type': 'adaptive', 'window_size': 150, 'population_comparer': GTestComparer, 'threshold': 0.05, 'max_distance': 300, 'slide_by': 1, 'phis_window_slide_by': 1}\n",
      "\n",
      "Evaluating configuration {'window_generator_type': 'adaptive', 'window_size': 150, 'population_comparer': GTestComparer, 'threshold': 0.05, 'max_distance': 300, 'slide_by': 15, 'phis_window_slide_by': 1}\n",
      "\n",
      "Evaluating configuration {'window_generator_type': 'adaptive', 'window_size': 150, 'population_comparer': GTestComparer, 'threshold': 0.05, 'max_distance': 300, 'slide_by': 20, 'phis_window_slide_by': 1}\n",
      "\n",
      "Evaluating configuration {'window_generator_type': 'adaptive', 'window_size': 150, 'population_comparer': GTestComparer, 'threshold': 0.05, 'max_distance': 300, 'slide_by': 25, 'phis_window_slide_by': 1}\n",
      "\n",
      "Evaluating configuration {'window_generator_type': 'adaptive', 'window_size': 150, 'population_comparer': GTestComparer, 'threshold': 0.05, 'max_distance': 300, 'slide_by': 30, 'phis_window_slide_by': 1}\n",
      "Event log 45\n"
     ]
    },
    {
     "name": "stderr",
     "output_type": "stream",
     "text": [
      "parsing log, completed traces :: 100%|██████████| 10000/10000 [00:08<00:00, 1193.08it/s]\n"
     ]
    },
    {
     "name": "stdout",
     "output_type": "stream",
     "text": [
      "\n",
      "Evaluating configuration {'window_generator_type': 'adaptive', 'window_size': 150, 'population_comparer': GTestComparer, 'threshold': 0.05, 'max_distance': 300, 'slide_by': 1, 'phis_window_slide_by': 1}\n",
      "\n",
      "Evaluating configuration {'window_generator_type': 'adaptive', 'window_size': 150, 'population_comparer': GTestComparer, 'threshold': 0.05, 'max_distance': 300, 'slide_by': 15, 'phis_window_slide_by': 1}\n",
      "\n",
      "Evaluating configuration {'window_generator_type': 'adaptive', 'window_size': 150, 'population_comparer': GTestComparer, 'threshold': 0.05, 'max_distance': 300, 'slide_by': 20, 'phis_window_slide_by': 1}\n",
      "\n",
      "Evaluating configuration {'window_generator_type': 'adaptive', 'window_size': 150, 'population_comparer': GTestComparer, 'threshold': 0.05, 'max_distance': 300, 'slide_by': 25, 'phis_window_slide_by': 1}\n",
      "\n",
      "Evaluating configuration {'window_generator_type': 'adaptive', 'window_size': 150, 'population_comparer': GTestComparer, 'threshold': 0.05, 'max_distance': 300, 'slide_by': 30, 'phis_window_slide_by': 1}\n",
      "Event log 46\n"
     ]
    },
    {
     "name": "stderr",
     "output_type": "stream",
     "text": [
      "parsing log, completed traces :: 100%|██████████| 10000/10000 [00:08<00:00, 1162.39it/s]\n"
     ]
    },
    {
     "name": "stdout",
     "output_type": "stream",
     "text": [
      "\n",
      "Evaluating configuration {'window_generator_type': 'adaptive', 'window_size': 150, 'population_comparer': GTestComparer, 'threshold': 0.05, 'max_distance': 300, 'slide_by': 1, 'phis_window_slide_by': 1}\n",
      "\n",
      "Evaluating configuration {'window_generator_type': 'adaptive', 'window_size': 150, 'population_comparer': GTestComparer, 'threshold': 0.05, 'max_distance': 300, 'slide_by': 15, 'phis_window_slide_by': 1}\n",
      "\n",
      "Evaluating configuration {'window_generator_type': 'adaptive', 'window_size': 150, 'population_comparer': GTestComparer, 'threshold': 0.05, 'max_distance': 300, 'slide_by': 20, 'phis_window_slide_by': 1}\n",
      "\n",
      "Evaluating configuration {'window_generator_type': 'adaptive', 'window_size': 150, 'population_comparer': GTestComparer, 'threshold': 0.05, 'max_distance': 300, 'slide_by': 25, 'phis_window_slide_by': 1}\n",
      "\n",
      "Evaluating configuration {'window_generator_type': 'adaptive', 'window_size': 150, 'population_comparer': GTestComparer, 'threshold': 0.05, 'max_distance': 300, 'slide_by': 30, 'phis_window_slide_by': 1}\n",
      "Event log 47\n"
     ]
    },
    {
     "name": "stderr",
     "output_type": "stream",
     "text": [
      "parsing log, completed traces :: 100%|██████████| 10000/10000 [00:08<00:00, 1220.47it/s]\n"
     ]
    },
    {
     "name": "stdout",
     "output_type": "stream",
     "text": [
      "\n",
      "Evaluating configuration {'window_generator_type': 'adaptive', 'window_size': 150, 'population_comparer': GTestComparer, 'threshold': 0.05, 'max_distance': 300, 'slide_by': 1, 'phis_window_slide_by': 1}\n",
      "\n",
      "Evaluating configuration {'window_generator_type': 'adaptive', 'window_size': 150, 'population_comparer': GTestComparer, 'threshold': 0.05, 'max_distance': 300, 'slide_by': 15, 'phis_window_slide_by': 1}\n",
      "\n",
      "Evaluating configuration {'window_generator_type': 'adaptive', 'window_size': 150, 'population_comparer': GTestComparer, 'threshold': 0.05, 'max_distance': 300, 'slide_by': 20, 'phis_window_slide_by': 1}\n",
      "\n",
      "Evaluating configuration {'window_generator_type': 'adaptive', 'window_size': 150, 'population_comparer': GTestComparer, 'threshold': 0.05, 'max_distance': 300, 'slide_by': 25, 'phis_window_slide_by': 1}\n",
      "\n",
      "Evaluating configuration {'window_generator_type': 'adaptive', 'window_size': 150, 'population_comparer': GTestComparer, 'threshold': 0.05, 'max_distance': 300, 'slide_by': 30, 'phis_window_slide_by': 1}\n",
      "Event log 48\n"
     ]
    },
    {
     "name": "stderr",
     "output_type": "stream",
     "text": [
      "parsing log, completed traces :: 100%|██████████| 10000/10000 [00:08<00:00, 1210.33it/s]\n"
     ]
    },
    {
     "name": "stdout",
     "output_type": "stream",
     "text": [
      "\n",
      "Evaluating configuration {'window_generator_type': 'adaptive', 'window_size': 150, 'population_comparer': GTestComparer, 'threshold': 0.05, 'max_distance': 300, 'slide_by': 1, 'phis_window_slide_by': 1}\n",
      "\n",
      "Evaluating configuration {'window_generator_type': 'adaptive', 'window_size': 150, 'population_comparer': GTestComparer, 'threshold': 0.05, 'max_distance': 300, 'slide_by': 15, 'phis_window_slide_by': 1}\n",
      "\n",
      "Evaluating configuration {'window_generator_type': 'adaptive', 'window_size': 150, 'population_comparer': GTestComparer, 'threshold': 0.05, 'max_distance': 300, 'slide_by': 20, 'phis_window_slide_by': 1}\n",
      "\n",
      "Evaluating configuration {'window_generator_type': 'adaptive', 'window_size': 150, 'population_comparer': GTestComparer, 'threshold': 0.05, 'max_distance': 300, 'slide_by': 25, 'phis_window_slide_by': 1}\n",
      "\n",
      "Evaluating configuration {'window_generator_type': 'adaptive', 'window_size': 150, 'population_comparer': GTestComparer, 'threshold': 0.05, 'max_distance': 300, 'slide_by': 30, 'phis_window_slide_by': 1}\n",
      "Event log 49\n"
     ]
    },
    {
     "name": "stderr",
     "output_type": "stream",
     "text": [
      "parsing log, completed traces :: 100%|██████████| 10000/10000 [00:08<00:00, 1163.30it/s]\n"
     ]
    },
    {
     "name": "stdout",
     "output_type": "stream",
     "text": [
      "\n",
      "Evaluating configuration {'window_generator_type': 'adaptive', 'window_size': 150, 'population_comparer': GTestComparer, 'threshold': 0.05, 'max_distance': 300, 'slide_by': 1, 'phis_window_slide_by': 1}\n",
      "\n",
      "Evaluating configuration {'window_generator_type': 'adaptive', 'window_size': 150, 'population_comparer': GTestComparer, 'threshold': 0.05, 'max_distance': 300, 'slide_by': 15, 'phis_window_slide_by': 1}\n",
      "\n",
      "Evaluating configuration {'window_generator_type': 'adaptive', 'window_size': 150, 'population_comparer': GTestComparer, 'threshold': 0.05, 'max_distance': 300, 'slide_by': 20, 'phis_window_slide_by': 1}\n",
      "\n",
      "Evaluating configuration {'window_generator_type': 'adaptive', 'window_size': 150, 'population_comparer': GTestComparer, 'threshold': 0.05, 'max_distance': 300, 'slide_by': 25, 'phis_window_slide_by': 1}\n",
      "\n",
      "Evaluating configuration {'window_generator_type': 'adaptive', 'window_size': 150, 'population_comparer': GTestComparer, 'threshold': 0.05, 'max_distance': 300, 'slide_by': 30, 'phis_window_slide_by': 1}\n",
      "Event log 50\n"
     ]
    },
    {
     "name": "stderr",
     "output_type": "stream",
     "text": [
      "parsing log, completed traces :: 100%|██████████| 10000/10000 [00:08<00:00, 1183.92it/s]\n"
     ]
    },
    {
     "name": "stdout",
     "output_type": "stream",
     "text": [
      "\n",
      "Evaluating configuration {'window_generator_type': 'adaptive', 'window_size': 150, 'population_comparer': GTestComparer, 'threshold': 0.05, 'max_distance': 300, 'slide_by': 1, 'phis_window_slide_by': 1}\n",
      "\n",
      "Evaluating configuration {'window_generator_type': 'adaptive', 'window_size': 150, 'population_comparer': GTestComparer, 'threshold': 0.05, 'max_distance': 300, 'slide_by': 15, 'phis_window_slide_by': 1}\n",
      "\n",
      "Evaluating configuration {'window_generator_type': 'adaptive', 'window_size': 150, 'population_comparer': GTestComparer, 'threshold': 0.05, 'max_distance': 300, 'slide_by': 20, 'phis_window_slide_by': 1}\n",
      "\n",
      "Evaluating configuration {'window_generator_type': 'adaptive', 'window_size': 150, 'population_comparer': GTestComparer, 'threshold': 0.05, 'max_distance': 300, 'slide_by': 25, 'phis_window_slide_by': 1}\n",
      "\n",
      "Evaluating configuration {'window_generator_type': 'adaptive', 'window_size': 150, 'population_comparer': GTestComparer, 'threshold': 0.05, 'max_distance': 300, 'slide_by': 30, 'phis_window_slide_by': 1}\n",
      "Event log 51\n"
     ]
    },
    {
     "name": "stderr",
     "output_type": "stream",
     "text": [
      "parsing log, completed traces :: 100%|██████████| 10000/10000 [00:08<00:00, 1223.91it/s]\n"
     ]
    },
    {
     "name": "stdout",
     "output_type": "stream",
     "text": [
      "\n",
      "Evaluating configuration {'window_generator_type': 'adaptive', 'window_size': 150, 'population_comparer': GTestComparer, 'threshold': 0.05, 'max_distance': 300, 'slide_by': 1, 'phis_window_slide_by': 1}\n",
      "\n",
      "Evaluating configuration {'window_generator_type': 'adaptive', 'window_size': 150, 'population_comparer': GTestComparer, 'threshold': 0.05, 'max_distance': 300, 'slide_by': 15, 'phis_window_slide_by': 1}\n",
      "\n",
      "Evaluating configuration {'window_generator_type': 'adaptive', 'window_size': 150, 'population_comparer': GTestComparer, 'threshold': 0.05, 'max_distance': 300, 'slide_by': 20, 'phis_window_slide_by': 1}\n",
      "\n",
      "Evaluating configuration {'window_generator_type': 'adaptive', 'window_size': 150, 'population_comparer': GTestComparer, 'threshold': 0.05, 'max_distance': 300, 'slide_by': 25, 'phis_window_slide_by': 1}\n",
      "\n",
      "Evaluating configuration {'window_generator_type': 'adaptive', 'window_size': 150, 'population_comparer': GTestComparer, 'threshold': 0.05, 'max_distance': 300, 'slide_by': 30, 'phis_window_slide_by': 1}\n",
      "Event log 52\n"
     ]
    },
    {
     "name": "stderr",
     "output_type": "stream",
     "text": [
      "parsing log, completed traces :: 100%|██████████| 10000/10000 [00:08<00:00, 1196.89it/s]\n"
     ]
    },
    {
     "name": "stdout",
     "output_type": "stream",
     "text": [
      "\n",
      "Evaluating configuration {'window_generator_type': 'adaptive', 'window_size': 150, 'population_comparer': GTestComparer, 'threshold': 0.05, 'max_distance': 300, 'slide_by': 1, 'phis_window_slide_by': 1}\n",
      "\n",
      "Evaluating configuration {'window_generator_type': 'adaptive', 'window_size': 150, 'population_comparer': GTestComparer, 'threshold': 0.05, 'max_distance': 300, 'slide_by': 15, 'phis_window_slide_by': 1}\n",
      "\n",
      "Evaluating configuration {'window_generator_type': 'adaptive', 'window_size': 150, 'population_comparer': GTestComparer, 'threshold': 0.05, 'max_distance': 300, 'slide_by': 20, 'phis_window_slide_by': 1}\n",
      "\n",
      "Evaluating configuration {'window_generator_type': 'adaptive', 'window_size': 150, 'population_comparer': GTestComparer, 'threshold': 0.05, 'max_distance': 300, 'slide_by': 25, 'phis_window_slide_by': 1}\n",
      "\n",
      "Evaluating configuration {'window_generator_type': 'adaptive', 'window_size': 150, 'population_comparer': GTestComparer, 'threshold': 0.05, 'max_distance': 300, 'slide_by': 30, 'phis_window_slide_by': 1}\n",
      "Event log 53\n"
     ]
    },
    {
     "name": "stderr",
     "output_type": "stream",
     "text": [
      "parsing log, completed traces :: 100%|██████████| 10000/10000 [00:08<00:00, 1150.71it/s]\n"
     ]
    },
    {
     "name": "stdout",
     "output_type": "stream",
     "text": [
      "\n",
      "Evaluating configuration {'window_generator_type': 'adaptive', 'window_size': 150, 'population_comparer': GTestComparer, 'threshold': 0.05, 'max_distance': 300, 'slide_by': 1, 'phis_window_slide_by': 1}\n",
      "\n",
      "Evaluating configuration {'window_generator_type': 'adaptive', 'window_size': 150, 'population_comparer': GTestComparer, 'threshold': 0.05, 'max_distance': 300, 'slide_by': 15, 'phis_window_slide_by': 1}\n",
      "\n",
      "Evaluating configuration {'window_generator_type': 'adaptive', 'window_size': 150, 'population_comparer': GTestComparer, 'threshold': 0.05, 'max_distance': 300, 'slide_by': 20, 'phis_window_slide_by': 1}\n",
      "\n",
      "Evaluating configuration {'window_generator_type': 'adaptive', 'window_size': 150, 'population_comparer': GTestComparer, 'threshold': 0.05, 'max_distance': 300, 'slide_by': 25, 'phis_window_slide_by': 1}\n",
      "\n",
      "Evaluating configuration {'window_generator_type': 'adaptive', 'window_size': 150, 'population_comparer': GTestComparer, 'threshold': 0.05, 'max_distance': 300, 'slide_by': 30, 'phis_window_slide_by': 1}\n",
      "Event log 54\n"
     ]
    },
    {
     "name": "stderr",
     "output_type": "stream",
     "text": [
      "parsing log, completed traces :: 100%|██████████| 10000/10000 [00:08<00:00, 1239.75it/s]\n"
     ]
    },
    {
     "name": "stdout",
     "output_type": "stream",
     "text": [
      "\n",
      "Evaluating configuration {'window_generator_type': 'adaptive', 'window_size': 150, 'population_comparer': GTestComparer, 'threshold': 0.05, 'max_distance': 300, 'slide_by': 1, 'phis_window_slide_by': 1}\n",
      "\n",
      "Evaluating configuration {'window_generator_type': 'adaptive', 'window_size': 150, 'population_comparer': GTestComparer, 'threshold': 0.05, 'max_distance': 300, 'slide_by': 15, 'phis_window_slide_by': 1}\n",
      "\n",
      "Evaluating configuration {'window_generator_type': 'adaptive', 'window_size': 150, 'population_comparer': GTestComparer, 'threshold': 0.05, 'max_distance': 300, 'slide_by': 20, 'phis_window_slide_by': 1}\n",
      "\n",
      "Evaluating configuration {'window_generator_type': 'adaptive', 'window_size': 150, 'population_comparer': GTestComparer, 'threshold': 0.05, 'max_distance': 300, 'slide_by': 25, 'phis_window_slide_by': 1}\n",
      "\n",
      "Evaluating configuration {'window_generator_type': 'adaptive', 'window_size': 150, 'population_comparer': GTestComparer, 'threshold': 0.05, 'max_distance': 300, 'slide_by': 30, 'phis_window_slide_by': 1}\n",
      "Event log 55\n"
     ]
    },
    {
     "name": "stderr",
     "output_type": "stream",
     "text": [
      "parsing log, completed traces :: 100%|██████████| 10000/10000 [00:08<00:00, 1197.11it/s]\n"
     ]
    },
    {
     "name": "stdout",
     "output_type": "stream",
     "text": [
      "\n",
      "Evaluating configuration {'window_generator_type': 'adaptive', 'window_size': 150, 'population_comparer': GTestComparer, 'threshold': 0.05, 'max_distance': 300, 'slide_by': 1, 'phis_window_slide_by': 1}\n",
      "\n",
      "Evaluating configuration {'window_generator_type': 'adaptive', 'window_size': 150, 'population_comparer': GTestComparer, 'threshold': 0.05, 'max_distance': 300, 'slide_by': 15, 'phis_window_slide_by': 1}\n",
      "\n",
      "Evaluating configuration {'window_generator_type': 'adaptive', 'window_size': 150, 'population_comparer': GTestComparer, 'threshold': 0.05, 'max_distance': 300, 'slide_by': 20, 'phis_window_slide_by': 1}\n",
      "\n",
      "Evaluating configuration {'window_generator_type': 'adaptive', 'window_size': 150, 'population_comparer': GTestComparer, 'threshold': 0.05, 'max_distance': 300, 'slide_by': 25, 'phis_window_slide_by': 1}\n",
      "\n",
      "Evaluating configuration {'window_generator_type': 'adaptive', 'window_size': 150, 'population_comparer': GTestComparer, 'threshold': 0.05, 'max_distance': 300, 'slide_by': 30, 'phis_window_slide_by': 1}\n",
      "Event log 56\n"
     ]
    },
    {
     "name": "stderr",
     "output_type": "stream",
     "text": [
      "parsing log, completed traces :: 100%|██████████| 10000/10000 [00:08<00:00, 1164.59it/s]\n"
     ]
    },
    {
     "name": "stdout",
     "output_type": "stream",
     "text": [
      "\n",
      "Evaluating configuration {'window_generator_type': 'adaptive', 'window_size': 150, 'population_comparer': GTestComparer, 'threshold': 0.05, 'max_distance': 300, 'slide_by': 1, 'phis_window_slide_by': 1}\n",
      "\n",
      "Evaluating configuration {'window_generator_type': 'adaptive', 'window_size': 150, 'population_comparer': GTestComparer, 'threshold': 0.05, 'max_distance': 300, 'slide_by': 15, 'phis_window_slide_by': 1}\n",
      "\n",
      "Evaluating configuration {'window_generator_type': 'adaptive', 'window_size': 150, 'population_comparer': GTestComparer, 'threshold': 0.05, 'max_distance': 300, 'slide_by': 20, 'phis_window_slide_by': 1}\n",
      "\n",
      "Evaluating configuration {'window_generator_type': 'adaptive', 'window_size': 150, 'population_comparer': GTestComparer, 'threshold': 0.05, 'max_distance': 300, 'slide_by': 25, 'phis_window_slide_by': 1}\n",
      "\n",
      "Evaluating configuration {'window_generator_type': 'adaptive', 'window_size': 150, 'population_comparer': GTestComparer, 'threshold': 0.05, 'max_distance': 300, 'slide_by': 30, 'phis_window_slide_by': 1}\n",
      "Event log 57\n"
     ]
    },
    {
     "name": "stderr",
     "output_type": "stream",
     "text": [
      "parsing log, completed traces :: 100%|██████████| 10000/10000 [00:08<00:00, 1225.72it/s]\n"
     ]
    },
    {
     "name": "stdout",
     "output_type": "stream",
     "text": [
      "\n",
      "Evaluating configuration {'window_generator_type': 'adaptive', 'window_size': 150, 'population_comparer': GTestComparer, 'threshold': 0.05, 'max_distance': 300, 'slide_by': 1, 'phis_window_slide_by': 1}\n",
      "\n",
      "Evaluating configuration {'window_generator_type': 'adaptive', 'window_size': 150, 'population_comparer': GTestComparer, 'threshold': 0.05, 'max_distance': 300, 'slide_by': 15, 'phis_window_slide_by': 1}\n",
      "\n",
      "Evaluating configuration {'window_generator_type': 'adaptive', 'window_size': 150, 'population_comparer': GTestComparer, 'threshold': 0.05, 'max_distance': 300, 'slide_by': 20, 'phis_window_slide_by': 1}\n",
      "\n",
      "Evaluating configuration {'window_generator_type': 'adaptive', 'window_size': 150, 'population_comparer': GTestComparer, 'threshold': 0.05, 'max_distance': 300, 'slide_by': 25, 'phis_window_slide_by': 1}\n",
      "\n",
      "Evaluating configuration {'window_generator_type': 'adaptive', 'window_size': 150, 'population_comparer': GTestComparer, 'threshold': 0.05, 'max_distance': 300, 'slide_by': 30, 'phis_window_slide_by': 1}\n",
      "Event log 58\n"
     ]
    },
    {
     "name": "stderr",
     "output_type": "stream",
     "text": [
      "parsing log, completed traces :: 100%|██████████| 10000/10000 [00:08<00:00, 1190.09it/s]\n"
     ]
    },
    {
     "name": "stdout",
     "output_type": "stream",
     "text": [
      "\n",
      "Evaluating configuration {'window_generator_type': 'adaptive', 'window_size': 150, 'population_comparer': GTestComparer, 'threshold': 0.05, 'max_distance': 300, 'slide_by': 1, 'phis_window_slide_by': 1}\n",
      "\n",
      "Evaluating configuration {'window_generator_type': 'adaptive', 'window_size': 150, 'population_comparer': GTestComparer, 'threshold': 0.05, 'max_distance': 300, 'slide_by': 15, 'phis_window_slide_by': 1}\n",
      "\n",
      "Evaluating configuration {'window_generator_type': 'adaptive', 'window_size': 150, 'population_comparer': GTestComparer, 'threshold': 0.05, 'max_distance': 300, 'slide_by': 20, 'phis_window_slide_by': 1}\n",
      "\n",
      "Evaluating configuration {'window_generator_type': 'adaptive', 'window_size': 150, 'population_comparer': GTestComparer, 'threshold': 0.05, 'max_distance': 300, 'slide_by': 25, 'phis_window_slide_by': 1}\n",
      "\n",
      "Evaluating configuration {'window_generator_type': 'adaptive', 'window_size': 150, 'population_comparer': GTestComparer, 'threshold': 0.05, 'max_distance': 300, 'slide_by': 30, 'phis_window_slide_by': 1}\n",
      "Event log 59\n"
     ]
    },
    {
     "name": "stderr",
     "output_type": "stream",
     "text": [
      "parsing log, completed traces :: 100%|██████████| 10000/10000 [00:08<00:00, 1151.35it/s]\n"
     ]
    },
    {
     "name": "stdout",
     "output_type": "stream",
     "text": [
      "\n",
      "Evaluating configuration {'window_generator_type': 'adaptive', 'window_size': 150, 'population_comparer': GTestComparer, 'threshold': 0.05, 'max_distance': 300, 'slide_by': 1, 'phis_window_slide_by': 1}\n",
      "\n",
      "Evaluating configuration {'window_generator_type': 'adaptive', 'window_size': 150, 'population_comparer': GTestComparer, 'threshold': 0.05, 'max_distance': 300, 'slide_by': 15, 'phis_window_slide_by': 1}\n",
      "\n",
      "Evaluating configuration {'window_generator_type': 'adaptive', 'window_size': 150, 'population_comparer': GTestComparer, 'threshold': 0.05, 'max_distance': 300, 'slide_by': 20, 'phis_window_slide_by': 1}\n",
      "\n",
      "Evaluating configuration {'window_generator_type': 'adaptive', 'window_size': 150, 'population_comparer': GTestComparer, 'threshold': 0.05, 'max_distance': 300, 'slide_by': 25, 'phis_window_slide_by': 1}\n",
      "\n",
      "Evaluating configuration {'window_generator_type': 'adaptive', 'window_size': 150, 'population_comparer': GTestComparer, 'threshold': 0.05, 'max_distance': 300, 'slide_by': 30, 'phis_window_slide_by': 1}\n",
      "Event log 60\n"
     ]
    },
    {
     "name": "stderr",
     "output_type": "stream",
     "text": [
      "parsing log, completed traces :: 100%|██████████| 10000/10000 [00:08<00:00, 1228.36it/s]\n"
     ]
    },
    {
     "name": "stdout",
     "output_type": "stream",
     "text": [
      "\n",
      "Evaluating configuration {'window_generator_type': 'adaptive', 'window_size': 150, 'population_comparer': GTestComparer, 'threshold': 0.05, 'max_distance': 300, 'slide_by': 1, 'phis_window_slide_by': 1}\n",
      "\n",
      "Evaluating configuration {'window_generator_type': 'adaptive', 'window_size': 150, 'population_comparer': GTestComparer, 'threshold': 0.05, 'max_distance': 300, 'slide_by': 15, 'phis_window_slide_by': 1}\n",
      "\n",
      "Evaluating configuration {'window_generator_type': 'adaptive', 'window_size': 150, 'population_comparer': GTestComparer, 'threshold': 0.05, 'max_distance': 300, 'slide_by': 20, 'phis_window_slide_by': 1}\n",
      "\n",
      "Evaluating configuration {'window_generator_type': 'adaptive', 'window_size': 150, 'population_comparer': GTestComparer, 'threshold': 0.05, 'max_distance': 300, 'slide_by': 25, 'phis_window_slide_by': 1}\n",
      "\n",
      "Evaluating configuration {'window_generator_type': 'adaptive', 'window_size': 150, 'population_comparer': GTestComparer, 'threshold': 0.05, 'max_distance': 300, 'slide_by': 30, 'phis_window_slide_by': 1}\n",
      "Event log 61\n"
     ]
    },
    {
     "name": "stderr",
     "output_type": "stream",
     "text": [
      "parsing log, completed traces :: 100%|██████████| 10000/10000 [00:08<00:00, 1193.52it/s]\n"
     ]
    },
    {
     "name": "stdout",
     "output_type": "stream",
     "text": [
      "\n",
      "Evaluating configuration {'window_generator_type': 'adaptive', 'window_size': 150, 'population_comparer': GTestComparer, 'threshold': 0.05, 'max_distance': 300, 'slide_by': 1, 'phis_window_slide_by': 1}\n",
      "\n",
      "Evaluating configuration {'window_generator_type': 'adaptive', 'window_size': 150, 'population_comparer': GTestComparer, 'threshold': 0.05, 'max_distance': 300, 'slide_by': 15, 'phis_window_slide_by': 1}\n",
      "\n",
      "Evaluating configuration {'window_generator_type': 'adaptive', 'window_size': 150, 'population_comparer': GTestComparer, 'threshold': 0.05, 'max_distance': 300, 'slide_by': 20, 'phis_window_slide_by': 1}\n",
      "\n",
      "Evaluating configuration {'window_generator_type': 'adaptive', 'window_size': 150, 'population_comparer': GTestComparer, 'threshold': 0.05, 'max_distance': 300, 'slide_by': 25, 'phis_window_slide_by': 1}\n",
      "\n",
      "Evaluating configuration {'window_generator_type': 'adaptive', 'window_size': 150, 'population_comparer': GTestComparer, 'threshold': 0.05, 'max_distance': 300, 'slide_by': 30, 'phis_window_slide_by': 1}\n",
      "Event log 62\n"
     ]
    },
    {
     "name": "stderr",
     "output_type": "stream",
     "text": [
      "parsing log, completed traces :: 100%|██████████| 10000/10000 [00:08<00:00, 1155.58it/s]\n"
     ]
    },
    {
     "name": "stdout",
     "output_type": "stream",
     "text": [
      "\n",
      "Evaluating configuration {'window_generator_type': 'adaptive', 'window_size': 150, 'population_comparer': GTestComparer, 'threshold': 0.05, 'max_distance': 300, 'slide_by': 1, 'phis_window_slide_by': 1}\n",
      "\n",
      "Evaluating configuration {'window_generator_type': 'adaptive', 'window_size': 150, 'population_comparer': GTestComparer, 'threshold': 0.05, 'max_distance': 300, 'slide_by': 15, 'phis_window_slide_by': 1}\n",
      "\n",
      "Evaluating configuration {'window_generator_type': 'adaptive', 'window_size': 150, 'population_comparer': GTestComparer, 'threshold': 0.05, 'max_distance': 300, 'slide_by': 20, 'phis_window_slide_by': 1}\n",
      "\n",
      "Evaluating configuration {'window_generator_type': 'adaptive', 'window_size': 150, 'population_comparer': GTestComparer, 'threshold': 0.05, 'max_distance': 300, 'slide_by': 25, 'phis_window_slide_by': 1}\n",
      "\n",
      "Evaluating configuration {'window_generator_type': 'adaptive', 'window_size': 150, 'population_comparer': GTestComparer, 'threshold': 0.05, 'max_distance': 300, 'slide_by': 30, 'phis_window_slide_by': 1}\n",
      "Event log 63\n"
     ]
    },
    {
     "name": "stderr",
     "output_type": "stream",
     "text": [
      "parsing log, completed traces :: 100%|██████████| 10000/10000 [00:08<00:00, 1175.88it/s]\n"
     ]
    },
    {
     "name": "stdout",
     "output_type": "stream",
     "text": [
      "\n",
      "Evaluating configuration {'window_generator_type': 'adaptive', 'window_size': 150, 'population_comparer': GTestComparer, 'threshold': 0.05, 'max_distance': 300, 'slide_by': 1, 'phis_window_slide_by': 1}\n",
      "\n",
      "Evaluating configuration {'window_generator_type': 'adaptive', 'window_size': 150, 'population_comparer': GTestComparer, 'threshold': 0.05, 'max_distance': 300, 'slide_by': 15, 'phis_window_slide_by': 1}\n",
      "\n",
      "Evaluating configuration {'window_generator_type': 'adaptive', 'window_size': 150, 'population_comparer': GTestComparer, 'threshold': 0.05, 'max_distance': 300, 'slide_by': 20, 'phis_window_slide_by': 1}\n",
      "\n",
      "Evaluating configuration {'window_generator_type': 'adaptive', 'window_size': 150, 'population_comparer': GTestComparer, 'threshold': 0.05, 'max_distance': 300, 'slide_by': 25, 'phis_window_slide_by': 1}\n",
      "\n",
      "Evaluating configuration {'window_generator_type': 'adaptive', 'window_size': 150, 'population_comparer': GTestComparer, 'threshold': 0.05, 'max_distance': 300, 'slide_by': 30, 'phis_window_slide_by': 1}\n",
      "Event log 64\n"
     ]
    },
    {
     "name": "stderr",
     "output_type": "stream",
     "text": [
      "parsing log, completed traces :: 100%|██████████| 10000/10000 [00:08<00:00, 1210.31it/s]\n"
     ]
    },
    {
     "name": "stdout",
     "output_type": "stream",
     "text": [
      "\n",
      "Evaluating configuration {'window_generator_type': 'adaptive', 'window_size': 150, 'population_comparer': GTestComparer, 'threshold': 0.05, 'max_distance': 300, 'slide_by': 1, 'phis_window_slide_by': 1}\n",
      "\n",
      "Evaluating configuration {'window_generator_type': 'adaptive', 'window_size': 150, 'population_comparer': GTestComparer, 'threshold': 0.05, 'max_distance': 300, 'slide_by': 15, 'phis_window_slide_by': 1}\n",
      "\n",
      "Evaluating configuration {'window_generator_type': 'adaptive', 'window_size': 150, 'population_comparer': GTestComparer, 'threshold': 0.05, 'max_distance': 300, 'slide_by': 20, 'phis_window_slide_by': 1}\n",
      "\n",
      "Evaluating configuration {'window_generator_type': 'adaptive', 'window_size': 150, 'population_comparer': GTestComparer, 'threshold': 0.05, 'max_distance': 300, 'slide_by': 25, 'phis_window_slide_by': 1}\n",
      "\n",
      "Evaluating configuration {'window_generator_type': 'adaptive', 'window_size': 150, 'population_comparer': GTestComparer, 'threshold': 0.05, 'max_distance': 300, 'slide_by': 30, 'phis_window_slide_by': 1}\n",
      "Event log 65\n"
     ]
    },
    {
     "name": "stderr",
     "output_type": "stream",
     "text": [
      "parsing log, completed traces :: 100%|██████████| 10000/10000 [00:08<00:00, 1197.85it/s]\n"
     ]
    },
    {
     "name": "stdout",
     "output_type": "stream",
     "text": [
      "\n",
      "Evaluating configuration {'window_generator_type': 'adaptive', 'window_size': 150, 'population_comparer': GTestComparer, 'threshold': 0.05, 'max_distance': 300, 'slide_by': 1, 'phis_window_slide_by': 1}\n",
      "\n",
      "Evaluating configuration {'window_generator_type': 'adaptive', 'window_size': 150, 'population_comparer': GTestComparer, 'threshold': 0.05, 'max_distance': 300, 'slide_by': 15, 'phis_window_slide_by': 1}\n",
      "\n",
      "Evaluating configuration {'window_generator_type': 'adaptive', 'window_size': 150, 'population_comparer': GTestComparer, 'threshold': 0.05, 'max_distance': 300, 'slide_by': 20, 'phis_window_slide_by': 1}\n",
      "\n",
      "Evaluating configuration {'window_generator_type': 'adaptive', 'window_size': 150, 'population_comparer': GTestComparer, 'threshold': 0.05, 'max_distance': 300, 'slide_by': 25, 'phis_window_slide_by': 1}\n",
      "\n",
      "Evaluating configuration {'window_generator_type': 'adaptive', 'window_size': 150, 'population_comparer': GTestComparer, 'threshold': 0.05, 'max_distance': 300, 'slide_by': 30, 'phis_window_slide_by': 1}\n",
      "Event log 66\n"
     ]
    },
    {
     "name": "stderr",
     "output_type": "stream",
     "text": [
      "parsing log, completed traces :: 100%|██████████| 10000/10000 [00:08<00:00, 1146.28it/s]\n"
     ]
    },
    {
     "name": "stdout",
     "output_type": "stream",
     "text": [
      "\n",
      "Evaluating configuration {'window_generator_type': 'adaptive', 'window_size': 150, 'population_comparer': GTestComparer, 'threshold': 0.05, 'max_distance': 300, 'slide_by': 1, 'phis_window_slide_by': 1}\n",
      "\n",
      "Evaluating configuration {'window_generator_type': 'adaptive', 'window_size': 150, 'population_comparer': GTestComparer, 'threshold': 0.05, 'max_distance': 300, 'slide_by': 15, 'phis_window_slide_by': 1}\n",
      "\n",
      "Evaluating configuration {'window_generator_type': 'adaptive', 'window_size': 150, 'population_comparer': GTestComparer, 'threshold': 0.05, 'max_distance': 300, 'slide_by': 20, 'phis_window_slide_by': 1}\n",
      "\n",
      "Evaluating configuration {'window_generator_type': 'adaptive', 'window_size': 150, 'population_comparer': GTestComparer, 'threshold': 0.05, 'max_distance': 300, 'slide_by': 25, 'phis_window_slide_by': 1}\n",
      "\n",
      "Evaluating configuration {'window_generator_type': 'adaptive', 'window_size': 150, 'population_comparer': GTestComparer, 'threshold': 0.05, 'max_distance': 300, 'slide_by': 30, 'phis_window_slide_by': 1}\n",
      "Event log 67\n"
     ]
    },
    {
     "name": "stderr",
     "output_type": "stream",
     "text": [
      "parsing log, completed traces :: 100%|██████████| 10000/10000 [00:08<00:00, 1211.23it/s]\n"
     ]
    },
    {
     "name": "stdout",
     "output_type": "stream",
     "text": [
      "\n",
      "Evaluating configuration {'window_generator_type': 'adaptive', 'window_size': 150, 'population_comparer': GTestComparer, 'threshold': 0.05, 'max_distance': 300, 'slide_by': 1, 'phis_window_slide_by': 1}\n",
      "\n",
      "Evaluating configuration {'window_generator_type': 'adaptive', 'window_size': 150, 'population_comparer': GTestComparer, 'threshold': 0.05, 'max_distance': 300, 'slide_by': 15, 'phis_window_slide_by': 1}\n",
      "\n",
      "Evaluating configuration {'window_generator_type': 'adaptive', 'window_size': 150, 'population_comparer': GTestComparer, 'threshold': 0.05, 'max_distance': 300, 'slide_by': 20, 'phis_window_slide_by': 1}\n",
      "\n",
      "Evaluating configuration {'window_generator_type': 'adaptive', 'window_size': 150, 'population_comparer': GTestComparer, 'threshold': 0.05, 'max_distance': 300, 'slide_by': 25, 'phis_window_slide_by': 1}\n",
      "\n",
      "Evaluating configuration {'window_generator_type': 'adaptive', 'window_size': 150, 'population_comparer': GTestComparer, 'threshold': 0.05, 'max_distance': 300, 'slide_by': 30, 'phis_window_slide_by': 1}\n",
      "Event log 68\n"
     ]
    },
    {
     "name": "stderr",
     "output_type": "stream",
     "text": [
      "parsing log, completed traces :: 100%|██████████| 10000/10000 [00:09<00:00, 1102.15it/s]\n"
     ]
    },
    {
     "name": "stdout",
     "output_type": "stream",
     "text": [
      "\n",
      "Evaluating configuration {'window_generator_type': 'adaptive', 'window_size': 150, 'population_comparer': GTestComparer, 'threshold': 0.05, 'max_distance': 300, 'slide_by': 1, 'phis_window_slide_by': 1}\n",
      "\n",
      "Evaluating configuration {'window_generator_type': 'adaptive', 'window_size': 150, 'population_comparer': GTestComparer, 'threshold': 0.05, 'max_distance': 300, 'slide_by': 15, 'phis_window_slide_by': 1}\n",
      "\n",
      "Evaluating configuration {'window_generator_type': 'adaptive', 'window_size': 150, 'population_comparer': GTestComparer, 'threshold': 0.05, 'max_distance': 300, 'slide_by': 20, 'phis_window_slide_by': 1}\n",
      "\n",
      "Evaluating configuration {'window_generator_type': 'adaptive', 'window_size': 150, 'population_comparer': GTestComparer, 'threshold': 0.05, 'max_distance': 300, 'slide_by': 25, 'phis_window_slide_by': 1}\n",
      "\n",
      "Evaluating configuration {'window_generator_type': 'adaptive', 'window_size': 150, 'population_comparer': GTestComparer, 'threshold': 0.05, 'max_distance': 300, 'slide_by': 30, 'phis_window_slide_by': 1}\n",
      "Event log 69\n"
     ]
    },
    {
     "name": "stderr",
     "output_type": "stream",
     "text": [
      "parsing log, completed traces :: 100%|██████████| 10000/10000 [00:08<00:00, 1149.56it/s]\n"
     ]
    },
    {
     "name": "stdout",
     "output_type": "stream",
     "text": [
      "\n",
      "Evaluating configuration {'window_generator_type': 'adaptive', 'window_size': 150, 'population_comparer': GTestComparer, 'threshold': 0.05, 'max_distance': 300, 'slide_by': 1, 'phis_window_slide_by': 1}\n",
      "\n",
      "Evaluating configuration {'window_generator_type': 'adaptive', 'window_size': 150, 'population_comparer': GTestComparer, 'threshold': 0.05, 'max_distance': 300, 'slide_by': 15, 'phis_window_slide_by': 1}\n",
      "\n",
      "Evaluating configuration {'window_generator_type': 'adaptive', 'window_size': 150, 'population_comparer': GTestComparer, 'threshold': 0.05, 'max_distance': 300, 'slide_by': 20, 'phis_window_slide_by': 1}\n",
      "\n",
      "Evaluating configuration {'window_generator_type': 'adaptive', 'window_size': 150, 'population_comparer': GTestComparer, 'threshold': 0.05, 'max_distance': 300, 'slide_by': 25, 'phis_window_slide_by': 1}\n",
      "\n",
      "Evaluating configuration {'window_generator_type': 'adaptive', 'window_size': 150, 'population_comparer': GTestComparer, 'threshold': 0.05, 'max_distance': 300, 'slide_by': 30, 'phis_window_slide_by': 1}\n",
      "Event log 70\n"
     ]
    },
    {
     "name": "stderr",
     "output_type": "stream",
     "text": [
      "parsing log, completed traces :: 100%|██████████| 10000/10000 [00:08<00:00, 1176.47it/s]\n"
     ]
    },
    {
     "name": "stdout",
     "output_type": "stream",
     "text": [
      "\n",
      "Evaluating configuration {'window_generator_type': 'adaptive', 'window_size': 150, 'population_comparer': GTestComparer, 'threshold': 0.05, 'max_distance': 300, 'slide_by': 1, 'phis_window_slide_by': 1}\n",
      "\n",
      "Evaluating configuration {'window_generator_type': 'adaptive', 'window_size': 150, 'population_comparer': GTestComparer, 'threshold': 0.05, 'max_distance': 300, 'slide_by': 15, 'phis_window_slide_by': 1}\n",
      "\n",
      "Evaluating configuration {'window_generator_type': 'adaptive', 'window_size': 150, 'population_comparer': GTestComparer, 'threshold': 0.05, 'max_distance': 300, 'slide_by': 20, 'phis_window_slide_by': 1}\n",
      "\n",
      "Evaluating configuration {'window_generator_type': 'adaptive', 'window_size': 150, 'population_comparer': GTestComparer, 'threshold': 0.05, 'max_distance': 300, 'slide_by': 25, 'phis_window_slide_by': 1}\n",
      "\n",
      "Evaluating configuration {'window_generator_type': 'adaptive', 'window_size': 150, 'population_comparer': GTestComparer, 'threshold': 0.05, 'max_distance': 300, 'slide_by': 30, 'phis_window_slide_by': 1}\n",
      "Event log 71\n"
     ]
    },
    {
     "name": "stderr",
     "output_type": "stream",
     "text": [
      "parsing log, completed traces :: 100%|██████████| 10000/10000 [00:08<00:00, 1215.83it/s]\n"
     ]
    },
    {
     "name": "stdout",
     "output_type": "stream",
     "text": [
      "\n",
      "Evaluating configuration {'window_generator_type': 'adaptive', 'window_size': 150, 'population_comparer': GTestComparer, 'threshold': 0.05, 'max_distance': 300, 'slide_by': 1, 'phis_window_slide_by': 1}\n",
      "\n",
      "Evaluating configuration {'window_generator_type': 'adaptive', 'window_size': 150, 'population_comparer': GTestComparer, 'threshold': 0.05, 'max_distance': 300, 'slide_by': 15, 'phis_window_slide_by': 1}\n",
      "\n",
      "Evaluating configuration {'window_generator_type': 'adaptive', 'window_size': 150, 'population_comparer': GTestComparer, 'threshold': 0.05, 'max_distance': 300, 'slide_by': 20, 'phis_window_slide_by': 1}\n",
      "\n",
      "Evaluating configuration {'window_generator_type': 'adaptive', 'window_size': 150, 'population_comparer': GTestComparer, 'threshold': 0.05, 'max_distance': 300, 'slide_by': 25, 'phis_window_slide_by': 1}\n",
      "\n",
      "Evaluating configuration {'window_generator_type': 'adaptive', 'window_size': 150, 'population_comparer': GTestComparer, 'threshold': 0.05, 'max_distance': 300, 'slide_by': 30, 'phis_window_slide_by': 1}\n",
      "Event log 72\n"
     ]
    },
    {
     "name": "stderr",
     "output_type": "stream",
     "text": [
      "parsing log, completed traces :: 100%|██████████| 10000/10000 [00:08<00:00, 1187.26it/s]\n"
     ]
    },
    {
     "name": "stdout",
     "output_type": "stream",
     "text": [
      "\n",
      "Evaluating configuration {'window_generator_type': 'adaptive', 'window_size': 150, 'population_comparer': GTestComparer, 'threshold': 0.05, 'max_distance': 300, 'slide_by': 1, 'phis_window_slide_by': 1}\n",
      "\n",
      "Evaluating configuration {'window_generator_type': 'adaptive', 'window_size': 150, 'population_comparer': GTestComparer, 'threshold': 0.05, 'max_distance': 300, 'slide_by': 15, 'phis_window_slide_by': 1}\n",
      "\n",
      "Evaluating configuration {'window_generator_type': 'adaptive', 'window_size': 150, 'population_comparer': GTestComparer, 'threshold': 0.05, 'max_distance': 300, 'slide_by': 20, 'phis_window_slide_by': 1}\n",
      "\n",
      "Evaluating configuration {'window_generator_type': 'adaptive', 'window_size': 150, 'population_comparer': GTestComparer, 'threshold': 0.05, 'max_distance': 300, 'slide_by': 25, 'phis_window_slide_by': 1}\n",
      "\n",
      "Evaluating configuration {'window_generator_type': 'adaptive', 'window_size': 150, 'population_comparer': GTestComparer, 'threshold': 0.05, 'max_distance': 300, 'slide_by': 30, 'phis_window_slide_by': 1}\n",
      "Event log 73\n"
     ]
    },
    {
     "name": "stderr",
     "output_type": "stream",
     "text": [
      "parsing log, completed traces :: 100%|██████████| 10000/10000 [00:08<00:00, 1140.93it/s]\n"
     ]
    },
    {
     "name": "stdout",
     "output_type": "stream",
     "text": [
      "\n",
      "Evaluating configuration {'window_generator_type': 'adaptive', 'window_size': 150, 'population_comparer': GTestComparer, 'threshold': 0.05, 'max_distance': 300, 'slide_by': 1, 'phis_window_slide_by': 1}\n",
      "\n",
      "Evaluating configuration {'window_generator_type': 'adaptive', 'window_size': 150, 'population_comparer': GTestComparer, 'threshold': 0.05, 'max_distance': 300, 'slide_by': 15, 'phis_window_slide_by': 1}\n",
      "\n",
      "Evaluating configuration {'window_generator_type': 'adaptive', 'window_size': 150, 'population_comparer': GTestComparer, 'threshold': 0.05, 'max_distance': 300, 'slide_by': 20, 'phis_window_slide_by': 1}\n",
      "\n",
      "Evaluating configuration {'window_generator_type': 'adaptive', 'window_size': 150, 'population_comparer': GTestComparer, 'threshold': 0.05, 'max_distance': 300, 'slide_by': 25, 'phis_window_slide_by': 1}\n",
      "\n",
      "Evaluating configuration {'window_generator_type': 'adaptive', 'window_size': 150, 'population_comparer': GTestComparer, 'threshold': 0.05, 'max_distance': 300, 'slide_by': 30, 'phis_window_slide_by': 1}\n",
      "Event log 74\n"
     ]
    },
    {
     "name": "stderr",
     "output_type": "stream",
     "text": [
      "parsing log, completed traces :: 100%|██████████| 10000/10000 [00:08<00:00, 1210.43it/s]\n"
     ]
    },
    {
     "name": "stdout",
     "output_type": "stream",
     "text": [
      "\n",
      "Evaluating configuration {'window_generator_type': 'adaptive', 'window_size': 150, 'population_comparer': GTestComparer, 'threshold': 0.05, 'max_distance': 300, 'slide_by': 1, 'phis_window_slide_by': 1}\n",
      "\n",
      "Evaluating configuration {'window_generator_type': 'adaptive', 'window_size': 150, 'population_comparer': GTestComparer, 'threshold': 0.05, 'max_distance': 300, 'slide_by': 15, 'phis_window_slide_by': 1}\n",
      "\n",
      "Evaluating configuration {'window_generator_type': 'adaptive', 'window_size': 150, 'population_comparer': GTestComparer, 'threshold': 0.05, 'max_distance': 300, 'slide_by': 20, 'phis_window_slide_by': 1}\n",
      "\n",
      "Evaluating configuration {'window_generator_type': 'adaptive', 'window_size': 150, 'population_comparer': GTestComparer, 'threshold': 0.05, 'max_distance': 300, 'slide_by': 25, 'phis_window_slide_by': 1}\n",
      "\n",
      "Evaluating configuration {'window_generator_type': 'adaptive', 'window_size': 150, 'population_comparer': GTestComparer, 'threshold': 0.05, 'max_distance': 300, 'slide_by': 30, 'phis_window_slide_by': 1}\n",
      "Event log 75\n"
     ]
    },
    {
     "name": "stderr",
     "output_type": "stream",
     "text": [
      "parsing log, completed traces :: 100%|██████████| 10000/10000 [00:08<00:00, 1181.76it/s]\n"
     ]
    },
    {
     "name": "stdout",
     "output_type": "stream",
     "text": [
      "\n",
      "Evaluating configuration {'window_generator_type': 'adaptive', 'window_size': 150, 'population_comparer': GTestComparer, 'threshold': 0.05, 'max_distance': 300, 'slide_by': 1, 'phis_window_slide_by': 1}\n",
      "\n",
      "Evaluating configuration {'window_generator_type': 'adaptive', 'window_size': 150, 'population_comparer': GTestComparer, 'threshold': 0.05, 'max_distance': 300, 'slide_by': 15, 'phis_window_slide_by': 1}\n",
      "\n",
      "Evaluating configuration {'window_generator_type': 'adaptive', 'window_size': 150, 'population_comparer': GTestComparer, 'threshold': 0.05, 'max_distance': 300, 'slide_by': 20, 'phis_window_slide_by': 1}\n",
      "\n",
      "Evaluating configuration {'window_generator_type': 'adaptive', 'window_size': 150, 'population_comparer': GTestComparer, 'threshold': 0.05, 'max_distance': 300, 'slide_by': 25, 'phis_window_slide_by': 1}\n",
      "\n",
      "Evaluating configuration {'window_generator_type': 'adaptive', 'window_size': 150, 'population_comparer': GTestComparer, 'threshold': 0.05, 'max_distance': 300, 'slide_by': 30, 'phis_window_slide_by': 1}\n",
      "Event log 76\n"
     ]
    },
    {
     "name": "stderr",
     "output_type": "stream",
     "text": [
      "parsing log, completed traces :: 100%|██████████| 10000/10000 [00:08<00:00, 1139.27it/s]\n"
     ]
    },
    {
     "name": "stdout",
     "output_type": "stream",
     "text": [
      "\n",
      "Evaluating configuration {'window_generator_type': 'adaptive', 'window_size': 150, 'population_comparer': GTestComparer, 'threshold': 0.05, 'max_distance': 300, 'slide_by': 1, 'phis_window_slide_by': 1}\n",
      "\n",
      "Evaluating configuration {'window_generator_type': 'adaptive', 'window_size': 150, 'population_comparer': GTestComparer, 'threshold': 0.05, 'max_distance': 300, 'slide_by': 15, 'phis_window_slide_by': 1}\n",
      "\n",
      "Evaluating configuration {'window_generator_type': 'adaptive', 'window_size': 150, 'population_comparer': GTestComparer, 'threshold': 0.05, 'max_distance': 300, 'slide_by': 20, 'phis_window_slide_by': 1}\n",
      "\n",
      "Evaluating configuration {'window_generator_type': 'adaptive', 'window_size': 150, 'population_comparer': GTestComparer, 'threshold': 0.05, 'max_distance': 300, 'slide_by': 25, 'phis_window_slide_by': 1}\n",
      "\n",
      "Evaluating configuration {'window_generator_type': 'adaptive', 'window_size': 150, 'population_comparer': GTestComparer, 'threshold': 0.05, 'max_distance': 300, 'slide_by': 30, 'phis_window_slide_by': 1}\n",
      "Event log 77\n"
     ]
    },
    {
     "name": "stderr",
     "output_type": "stream",
     "text": [
      "parsing log, completed traces :: 100%|██████████| 10000/10000 [00:08<00:00, 1200.52it/s]\n"
     ]
    },
    {
     "name": "stdout",
     "output_type": "stream",
     "text": [
      "\n",
      "Evaluating configuration {'window_generator_type': 'adaptive', 'window_size': 150, 'population_comparer': GTestComparer, 'threshold': 0.05, 'max_distance': 300, 'slide_by': 1, 'phis_window_slide_by': 1}\n",
      "\n",
      "Evaluating configuration {'window_generator_type': 'adaptive', 'window_size': 150, 'population_comparer': GTestComparer, 'threshold': 0.05, 'max_distance': 300, 'slide_by': 15, 'phis_window_slide_by': 1}\n",
      "\n",
      "Evaluating configuration {'window_generator_type': 'adaptive', 'window_size': 150, 'population_comparer': GTestComparer, 'threshold': 0.05, 'max_distance': 300, 'slide_by': 20, 'phis_window_slide_by': 1}\n",
      "\n",
      "Evaluating configuration {'window_generator_type': 'adaptive', 'window_size': 150, 'population_comparer': GTestComparer, 'threshold': 0.05, 'max_distance': 300, 'slide_by': 25, 'phis_window_slide_by': 1}\n",
      "\n",
      "Evaluating configuration {'window_generator_type': 'adaptive', 'window_size': 150, 'population_comparer': GTestComparer, 'threshold': 0.05, 'max_distance': 300, 'slide_by': 30, 'phis_window_slide_by': 1}\n",
      "Event log 78\n"
     ]
    },
    {
     "name": "stderr",
     "output_type": "stream",
     "text": [
      "parsing log, completed traces :: 100%|██████████| 10000/10000 [00:08<00:00, 1169.53it/s]\n"
     ]
    },
    {
     "name": "stdout",
     "output_type": "stream",
     "text": [
      "\n",
      "Evaluating configuration {'window_generator_type': 'adaptive', 'window_size': 150, 'population_comparer': GTestComparer, 'threshold': 0.05, 'max_distance': 300, 'slide_by': 1, 'phis_window_slide_by': 1}\n",
      "\n",
      "Evaluating configuration {'window_generator_type': 'adaptive', 'window_size': 150, 'population_comparer': GTestComparer, 'threshold': 0.05, 'max_distance': 300, 'slide_by': 15, 'phis_window_slide_by': 1}\n",
      "\n",
      "Evaluating configuration {'window_generator_type': 'adaptive', 'window_size': 150, 'population_comparer': GTestComparer, 'threshold': 0.05, 'max_distance': 300, 'slide_by': 20, 'phis_window_slide_by': 1}\n",
      "\n",
      "Evaluating configuration {'window_generator_type': 'adaptive', 'window_size': 150, 'population_comparer': GTestComparer, 'threshold': 0.05, 'max_distance': 300, 'slide_by': 25, 'phis_window_slide_by': 1}\n",
      "\n",
      "Evaluating configuration {'window_generator_type': 'adaptive', 'window_size': 150, 'population_comparer': GTestComparer, 'threshold': 0.05, 'max_distance': 300, 'slide_by': 30, 'phis_window_slide_by': 1}\n",
      "Event log 79\n"
     ]
    },
    {
     "name": "stderr",
     "output_type": "stream",
     "text": [
      "parsing log, completed traces :: 100%|██████████| 10000/10000 [00:08<00:00, 1147.60it/s]\n"
     ]
    },
    {
     "name": "stdout",
     "output_type": "stream",
     "text": [
      "\n",
      "Evaluating configuration {'window_generator_type': 'adaptive', 'window_size': 150, 'population_comparer': GTestComparer, 'threshold': 0.05, 'max_distance': 300, 'slide_by': 1, 'phis_window_slide_by': 1}\n",
      "\n",
      "Evaluating configuration {'window_generator_type': 'adaptive', 'window_size': 150, 'population_comparer': GTestComparer, 'threshold': 0.05, 'max_distance': 300, 'slide_by': 15, 'phis_window_slide_by': 1}\n",
      "\n",
      "Evaluating configuration {'window_generator_type': 'adaptive', 'window_size': 150, 'population_comparer': GTestComparer, 'threshold': 0.05, 'max_distance': 300, 'slide_by': 20, 'phis_window_slide_by': 1}\n",
      "\n",
      "Evaluating configuration {'window_generator_type': 'adaptive', 'window_size': 150, 'population_comparer': GTestComparer, 'threshold': 0.05, 'max_distance': 300, 'slide_by': 25, 'phis_window_slide_by': 1}\n",
      "\n",
      "Evaluating configuration {'window_generator_type': 'adaptive', 'window_size': 150, 'population_comparer': GTestComparer, 'threshold': 0.05, 'max_distance': 300, 'slide_by': 30, 'phis_window_slide_by': 1}\n",
      "Event log 80\n"
     ]
    },
    {
     "name": "stderr",
     "output_type": "stream",
     "text": [
      "parsing log, completed traces :: 100%|██████████| 10000/10000 [00:08<00:00, 1207.46it/s]\n"
     ]
    },
    {
     "name": "stdout",
     "output_type": "stream",
     "text": [
      "\n",
      "Evaluating configuration {'window_generator_type': 'adaptive', 'window_size': 150, 'population_comparer': GTestComparer, 'threshold': 0.05, 'max_distance': 300, 'slide_by': 1, 'phis_window_slide_by': 1}\n",
      "\n",
      "Evaluating configuration {'window_generator_type': 'adaptive', 'window_size': 150, 'population_comparer': GTestComparer, 'threshold': 0.05, 'max_distance': 300, 'slide_by': 15, 'phis_window_slide_by': 1}\n",
      "\n",
      "Evaluating configuration {'window_generator_type': 'adaptive', 'window_size': 150, 'population_comparer': GTestComparer, 'threshold': 0.05, 'max_distance': 300, 'slide_by': 20, 'phis_window_slide_by': 1}\n",
      "\n",
      "Evaluating configuration {'window_generator_type': 'adaptive', 'window_size': 150, 'population_comparer': GTestComparer, 'threshold': 0.05, 'max_distance': 300, 'slide_by': 25, 'phis_window_slide_by': 1}\n",
      "\n",
      "Evaluating configuration {'window_generator_type': 'adaptive', 'window_size': 150, 'population_comparer': GTestComparer, 'threshold': 0.05, 'max_distance': 300, 'slide_by': 30, 'phis_window_slide_by': 1}\n",
      "Event log 81\n"
     ]
    },
    {
     "name": "stderr",
     "output_type": "stream",
     "text": [
      "parsing log, completed traces :: 100%|██████████| 10000/10000 [00:08<00:00, 1193.23it/s]\n"
     ]
    },
    {
     "name": "stdout",
     "output_type": "stream",
     "text": [
      "\n",
      "Evaluating configuration {'window_generator_type': 'adaptive', 'window_size': 150, 'population_comparer': GTestComparer, 'threshold': 0.05, 'max_distance': 300, 'slide_by': 1, 'phis_window_slide_by': 1}\n",
      "\n",
      "Evaluating configuration {'window_generator_type': 'adaptive', 'window_size': 150, 'population_comparer': GTestComparer, 'threshold': 0.05, 'max_distance': 300, 'slide_by': 15, 'phis_window_slide_by': 1}\n",
      "\n",
      "Evaluating configuration {'window_generator_type': 'adaptive', 'window_size': 150, 'population_comparer': GTestComparer, 'threshold': 0.05, 'max_distance': 300, 'slide_by': 20, 'phis_window_slide_by': 1}\n",
      "\n",
      "Evaluating configuration {'window_generator_type': 'adaptive', 'window_size': 150, 'population_comparer': GTestComparer, 'threshold': 0.05, 'max_distance': 300, 'slide_by': 25, 'phis_window_slide_by': 1}\n",
      "\n",
      "Evaluating configuration {'window_generator_type': 'adaptive', 'window_size': 150, 'population_comparer': GTestComparer, 'threshold': 0.05, 'max_distance': 300, 'slide_by': 30, 'phis_window_slide_by': 1}\n",
      "Event log 82\n"
     ]
    },
    {
     "name": "stderr",
     "output_type": "stream",
     "text": [
      "parsing log, completed traces :: 100%|██████████| 10000/10000 [00:08<00:00, 1158.44it/s]\n"
     ]
    },
    {
     "name": "stdout",
     "output_type": "stream",
     "text": [
      "\n",
      "Evaluating configuration {'window_generator_type': 'adaptive', 'window_size': 150, 'population_comparer': GTestComparer, 'threshold': 0.05, 'max_distance': 300, 'slide_by': 1, 'phis_window_slide_by': 1}\n",
      "\n",
      "Evaluating configuration {'window_generator_type': 'adaptive', 'window_size': 150, 'population_comparer': GTestComparer, 'threshold': 0.05, 'max_distance': 300, 'slide_by': 15, 'phis_window_slide_by': 1}\n",
      "\n",
      "Evaluating configuration {'window_generator_type': 'adaptive', 'window_size': 150, 'population_comparer': GTestComparer, 'threshold': 0.05, 'max_distance': 300, 'slide_by': 20, 'phis_window_slide_by': 1}\n",
      "\n",
      "Evaluating configuration {'window_generator_type': 'adaptive', 'window_size': 150, 'population_comparer': GTestComparer, 'threshold': 0.05, 'max_distance': 300, 'slide_by': 25, 'phis_window_slide_by': 1}\n",
      "\n",
      "Evaluating configuration {'window_generator_type': 'adaptive', 'window_size': 150, 'population_comparer': GTestComparer, 'threshold': 0.05, 'max_distance': 300, 'slide_by': 30, 'phis_window_slide_by': 1}\n",
      "Event log 83\n"
     ]
    },
    {
     "name": "stderr",
     "output_type": "stream",
     "text": [
      "parsing log, completed traces :: 100%|██████████| 10000/10000 [00:08<00:00, 1164.78it/s]\n"
     ]
    },
    {
     "name": "stdout",
     "output_type": "stream",
     "text": [
      "\n",
      "Evaluating configuration {'window_generator_type': 'adaptive', 'window_size': 150, 'population_comparer': GTestComparer, 'threshold': 0.05, 'max_distance': 300, 'slide_by': 1, 'phis_window_slide_by': 1}\n",
      "\n",
      "Evaluating configuration {'window_generator_type': 'adaptive', 'window_size': 150, 'population_comparer': GTestComparer, 'threshold': 0.05, 'max_distance': 300, 'slide_by': 15, 'phis_window_slide_by': 1}\n",
      "\n",
      "Evaluating configuration {'window_generator_type': 'adaptive', 'window_size': 150, 'population_comparer': GTestComparer, 'threshold': 0.05, 'max_distance': 300, 'slide_by': 20, 'phis_window_slide_by': 1}\n",
      "\n",
      "Evaluating configuration {'window_generator_type': 'adaptive', 'window_size': 150, 'population_comparer': GTestComparer, 'threshold': 0.05, 'max_distance': 300, 'slide_by': 25, 'phis_window_slide_by': 1}\n",
      "\n",
      "Evaluating configuration {'window_generator_type': 'adaptive', 'window_size': 150, 'population_comparer': GTestComparer, 'threshold': 0.05, 'max_distance': 300, 'slide_by': 30, 'phis_window_slide_by': 1}\n",
      "Event log 84\n"
     ]
    },
    {
     "name": "stderr",
     "output_type": "stream",
     "text": [
      "parsing log, completed traces :: 100%|██████████| 10000/10000 [00:08<00:00, 1215.35it/s]\n"
     ]
    },
    {
     "name": "stdout",
     "output_type": "stream",
     "text": [
      "\n",
      "Evaluating configuration {'window_generator_type': 'adaptive', 'window_size': 150, 'population_comparer': GTestComparer, 'threshold': 0.05, 'max_distance': 300, 'slide_by': 1, 'phis_window_slide_by': 1}\n",
      "\n",
      "Evaluating configuration {'window_generator_type': 'adaptive', 'window_size': 150, 'population_comparer': GTestComparer, 'threshold': 0.05, 'max_distance': 300, 'slide_by': 15, 'phis_window_slide_by': 1}\n",
      "\n",
      "Evaluating configuration {'window_generator_type': 'adaptive', 'window_size': 150, 'population_comparer': GTestComparer, 'threshold': 0.05, 'max_distance': 300, 'slide_by': 20, 'phis_window_slide_by': 1}\n",
      "\n",
      "Evaluating configuration {'window_generator_type': 'adaptive', 'window_size': 150, 'population_comparer': GTestComparer, 'threshold': 0.05, 'max_distance': 300, 'slide_by': 25, 'phis_window_slide_by': 1}\n",
      "\n",
      "Evaluating configuration {'window_generator_type': 'adaptive', 'window_size': 150, 'population_comparer': GTestComparer, 'threshold': 0.05, 'max_distance': 300, 'slide_by': 30, 'phis_window_slide_by': 1}\n",
      "Event log 85\n"
     ]
    },
    {
     "name": "stderr",
     "output_type": "stream",
     "text": [
      "parsing log, completed traces :: 100%|██████████| 10000/10000 [00:08<00:00, 1182.15it/s]\n"
     ]
    },
    {
     "name": "stdout",
     "output_type": "stream",
     "text": [
      "\n",
      "Evaluating configuration {'window_generator_type': 'adaptive', 'window_size': 150, 'population_comparer': GTestComparer, 'threshold': 0.05, 'max_distance': 300, 'slide_by': 1, 'phis_window_slide_by': 1}\n",
      "\n",
      "Evaluating configuration {'window_generator_type': 'adaptive', 'window_size': 150, 'population_comparer': GTestComparer, 'threshold': 0.05, 'max_distance': 300, 'slide_by': 15, 'phis_window_slide_by': 1}\n",
      "\n",
      "Evaluating configuration {'window_generator_type': 'adaptive', 'window_size': 150, 'population_comparer': GTestComparer, 'threshold': 0.05, 'max_distance': 300, 'slide_by': 20, 'phis_window_slide_by': 1}\n",
      "\n",
      "Evaluating configuration {'window_generator_type': 'adaptive', 'window_size': 150, 'population_comparer': GTestComparer, 'threshold': 0.05, 'max_distance': 300, 'slide_by': 25, 'phis_window_slide_by': 1}\n",
      "\n",
      "Evaluating configuration {'window_generator_type': 'adaptive', 'window_size': 150, 'population_comparer': GTestComparer, 'threshold': 0.05, 'max_distance': 300, 'slide_by': 30, 'phis_window_slide_by': 1}\n",
      "Event log 86\n"
     ]
    },
    {
     "name": "stderr",
     "output_type": "stream",
     "text": [
      "parsing log, completed traces :: 100%|██████████| 10000/10000 [00:08<00:00, 1146.72it/s]\n"
     ]
    },
    {
     "name": "stdout",
     "output_type": "stream",
     "text": [
      "\n",
      "Evaluating configuration {'window_generator_type': 'adaptive', 'window_size': 150, 'population_comparer': GTestComparer, 'threshold': 0.05, 'max_distance': 300, 'slide_by': 1, 'phis_window_slide_by': 1}\n",
      "\n",
      "Evaluating configuration {'window_generator_type': 'adaptive', 'window_size': 150, 'population_comparer': GTestComparer, 'threshold': 0.05, 'max_distance': 300, 'slide_by': 15, 'phis_window_slide_by': 1}\n",
      "\n",
      "Evaluating configuration {'window_generator_type': 'adaptive', 'window_size': 150, 'population_comparer': GTestComparer, 'threshold': 0.05, 'max_distance': 300, 'slide_by': 20, 'phis_window_slide_by': 1}\n",
      "\n",
      "Evaluating configuration {'window_generator_type': 'adaptive', 'window_size': 150, 'population_comparer': GTestComparer, 'threshold': 0.05, 'max_distance': 300, 'slide_by': 25, 'phis_window_slide_by': 1}\n",
      "\n",
      "Evaluating configuration {'window_generator_type': 'adaptive', 'window_size': 150, 'population_comparer': GTestComparer, 'threshold': 0.05, 'max_distance': 300, 'slide_by': 30, 'phis_window_slide_by': 1}\n",
      "Event log 87\n"
     ]
    },
    {
     "name": "stderr",
     "output_type": "stream",
     "text": [
      "parsing log, completed traces :: 100%|██████████| 10000/10000 [00:08<00:00, 1195.19it/s]\n"
     ]
    },
    {
     "name": "stdout",
     "output_type": "stream",
     "text": [
      "\n",
      "Evaluating configuration {'window_generator_type': 'adaptive', 'window_size': 150, 'population_comparer': GTestComparer, 'threshold': 0.05, 'max_distance': 300, 'slide_by': 1, 'phis_window_slide_by': 1}\n",
      "\n",
      "Evaluating configuration {'window_generator_type': 'adaptive', 'window_size': 150, 'population_comparer': GTestComparer, 'threshold': 0.05, 'max_distance': 300, 'slide_by': 15, 'phis_window_slide_by': 1}\n",
      "\n",
      "Evaluating configuration {'window_generator_type': 'adaptive', 'window_size': 150, 'population_comparer': GTestComparer, 'threshold': 0.05, 'max_distance': 300, 'slide_by': 20, 'phis_window_slide_by': 1}\n",
      "\n",
      "Evaluating configuration {'window_generator_type': 'adaptive', 'window_size': 150, 'population_comparer': GTestComparer, 'threshold': 0.05, 'max_distance': 300, 'slide_by': 25, 'phis_window_slide_by': 1}\n",
      "\n",
      "Evaluating configuration {'window_generator_type': 'adaptive', 'window_size': 150, 'population_comparer': GTestComparer, 'threshold': 0.05, 'max_distance': 300, 'slide_by': 30, 'phis_window_slide_by': 1}\n",
      "Event log 88\n"
     ]
    },
    {
     "name": "stderr",
     "output_type": "stream",
     "text": [
      "parsing log, completed traces :: 100%|██████████| 10000/10000 [00:08<00:00, 1185.33it/s]\n"
     ]
    },
    {
     "name": "stdout",
     "output_type": "stream",
     "text": [
      "\n",
      "Evaluating configuration {'window_generator_type': 'adaptive', 'window_size': 150, 'population_comparer': GTestComparer, 'threshold': 0.05, 'max_distance': 300, 'slide_by': 1, 'phis_window_slide_by': 1}\n",
      "\n",
      "Evaluating configuration {'window_generator_type': 'adaptive', 'window_size': 150, 'population_comparer': GTestComparer, 'threshold': 0.05, 'max_distance': 300, 'slide_by': 15, 'phis_window_slide_by': 1}\n",
      "\n",
      "Evaluating configuration {'window_generator_type': 'adaptive', 'window_size': 150, 'population_comparer': GTestComparer, 'threshold': 0.05, 'max_distance': 300, 'slide_by': 20, 'phis_window_slide_by': 1}\n",
      "\n",
      "Evaluating configuration {'window_generator_type': 'adaptive', 'window_size': 150, 'population_comparer': GTestComparer, 'threshold': 0.05, 'max_distance': 300, 'slide_by': 25, 'phis_window_slide_by': 1}\n",
      "\n",
      "Evaluating configuration {'window_generator_type': 'adaptive', 'window_size': 150, 'population_comparer': GTestComparer, 'threshold': 0.05, 'max_distance': 300, 'slide_by': 30, 'phis_window_slide_by': 1}\n",
      "Event log 89\n"
     ]
    },
    {
     "name": "stderr",
     "output_type": "stream",
     "text": [
      "parsing log, completed traces :: 100%|██████████| 10000/10000 [00:08<00:00, 1151.35it/s]\n"
     ]
    },
    {
     "name": "stdout",
     "output_type": "stream",
     "text": [
      "\n",
      "Evaluating configuration {'window_generator_type': 'adaptive', 'window_size': 150, 'population_comparer': GTestComparer, 'threshold': 0.05, 'max_distance': 300, 'slide_by': 1, 'phis_window_slide_by': 1}\n",
      "\n",
      "Evaluating configuration {'window_generator_type': 'adaptive', 'window_size': 150, 'population_comparer': GTestComparer, 'threshold': 0.05, 'max_distance': 300, 'slide_by': 15, 'phis_window_slide_by': 1}\n",
      "\n",
      "Evaluating configuration {'window_generator_type': 'adaptive', 'window_size': 150, 'population_comparer': GTestComparer, 'threshold': 0.05, 'max_distance': 300, 'slide_by': 20, 'phis_window_slide_by': 1}\n",
      "\n",
      "Evaluating configuration {'window_generator_type': 'adaptive', 'window_size': 150, 'population_comparer': GTestComparer, 'threshold': 0.05, 'max_distance': 300, 'slide_by': 25, 'phis_window_slide_by': 1}\n",
      "\n",
      "Evaluating configuration {'window_generator_type': 'adaptive', 'window_size': 150, 'population_comparer': GTestComparer, 'threshold': 0.05, 'max_distance': 300, 'slide_by': 30, 'phis_window_slide_by': 1}\n",
      "Event log 90\n"
     ]
    },
    {
     "name": "stderr",
     "output_type": "stream",
     "text": [
      "parsing log, completed traces :: 100%|██████████| 10000/10000 [00:08<00:00, 1151.30it/s]\n"
     ]
    },
    {
     "name": "stdout",
     "output_type": "stream",
     "text": [
      "\n",
      "Evaluating configuration {'window_generator_type': 'adaptive', 'window_size': 150, 'population_comparer': GTestComparer, 'threshold': 0.05, 'max_distance': 300, 'slide_by': 1, 'phis_window_slide_by': 1}\n",
      "\n",
      "Evaluating configuration {'window_generator_type': 'adaptive', 'window_size': 150, 'population_comparer': GTestComparer, 'threshold': 0.05, 'max_distance': 300, 'slide_by': 15, 'phis_window_slide_by': 1}\n",
      "\n",
      "Evaluating configuration {'window_generator_type': 'adaptive', 'window_size': 150, 'population_comparer': GTestComparer, 'threshold': 0.05, 'max_distance': 300, 'slide_by': 20, 'phis_window_slide_by': 1}\n",
      "\n",
      "Evaluating configuration {'window_generator_type': 'adaptive', 'window_size': 150, 'population_comparer': GTestComparer, 'threshold': 0.05, 'max_distance': 300, 'slide_by': 25, 'phis_window_slide_by': 1}\n",
      "\n",
      "Evaluating configuration {'window_generator_type': 'adaptive', 'window_size': 150, 'population_comparer': GTestComparer, 'threshold': 0.05, 'max_distance': 300, 'slide_by': 30, 'phis_window_slide_by': 1}\n",
      "Event log 91\n"
     ]
    },
    {
     "name": "stderr",
     "output_type": "stream",
     "text": [
      "parsing log, completed traces :: 100%|██████████| 10000/10000 [00:08<00:00, 1204.93it/s]\n"
     ]
    },
    {
     "name": "stdout",
     "output_type": "stream",
     "text": [
      "\n",
      "Evaluating configuration {'window_generator_type': 'adaptive', 'window_size': 150, 'population_comparer': GTestComparer, 'threshold': 0.05, 'max_distance': 300, 'slide_by': 1, 'phis_window_slide_by': 1}\n",
      "\n",
      "Evaluating configuration {'window_generator_type': 'adaptive', 'window_size': 150, 'population_comparer': GTestComparer, 'threshold': 0.05, 'max_distance': 300, 'slide_by': 15, 'phis_window_slide_by': 1}\n",
      "\n",
      "Evaluating configuration {'window_generator_type': 'adaptive', 'window_size': 150, 'population_comparer': GTestComparer, 'threshold': 0.05, 'max_distance': 300, 'slide_by': 20, 'phis_window_slide_by': 1}\n",
      "\n",
      "Evaluating configuration {'window_generator_type': 'adaptive', 'window_size': 150, 'population_comparer': GTestComparer, 'threshold': 0.05, 'max_distance': 300, 'slide_by': 25, 'phis_window_slide_by': 1}\n",
      "\n",
      "Evaluating configuration {'window_generator_type': 'adaptive', 'window_size': 150, 'population_comparer': GTestComparer, 'threshold': 0.05, 'max_distance': 300, 'slide_by': 30, 'phis_window_slide_by': 1}\n",
      "Event log 92\n"
     ]
    },
    {
     "name": "stderr",
     "output_type": "stream",
     "text": [
      "parsing log, completed traces :: 100%|██████████| 10000/10000 [00:08<00:00, 1176.83it/s]\n"
     ]
    },
    {
     "name": "stdout",
     "output_type": "stream",
     "text": [
      "\n",
      "Evaluating configuration {'window_generator_type': 'adaptive', 'window_size': 150, 'population_comparer': GTestComparer, 'threshold': 0.05, 'max_distance': 300, 'slide_by': 1, 'phis_window_slide_by': 1}\n",
      "\n",
      "Evaluating configuration {'window_generator_type': 'adaptive', 'window_size': 150, 'population_comparer': GTestComparer, 'threshold': 0.05, 'max_distance': 300, 'slide_by': 15, 'phis_window_slide_by': 1}\n",
      "\n",
      "Evaluating configuration {'window_generator_type': 'adaptive', 'window_size': 150, 'population_comparer': GTestComparer, 'threshold': 0.05, 'max_distance': 300, 'slide_by': 20, 'phis_window_slide_by': 1}\n",
      "\n",
      "Evaluating configuration {'window_generator_type': 'adaptive', 'window_size': 150, 'population_comparer': GTestComparer, 'threshold': 0.05, 'max_distance': 300, 'slide_by': 25, 'phis_window_slide_by': 1}\n",
      "\n",
      "Evaluating configuration {'window_generator_type': 'adaptive', 'window_size': 150, 'population_comparer': GTestComparer, 'threshold': 0.05, 'max_distance': 300, 'slide_by': 30, 'phis_window_slide_by': 1}\n",
      "Event log 93\n"
     ]
    },
    {
     "name": "stderr",
     "output_type": "stream",
     "text": [
      "parsing log, completed traces :: 100%|██████████| 10000/10000 [00:08<00:00, 1140.30it/s]\n"
     ]
    },
    {
     "name": "stdout",
     "output_type": "stream",
     "text": [
      "\n",
      "Evaluating configuration {'window_generator_type': 'adaptive', 'window_size': 150, 'population_comparer': GTestComparer, 'threshold': 0.05, 'max_distance': 300, 'slide_by': 1, 'phis_window_slide_by': 1}\n",
      "\n",
      "Evaluating configuration {'window_generator_type': 'adaptive', 'window_size': 150, 'population_comparer': GTestComparer, 'threshold': 0.05, 'max_distance': 300, 'slide_by': 15, 'phis_window_slide_by': 1}\n",
      "\n",
      "Evaluating configuration {'window_generator_type': 'adaptive', 'window_size': 150, 'population_comparer': GTestComparer, 'threshold': 0.05, 'max_distance': 300, 'slide_by': 20, 'phis_window_slide_by': 1}\n",
      "\n",
      "Evaluating configuration {'window_generator_type': 'adaptive', 'window_size': 150, 'population_comparer': GTestComparer, 'threshold': 0.05, 'max_distance': 300, 'slide_by': 25, 'phis_window_slide_by': 1}\n",
      "\n",
      "Evaluating configuration {'window_generator_type': 'adaptive', 'window_size': 150, 'population_comparer': GTestComparer, 'threshold': 0.05, 'max_distance': 300, 'slide_by': 30, 'phis_window_slide_by': 1}\n",
      "Event log 94\n"
     ]
    },
    {
     "name": "stderr",
     "output_type": "stream",
     "text": [
      "parsing log, completed traces :: 100%|██████████| 10000/10000 [00:08<00:00, 1204.99it/s]\n"
     ]
    },
    {
     "name": "stdout",
     "output_type": "stream",
     "text": [
      "\n",
      "Evaluating configuration {'window_generator_type': 'adaptive', 'window_size': 150, 'population_comparer': GTestComparer, 'threshold': 0.05, 'max_distance': 300, 'slide_by': 1, 'phis_window_slide_by': 1}\n",
      "\n",
      "Evaluating configuration {'window_generator_type': 'adaptive', 'window_size': 150, 'population_comparer': GTestComparer, 'threshold': 0.05, 'max_distance': 300, 'slide_by': 15, 'phis_window_slide_by': 1}\n",
      "\n",
      "Evaluating configuration {'window_generator_type': 'adaptive', 'window_size': 150, 'population_comparer': GTestComparer, 'threshold': 0.05, 'max_distance': 300, 'slide_by': 20, 'phis_window_slide_by': 1}\n",
      "\n",
      "Evaluating configuration {'window_generator_type': 'adaptive', 'window_size': 150, 'population_comparer': GTestComparer, 'threshold': 0.05, 'max_distance': 300, 'slide_by': 25, 'phis_window_slide_by': 1}\n",
      "\n",
      "Evaluating configuration {'window_generator_type': 'adaptive', 'window_size': 150, 'population_comparer': GTestComparer, 'threshold': 0.05, 'max_distance': 300, 'slide_by': 30, 'phis_window_slide_by': 1}\n",
      "Event log 95\n"
     ]
    },
    {
     "name": "stderr",
     "output_type": "stream",
     "text": [
      "parsing log, completed traces :: 100%|██████████| 10000/10000 [00:08<00:00, 1180.30it/s]\n"
     ]
    },
    {
     "name": "stdout",
     "output_type": "stream",
     "text": [
      "\n",
      "Evaluating configuration {'window_generator_type': 'adaptive', 'window_size': 150, 'population_comparer': GTestComparer, 'threshold': 0.05, 'max_distance': 300, 'slide_by': 1, 'phis_window_slide_by': 1}\n",
      "\n",
      "Evaluating configuration {'window_generator_type': 'adaptive', 'window_size': 150, 'population_comparer': GTestComparer, 'threshold': 0.05, 'max_distance': 300, 'slide_by': 15, 'phis_window_slide_by': 1}\n",
      "\n",
      "Evaluating configuration {'window_generator_type': 'adaptive', 'window_size': 150, 'population_comparer': GTestComparer, 'threshold': 0.05, 'max_distance': 300, 'slide_by': 20, 'phis_window_slide_by': 1}\n",
      "\n",
      "Evaluating configuration {'window_generator_type': 'adaptive', 'window_size': 150, 'population_comparer': GTestComparer, 'threshold': 0.05, 'max_distance': 300, 'slide_by': 25, 'phis_window_slide_by': 1}\n",
      "\n",
      "Evaluating configuration {'window_generator_type': 'adaptive', 'window_size': 150, 'population_comparer': GTestComparer, 'threshold': 0.05, 'max_distance': 300, 'slide_by': 30, 'phis_window_slide_by': 1}\n",
      "Event log 96\n"
     ]
    },
    {
     "name": "stderr",
     "output_type": "stream",
     "text": [
      "parsing log, completed traces :: 100%|██████████| 10000/10000 [00:09<00:00, 1050.09it/s]\n"
     ]
    },
    {
     "name": "stdout",
     "output_type": "stream",
     "text": [
      "\n",
      "Evaluating configuration {'window_generator_type': 'adaptive', 'window_size': 150, 'population_comparer': GTestComparer, 'threshold': 0.05, 'max_distance': 300, 'slide_by': 1, 'phis_window_slide_by': 1}\n",
      "\n",
      "Evaluating configuration {'window_generator_type': 'adaptive', 'window_size': 150, 'population_comparer': GTestComparer, 'threshold': 0.05, 'max_distance': 300, 'slide_by': 15, 'phis_window_slide_by': 1}\n",
      "\n",
      "Evaluating configuration {'window_generator_type': 'adaptive', 'window_size': 150, 'population_comparer': GTestComparer, 'threshold': 0.05, 'max_distance': 300, 'slide_by': 20, 'phis_window_slide_by': 1}\n",
      "\n",
      "Evaluating configuration {'window_generator_type': 'adaptive', 'window_size': 150, 'population_comparer': GTestComparer, 'threshold': 0.05, 'max_distance': 300, 'slide_by': 25, 'phis_window_slide_by': 1}\n",
      "\n",
      "Evaluating configuration {'window_generator_type': 'adaptive', 'window_size': 150, 'population_comparer': GTestComparer, 'threshold': 0.05, 'max_distance': 300, 'slide_by': 30, 'phis_window_slide_by': 1}\n",
      "Event log 97\n"
     ]
    },
    {
     "name": "stderr",
     "output_type": "stream",
     "text": [
      "parsing log, completed traces :: 100%|██████████| 10000/10000 [00:08<00:00, 1209.89it/s]\n"
     ]
    },
    {
     "name": "stdout",
     "output_type": "stream",
     "text": [
      "\n",
      "Evaluating configuration {'window_generator_type': 'adaptive', 'window_size': 150, 'population_comparer': GTestComparer, 'threshold': 0.05, 'max_distance': 300, 'slide_by': 1, 'phis_window_slide_by': 1}\n",
      "\n",
      "Evaluating configuration {'window_generator_type': 'adaptive', 'window_size': 150, 'population_comparer': GTestComparer, 'threshold': 0.05, 'max_distance': 300, 'slide_by': 15, 'phis_window_slide_by': 1}\n",
      "\n",
      "Evaluating configuration {'window_generator_type': 'adaptive', 'window_size': 150, 'population_comparer': GTestComparer, 'threshold': 0.05, 'max_distance': 300, 'slide_by': 20, 'phis_window_slide_by': 1}\n",
      "\n",
      "Evaluating configuration {'window_generator_type': 'adaptive', 'window_size': 150, 'population_comparer': GTestComparer, 'threshold': 0.05, 'max_distance': 300, 'slide_by': 25, 'phis_window_slide_by': 1}\n",
      "\n",
      "Evaluating configuration {'window_generator_type': 'adaptive', 'window_size': 150, 'population_comparer': GTestComparer, 'threshold': 0.05, 'max_distance': 300, 'slide_by': 30, 'phis_window_slide_by': 1}\n",
      "Event log 98\n"
     ]
    },
    {
     "name": "stderr",
     "output_type": "stream",
     "text": [
      "parsing log, completed traces :: 100%|██████████| 10000/10000 [00:08<00:00, 1179.97it/s]\n"
     ]
    },
    {
     "name": "stdout",
     "output_type": "stream",
     "text": [
      "\n",
      "Evaluating configuration {'window_generator_type': 'adaptive', 'window_size': 150, 'population_comparer': GTestComparer, 'threshold': 0.05, 'max_distance': 300, 'slide_by': 1, 'phis_window_slide_by': 1}\n",
      "\n",
      "Evaluating configuration {'window_generator_type': 'adaptive', 'window_size': 150, 'population_comparer': GTestComparer, 'threshold': 0.05, 'max_distance': 300, 'slide_by': 15, 'phis_window_slide_by': 1}\n",
      "\n",
      "Evaluating configuration {'window_generator_type': 'adaptive', 'window_size': 150, 'population_comparer': GTestComparer, 'threshold': 0.05, 'max_distance': 300, 'slide_by': 20, 'phis_window_slide_by': 1}\n",
      "\n",
      "Evaluating configuration {'window_generator_type': 'adaptive', 'window_size': 150, 'population_comparer': GTestComparer, 'threshold': 0.05, 'max_distance': 300, 'slide_by': 25, 'phis_window_slide_by': 1}\n",
      "\n",
      "Evaluating configuration {'window_generator_type': 'adaptive', 'window_size': 150, 'population_comparer': GTestComparer, 'threshold': 0.05, 'max_distance': 300, 'slide_by': 30, 'phis_window_slide_by': 1}\n",
      "Event log 99\n"
     ]
    },
    {
     "name": "stderr",
     "output_type": "stream",
     "text": [
      "parsing log, completed traces :: 100%|██████████| 10000/10000 [00:08<00:00, 1140.05it/s]\n"
     ]
    },
    {
     "name": "stdout",
     "output_type": "stream",
     "text": [
      "\n",
      "Evaluating configuration {'window_generator_type': 'adaptive', 'window_size': 150, 'population_comparer': GTestComparer, 'threshold': 0.05, 'max_distance': 300, 'slide_by': 1, 'phis_window_slide_by': 1}\n",
      "\n",
      "Evaluating configuration {'window_generator_type': 'adaptive', 'window_size': 150, 'population_comparer': GTestComparer, 'threshold': 0.05, 'max_distance': 300, 'slide_by': 15, 'phis_window_slide_by': 1}\n",
      "\n",
      "Evaluating configuration {'window_generator_type': 'adaptive', 'window_size': 150, 'population_comparer': GTestComparer, 'threshold': 0.05, 'max_distance': 300, 'slide_by': 20, 'phis_window_slide_by': 1}\n",
      "\n",
      "Evaluating configuration {'window_generator_type': 'adaptive', 'window_size': 150, 'population_comparer': GTestComparer, 'threshold': 0.05, 'max_distance': 300, 'slide_by': 25, 'phis_window_slide_by': 1}\n",
      "\n",
      "Evaluating configuration {'window_generator_type': 'adaptive', 'window_size': 150, 'population_comparer': GTestComparer, 'threshold': 0.05, 'max_distance': 300, 'slide_by': 30, 'phis_window_slide_by': 1}\n"
     ]
    }
   ],
   "source": [
    "# iterate all datasets with all settings\n",
    "for i, event_log_file_path in enumerate(event_log_file_paths):\n",
    "    if limit_iterations is not None:\n",
    "        if i >= limit_iterations: break\n",
    "    \n",
    "    print(f'Event log {i}')\n",
    "    event_log = xes_importer.apply(event_log_file_path)\n",
    "\n",
    "    for configuration in configurations:\n",
    "        print(f'\\nEvaluating configuration {configuration}')\n",
    "        \n",
    "        start_time = time.time()\n",
    "\n",
    "        window_generator_type = configuration['window_generator_type']\n",
    "        window_size = configuration['window_size']\n",
    "        population_comparer = configuration['population_comparer']\n",
    "        threshold = configuration['threshold']\n",
    "        max_distance = configuration['max_distance']\n",
    "        slide_by = configuration['slide_by']\n",
    "        phis_window_slide_by = configuration['phis_window_slide_by']\n",
    "        \n",
    "        window_generator = None\n",
    "        # build the secondary drift detector\n",
    "        if window_generator_type == 'fixed':\n",
    "            window_generator = windowing.FixedSizeWindowGenerator(window_size, slide_by=slide_by)\n",
    "        elif window_generator_type == 'adaptive':\n",
    "            window_generator = windowing.AdaptiveWindowGenerator(window_size, slide_by=slide_by)\n",
    "        \n",
    "\n",
    "        phi = math.ceil(phis_window_slide_by * window_size / slide_by)\n",
    "        \n",
    "        change_point_extractor = drift_detection.PhiFilterChangePointExtractor(threshold, phi, rho)\n",
    "\n",
    "        secondary_drift_detectors = drift_detection.get_all_attribute_drift_detectors(event_log,\n",
    "                                                                            window_generator, \n",
    "                                                                            population_comparer,\n",
    "                                                                            change_point_extractor=change_point_extractor,\n",
    "                                                                            exclude_attributes=exclude_attributes)\n",
    "        \n",
    "        drift_explainer = drift_explanation.DriftExplainer(primary_process_drift_detector, secondary_drift_detectors)\n",
    "\n",
    "        # calculate the drift explanations\n",
    "        observed_changes = drift_explainer.get_primary_and_secondary_changes(event_log, max_distance)\n",
    "        observed_drift_point_explanations = drift_explanation.get_possible_change_explanations(observed_changes, max_distance)\n",
    "        \n",
    "        # evaluate the change point explanations\n",
    "        observed_drift_point_explanations_simple =  helper.get_simple_change_point_list_from_explainer(observed_drift_point_explanations)    \n",
    "\n",
    "        result = evaluation.evaluate_explanations(true_change_point_explanations, observed_drift_point_explanations_simple, max_distance=window_size)\n",
    "        \n",
    "        # get end time\n",
    "        end_time = time.time()\n",
    "        # get the compute time and write into results\n",
    "        compute_time = end_time - start_time\n",
    "        \n",
    "        # write the configuration results to file\n",
    "        helper.append_config_results(results_path, event_log_file_path, configuration, result, compute_time)"
   ]
  },
  {
   "cell_type": "code",
   "execution_count": null,
   "id": "8963b369",
   "metadata": {},
   "outputs": [],
   "source": [
    "import winsound\n",
    "for i in range(1, 10):\n",
    "    winsound.Beep(500, 200)"
   ]
  }
 ],
 "metadata": {
  "interpreter": {
   "hash": "3586acef3f5f923af4b971ce05811a36e3973e810e5c25f95daaeb0237b948ae"
  },
  "kernelspec": {
   "display_name": "Python 3.10.4 ('concept_drift')",
   "language": "python",
   "name": "python3"
  },
  "language_info": {
   "codemirror_mode": {
    "name": "ipython",
    "version": 3
   },
   "file_extension": ".py",
   "mimetype": "text/x-python",
   "name": "python",
   "nbconvert_exporter": "python",
   "pygments_lexer": "ipython3",
   "version": "3.10.4"
  }
 },
 "nbformat": 4,
 "nbformat_minor": 5
}
