{
 "cells": [
  {
   "cell_type": "markdown",
   "id": "89d46962-50d0-4a78-9552-08db7fa8e639",
   "metadata": {
    "tags": []
   },
   "source": [
    "# Secondary Drift Detection for Simple Configuration\n",
    "\n",
    "## Setup\n",
    "### Imports"
   ]
  },
  {
   "cell_type": "code",
   "execution_count": 1,
   "id": "9df7d0f7-1aa4-4c89-9392-3376586554d3",
   "metadata": {},
   "outputs": [],
   "source": [
    "# imports\n",
    "import helper\n",
    "from pm4py.objects.log.importer.xes import importer as xes_importer\n",
    "\n",
    "from processdrift.framework import drift_detection\n",
    "from processdrift.framework import drift_explanation\n",
    "from processdrift.framework import feature_extraction\n",
    "from processdrift.framework import pop_comparison\n",
    "from processdrift.framework import windowing\n",
    "from processdrift.framework import evaluation\n",
    "\n",
    "import time\n",
    "import os\n",
    "import math"
   ]
  },
  {
   "cell_type": "markdown",
   "id": "33d7ccb6",
   "metadata": {},
   "source": [
    "### Data settings and event log loading"
   ]
  },
  {
   "cell_type": "code",
   "execution_count": 2,
   "id": "1155596b",
   "metadata": {},
   "outputs": [],
   "source": [
    "input_path = r'data\\synthetic\\attribute_drift\\sudden_3_attribute_values\\10000'\n",
    "size = 10000\n",
    "number_relevant_attributes = 5\n",
    "rho = 1\n",
    "\n",
    "results_path = r'results\\sudden_3_attribute_values\\10000\\100_iter_results.csv'\n",
    "delete_if_results_exists = False\n",
    "\n",
    "window_generator_types = ['adaptive', 'fixed']\n",
    "window_sizes= [100, 150, 200] # [100, 200]\n",
    "population_comparers = [pop_comparison.ChiSquaredComparer, pop_comparison.GTestComparer()] #[pop_comparison.ChiSquaredComparer(), pop_comparison.KSTestPopComparer()] # pop_comparison.HellingerDistanceComparer()]# pop_comparison.KSTestPopComparer(), pop_comparison.ChiSquaredComparer()]\n",
    "thresholds = [0.05]\n",
    "max_distances = [300]\n",
    "slide_bys = [5, 10, 15, 20]\n",
    "phis_window_slide_bys = [1, 1/2, 1/4]\n",
    "\n",
    "# always exclude the concept name as an attribute\n",
    "exclude_attributes = ['concept:name']\n",
    "\n",
    "# limit iterations\n",
    "limit_iterations = 10"
   ]
  },
  {
   "cell_type": "code",
   "execution_count": 3,
   "id": "1b39b77e",
   "metadata": {},
   "outputs": [],
   "source": [
    "# get the true change points and true change point explanations\n",
    "true_change_points = helper.get_change_points_maardji_et_al_2013(10000)\n",
    "true_change_point_explanations = [(true_change_points[i], f'relevant_attribute_{i+1:02d}') for i in range(number_relevant_attributes)]"
   ]
  },
  {
   "cell_type": "code",
   "execution_count": 4,
   "id": "2525ddc9",
   "metadata": {},
   "outputs": [],
   "source": [
    "# load all event logs from the input path\n",
    "event_log_file_paths = helper.get_all_files_in_dir(input_path, include_files_in_subdirs=True)"
   ]
  },
  {
   "cell_type": "code",
   "execution_count": 5,
   "id": "5685f73f",
   "metadata": {},
   "outputs": [],
   "source": [
    "# primary drift detector stays always the same\n",
    "primary_process_drift_detector = drift_detection.DriftDetectorTrueKnown(true_change_points)"
   ]
  },
  {
   "cell_type": "code",
   "execution_count": 6,
   "id": "98d02474",
   "metadata": {},
   "outputs": [],
   "source": [
    "# build all possible configuration:\n",
    "\n",
    "window_generator_types = ['adaptive', 'fixed']\n",
    "window_sizes= [100, 150, 200] # [100, 200]\n",
    "population_comparers = [pop_comparison.ChiSquaredComparer, pop_comparison.GTestComparer()] #[pop_comparison.ChiSquaredComparer(), pop_comparison.KSTestPopComparer()] # pop_comparison.HellingerDistanceComparer()]# pop_comparison.KSTestPopComparer(), pop_comparison.ChiSquaredComparer()]\n",
    "threshold = 0.05\n",
    "max_distances = [300]\n",
    "slide_bys = [5, 10, 15, 20]\n",
    "phis_window_slide_bys = [1, 1/2, 1/4]\n",
    "\n",
    "configurations = []\n",
    "for window_generator_type in window_generator_types:\n",
    "    for window_size in window_sizes:\n",
    "        for population_comparer in population_comparers:\n",
    "            for threshold in thresholds:\n",
    "                for max_distance in max_distances:\n",
    "                    for slide_by in slide_bys:\n",
    "                        for phis_window_slide_by in phis_window_slide_bys:\n",
    "                            configurations.append({\n",
    "                                'window_generator_type': window_generator_type,\n",
    "                                'window_size': window_size,\n",
    "                                'population_comparer': population_comparer,\n",
    "                                'threshold': threshold,\n",
    "                                'max_distance': max_distance,\n",
    "                                'slide_by': slide_by,\n",
    "                                'phis_window_slide_by': phis_window_slide_by\n",
    "                            })"
   ]
  },
  {
   "cell_type": "code",
   "execution_count": 7,
   "id": "eb7cfde7",
   "metadata": {},
   "outputs": [],
   "source": [
    "# delete results file if exists\n",
    "if delete_if_results_exists:\n",
    "    if os.path.exists(results_path):\n",
    "        os.remove(results_path)"
   ]
  },
  {
   "cell_type": "code",
   "execution_count": 8,
   "id": "ceea0560",
   "metadata": {},
   "outputs": [
    {
     "name": "stdout",
     "output_type": "stream",
     "text": [
      "Event log 0\n"
     ]
    },
    {
     "name": "stderr",
     "output_type": "stream",
     "text": [
      "c:\\Users\\Lennart\\Tools\\Anaconda3\\envs\\concept_drift\\lib\\site-packages\\tqdm\\auto.py:22: TqdmWarning: IProgress not found. Please update jupyter and ipywidgets. See https://ipywidgets.readthedocs.io/en/stable/user_install.html\n",
      "  from .autonotebook import tqdm as notebook_tqdm\n",
      "parsing log, completed traces :: 100%|██████████| 10000/10000 [00:08<00:00, 1230.84it/s]\n"
     ]
    },
    {
     "name": "stdout",
     "output_type": "stream",
     "text": [
      "\n",
      "Evaluating configuration {'window_generator_type': 'adaptive', 'window_size': 100, 'population_comparer': <class 'processdrift.framework.pop_comparison.ChiSquaredComparer'>, 'threshold': 0.05, 'max_distance': 300, 'slide_by': 5, 'phis_window_slide_by': 1}\n"
     ]
    },
    {
     "ename": "TypeError",
     "evalue": "get_all_attribute_drift_detectors() got an unexpected keyword argument 'min_observations_below'",
     "output_type": "error",
     "traceback": [
      "\u001b[1;31m---------------------------------------------------------------------------\u001b[0m",
      "\u001b[1;31mTypeError\u001b[0m                                 Traceback (most recent call last)",
      "\u001b[1;32mc:\\Users\\Lennart\\Documents\\1_Workspaces\\explaining_concept_drift\\31_secondary detection_synthetic_simple.ipynb Cell 10'\u001b[0m in \u001b[0;36m<cell line: 2>\u001b[1;34m()\u001b[0m\n\u001b[0;32m     <a href='vscode-notebook-cell:/c%3A/Users/Lennart/Documents/1_Workspaces/explaining_concept_drift/31_secondary%20detection_synthetic_simple.ipynb#ch0000009?line=29'>30</a>\u001b[0m phi \u001b[39m=\u001b[39m math\u001b[39m.\u001b[39mceil(phis_window_slide_by \u001b[39m*\u001b[39m window_size \u001b[39m/\u001b[39m slide_by)\n\u001b[0;32m     <a href='vscode-notebook-cell:/c%3A/Users/Lennart/Documents/1_Workspaces/explaining_concept_drift/31_secondary%20detection_synthetic_simple.ipynb#ch0000009?line=31'>32</a>\u001b[0m change_point_extractor \u001b[39m=\u001b[39m drift_detection\u001b[39m.\u001b[39mPhiFilterChangePointExtractor(threshold, phi, rho)\n\u001b[1;32m---> <a href='vscode-notebook-cell:/c%3A/Users/Lennart/Documents/1_Workspaces/explaining_concept_drift/31_secondary%20detection_synthetic_simple.ipynb#ch0000009?line=33'>34</a>\u001b[0m secondary_drift_detectors \u001b[39m=\u001b[39m drift_detection\u001b[39m.\u001b[39;49mget_all_attribute_drift_detectors(event_log,\n\u001b[0;32m     <a href='vscode-notebook-cell:/c%3A/Users/Lennart/Documents/1_Workspaces/explaining_concept_drift/31_secondary%20detection_synthetic_simple.ipynb#ch0000009?line=34'>35</a>\u001b[0m                                                                     window_generator, \n\u001b[0;32m     <a href='vscode-notebook-cell:/c%3A/Users/Lennart/Documents/1_Workspaces/explaining_concept_drift/31_secondary%20detection_synthetic_simple.ipynb#ch0000009?line=35'>36</a>\u001b[0m                                                                     population_comparer, \n\u001b[0;32m     <a href='vscode-notebook-cell:/c%3A/Users/Lennart/Documents/1_Workspaces/explaining_concept_drift/31_secondary%20detection_synthetic_simple.ipynb#ch0000009?line=36'>37</a>\u001b[0m                                                                     change_point_extractor\u001b[39m=\u001b[39;49mchange_point_extractor,\n\u001b[0;32m     <a href='vscode-notebook-cell:/c%3A/Users/Lennart/Documents/1_Workspaces/explaining_concept_drift/31_secondary%20detection_synthetic_simple.ipynb#ch0000009?line=37'>38</a>\u001b[0m                                                                     exclude_attributes\u001b[39m=\u001b[39;49mexclude_attributes,\n\u001b[0;32m     <a href='vscode-notebook-cell:/c%3A/Users/Lennart/Documents/1_Workspaces/explaining_concept_drift/31_secondary%20detection_synthetic_simple.ipynb#ch0000009?line=38'>39</a>\u001b[0m                                                                     min_observations_below\u001b[39m=\u001b[39;49m\u001b[39m3\u001b[39;49m)\n\u001b[0;32m     <a href='vscode-notebook-cell:/c%3A/Users/Lennart/Documents/1_Workspaces/explaining_concept_drift/31_secondary%20detection_synthetic_simple.ipynb#ch0000009?line=40'>41</a>\u001b[0m drift_explainer \u001b[39m=\u001b[39m drift_explanation\u001b[39m.\u001b[39mDriftExplainer(primary_process_drift_detector, secondary_drift_detectors)\n\u001b[0;32m     <a href='vscode-notebook-cell:/c%3A/Users/Lennart/Documents/1_Workspaces/explaining_concept_drift/31_secondary%20detection_synthetic_simple.ipynb#ch0000009?line=42'>43</a>\u001b[0m \u001b[39m# calculate the drift explanations\u001b[39;00m\n",
      "\u001b[1;31mTypeError\u001b[0m: get_all_attribute_drift_detectors() got an unexpected keyword argument 'min_observations_below'"
     ]
    }
   ],
   "source": [
    "# iterate all datasets with all settings\n",
    "for i, event_log_file_path in enumerate(event_log_file_paths):\n",
    "    if limit_iterations is not None:\n",
    "        if i >= limit_iterations: break\n",
    "    \n",
    "    print(f'Event log {i}')\n",
    "    event_log = xes_importer.apply(event_log_file_path)\n",
    "\n",
    "    for configuration in configurations:\n",
    "        print(f'\\nEvaluating configuration {configuration}')\n",
    "        \n",
    "        start_time = time.time()\n",
    "\n",
    "        window_generator_type = configuration['window_generator_type']\n",
    "        window_size = configuration['window_size']\n",
    "        population_comparer = configuration['population_comparer']\n",
    "        threshold = configuration['threshold']\n",
    "        max_distance = configuration['max_distance']\n",
    "        slide_by = configuration['slide_by']\n",
    "        phis_window_slide_by = configuration['phis_window_slide_by']\n",
    "        \n",
    "        window_generator = None\n",
    "        # build the secondary drift detector\n",
    "        if window_generator_type == 'fixed':\n",
    "            window_generator = windowing.FixedSizeWindowGenerator(window_size, slide_by=slide_by)\n",
    "        elif window_generator_type == 'adaptive':\n",
    "            window_generator = windowing.AdaptiveWindowGenerator(window_size, slide_by=slide_by)\n",
    "        \n",
    "\n",
    "        phi = math.ceil(phis_window_slide_by * window_size / slide_by)\n",
    "        \n",
    "        change_point_extractor = drift_detection.PhiFilterChangePointExtractor(threshold, phi, rho)\n",
    "\n",
    "        secondary_drift_detectors = drift_detection.get_all_attribute_drift_detectors(event_log,\n",
    "                                                                            window_generator, \n",
    "                                                                            population_comparer,\n",
    "                                                                            change_point_extractor=change_point_extractor,\n",
    "                                                                            exclude_attributes=exclude_attributes)\n",
    "        \n",
    "        drift_explainer = drift_explanation.DriftExplainer(primary_process_drift_detector, secondary_drift_detectors)\n",
    "\n",
    "        # calculate the drift explanations\n",
    "        observed_changes = drift_explainer.get_primary_and_secondary_changes(event_log, max_distance)\n",
    "        observed_drift_point_explanations = drift_explanation.get_possible_change_explanations(observed_changes, max_distance)\n",
    "        \n",
    "        # evaluate the change point explanations\n",
    "        observed_drift_point_explanations_simple =  helper.get_simple_change_point_list_from_explainer(observed_drift_point_explanations)    \n",
    "\n",
    "        result = evaluation.evaluate_explanations(true_change_point_explanations, observed_drift_point_explanations_simple, max_distance=window_size)\n",
    "        \n",
    "        # get end time\n",
    "        end_time = time.time()\n",
    "        # get the compute time and write into results\n",
    "        compute_time = end_time - start_time\n",
    "        \n",
    "        # write the configuration results to file\n",
    "        helper.append_config_results(results_path, event_log_file_path, configuration, result, compute_time)"
   ]
  },
  {
   "cell_type": "code",
   "execution_count": null,
   "id": "8963b369",
   "metadata": {},
   "outputs": [],
   "source": [
    "import winsound\n",
    "for i in range(1, 10):\n",
    "    winsound.Beep(500, 200)"
   ]
  }
 ],
 "metadata": {
  "interpreter": {
   "hash": "3586acef3f5f923af4b971ce05811a36e3973e810e5c25f95daaeb0237b948ae"
  },
  "kernelspec": {
   "display_name": "Python 3.10.4 ('concept_drift')",
   "language": "python",
   "name": "python3"
  },
  "language_info": {
   "codemirror_mode": {
    "name": "ipython",
    "version": 3
   },
   "file_extension": ".py",
   "mimetype": "text/x-python",
   "name": "python",
   "nbconvert_exporter": "python",
   "pygments_lexer": "ipython3",
   "version": "3.10.4"
  }
 },
 "nbformat": 4,
 "nbformat_minor": 5
}
