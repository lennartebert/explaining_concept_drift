{
 "cells": [
  {
   "cell_type": "markdown",
   "id": "1f7017a7-9b03-48fa-a285-ce184f6403dc",
   "metadata": {},
   "source": [
    "# Attribute importance ranking for synthetic data with known change points\n",
    "The process change points are known. Hence, no change point detection algorithm needs to be used."
   ]
  },
  {
   "cell_type": "code",
   "execution_count": 1,
   "id": "8f294e18-0a29-4492-a8f9-a9287872684f",
   "metadata": {},
   "outputs": [],
   "source": [
    "import pm4py\n",
    "import helper\n",
    "import pandas as pd"
   ]
  },
  {
   "cell_type": "code",
   "execution_count": 2,
   "id": "40fc19f7-a38b-41d8-9a9f-595b9d9b8d8e",
   "metadata": {},
   "outputs": [],
   "source": [
    "# data_file_path = 'data/synthetic/maardji et al 2013_xes_attributes/logs/ROI/ROI2.5k.xes'\n",
    "# data_file_path = 'data/synthetic/maardji et al 2013_xes_attributes/logs/cb/cb10k.xes'\n",
    "data_file_path = 'data/synthetic/generated/new_attribute_values/2500_sudden_5_00.xes'"
   ]
  },
  {
   "cell_type": "markdown",
   "id": "1663a296-baa2-4778-ac0a-31c8e3aa9464",
   "metadata": {
    "tags": []
   },
   "source": [
    "## Load an event log"
   ]
  },
  {
   "cell_type": "code",
   "execution_count": 3,
   "id": "0d258cdc-e351-4c90-9b2d-c22d58d1d261",
   "metadata": {},
   "outputs": [],
   "source": [
    "# Display the data info\n",
    "data_info = helper.get_data_information(data_file_path)\n",
    "data_info\n",
    "\n",
    "change_points = data_info['change_points']"
   ]
  },
  {
   "cell_type": "code",
   "execution_count": 4,
   "id": "bf81c64e-8121-4d9d-998f-00bf2d3b4a29",
   "metadata": {},
   "outputs": [
    {
     "name": "stderr",
     "output_type": "stream",
     "text": [
      "C:\\Users\\Lennart\\Tools\\Anaconda3\\envs\\concept_drift\\lib\\site-packages\\tqdm\\auto.py:22: TqdmWarning: IProgress not found. Please update jupyter and ipywidgets. See https://ipywidgets.readthedocs.io/en/stable/user_install.html\n",
      "  from .autonotebook import tqdm as notebook_tqdm\n",
      "parsing log, completed traces :: 100%|████████████████████████████████████████████| 2500/2500 [00:02<00:00, 946.31it/s]\n"
     ]
    }
   ],
   "source": [
    "# load the event log into pm4py\n",
    "from pm4py.objects.log.importer.xes import importer as xes_importer\n",
    "event_log = xes_importer.apply(data_file_path)"
   ]
  },
  {
   "cell_type": "code",
   "execution_count": 5,
   "id": "e8c5aa00-5c05-42dc-bc98-13e4978f1414",
   "metadata": {},
   "outputs": [],
   "source": [
    "from processdrift.framework import drift_detection\n",
    "from processdrift.framework import drift_explanation\n",
    "from processdrift.framework import feature_extraction\n",
    "from processdrift.framework import pop_comparison\n",
    "from processdrift.framework import windowing"
   ]
  },
  {
   "cell_type": "code",
   "execution_count": 6,
   "id": "067fa8b2-aa1e-4e7d-9ac2-7ae2406a63ce",
   "metadata": {},
   "outputs": [],
   "source": [
    "# # build the primary process drift detector\n",
    "# primary_feature_extractor = feature_extraction.RelationalEntropyFeatureExtractor()\n",
    "# primary_window_generator = windowing.FixedSizeWindowGenerator(window_size=150, slide_by=5)\n",
    "# primary_population_comparer = pop_comparison.KSTestPopComparer()\n",
    "# primary_threshold = 0.5\n",
    "# primary_process_drift_detector = drift_detection.DriftDetector(primary_feature_extractor, \n",
    "#                                                                primary_window_generator,\n",
    "#                                                                primary_population_comparer, \n",
    "#                                                                threshold=primary_threshold)"
   ]
  },
  {
   "cell_type": "code",
   "execution_count": 7,
   "id": "9dc16ebf-0d5a-4859-b630-a6b383f6f793",
   "metadata": {},
   "outputs": [],
   "source": [
    "# # build the primary process drift detector\n",
    "# primary_feature_extractor = feature_extraction.RelationshipTypesCountFeatureExtractor('Relationship types count')\n",
    "# primary_window_generator = windowing.FixedSizeWindowGenerator(window_size=150, slide_by=1)\n",
    "# primary_population_comparer = pop_comparison.HotellingsTSquaredPopComparer()\n",
    "# primary_threshold = 0.5\n",
    "# primary_process_drift_detector = drift_detection.DriftDetector(primary_feature_extractor, \n",
    "#                                                                primary_window_generator,\n",
    "#                                                                primary_population_comparer, \n",
    "#                                                                threshold=primary_threshold)"
   ]
  },
  {
   "cell_type": "code",
   "execution_count": 8,
   "id": "ca13ee10",
   "metadata": {},
   "outputs": [],
   "source": [
    "# build the primary process drift detector\n",
    "primary_feature_extractor = feature_extraction.RunsFeatureExtractor()\n",
    "primary_window_generator = windowing.FixedSizeWindowGenerator(window_size=100, slide_by=10)\n",
    "primary_population_comparer = pop_comparison.ChiSquaredComparer()\n",
    "primary_threshold = 0.5\n",
    "primary_process_drift_detector = drift_detection.DriftDetector(primary_feature_extractor, \n",
    "                                                               primary_window_generator,\n",
    "                                                               primary_population_comparer, \n",
    "                                                               threshold=primary_threshold)\n",
    "\n",
    "primary_process_drift_detector = drift_detection.DriftDetectorTrueKnown(change_points)"
   ]
  },
  {
   "cell_type": "code",
   "execution_count": 9,
   "id": "c86e6efe-203d-406d-afb6-f52466accc49",
   "metadata": {},
   "outputs": [
    {
     "name": "stdout",
     "output_type": "stream",
     "text": [
      "110\n",
      "210\n"
     ]
    }
   ],
   "source": [
    "# generate random window\n",
    "import itertools\n",
    "gen = primary_window_generator.get_windows(event_log)\n",
    "\n",
    "index = 10\n",
    "window_a, window_b = next(itertools.islice(gen, index, None))\n",
    "print(window_a.start)\n",
    "print(window_b.start)"
   ]
  },
  {
   "cell_type": "code",
   "execution_count": 10,
   "id": "a22f4f31",
   "metadata": {},
   "outputs": [],
   "source": [
    "features_window_a = primary_feature_extractor.extract(window_a.log)\n",
    "features_window_b = primary_feature_extractor.extract(window_b.log)"
   ]
  },
  {
   "cell_type": "code",
   "execution_count": 11,
   "id": "05ff5dab",
   "metadata": {},
   "outputs": [
    {
     "data": {
      "text/plain": [
       "5.878447887534581e-06"
      ]
     },
     "execution_count": 11,
     "metadata": {},
     "output_type": "execute_result"
    }
   ],
   "source": [
    "comp_result = primary_population_comparer.compare(features_window_a, features_window_b)\n",
    "comp_result"
   ]
  },
  {
   "cell_type": "code",
   "execution_count": 12,
   "id": "01ca48eb",
   "metadata": {},
   "outputs": [],
   "source": [
    "preprocessed_a, preprocessed_b = primary_population_comparer._preprocess(features_window_a, features_window_b)"
   ]
  },
  {
   "cell_type": "code",
   "execution_count": 13,
   "id": "6b71f7a0",
   "metadata": {},
   "outputs": [
    {
     "data": {
      "text/plain": [
       "array([29, 19,  8,  7,  6,  6,  5,  4,  4,  4,  4,  1,  1,  1,  1])"
      ]
     },
     "metadata": {},
     "output_type": "display_data"
    },
    {
     "data": {
      "text/plain": [
       "array([27, 36,  2,  1,  2,  5,  9,  1,  3,  2,  9,  0,  0,  3,  0])"
      ]
     },
     "metadata": {},
     "output_type": "display_data"
    }
   ],
   "source": [
    "display(preprocessed_a)\n",
    "display(preprocessed_b)"
   ]
  },
  {
   "cell_type": "code",
   "execution_count": 14,
   "id": "325f5ba6",
   "metadata": {},
   "outputs": [
    {
     "data": {
      "text/plain": [
       "1.4444852779215397e-08"
      ]
     },
     "execution_count": 14,
     "metadata": {},
     "output_type": "execute_result"
    }
   ],
   "source": [
    "primary_population_comparer.compare(preprocessed_a, preprocessed_b)"
   ]
  },
  {
   "cell_type": "code",
   "execution_count": 15,
   "id": "8286a4ac-9a36-47b8-996f-14e5d7c4bb42",
   "metadata": {},
   "outputs": [],
   "source": [
    "# # generate features\n",
    "# features_window_a = primary_feature_extractor.extract(window_a.log)\n",
    "# display(features_window_a.head())\n",
    "# features_window_b = primary_feature_extractor.extract(window_b.log)\n",
    "# display(features_window_b.head())"
   ]
  },
  {
   "cell_type": "code",
   "execution_count": 16,
   "id": "271c313e-9d46-4492-8133-336eb553986e",
   "metadata": {},
   "outputs": [],
   "source": [
    "# # perform test for features\n",
    "# result = pop_comparison.HotellingsTSquaredPopComparer().compare(features_window_a, features_window_b)"
   ]
  },
  {
   "cell_type": "code",
   "execution_count": 17,
   "id": "a36ba523-0064-4072-838e-03c05ba626cb",
   "metadata": {},
   "outputs": [],
   "source": [
    "# build the secondary process drift detectors\n",
    "secondary_window_generator = primary_window_generator\n",
    "secondary_population_comparer = pop_comparison.HellingerDistanceComparer()\n",
    "secondary_threshold = 0.7\n",
    "secondary_exclude_attributes = ['concept:name']\n",
    "secondary_drift_detectors = drift_detection.get_all_attribute_drift_detectors(event_log,\n",
    "                                                                         secondary_window_generator, \n",
    "                                                                         secondary_population_comparer, \n",
    "                                                                         threshold=secondary_threshold,\n",
    "                                                                         exclude_attributes=secondary_exclude_attributes)"
   ]
  },
  {
   "cell_type": "code",
   "execution_count": 18,
   "id": "7bffb64d-e1be-4fbc-8d36-763c3b61202b",
   "metadata": {},
   "outputs": [],
   "source": [
    "drift_explainer = drift_explanation.DriftExplainer(primary_process_drift_detector, secondary_drift_detectors)"
   ]
  },
  {
   "cell_type": "code",
   "execution_count": 19,
   "id": "b511c40f-e984-4cfb-8288-da3ce79a229c",
   "metadata": {},
   "outputs": [],
   "source": [
    "# primary_and_secondary_change_series = drift_explainer.get_primary_and_secondary_change_series(event_log)\n",
    "# drift_explanation.plot_primary_and_secondary_change_series(primary_and_secondary_change_series)"
   ]
  },
  {
   "cell_type": "code",
   "execution_count": 20,
   "id": "a683e4d4-7362-4d0e-8804-134a8669d729",
   "metadata": {},
   "outputs": [],
   "source": [
    "# primary, secondaries = primary_and_secondary_change_series"
   ]
  },
  {
   "cell_type": "code",
   "execution_count": 21,
   "id": "dce007de-89fc-4aca-be22-a46232676176",
   "metadata": {},
   "outputs": [],
   "source": [
    "# drift_detection._get_change_points_from_series(secondaries['Attribute: relevant_attribute_4'], threshold=0.7, min_observations_below=3, min_distance_change_streaks=3)"
   ]
  },
  {
   "cell_type": "code",
   "execution_count": 23,
   "id": "9e136c3a",
   "metadata": {},
   "outputs": [
    {
     "data": {
      "text/plain": [
       "{250: [{'detector': 'Attribute: relevant_attribute_1',\n",
       "   'detector_change_point': 228,\n",
       "   'distance': -22}],\n",
       " 500: [{'detector': 'Attribute: relevant_attribute_2',\n",
       "   'detector_change_point': 508,\n",
       "   'distance': 8}],\n",
       " 750: [{'detector': 'Attribute: relevant_attribute_3',\n",
       "   'detector_change_point': 708,\n",
       "   'distance': -42}],\n",
       " 1000: [],\n",
       " 1250: [{'detector': 'Attribute: relevant_attribute_5',\n",
       "   'detector_change_point': 1238,\n",
       "   'distance': -12}],\n",
       " 1500: [],\n",
       " 1750: [],\n",
       " 2000: [],\n",
       " 2250: []}"
      ]
     },
     "execution_count": 23,
     "metadata": {},
     "output_type": "execute_result"
    }
   ],
   "source": [
    "change_point_explanations = drift_explainer.attribute_importance_per_primary_change_point(event_log, max_distance=100)\n",
    "change_point_explanations"
   ]
  }
 ],
 "metadata": {
  "interpreter": {
   "hash": "3586acef3f5f923af4b971ce05811a36e3973e810e5c25f95daaeb0237b948ae"
  },
  "kernelspec": {
   "display_name": "Python 3 (ipykernel)",
   "language": "python",
   "name": "python3"
  },
  "language_info": {
   "codemirror_mode": {
    "name": "ipython",
    "version": 3
   },
   "file_extension": ".py",
   "mimetype": "text/x-python",
   "name": "python",
   "nbconvert_exporter": "python",
   "pygments_lexer": "ipython3",
   "version": "3.10.4"
  }
 },
 "nbformat": 4,
 "nbformat_minor": 5
}
