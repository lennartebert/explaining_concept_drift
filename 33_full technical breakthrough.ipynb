{
 "cells": [
  {
   "cell_type": "markdown",
   "id": "1f7017a7-9b03-48fa-a285-ce184f6403dc",
   "metadata": {},
   "source": [
    "# Attribute importance ranking for synthetic data with known change points\n",
    "The process change points are known. Hence, no change point detection algorithm needs to be used."
   ]
  },
  {
   "cell_type": "code",
   "execution_count": 1,
   "id": "8f294e18-0a29-4492-a8f9-a9287872684f",
   "metadata": {},
   "outputs": [],
   "source": [
    "import pm4py\n",
    "import helper\n",
    "import pandas as pd"
   ]
  },
  {
   "cell_type": "code",
   "execution_count": 2,
   "id": "40fc19f7-a38b-41d8-9a9f-595b9d9b8d8e",
   "metadata": {},
   "outputs": [],
   "source": [
    "# data_file_path = 'data/synthetic/maardji et al 2013_xes_attributes/logs/ROI/ROI2.5k.xes'\n",
    "# data_file_path = 'data/synthetic/maardji et al 2013_xes_attributes/logs/cb/cb10k.xes'\n",
    "data_file_path = 'data/synthetic/generated/new_attribute_values/2500_sudden_5_00.xes'"
   ]
  },
  {
   "cell_type": "markdown",
   "id": "1663a296-baa2-4778-ac0a-31c8e3aa9464",
   "metadata": {
    "tags": []
   },
   "source": [
    "## Load an event log"
   ]
  },
  {
   "cell_type": "code",
   "execution_count": 3,
   "id": "0d258cdc-e351-4c90-9b2d-c22d58d1d261",
   "metadata": {},
   "outputs": [],
   "source": [
    "# Display the data info\n",
    "data_info = helper.get_data_information(data_file_path)\n",
    "data_info\n",
    "\n",
    "change_points = data_info['change_points']"
   ]
  },
  {
   "cell_type": "code",
   "execution_count": 4,
   "id": "bf81c64e-8121-4d9d-998f-00bf2d3b4a29",
   "metadata": {},
   "outputs": [
    {
     "name": "stderr",
     "output_type": "stream",
     "text": [
      "C:\\Users\\Lennart\\Tools\\Anaconda3\\envs\\concept_drift\\lib\\site-packages\\tqdm\\auto.py:22: TqdmWarning: IProgress not found. Please update jupyter and ipywidgets. See https://ipywidgets.readthedocs.io/en/stable/user_install.html\n",
      "  from .autonotebook import tqdm as notebook_tqdm\n",
      "parsing log, completed traces :: 100%|███████████████████████████████████████████| 2500/2500 [00:02<00:00, 1154.76it/s]\n"
     ]
    }
   ],
   "source": [
    "# load the event log into pm4py\n",
    "from pm4py.objects.log.importer.xes import importer as xes_importer\n",
    "event_log = xes_importer.apply(data_file_path)"
   ]
  },
  {
   "cell_type": "code",
   "execution_count": 5,
   "id": "e8c5aa00-5c05-42dc-bc98-13e4978f1414",
   "metadata": {},
   "outputs": [],
   "source": [
    "from concept_drift import framework"
   ]
  },
  {
   "cell_type": "code",
   "execution_count": 6,
   "id": "067fa8b2-aa1e-4e7d-9ac2-7ae2406a63ce",
   "metadata": {},
   "outputs": [],
   "source": [
    "feature_extractor = framework.RelationalEntropyFeatureExtractor()"
   ]
  },
  {
   "cell_type": "code",
   "execution_count": 7,
   "id": "a73f3068-fe90-4c8e-8017-5cfb45ee777c",
   "metadata": {},
   "outputs": [],
   "source": [
    "window_generator = framework.FixedSizeWindowGenerator(window_size=100, slide_by=10)"
   ]
  },
  {
   "cell_type": "code",
   "execution_count": 8,
   "id": "6b07d244-eeec-4791-9756-cd297b73eebb",
   "metadata": {},
   "outputs": [],
   "source": [
    "population_comparer = framework.KSTestPopulationComparer()"
   ]
  },
  {
   "cell_type": "code",
   "execution_count": 9,
   "id": "fbcbaef0-f51c-42ec-8b06-a5b86a384d7c",
   "metadata": {},
   "outputs": [],
   "source": [
    "process_drift_detector = framework.DriftDetector(feature_extractor, window_generator, population_comparer, threshold=0.6)"
   ]
  },
  {
   "cell_type": "code",
   "execution_count": 10,
   "id": "a16d7060-73fc-4c8b-b5eb-f46ea09f00f2",
   "metadata": {},
   "outputs": [],
   "source": [
    "# process_change_series = process_drift_detector.get_change_series(event_log)\n",
    "# process_change_series.plot()"
   ]
  },
  {
   "cell_type": "code",
   "execution_count": 11,
   "id": "a36ba523-0064-4072-838e-03c05ba626cb",
   "metadata": {},
   "outputs": [],
   "source": [
    "secondary_window_generator = window_generator\n",
    "secondary_population_comparer = framework.HellingerDistanceComparer()\n",
    "attribute_drift_detectors = framework.get_all_attribute_drift_detectors(event_log,\n",
    "                                                                         secondary_window_generator, \n",
    "                                                                         secondary_population_comparer, \n",
    "                                                                         threshold=0.6,\n",
    "                                                                         exclude_attributes=['concept:name'])"
   ]
  },
  {
   "cell_type": "code",
   "execution_count": 12,
   "id": "7bffb64d-e1be-4fbc-8d36-763c3b61202b",
   "metadata": {},
   "outputs": [
    {
     "data": {
      "text/plain": [
       "<concept_drift.framework.DriftExplainer at 0x21864f4f550>"
      ]
     },
     "execution_count": 12,
     "metadata": {},
     "output_type": "execute_result"
    }
   ],
   "source": [
    "drift_explainer = framework.DriftExplainer(process_drift_detector, attribute_drift_detectors)\n",
    "drift_explainer"
   ]
  },
  {
   "cell_type": "code",
   "execution_count": null,
   "id": "b511c40f-e984-4cfb-8288-da3ce79a229c",
   "metadata": {},
   "outputs": [],
   "source": [
    "attribute_importances = drift_explainer.get_primary_and_secondary_change_series(event_log)\n",
    "attribute_importances"
   ]
  },
  {
   "cell_type": "code",
   "execution_count": null,
   "id": "d3709225-9b0f-4e6f-be2f-e57c499cbf7a",
   "metadata": {},
   "outputs": [],
   "source": [
    "import matplotlib.pyplot as plt\n",
    "\n",
    "def plot(attribute_importances):\n",
    "    primary_change = attribute_importances[0]\n",
    "    secondary_change_series_dict = attribute_importances[1]\n",
    "    \n",
    "    # plot the primary value axis in red\n",
    "    plt.plot(primary_change, color='red')\n",
    "    \n",
    "    for attribute_name, secondary_change_series in secondary_change_series_dict.items():\n",
    "        plt.plot(secondary_change_series, label=attribute_name)\n",
    "    \n",
    "    plt.legend()\n",
    "    plt.show()"
   ]
  },
  {
   "cell_type": "code",
   "execution_count": null,
   "id": "4c8a024a-4923-4f1d-af5b-94c9a5cbdc94",
   "metadata": {},
   "outputs": [],
   "source": [
    "plot(attribute_importances)"
   ]
  }
 ],
 "metadata": {
  "kernelspec": {
   "display_name": "Python 3 (ipykernel)",
   "language": "python",
   "name": "python3"
  },
  "language_info": {
   "codemirror_mode": {
    "name": "ipython",
    "version": 3
   },
   "file_extension": ".py",
   "mimetype": "text/x-python",
   "name": "python",
   "nbconvert_exporter": "python",
   "pygments_lexer": "ipython3",
   "version": "3.10.4"
  }
 },
 "nbformat": 4,
 "nbformat_minor": 5
}
