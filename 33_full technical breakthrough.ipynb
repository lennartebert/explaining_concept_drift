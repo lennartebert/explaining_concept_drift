{
 "cells": [
  {
   "cell_type": "markdown",
   "id": "1f7017a7-9b03-48fa-a285-ce184f6403dc",
   "metadata": {},
   "source": [
    "# Attribute importance ranking for synthetic data with known change points\n",
    "The process change points are known. Hence, no change point detection algorithm needs to be used."
   ]
  },
  {
   "cell_type": "code",
   "execution_count": 1,
   "id": "8f294e18-0a29-4492-a8f9-a9287872684f",
   "metadata": {},
   "outputs": [],
   "source": [
    "import pm4py\n",
    "import helper\n",
    "import pandas as pd"
   ]
  },
  {
   "cell_type": "code",
   "execution_count": 2,
   "id": "40fc19f7-a38b-41d8-9a9f-595b9d9b8d8e",
   "metadata": {},
   "outputs": [],
   "source": [
    "# data_file_path = 'data/synthetic/maardji et al 2013_xes_attributes/logs/ROI/ROI2.5k.xes'\n",
    "# data_file_path = 'data/synthetic/maardji et al 2013_xes_attributes/logs/cb/cb10k.xes'\n",
    "data_file_path = 'data/synthetic/generated/new_attribute_values/2500_sudden_5_00.xes'"
   ]
  },
  {
   "cell_type": "markdown",
   "id": "1663a296-baa2-4778-ac0a-31c8e3aa9464",
   "metadata": {
    "tags": []
   },
   "source": [
    "## Load an event log"
   ]
  },
  {
   "cell_type": "code",
   "execution_count": 3,
   "id": "0d258cdc-e351-4c90-9b2d-c22d58d1d261",
   "metadata": {},
   "outputs": [],
   "source": [
    "# Display the data info\n",
    "data_info = helper.get_data_information(data_file_path)\n",
    "data_info\n",
    "\n",
    "change_points = data_info['change_points']"
   ]
  },
  {
   "cell_type": "code",
   "execution_count": 4,
   "id": "bf81c64e-8121-4d9d-998f-00bf2d3b4a29",
   "metadata": {},
   "outputs": [
    {
     "name": "stderr",
     "output_type": "stream",
     "text": [
      "C:\\Users\\Lennart\\Tools\\Anaconda3\\envs\\concept_drift\\lib\\site-packages\\tqdm\\auto.py:22: TqdmWarning: IProgress not found. Please update jupyter and ipywidgets. See https://ipywidgets.readthedocs.io/en/stable/user_install.html\n",
      "  from .autonotebook import tqdm as notebook_tqdm\n",
      "parsing log, completed traces :: 100%|███████████████████████████████████████████| 2500/2500 [00:01<00:00, 1524.55it/s]\n"
     ]
    }
   ],
   "source": [
    "# load the event log into pm4py\n",
    "from pm4py.objects.log.importer.xes import importer as xes_importer\n",
    "event_log = xes_importer.apply(data_file_path)"
   ]
  },
  {
   "cell_type": "code",
   "execution_count": 5,
   "id": "e783296d-a4ee-4b05-980a-d05d20e1f186",
   "metadata": {},
   "outputs": [],
   "source": [
    "from concept_drift import framework\n",
    "from concept_drift import drift_point_detectors\n",
    "from concept_drift import window_creators\n",
    "from concept_drift import importance_measurers\n",
    "from concept_drift import feature_extractors"
   ]
  },
  {
   "cell_type": "code",
   "execution_count": null,
   "id": "c33226f3-fe39-443a-8ed9-fb8289acee32",
   "metadata": {},
   "outputs": [],
   "source": [
    "feature_extractor = feature_extractors.FeatureExtractor"
   ]
  },
  {
   "cell_type": "code",
   "execution_count": 6,
   "id": "a2e5cfd7-2f13-463e-a995-55b6161e3d44",
   "metadata": {},
   "outputs": [],
   "source": [
    "drift_point_detector = drift_point_detectors.DriftPointDetectorTrueKnown(change_points)"
   ]
  },
  {
   "cell_type": "code",
   "execution_count": 8,
   "id": "225cc02c-dfd1-409c-b52c-a81b684dec3f",
   "metadata": {},
   "outputs": [],
   "source": [
    "window_size = 50\n",
    "window_creator = window_creators.WindowCreator(window_size=window_size, slide_by=10)"
   ]
  },
  {
   "cell_type": "code",
   "execution_count": 9,
   "id": "a14befeb-4fed-4dba-b12e-ab5ce2c4ebfc",
   "metadata": {},
   "outputs": [],
   "source": [
    "# threshold = 0.03\n",
    "# difference_measure = importance_measurers.DifferenceMeasureChiSquare(threshold)"
   ]
  },
  {
   "cell_type": "code",
   "execution_count": 10,
   "id": "7d39f992-1577-4987-9422-07a63a08fcbf",
   "metadata": {},
   "outputs": [],
   "source": [
    "difference_measure = importance_measurers.DifferenceMeasureHellinger()"
   ]
  },
  {
   "cell_type": "code",
   "execution_count": 11,
   "id": "cc717951-b8a0-430b-a1b1-d57f8d6ceca6",
   "metadata": {},
   "outputs": [],
   "source": [
    "start_before_change_point = window_size + 100\n",
    "attribute_importance_measurer = importance_measurers.AttributeImportanceMeasurer(window_creator, start_before_change_point, difference_measure)"
   ]
  },
  {
   "cell_type": "code",
   "execution_count": 12,
   "id": "6a477ba0-06a1-4d5d-8bde-51d9b1cbaecc",
   "metadata": {},
   "outputs": [],
   "source": [
    "concept_drift_explainer = framework.ConceptDriftExplainer(drift_point_detector, attribute_importance_measurer)"
   ]
  },
  {
   "cell_type": "code",
   "execution_count": 13,
   "id": "59908d96-65bf-48aa-8a82-1ab468278885",
   "metadata": {},
   "outputs": [
    {
     "data": {
      "text/plain": [
       "{250: concept:name                  None\n",
       " relevant_attribute_1      0.532692\n",
       " relevant_attribute_2      0.142622\n",
       " relevant_attribute_3      0.166103\n",
       " relevant_attribute_4      0.116633\n",
       " relevant_attribute_5      0.112231\n",
       " irrelevant_attribute_1    0.148712\n",
       " irrelevant_attribute_2    0.158225\n",
       " irrelevant_attribute_3    0.226481\n",
       " irrelevant_attribute_4    0.096482\n",
       " irrelevant_attribute_5    0.153222\n",
       " dtype: object,\n",
       " 500: concept:name                  None\n",
       " relevant_attribute_1      0.307393\n",
       " relevant_attribute_2      0.351641\n",
       " relevant_attribute_3      0.150742\n",
       " relevant_attribute_4       0.14426\n",
       " relevant_attribute_5      0.094913\n",
       " irrelevant_attribute_1    0.100316\n",
       " irrelevant_attribute_2    0.173867\n",
       " irrelevant_attribute_3    0.292974\n",
       " irrelevant_attribute_4    0.166651\n",
       " irrelevant_attribute_5    0.197426\n",
       " dtype: object,\n",
       " 750: concept:name                  None\n",
       " relevant_attribute_1      0.289806\n",
       " relevant_attribute_2      0.122003\n",
       " relevant_attribute_3      0.577314\n",
       " relevant_attribute_4      0.199431\n",
       " relevant_attribute_5      0.136316\n",
       " irrelevant_attribute_1     0.16717\n",
       " irrelevant_attribute_2    0.185768\n",
       " irrelevant_attribute_3    0.203585\n",
       " irrelevant_attribute_4    0.141641\n",
       " irrelevant_attribute_5    0.202548\n",
       " dtype: object,\n",
       " 1000: concept:name                  None\n",
       " relevant_attribute_1      0.160235\n",
       " relevant_attribute_2      0.214177\n",
       " relevant_attribute_3      0.114958\n",
       " relevant_attribute_4      0.366767\n",
       " relevant_attribute_5      0.103204\n",
       " irrelevant_attribute_1    0.154694\n",
       " irrelevant_attribute_2    0.124927\n",
       " irrelevant_attribute_3    0.203084\n",
       " irrelevant_attribute_4    0.201211\n",
       " irrelevant_attribute_5    0.157559\n",
       " dtype: object,\n",
       " 1250: concept:name                  None\n",
       " relevant_attribute_1      0.097681\n",
       " relevant_attribute_2      0.089553\n",
       " relevant_attribute_3      0.138205\n",
       " relevant_attribute_4      0.161988\n",
       " relevant_attribute_5      0.392118\n",
       " irrelevant_attribute_1    0.190606\n",
       " irrelevant_attribute_2    0.166104\n",
       " irrelevant_attribute_3    0.184892\n",
       " irrelevant_attribute_4    0.142761\n",
       " irrelevant_attribute_5    0.074086\n",
       " dtype: object,\n",
       " 1500: concept:name                  None\n",
       " relevant_attribute_1      0.142537\n",
       " relevant_attribute_2      0.181861\n",
       " relevant_attribute_3       0.12752\n",
       " relevant_attribute_4      0.191377\n",
       " relevant_attribute_5      0.119362\n",
       " irrelevant_attribute_1    0.193928\n",
       " irrelevant_attribute_2    0.135668\n",
       " irrelevant_attribute_3    0.138733\n",
       " irrelevant_attribute_4    0.094684\n",
       " irrelevant_attribute_5    0.104886\n",
       " dtype: object,\n",
       " 1750: concept:name                  None\n",
       " relevant_attribute_1       0.13755\n",
       " relevant_attribute_2      0.209297\n",
       " relevant_attribute_3      0.184637\n",
       " relevant_attribute_4      0.102598\n",
       " relevant_attribute_5      0.175557\n",
       " irrelevant_attribute_1     0.15088\n",
       " irrelevant_attribute_2    0.108337\n",
       " irrelevant_attribute_3    0.152548\n",
       " irrelevant_attribute_4    0.334862\n",
       " irrelevant_attribute_5    0.250148\n",
       " dtype: object,\n",
       " 2000: concept:name                  None\n",
       " relevant_attribute_1      0.161539\n",
       " relevant_attribute_2       0.22759\n",
       " relevant_attribute_3      0.157236\n",
       " relevant_attribute_4      0.199447\n",
       " relevant_attribute_5      0.172352\n",
       " irrelevant_attribute_1    0.174802\n",
       " irrelevant_attribute_2    0.237933\n",
       " irrelevant_attribute_3    0.197233\n",
       " irrelevant_attribute_4    0.127286\n",
       " irrelevant_attribute_5    0.249408\n",
       " dtype: object,\n",
       " 2250: concept:name                  None\n",
       " relevant_attribute_1      0.149983\n",
       " relevant_attribute_2      0.118859\n",
       " relevant_attribute_3      0.202106\n",
       " relevant_attribute_4      0.198033\n",
       " relevant_attribute_5      0.173754\n",
       " irrelevant_attribute_1    0.233742\n",
       " irrelevant_attribute_2    0.163686\n",
       " irrelevant_attribute_3    0.162503\n",
       " irrelevant_attribute_4    0.157716\n",
       " irrelevant_attribute_5    0.214755\n",
       " dtype: object}"
      ]
     },
     "execution_count": 13,
     "metadata": {},
     "output_type": "execute_result"
    }
   ],
   "source": [
    "attribute_importance_per_changepoint = concept_drift_explainer.get_attribute_importance_per_changepoint(event_log)\n",
    "attribute_importance_per_changepoint"
   ]
  },
  {
   "cell_type": "code",
   "execution_count": 14,
   "id": "c4f517ea-dbfe-4dd8-87ff-87f47ac9d5ce",
   "metadata": {},
   "outputs": [
    {
     "data": {
      "text/plain": [
       "relevant_attribute_1      1.979416\n",
       "relevant_attribute_3      1.818820\n",
       "irrelevant_attribute_3    1.762033\n",
       "relevant_attribute_4      1.680535\n",
       "relevant_attribute_2      1.657604\n",
       "irrelevant_attribute_5    1.604038\n",
       "irrelevant_attribute_1    1.514850\n",
       "relevant_attribute_5      1.479807\n",
       "irrelevant_attribute_4    1.463294\n",
       "irrelevant_attribute_2    1.454516\n",
       "concept:name              0.000000\n",
       "dtype: float64"
      ]
     },
     "execution_count": 14,
     "metadata": {},
     "output_type": "execute_result"
    }
   ],
   "source": [
    "concept_drift_explainer.get_attribute_importance(event_log)"
   ]
  }
 ],
 "metadata": {
  "kernelspec": {
   "display_name": "Python 3 (ipykernel)",
   "language": "python",
   "name": "python3"
  },
  "language_info": {
   "codemirror_mode": {
    "name": "ipython",
    "version": 3
   },
   "file_extension": ".py",
   "mimetype": "text/x-python",
   "name": "python",
   "nbconvert_exporter": "python",
   "pygments_lexer": "ipython3",
   "version": "3.10.4"
  }
 },
 "nbformat": 4,
 "nbformat_minor": 5
}
