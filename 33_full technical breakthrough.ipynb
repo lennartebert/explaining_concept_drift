{
 "cells": [
  {
   "cell_type": "markdown",
   "id": "1f7017a7-9b03-48fa-a285-ce184f6403dc",
   "metadata": {},
   "source": [
    "# Attribute importance ranking for synthetic data with known change points\n",
    "The process change points are known. Hence, no change point detection algorithm needs to be used."
   ]
  },
  {
   "cell_type": "code",
   "execution_count": 1,
   "id": "8f294e18-0a29-4492-a8f9-a9287872684f",
   "metadata": {},
   "outputs": [],
   "source": [
    "import pm4py\n",
    "import helper\n",
    "import pandas as pd"
   ]
  },
  {
   "cell_type": "code",
   "execution_count": 2,
   "id": "40fc19f7-a38b-41d8-9a9f-595b9d9b8d8e",
   "metadata": {},
   "outputs": [],
   "source": [
    "# data_file_path = 'data/synthetic/maardji et al 2013_xes_attributes/logs/ROI/ROI2.5k.xes'\n",
    "# data_file_path = 'data/synthetic/maardji et al 2013_xes_attributes/logs/cb/cb10k.xes'\n",
    "data_file_path = 'data/synthetic/generated/new_attribute_values/2500_sudden_5_00.xes'"
   ]
  },
  {
   "cell_type": "markdown",
   "id": "1663a296-baa2-4778-ac0a-31c8e3aa9464",
   "metadata": {
    "tags": []
   },
   "source": [
    "## Load an event log"
   ]
  },
  {
   "cell_type": "code",
   "execution_count": 3,
   "id": "0d258cdc-e351-4c90-9b2d-c22d58d1d261",
   "metadata": {},
   "outputs": [],
   "source": [
    "# Display the data info\n",
    "data_info = helper.get_data_information(data_file_path)\n",
    "data_info\n",
    "\n",
    "change_points = data_info['change_points']"
   ]
  },
  {
   "cell_type": "code",
   "execution_count": 4,
   "id": "bf81c64e-8121-4d9d-998f-00bf2d3b4a29",
   "metadata": {},
   "outputs": [
    {
     "name": "stderr",
     "output_type": "stream",
     "text": [
      "C:\\Users\\Lennart\\Tools\\Anaconda3\\envs\\concept_drift\\lib\\site-packages\\tqdm\\auto.py:22: TqdmWarning: IProgress not found. Please update jupyter and ipywidgets. See https://ipywidgets.readthedocs.io/en/stable/user_install.html\n",
      "  from .autonotebook import tqdm as notebook_tqdm\n",
      "parsing log, completed traces :: 100%|███████████████████████████████████████████| 2500/2500 [00:02<00:00, 1031.09it/s]\n"
     ]
    }
   ],
   "source": [
    "# load the event log into pm4py\n",
    "from pm4py.objects.log.importer.xes import importer as xes_importer\n",
    "event_log = xes_importer.apply(data_file_path)"
   ]
  },
  {
   "cell_type": "code",
   "execution_count": 5,
   "id": "e8c5aa00-5c05-42dc-bc98-13e4978f1414",
   "metadata": {},
   "outputs": [],
   "source": [
    "from processdrift.framework import drift_detection\n",
    "from processdrift.framework import drift_explanation\n",
    "from processdrift.framework import feature_extraction\n",
    "from processdrift.framework import pop_comparison\n",
    "from processdrift.framework import windowing"
   ]
  },
  {
   "cell_type": "code",
   "execution_count": 6,
   "id": "067fa8b2-aa1e-4e7d-9ac2-7ae2406a63ce",
   "metadata": {},
   "outputs": [],
   "source": [
    "# build the primary process drift detector\n",
    "primary_feature_extractor = feature_extraction.RelationalEntropyFeatureExtractor()\n",
    "primary_window_generator = windowing.FixedSizeWindowGenerator(window_size=150, slide_by=1)\n",
    "primary_population_comparer = pop_comparison.KSTestPopComparer()\n",
    "primary_threshold = 0.5\n",
    "primary_process_drift_detector = drift_detection.DriftDetector(primary_feature_extractor, \n",
    "                                                               primary_window_generator,\n",
    "                                                               primary_population_comparer, \n",
    "                                                               threshold=primary_threshold)"
   ]
  },
  {
   "cell_type": "code",
   "execution_count": 7,
   "id": "a36ba523-0064-4072-838e-03c05ba626cb",
   "metadata": {},
   "outputs": [],
   "source": [
    "# build the secondary process drift detectors\n",
    "secondary_window_generator = primary_window_generator\n",
    "secondary_population_comparer = pop_comparison.HellingerDistanceComparer()\n",
    "secondary_threshold = primary_threshold\n",
    "secondary_exclude_attributes = ['concept:name']\n",
    "secondary_drift_detectors = drift_detection.get_all_attribute_drift_detectors(event_log,\n",
    "                                                                         secondary_window_generator, \n",
    "                                                                         secondary_population_comparer, \n",
    "                                                                         threshold=secondary_threshold,\n",
    "                                                                         exclude_attributes=secondary_exclude_attributes)"
   ]
  },
  {
   "cell_type": "code",
   "execution_count": 8,
   "id": "7bffb64d-e1be-4fbc-8d36-763c3b61202b",
   "metadata": {},
   "outputs": [],
   "source": [
    "drift_explainer = drift_explanation.DriftExplainer(primary_process_drift_detector, secondary_drift_detectors)"
   ]
  },
  {
   "cell_type": "code",
   "execution_count": 9,
   "id": "b511c40f-e984-4cfb-8288-da3ce79a229c",
   "metadata": {},
   "outputs": [
    {
     "data": {
      "text/plain": [
       "(151     1.0\n",
       " 152     1.0\n",
       " 153     1.0\n",
       " 154     1.0\n",
       " 155     1.0\n",
       "        ... \n",
       " 2347    1.0\n",
       " 2348    1.0\n",
       " 2349    1.0\n",
       " 2350    1.0\n",
       " 2351    1.0\n",
       " Length: 2201, dtype: float64,\n",
       " {'Attribute: irrelevant_attribute_1': 151     0.828667\n",
       "  152     0.828667\n",
       "  153     0.830481\n",
       "  154     0.832001\n",
       "  155     0.832001\n",
       "            ...   \n",
       "  2347    0.921384\n",
       "  2348    0.932848\n",
       "  2349    0.932848\n",
       "  2350    0.932848\n",
       "  2351    0.944159\n",
       "  Length: 2201, dtype: float64,\n",
       "  'Attribute: relevant_attribute_3': 151     0.968219\n",
       "  152     0.966039\n",
       "  153     0.969754\n",
       "  154     0.970466\n",
       "  155     0.969777\n",
       "            ...   \n",
       "  2347    0.959916\n",
       "  2348    0.970276\n",
       "  2349    0.975454\n",
       "  2350    0.979044\n",
       "  2351    0.975437\n",
       "  Length: 2201, dtype: float64,\n",
       "  'Attribute: irrelevant_attribute_5': 151     0.929939\n",
       "  152     0.929939\n",
       "  153     0.930729\n",
       "  154     0.939860\n",
       "  155     0.940624\n",
       "            ...   \n",
       "  2347    0.948021\n",
       "  2348    0.942554\n",
       "  2349    0.939339\n",
       "  2350    0.932412\n",
       "  2351    0.928595\n",
       "  Length: 2201, dtype: float64,\n",
       "  'Attribute: irrelevant_attribute_2': 151     0.955992\n",
       "  152     0.944797\n",
       "  153     0.935073\n",
       "  154     0.940681\n",
       "  155     0.937749\n",
       "            ...   \n",
       "  2347    0.944318\n",
       "  2348    0.955287\n",
       "  2349    0.944029\n",
       "  2350    0.943997\n",
       "  2351    0.939949\n",
       "  Length: 2201, dtype: float64,\n",
       "  'Attribute: relevant_attribute_4': 151     0.963694\n",
       "  152     0.959160\n",
       "  153     0.959160\n",
       "  154     0.959160\n",
       "  155     0.963323\n",
       "            ...   \n",
       "  2347    0.946960\n",
       "  2348    0.949775\n",
       "  2349    0.949775\n",
       "  2350    0.949775\n",
       "  2351    0.949775\n",
       "  Length: 2201, dtype: float64,\n",
       "  'Attribute: relevant_attribute_2': 151     0.957393\n",
       "  152     0.947913\n",
       "  153     0.943203\n",
       "  154     0.947970\n",
       "  155     0.952728\n",
       "            ...   \n",
       "  2347    0.944961\n",
       "  2348    0.957220\n",
       "  2349    0.951885\n",
       "  2350    0.960063\n",
       "  2351    0.950396\n",
       "  Length: 2201, dtype: float64,\n",
       "  'Attribute: relevant_attribute_5': 151     0.965071\n",
       "  152     0.959976\n",
       "  153     0.959976\n",
       "  154     0.949953\n",
       "  155     0.945074\n",
       "            ...   \n",
       "  2347    0.951868\n",
       "  2348    0.951868\n",
       "  2349    0.951868\n",
       "  2350    0.946483\n",
       "  2351    0.934470\n",
       "  Length: 2201, dtype: float64,\n",
       "  'Attribute: relevant_attribute_1': 151     0.749427\n",
       "  152     0.745532\n",
       "  153     0.745532\n",
       "  154     0.740070\n",
       "  155     0.740070\n",
       "            ...   \n",
       "  2347    0.976740\n",
       "  2348    0.961072\n",
       "  2349    0.961069\n",
       "  2350    0.961069\n",
       "  2351    0.961069\n",
       "  Length: 2201, dtype: float64,\n",
       "  'Attribute: irrelevant_attribute_4': 151     0.964124\n",
       "  152     0.953863\n",
       "  153     0.955873\n",
       "  154     0.955873\n",
       "  155     0.953678\n",
       "            ...   \n",
       "  2347    0.972801\n",
       "  2348    0.972271\n",
       "  2349    0.972387\n",
       "  2350    0.972271\n",
       "  2351    0.986410\n",
       "  Length: 2201, dtype: float64,\n",
       "  'Attribute: irrelevant_attribute_3': 151     0.957284\n",
       "  152     0.934755\n",
       "  153     0.945087\n",
       "  154     0.948153\n",
       "  155     0.950913\n",
       "            ...   \n",
       "  2347    0.937808\n",
       "  2348    0.937808\n",
       "  2349    0.937808\n",
       "  2350    0.940750\n",
       "  2351    0.940750\n",
       "  Length: 2201, dtype: float64})"
      ]
     },
     "execution_count": 9,
     "metadata": {},
     "output_type": "execute_result"
    }
   ],
   "source": [
    "primary_and_secondary_change_series = drift_explainer.get_primary_and_secondary_change_series(event_log)\n",
    "primary_and_secondary_change_series"
   ]
  },
  {
   "cell_type": "code",
   "execution_count": 10,
   "id": "c0d02430-0143-4966-9a33-05e319a82fc1",
   "metadata": {},
   "outputs": [
    {
     "data": {
      "image/png": "[encoded data removed]",
      "text/plain": [
       "<Figure size 432x288 with 1 Axes>"
      ]
     },
     "metadata": {
      "needs_background": "light"
     },
     "output_type": "display_data"
    }
   ],
   "source": [
    "drift_explanation.plot_primary_and_secondary_change_series(primary_and_secondary_change_series)"
   ]
  }
 ],
 "metadata": {
  "kernelspec": {
   "display_name": "Python 3 (ipykernel)",
   "language": "python",
   "name": "python3"
  },
  "language_info": {
   "codemirror_mode": {
    "name": "ipython",
    "version": 3
   },
   "file_extension": ".py",
   "mimetype": "text/x-python",
   "name": "python",
   "nbconvert_exporter": "python",
   "pygments_lexer": "ipython3",
   "version": "3.10.4"
  }
 },
 "nbformat": 4,
 "nbformat_minor": 5
}
