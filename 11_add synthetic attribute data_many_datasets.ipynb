{
 "cells": [
  {
   "cell_type": "markdown",
   "id": "9475ab7f-f59d-4644-8e0a-99aa00517392",
   "metadata": {
    "tags": []
   },
   "source": [
    "# Generate many synthetic datasets with observeable attribute change\n",
    "\n",
    "All generated datasets have \n",
    "- 5 relevant attributes (attributes with a change)\n",
    "- 5 irrelevant attributes (attributes without a change)\n",
    "- primary change-points at 9 locations (1/10ths, 2/10ths...) (depends on base dataset)\n",
    "\n",
    "All datasets are generated for sizes 2500, 5000 and 7500 and 10000.\n",
    "\n",
    "Dataset 1: The simple one\n",
    "- 3 attribute values each\n",
    "- only sudden drift\n",
    "- type of change: new attribute value\n",
    "- standard_deviation_offset_explain_change_point = 0\n",
    "\n",
    "Dataset 2: The complex one\n",
    "- 100 attribute values each\n",
    "- sudden and re-occurring drift\n",
    "- type of change mixed\n",
    "- standard_deviation_offset_explain_change_point = 10"
   ]
  },
  {
   "cell_type": "code",
   "execution_count": 1,
   "id": "2ad55131-0706-44e0-b98b-4393be9e7267",
   "metadata": {},
   "outputs": [],
   "source": [
    "import helper\n",
    "import uuid\n",
    "import os"
   ]
  },
  {
   "cell_type": "code",
   "execution_count": 2,
   "id": "5211ffea",
   "metadata": {},
   "outputs": [],
   "source": [
    "input_datasets = [\n",
    "    # {\n",
    "    #     'path': 'data\\\\synthetic\\\\maardji et al 2013_xes\\\\logs\\\\cb\\\\cb2.5k.xes',\n",
    "    #     'size': 2500\n",
    "    # },\n",
    "    # {\n",
    "    #     'path': 'data\\\\synthetic\\\\maardji et al 2013_xes\\\\logs\\\\cb\\\\cb5k.xes',\n",
    "    #     'size': 5000\n",
    "    # },\n",
    "    # {\n",
    "    #     'path': 'data\\\\synthetic\\\\maardji et al 2013_xes\\\\logs\\\\cb\\\\cb7.5k.xes',\n",
    "    #     'size': 7500\n",
    "    # },\n",
    "    {\n",
    "        'path': 'data\\\\synthetic\\\\maardji et al 2013_xes\\\\logs\\\\cb\\\\cb10k.xes',\n",
    "        'size': 10000,\n",
    "        'change_points': helper.get_change_points_maardji_et_al_2013(10000)\n",
    "    }\n",
    "]\n"
   ]
  },
  {
   "cell_type": "code",
   "execution_count": 3,
   "id": "6afd3eaa",
   "metadata": {},
   "outputs": [],
   "source": [
    "count_relevant_attributes = 5\n",
    "count_irrelevant_attributes = 5\n",
    "\n",
    "generations_per_dataset = 10\n",
    "\n",
    "output_folder = 'data\\\\synthetic\\\\attribute_drift\\\\' # the resulting file will be put in the subfolder 'configuration/size/old_file_name_UUID.xes'"
   ]
  },
  {
   "cell_type": "markdown",
   "id": "36e9a9d7",
   "metadata": {},
   "source": [
    "## Generate Dataset 1: The simple one"
   ]
  },
  {
   "cell_type": "code",
   "execution_count": 4,
   "id": "08edfa4b",
   "metadata": {},
   "outputs": [],
   "source": [
    "number_attribute_values = 3\n",
    "type_of_drift = 'sudden'\n",
    "type_of_change = 'mixed'\n",
    "configuration_name = 'simple'"
   ]
  },
  {
   "cell_type": "code",
   "execution_count": 5,
   "id": "8dcb76a4",
   "metadata": {},
   "outputs": [
    {
     "name": "stdout",
     "output_type": "stream",
     "text": [
      "Now working on dataset {'path': 'data\\\\synthetic\\\\maardji et al 2013_xes\\\\logs\\\\cb\\\\cb10k.xes', 'size': 10000, 'change_points': [1000, 2000, 3000, 4000, 5000, 6000, 7000, 8000, 9000]}\n",
      "1 of datasets_per_configuration for current dataset\n",
      "Importance: DEBUG\n",
      "Message: Start serializing log to XES.XML\n",
      "\n",
      "Importance: DEBUG\n",
      "Message: finished serializing log (36070.577392578125 msec.)\n",
      "\n",
      "2 of datasets_per_configuration for current dataset\n",
      "Importance: DEBUG\n",
      "Message: Start serializing log to XES.XML\n",
      "\n",
      "Importance: DEBUG\n",
      "Message: finished serializing log (37394.554931640625 msec.)\n",
      "\n",
      "3 of datasets_per_configuration for current dataset\n"
     ]
    }
   ],
   "source": [
    "for dataset in input_datasets:\n",
    "    print(f'Now working on dataset {dataset}')\n",
    "\n",
    "    dataset_base = '.'.join(os.path.basename(dataset['path']).split('.')[:-1])\n",
    "    \n",
    "    for i in range(generations_per_dataset):\n",
    "        print(f'{i + 1} of datasets_per_configuration for current dataset')\n",
    "        file_name = f'{dataset_base + \"_\" +str(uuid.uuid4())}.xes'\n",
    "        output_path = os.path.join(output_folder, 'configuration_name', str(dataset['size']), file_name)\n",
    "        helper.add_synthetic_attributes(dataset['path'],\n",
    "            output_path,\n",
    "            dataset['change_points'],\n",
    "            count_relevant_attributes,\n",
    "            count_irrelevant_attributes,\n",
    "            number_attribute_values,\n",
    "            type_of_drift,\n",
    "            type_of_change)"
   ]
  }
 ],
 "metadata": {
  "interpreter": {
   "hash": "3586acef3f5f923af4b971ce05811a36e3973e810e5c25f95daaeb0237b948ae"
  },
  "kernelspec": {
   "display_name": "Python 3.10.4 ('concept_drift')",
   "language": "python",
   "name": "python3"
  },
  "language_info": {
   "codemirror_mode": {
    "name": "ipython",
    "version": 3
   },
   "file_extension": ".py",
   "mimetype": "text/x-python",
   "name": "python",
   "nbconvert_exporter": "python",
   "pygments_lexer": "ipython3",
   "version": "3.10.4"
  }
 },
 "nbformat": 4,
 "nbformat_minor": 5
}
