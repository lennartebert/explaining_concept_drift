{
 "cells": [
  {
   "cell_type": "markdown",
   "id": "9475ab7f-f59d-4644-8e0a-99aa00517392",
   "metadata": {
    "tags": []
   },
   "source": [
    "# Generate many synthetic datasets with observeable attribute change\n",
    "\n",
    "All generated datasets have \n",
    "- 5 relevant attributes (attributes with a change)\n",
    "- 5 irrelevant attributes (attributes without a change)\n",
    "- primary change-points at 9 locations (1/10ths, 2/10ths...) (depends on base dataset)\n",
    "\n",
    "All datasets are generated for sizes 2500, 5000 and 7500 and 10000.\n",
    "\n",
    "Dataset 1: The simple one\n",
    "- 3 attribute values each\n",
    "- one CP explanation per relevant attribute\n",
    "- only sudden drift\n",
    "- type of change: new attribute value\n",
    "- standard_deviation_offset_explain_change_point = 0\n",
    "\n",
    "Dataset 2: The complex one\n",
    "- 100 attribute values each\n",
    "- 2 CP explanation per relevant attribute\n",
    "- sudden and re-occurring drift\n",
    "- type of change mixed\n",
    "- standard_deviation_offset_explain_change_point = 10"
   ]
  },
  {
   "cell_type": "code",
   "execution_count": 1,
   "id": "2ad55131-0706-44e0-b98b-4393be9e7267",
   "metadata": {},
   "outputs": [],
   "source": [
    "import helper\n",
    "from processdrift import generate_attributes\n",
    "import numpy as np\n",
    "import itertools\n",
    "import uuid\n",
    "import os"
   ]
  },
  {
   "cell_type": "code",
   "execution_count": 2,
   "id": "5211ffea",
   "metadata": {},
   "outputs": [],
   "source": [
    "datasets = [\n",
    "    {\n",
    "        'path': 'data\\\\synthetic\\\\maardji et al 2013_xes\\\\logs\\\\cb\\\\cb2.5k.xes',\n",
    "        'size': 2500\n",
    "    },\n",
    "    # {\n",
    "    #     'path': 'data\\\\synthetic\\\\maardji et al 2013_xes\\\\logs\\\\cb\\\\cb5k.xes',\n",
    "    #     'size': 5000\n",
    "    # },\n",
    "    # {\n",
    "    #     'path': 'data\\\\synthetic\\\\maardji et al 2013_xes\\\\logs\\\\cb\\\\cb7.5k.xes',\n",
    "    #     'size': 7500\n",
    "    # },\n",
    "    # {\n",
    "    #     'path': 'data\\\\synthetic\\\\maardji et al 2013_xes\\\\logs\\\\cb\\\\cb10k.xes',\n",
    "    #     'size': 10000\n",
    "    # }\n",
    "]\n"
   ]
  },
  {
   "cell_type": "code",
   "execution_count": 3,
   "id": "6afd3eaa",
   "metadata": {},
   "outputs": [],
   "source": [
    "count_relevant_attributes = 5\n",
    "count_irrelevant_attributes = 5\n",
    "\n",
    "generations_per_dataset = 10\n",
    "\n",
    "output_folder = 'data\\\\synthetic\\\\attribute_drift'"
   ]
  },
  {
   "cell_type": "markdown",
   "id": "36e9a9d7",
   "metadata": {},
   "source": [
    "## Generate Dataset 1: The simple one"
   ]
  },
  {
   "cell_type": "code",
   "execution_count": 4,
   "id": "11bac23b",
   "metadata": {},
   "outputs": [],
   "source": []
  },
  {
   "cell_type": "code",
   "execution_count": 5,
   "id": "08edfa4b",
   "metadata": {},
   "outputs": [],
   "source": [
    "cp_explanations_per_relevant_attribute = 1\n",
    "number_attribute_values = 3\n",
    "type_of_drift = 'sudden'\n",
    "type_of_change = 'mixed'\n",
    "standard_deviation_offset_explain_change_point = 0"
   ]
  },
  {
   "cell_type": "code",
   "execution_count": 6,
   "id": "8dcb76a4",
   "metadata": {},
   "outputs": [
    {
     "name": "stdout",
     "output_type": "stream",
     "text": [
      "Now working on dataset {'path': 'data\\\\synthetic\\\\maardji et al 2013_xes\\\\logs\\\\cb\\\\cb2.5k.xes', 'size': 2500}\n",
      "1 of datasets_per_configuration for current dataset\n",
      "Importance: DEBUG\n",
      "Message: Start serializing log to XES.XML\n",
      "\n",
      "Importance: DEBUG\n",
      "Message: finished serializing log (8988.683837890625 msec.)\n",
      "\n",
      "2 of datasets_per_configuration for current dataset\n",
      "Importance: DEBUG\n",
      "Message: Start serializing log to XES.XML\n",
      "\n",
      "Importance: DEBUG\n",
      "Message: finished serializing log (8446.180419921875 msec.)\n",
      "\n",
      "3 of datasets_per_configuration for current dataset\n",
      "Importance: DEBUG\n",
      "Message: Start serializing log to XES.XML\n",
      "\n",
      "Importance: DEBUG\n",
      "Message: finished serializing log (7895.735107421875 msec.)\n",
      "\n",
      "4 of datasets_per_configuration for current dataset\n",
      "Importance: DEBUG\n",
      "Message: Start serializing log to XES.XML\n",
      "\n",
      "Importance: DEBUG\n",
      "Message: finished serializing log (8655.38134765625 msec.)\n",
      "\n",
      "5 of datasets_per_configuration for current dataset\n",
      "Importance: DEBUG\n",
      "Message: Start serializing log to XES.XML\n",
      "\n",
      "Importance: DEBUG\n",
      "Message: finished serializing log (7337.07421875 msec.)\n",
      "\n",
      "6 of datasets_per_configuration for current dataset\n",
      "Importance: DEBUG\n",
      "Message: Start serializing log to XES.XML\n",
      "\n",
      "Importance: DEBUG\n",
      "Message: finished serializing log (7910.054931640625 msec.)\n",
      "\n",
      "7 of datasets_per_configuration for current dataset\n",
      "Importance: DEBUG\n",
      "Message: Start serializing log to XES.XML\n",
      "\n",
      "Importance: DEBUG\n",
      "Message: finished serializing log (7765.25830078125 msec.)\n",
      "\n",
      "8 of datasets_per_configuration for current dataset\n",
      "Importance: DEBUG\n",
      "Message: Start serializing log to XES.XML\n",
      "\n",
      "Importance: DEBUG\n",
      "Message: finished serializing log (10476.52880859375 msec.)\n",
      "\n",
      "9 of datasets_per_configuration for current dataset\n",
      "Importance: DEBUG\n",
      "Message: Start serializing log to XES.XML\n",
      "\n",
      "Importance: DEBUG\n",
      "Message: finished serializing log (8135.423095703125 msec.)\n",
      "\n",
      "10 of datasets_per_configuration for current dataset\n",
      "Importance: DEBUG\n",
      "Message: Start serializing log to XES.XML\n",
      "\n",
      "Importance: DEBUG\n",
      "Message: finished serializing log (8015.167236328125 msec.)\n",
      "\n"
     ]
    }
   ],
   "source": [
    "for dataset in datasets:\n",
    "    print(f'Now working on dataset {dataset}')\n",
    "    for i in range(generations_per_dataset):\n",
    "        print(f'{i + 1} of datasets_per_configuration for current dataset')\n",
    "        file_name = f'{str(uuid.uuid4())}.xes'\n",
    "        output_path = os.path.join(output_folder, 'simple', str(dataset['size']), file_name)\n",
    "        helper.add_synthetic_attributes(dataset['path'],\n",
    "            output_path,\n",
    "            count_relevant_attributes,\n",
    "            count_irrelevant_attributes,\n",
    "            cp_explanations_per_relevant_attribute,\n",
    "            number_attribute_values,\n",
    "            type_of_drift,\n",
    "            type_of_change,\n",
    "            standard_deviation_offset_explain_change_point)"
   ]
  }
 ],
 "metadata": {
  "interpreter": {
   "hash": "3586acef3f5f923af4b971ce05811a36e3973e810e5c25f95daaeb0237b948ae"
  },
  "kernelspec": {
   "display_name": "Python 3.10.4 ('concept_drift')",
   "language": "python",
   "name": "python3"
  },
  "language_info": {
   "codemirror_mode": {
    "name": "ipython",
    "version": 3
   },
   "file_extension": ".py",
   "mimetype": "text/x-python",
   "name": "python",
   "nbconvert_exporter": "python",
   "pygments_lexer": "ipython3",
   "version": "3.10.4"
  }
 },
 "nbformat": 4,
 "nbformat_minor": 5
}
