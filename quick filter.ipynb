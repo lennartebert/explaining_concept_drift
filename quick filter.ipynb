{
 "cells": [
  {
   "cell_type": "code",
   "execution_count": 50,
   "metadata": {},
   "outputs": [],
   "source": [
    "def get_change_points(series, threshold, min_observations_below, min_distance_change_streaks):\n",
    "    \"\"\"Gets a list of changepoints from a series of observations based on a threshold. \n",
    "    \n",
    "    A change point is registered if the series values are below the threshold for the duration of 'min_observations_below'. \n",
    "    Change points will only be flagged if there is at least a distance of 'min_distance_change_streaks' between streaks of observations below the change point.\n",
    "    \n",
    "    Args:\n",
    "        series: Pandas series with observations.\n",
    "        \n",
    "    Returns:\n",
    "        List of change points.\n",
    "    \"\"\"\n",
    "    # for each row, get whether its value is of threshold or lower\n",
    "    series_below_threshold = series <= threshold\n",
    "\n",
    "    # do an accumulative count of how many values below the threshold have been observed\n",
    "    # restarts at 0 as soon as one value > threshold is observed\n",
    "    below_threshold_counts = series_below_threshold * (series_below_threshold.groupby((series_below_threshold != series_below_threshold.shift()).cumsum()).cumcount() + 1)\n",
    "    \n",
    "    # reset the index of below_threshold_counts to 0...n instead of trace counts\n",
    "    true_indices_series = below_threshold_counts.index\n",
    "    below_threshold_counts = below_threshold_counts.reset_index(drop=True)\n",
    "\n",
    "    # store change points as indices\n",
    "    change_points = []\n",
    "    \n",
    "    # ix when the last streak ended\n",
    "    last_change_streak_ended = None\n",
    "\n",
    "    for index, streak_count in below_threshold_counts.iteritems():\n",
    "        if streak_count < min_observations_below:\n",
    "            continue\n",
    "        \n",
    "        # check if the streak is exactly the minimum number of observations\n",
    "        if streak_count == min_observations_below:\n",
    "            \n",
    "            integer_index_candidate = index - min_observations_below + 1\n",
    "            change_point_candidate = true_indices_series[integer_index_candidate]\n",
    "            \n",
    "            # definitely enter the change point if this is the first streak that was seen\n",
    "            if last_change_streak_ended is None:\n",
    "                change_points.append(change_point_candidate)\n",
    "            else:\n",
    "                # get distance to last streak end\n",
    "                distance_to_last_streak = integer_index_candidate - last_change_streak_ended - 1\n",
    "\n",
    "                if distance_to_last_streak >= min_distance_change_streaks:\n",
    "                    change_points.append(change_point_candidate)\n",
    "\n",
    "        # update the end of the last change streak, if the current streak count exceeds the min observations below threshold\n",
    "        if streak_count >= min_observations_below:\n",
    "            last_change_streak_ended = index\n",
    "    \n",
    "    return change_points"
   ]
  },
  {
   "cell_type": "code",
   "execution_count": 51,
   "metadata": {},
   "outputs": [],
   "source": [
    "import pandas as pd\n",
    "import numpy as np"
   ]
  },
  {
   "cell_type": "code",
   "execution_count": 52,
   "metadata": {},
   "outputs": [
    {
     "data": {
      "text/plain": [
       "0.000000      0\n",
       "33.333333     0\n",
       "66.666667     1\n",
       "100.000000    0\n",
       "133.333333    0\n",
       "166.666667    1\n",
       "200.000000    1\n",
       "dtype: int64"
      ]
     },
     "metadata": {},
     "output_type": "display_data"
    },
    {
     "data": {
      "text/plain": [
       "[0.0, 100.0]"
      ]
     },
     "execution_count": 52,
     "metadata": {},
     "output_type": "execute_result"
    }
   ],
   "source": [
    "series_list = [0, 0, 1, 0, 0, 1, 1] # 1 cp at index 60 (=iloc 3)\n",
    "\n",
    "series = pd.Series(series_list, index=np.linspace(0, 200, len(series_list)))\n",
    "display(series)\n",
    "\n",
    "get_change_points(series, threshold=0.05, min_observations_below=1, min_distance_change_streaks=1)"
   ]
  },
  {
   "cell_type": "code",
   "execution_count": 40,
   "metadata": {},
   "outputs": [
    {
     "data": {
      "text/plain": [
       "0     0\n",
       "1     0\n",
       "2     0\n",
       "3     1\n",
       "4     2\n",
       "5     3\n",
       "6     0\n",
       "7     1\n",
       "8     0\n",
       "9     1\n",
       "10    2\n",
       "11    0\n",
       "12    0\n",
       "13    0\n",
       "14    1\n",
       "15    2\n",
       "16    3\n",
       "17    0\n",
       "18    1\n",
       "19    0\n",
       "20    1\n",
       "21    2\n",
       "dtype: int64"
      ]
     },
     "metadata": {},
     "output_type": "display_data"
    },
    {
     "data": {
      "text/plain": [
       "[28.57142857142857]"
      ]
     },
     "execution_count": 40,
     "metadata": {},
     "output_type": "execute_result"
    }
   ],
   "source": []
  },
  {
   "cell_type": "code",
   "execution_count": null,
   "metadata": {},
   "outputs": [],
   "source": []
  }
 ],
 "metadata": {
  "kernelspec": {
   "display_name": "Python 3.9.7 ('upc_ir')",
   "language": "python",
   "name": "python3"
  },
  "language_info": {
   "codemirror_mode": {
    "name": "ipython",
    "version": 3
   },
   "file_extension": ".py",
   "mimetype": "text/x-python",
   "name": "python",
   "nbconvert_exporter": "python",
   "pygments_lexer": "ipython3",
   "version": "3.9.7"
  },
  "orig_nbformat": 4,
  "vscode": {
   "interpreter": {
    "hash": "82dedc04ea80db69e61fe0f8a5aa6ffcdec9126a8fcbb32582dc55388d809d83"
   }
  }
 },
 "nbformat": 4,
 "nbformat_minor": 2
}
