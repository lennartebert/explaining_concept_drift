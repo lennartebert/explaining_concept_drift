{
 "cells": [
  {
   "cell_type": "markdown",
   "id": "9475ab7f-f59d-4644-8e0a-99aa00517392",
   "metadata": {
    "tags": []
   },
   "source": [
    "# Synthetic Dataset Generation\n",
    "*Author: Lennart Ebert (mail@lennart-ebert.de)*\n",
    "</br></br>\n",
    "\n",
    "This notebook is a pre-configured attribute generator which creates the dataset used in the thesis.\n",
    "\n",
    "It also offers pre-configurations for two additional datasets with recurring drift and 10 attribute values.\n",
    "\n",
    "All generated datasets have \n",
    "- 5 relevant attributes (attributes with a change)\n",
    "- 5 irrelevant attributes (attributes without a change)\n",
    "- primary change-points at 9 locations (1/10ths, 2/10ths...) (depends on base dataset)\n",
    "- standard_deviation_offset_explain_change_point = 0\n",
    "\n",
    "Dataset 1: sudden_3_attribute_values (used in the thesis)\n",
    "- 3 attribute values each\n",
    "- only sudden drift\n",
    "\n",
    "Dataset 2: recurring_3_attribute_values\n",
    "- 3 attribute values each\n",
    "- only recurring drift\n",
    "\n",
    "Dataset 3: sudden_10_attribute_values\n",
    "- 3 attribute values each\n",
    "- only sudden drift"
   ]
  },
  {
   "cell_type": "code",
   "execution_count": 7,
   "id": "2ad55131-0706-44e0-b98b-4393be9e7267",
   "metadata": {},
   "outputs": [],
   "source": [
    "import helper\n",
    "import uuid\n",
    "import os\n",
    "import numpy as np"
   ]
  },
  {
   "cell_type": "markdown",
   "id": "ab4f362a",
   "metadata": {},
   "source": [
    "Specify the input datasets which are to be augmented with drifting attributes."
   ]
  },
  {
   "cell_type": "code",
   "execution_count": 8,
   "id": "5211ffea",
   "metadata": {},
   "outputs": [],
   "source": [
    "input_datasets = [\n",
    "    # {\n",
    "    #     'path': 'data\\\\synthetic\\\\maardji et al 2013_xes\\\\logs\\\\cb\\\\cb2.5k.xes',\n",
    "    #     'size': 2500,\n",
    "    #     'change_points': helper.get_change_points_maardji_et_al_2013(2500)\n",
    "    # },\n",
    "    # {\n",
    "    #     'path': 'data\\\\synthetic\\\\maardji et al 2013_xes\\\\logs\\\\cb\\\\cb5k.xes',\n",
    "    #     'size': 5000\n",
    "    # },\n",
    "    # {\n",
    "    #     'path': 'data\\\\synthetic\\\\maardji et al 2013_xes\\\\logs\\\\cb\\\\cb7.5k.xes',\n",
    "    #     'size': 7500\n",
    "    # },\n",
    "    {\n",
    "        'path': 'data\\\\synthetic\\\\maardji et al 2013_xes\\\\logs\\\\cf\\\\cf10k.xes',\n",
    "        'size': 10000,\n",
    "        'change_points': helper.get_change_points_maardji_et_al_2013(10000)\n",
    "    }\n",
    "]\n"
   ]
  },
  {
   "cell_type": "code",
   "execution_count": 9,
   "id": "6afd3eaa",
   "metadata": {},
   "outputs": [],
   "source": [
    "count_relevant_attributes = 5\n",
    "count_irrelevant_attributes = 5\n",
    "\n",
    "generations_per_dataset = 1\n",
    "\n",
    "output_folder = 'data\\\\synthetic\\\\generated_datasets\\\\' # the resulting file will be put in the subfolder 'configuration/size/old_file_name_UUID.xes'"
   ]
  },
  {
   "cell_type": "markdown",
   "id": "36e9a9d7",
   "metadata": {},
   "source": [
    "## Generate Dataset 1: sudden_3_attribute_values"
   ]
  },
  {
   "cell_type": "code",
   "execution_count": 10,
   "id": "08edfa4b",
   "metadata": {},
   "outputs": [],
   "source": [
    "number_attribute_values = 3\n",
    "type_of_drift = 'sudden'\n",
    "type_of_change = 'mixed'\n",
    "configuration_name = 'sudden_3_attribute_values'"
   ]
  },
  {
   "cell_type": "code",
   "execution_count": 11,
   "id": "8dcb76a4",
   "metadata": {},
   "outputs": [
    {
     "name": "stdout",
     "output_type": "stream",
     "text": [
      "Now working on dataset {'path': 'data\\\\synthetic\\\\maardji et al 2013_xes\\\\logs\\\\cf\\\\cf10k.xes', 'size': 10000, 'change_points': [1000, 2000, 3000, 4000, 5000, 6000, 7000, 8000, 9000]}\n",
      "1 of 1 for current dataset\n",
      "Importance: DEBUG\n",
      "Message: Start serializing log to XES.XML\n",
      "\n",
      "Importance: DEBUG\n",
      "Message: finished serializing log (36351.96630859375 msec.)\n",
      "\n"
     ]
    }
   ],
   "source": [
    "for dataset in input_datasets:\n",
    "    print(f'Now working on dataset {dataset}')\n",
    "\n",
    "    dataset_base = '.'.join(os.path.basename(dataset['path']).split('.')[:-1])\n",
    "    \n",
    "    for i in range(generations_per_dataset):\n",
    "        print(f'{i + 1} of {generations_per_dataset} for current dataset')\n",
    "        file_name = f'{dataset_base + \"_\" +str(uuid.uuid4())}.xes'\n",
    "        output_path = os.path.join(output_folder, configuration_name, str(dataset['size']), file_name)\n",
    "        helper.add_synthetic_attributes(dataset['path'],\n",
    "            output_path,\n",
    "            dataset['change_points'],\n",
    "            count_relevant_attributes,\n",
    "            count_irrelevant_attributes,\n",
    "            number_attribute_values,\n",
    "            type_of_drift,\n",
    "            type_of_change)"
   ]
  },
  {
   "cell_type": "markdown",
   "id": "36e9a9d7",
   "metadata": {},
   "source": [
    "## Generate Dataset 2: recurring_3_attribute_values"
   ]
  },
  {
   "cell_type": "code",
   "execution_count": 12,
   "id": "08edfa4b",
   "metadata": {},
   "outputs": [],
   "source": [
    "number_attribute_values = 3\n",
    "type_of_drift = 'reoccurring'\n",
    "type_of_change = 'mixed'\n",
    "configuration_name = 'recurring_3_attribute_values'"
   ]
  },
  {
   "cell_type": "code",
   "execution_count": 13,
   "id": "8dcb76a4",
   "metadata": {},
   "outputs": [
    {
     "name": "stdout",
     "output_type": "stream",
     "text": [
      "Now working on dataset {'path': 'data\\\\synthetic\\\\maardji et al 2013_xes\\\\logs\\\\cf\\\\cf10k.xes', 'size': 10000, 'change_points': [1000, 2000, 3000, 4000, 5000, 6000, 7000, 8000, 9000]}\n",
      "1 of 1 for current dataset\n",
      "Importance: DEBUG\n",
      "Message: Start serializing log to XES.XML\n",
      "\n",
      "Importance: DEBUG\n",
      "Message: finished serializing log (36913.90625 msec.)\n",
      "\n"
     ]
    }
   ],
   "source": [
    "for dataset in input_datasets:\n",
    "    print(f'Now working on dataset {dataset}')\n",
    "\n",
    "    dataset_base = '.'.join(os.path.basename(dataset['path']).split('.')[:-1])\n",
    "    \n",
    "    for i in range(generations_per_dataset):\n",
    "        print(f'{i + 1} of {generations_per_dataset} for current dataset')\n",
    "        file_name = f'{dataset_base + \"_\" +str(uuid.uuid4())}.xes'\n",
    "        output_path = os.path.join(output_folder, configuration_name, str(dataset['size']), file_name)\n",
    "        helper.add_synthetic_attributes(dataset['path'],\n",
    "            output_path,\n",
    "            dataset['change_points'],\n",
    "            count_relevant_attributes,\n",
    "            count_irrelevant_attributes,\n",
    "            number_attribute_values,\n",
    "            type_of_drift,\n",
    "            type_of_change)"
   ]
  },
  {
   "cell_type": "markdown",
   "id": "36e9a9d7",
   "metadata": {},
   "source": [
    "## Generate Dataset 3: sudden_10_attribute_values"
   ]
  },
  {
   "cell_type": "code",
   "execution_count": 14,
   "id": "08edfa4b",
   "metadata": {},
   "outputs": [],
   "source": [
    "number_attribute_values = 10\n",
    "type_of_drift = 'sudden'\n",
    "type_of_change = 'mixed'\n",
    "configuration_name = 'sudden_10_attribute_values'"
   ]
  },
  {
   "cell_type": "code",
   "execution_count": 15,
   "id": "8dcb76a4",
   "metadata": {},
   "outputs": [
    {
     "name": "stdout",
     "output_type": "stream",
     "text": [
      "Now working on dataset {'path': 'data\\\\synthetic\\\\maardji et al 2013_xes\\\\logs\\\\cf\\\\cf10k.xes', 'size': 10000, 'change_points': [1000, 2000, 3000, 4000, 5000, 6000, 7000, 8000, 9000]}\n",
      "1 of 1 for current dataset\n",
      "Importance: DEBUG\n",
      "Message: Start serializing log to XES.XML\n",
      "\n",
      "Importance: DEBUG\n",
      "Message: finished serializing log (37397.5029296875 msec.)\n",
      "\n"
     ]
    }
   ],
   "source": [
    "for dataset in input_datasets:\n",
    "    print(f'Now working on dataset {dataset}')\n",
    "\n",
    "    dataset_base = '.'.join(os.path.basename(dataset['path']).split('.')[:-1])\n",
    "    \n",
    "    for i in range(generations_per_dataset):\n",
    "        print(f'{i + 1} of {generations_per_dataset} for current dataset')\n",
    "        file_name = f'{dataset_base + \"_\" +str(uuid.uuid4())}.xes'\n",
    "        output_path = os.path.join(output_folder, configuration_name, str(dataset['size']), file_name)\n",
    "        helper.add_synthetic_attributes(dataset['path'],\n",
    "            output_path,\n",
    "            dataset['change_points'],\n",
    "            count_relevant_attributes,\n",
    "            count_irrelevant_attributes,\n",
    "            number_attribute_values,\n",
    "            type_of_drift,\n",
    "            type_of_change)"
   ]
  }
 ],
 "metadata": {
  "interpreter": {
   "hash": "3586acef3f5f923af4b971ce05811a36e3973e810e5c25f95daaeb0237b948ae"
  },
  "kernelspec": {
   "display_name": "Python 3.10.4 ('concept_drift')",
   "language": "python",
   "name": "python3"
  },
  "language_info": {
   "codemirror_mode": {
    "name": "ipython",
    "version": 3
   },
   "file_extension": ".py",
   "mimetype": "text/x-python",
   "name": "python",
   "nbconvert_exporter": "python",
   "pygments_lexer": "ipython3",
   "version": "3.10.4"
  }
 },
 "nbformat": 4,
 "nbformat_minor": 5
}
