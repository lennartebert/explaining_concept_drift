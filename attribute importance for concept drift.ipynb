{
 "cells": [
  {
   "cell_type": "markdown",
   "id": "89d46962-50d0-4a78-9552-08db7fa8e639",
   "metadata": {
    "tags": []
   },
   "source": [
    "# Attribute Importance for Concept Drift\n",
    "Steps:\n",
    "1. Identify change-points in process\n",
    "2. For each chage-point, for each feature evaluate the change in distribution of the feature\n",
    "3. merge results into feature ranking\n",
    "\n",
    "## Setup"
   ]
  },
  {
   "cell_type": "code",
   "execution_count": 1,
   "id": "9df7d0f7-1aa4-4c89-9392-3376586554d3",
   "metadata": {},
   "outputs": [],
   "source": [
    "# imports\n",
    "import pm4py\n",
    "import helper\n",
    "import pandas as pd\n",
    "import numpy as np\n",
    "from pm4py.algo.discovery.dfg import algorithm as dfg_discovery"
   ]
  },
  {
   "cell_type": "code",
   "execution_count": 2,
   "id": "6430579c-af79-41ec-9abb-a2de432bf092",
   "metadata": {},
   "outputs": [],
   "source": [
    "# settings\n",
    "\n",
    "# data settings\n",
    "dataset = 'bpi_challenge_2013_incidents'\n",
    "\n",
    "# change-point detection settings\n",
    "change_point_detection_approach = 'pert'\n",
    "change_point_features = 'directly_follows'\n",
    "# TODO need window size?\n",
    "\n",
    "# change-point explanation settings\n",
    "window_size = 10 # in days\n",
    "window_offset = 0\n",
    "categorical_variables_test = 'chi-squared'\n",
    "continuous_variables_test = 'kolmogorov-smirnov'"
   ]
  },
  {
   "cell_type": "code",
   "execution_count": 3,
   "id": "7111b563-7a55-4f85-9cf9-d9a3feb34d45",
   "metadata": {},
   "outputs": [
    {
     "name": "stderr",
     "output_type": "stream",
     "text": [
      "C:\\Users\\Lennart\\Tools\\Anaconda3\\envs\\concept_drift\\lib\\site-packages\\tqdm\\auto.py:22: TqdmWarning: IProgress not found. Please update jupyter and ipywidgets. See https://ipywidgets.readthedocs.io/en/stable/user_install.html\n",
      "  from .autonotebook import tqdm as notebook_tqdm\n",
      "parsing log, completed traces :: 100%|████████████████████████████████████████████| 7554/7554 [00:08<00:00, 901.12it/s]\n"
     ]
    }
   ],
   "source": [
    "# import log\n",
    "log = helper.get_log(dataset)"
   ]
  },
  {
   "cell_type": "code",
   "execution_count": 4,
   "id": "fa8c182f-1421-4388-b83b-3d4a03f464c2",
   "metadata": {},
   "outputs": [],
   "source": [
    "from concept_drift import features\n",
    "from concept_drift import windows\n",
    "from concept_drift import statistical_tests"
   ]
  },
  {
   "cell_type": "code",
   "execution_count": 5,
   "id": "963f2e4a-b445-4eae-9b50-2e2a3e77ad32",
   "metadata": {},
   "outputs": [
    {
     "data": {
      "text/html": [
       "<div>\n",
       "<style scoped>\n",
       "    .dataframe tbody tr th:only-of-type {\n",
       "        vertical-align: middle;\n",
       "    }\n",
       "\n",
       "    .dataframe tbody tr th {\n",
       "        vertical-align: top;\n",
       "    }\n",
       "\n",
       "    .dataframe thead th {\n",
       "        text-align: right;\n",
       "    }\n",
       "</style>\n",
       "<table border=\"1\" class=\"dataframe\">\n",
       "  <thead>\n",
       "    <tr style=\"text-align: right;\">\n",
       "      <th></th>\n",
       "      <th>followed_by_s</th>\n",
       "      <th>followed_by_n</th>\n",
       "      <th>followed_by_a</th>\n",
       "      <th>preceded_by_s</th>\n",
       "      <th>preceded_by_n</th>\n",
       "      <th>preceded_by_a</th>\n",
       "    </tr>\n",
       "  </thead>\n",
       "  <tbody>\n",
       "    <tr>\n",
       "      <th>Accepted</th>\n",
       "      <td>4</td>\n",
       "      <td>0</td>\n",
       "      <td>0</td>\n",
       "      <td>4</td>\n",
       "      <td>0</td>\n",
       "      <td>0</td>\n",
       "    </tr>\n",
       "    <tr>\n",
       "      <th>Completed</th>\n",
       "      <td>4</td>\n",
       "      <td>0</td>\n",
       "      <td>0</td>\n",
       "      <td>4</td>\n",
       "      <td>0</td>\n",
       "      <td>0</td>\n",
       "    </tr>\n",
       "    <tr>\n",
       "      <th>Queued</th>\n",
       "      <td>4</td>\n",
       "      <td>0</td>\n",
       "      <td>0</td>\n",
       "      <td>3</td>\n",
       "      <td>1</td>\n",
       "      <td>0</td>\n",
       "    </tr>\n",
       "    <tr>\n",
       "      <th>Unmatched</th>\n",
       "      <td>2</td>\n",
       "      <td>2</td>\n",
       "      <td>0</td>\n",
       "      <td>3</td>\n",
       "      <td>1</td>\n",
       "      <td>0</td>\n",
       "    </tr>\n",
       "  </tbody>\n",
       "</table>\n",
       "</div>"
      ],
      "text/plain": [
       "           followed_by_s  followed_by_n  followed_by_a  preceded_by_s  \\\n",
       "Accepted               4              0              0              4   \n",
       "Completed              4              0              0              4   \n",
       "Queued                 4              0              0              3   \n",
       "Unmatched              2              2              0              3   \n",
       "\n",
       "           preceded_by_n  preceded_by_a  \n",
       "Accepted               0              0  \n",
       "Completed              0              0  \n",
       "Queued                 1              0  \n",
       "Unmatched              1              0  "
      ]
     },
     "execution_count": 5,
     "metadata": {},
     "output_type": "execute_result"
    }
   ],
   "source": [
    "features.get_bi_directional_relationship_type_counts(log)"
   ]
  },
  {
   "cell_type": "code",
   "execution_count": 6,
   "id": "00200816-5c74-47ff-9c08-69b7ad5e4558",
   "metadata": {},
   "outputs": [],
   "source": [
    "window_size = 30\n",
    "log_windows = windows.get_log_windows(log, window_size, window_offset=5)\n",
    "pass"
   ]
  },
  {
   "cell_type": "code",
   "execution_count": 7,
   "id": "c78aefba-cea5-42da-9fec-4a0685340f63",
   "metadata": {},
   "outputs": [],
   "source": [
    "# get features for each window\n",
    "feature_windows = [] \n",
    "for window_start, (log_window_a, log_window_b) in log_windows:\n",
    "    # TODO add option to merge features\n",
    "    # features_window_a = features.get_bi_directional_relationship_type_counts(log_window_a)\n",
    "    # features_window_b = features.get_bi_directional_relationship_type_counts(log_window_b)\n",
    "    \n",
    "    features_window_a = features.get_relational_entropy(log_window_a)\n",
    "    features_window_b = features.get_relational_entropy(log_window_b)\n",
    "    \n",
    "    feature_windows.append((window_start, (features_window_a, features_window_b)))"
   ]
  },
  {
   "cell_type": "code",
   "execution_count": 8,
   "id": "57399a70-5501-44fe-8c1f-2838a33add7b",
   "metadata": {},
   "outputs": [],
   "source": [
    "# perform statistical test for each window pairing\n",
    "test_results = []\n",
    "for window_start, (features_window_a, features_window_b) in feature_windows:\n",
    "    test_result = statistical_tests.test_kolmogorov_smirnov(features_window_a, features_window_b)\n",
    "    test_results.append((window_start, test_result))"
   ]
  },
  {
   "cell_type": "code",
   "execution_count": 9,
   "id": "3c8c0b22-d5ec-45e2-a338-713be852b5df",
   "metadata": {},
   "outputs": [],
   "source": [
    "p_values = [(time, test_result.pvalue) for time, test_result in test_results]"
   ]
  },
  {
   "cell_type": "code",
   "execution_count": 10,
   "id": "35723996-aacc-40f5-8089-8ad4bd55d8ac",
   "metadata": {},
   "outputs": [
    {
     "data": {
      "image/png": "[encoded data removed]",
      "text/plain": [
       "<Figure size 432x288 with 1 Axes>"
      ]
     },
     "metadata": {
      "needs_background": "light"
     },
     "output_type": "display_data"
    }
   ],
   "source": [
    "# plot the p values\n",
    "import matplotlib.pyplot as plt\n",
    "x_y_data = zip(*p_values)\n",
    "plt.plot(*x_y_data)\n",
    "plt.show()"
   ]
  },
  {
   "cell_type": "code",
   "execution_count": 11,
   "id": "ae8684b9-1a2e-4064-80a0-e28535a70418",
   "metadata": {},
   "outputs": [
    {
     "data": {
      "text/plain": [
       "{}"
      ]
     },
     "metadata": {},
     "output_type": "display_data"
    }
   ],
   "source": [
    "# any point is a changepoint if the p-value was significant (<0.05)\n",
    "change_points = {}\n",
    "for time, p_value in p_values:\n",
    "    if p_value < 0.05:\n",
    "        change_points[time] = p_value\n",
    "display(change_points)"
   ]
  },
  {
   "cell_type": "code",
   "execution_count": null,
   "id": "d1008986-d508-4919-a6cd-c6b206269832",
   "metadata": {},
   "outputs": [],
   "source": []
  },
  {
   "cell_type": "code",
   "execution_count": 6,
   "id": "3d6c5a0d-3e6c-4632-892a-3367d148bce1",
   "metadata": {},
   "outputs": [
    {
     "data": {
      "text/plain": [
       "Completed    0.000000\n",
       "Accepted     0.000000\n",
       "Queued       0.811278\n",
       "Unmatched    0.811278\n",
       "dtype: float64"
      ]
     },
     "execution_count": 6,
     "metadata": {},
     "output_type": "execute_result"
    }
   ],
   "source": [
    "features.get_relational_entropy(log, direction='preceded_by')"
   ]
  },
  {
   "cell_type": "code",
   "execution_count": 7,
   "id": "c240e2a5-b045-4040-86f6-6d7d422225bd",
   "metadata": {},
   "outputs": [
    {
     "data": {
      "text/plain": [
       "Accepted     40117\n",
       "Queued       11544\n",
       "Completed    13867\n",
       "Unmatched        5\n",
       "dtype: int64"
      ]
     },
     "metadata": {},
     "output_type": "display_data"
    },
    {
     "data": {
      "text/html": [
       "<div>\n",
       "<style scoped>\n",
       "    .dataframe tbody tr th:only-of-type {\n",
       "        vertical-align: middle;\n",
       "    }\n",
       "\n",
       "    .dataframe tbody tr th {\n",
       "        vertical-align: top;\n",
       "    }\n",
       "\n",
       "    .dataframe thead th {\n",
       "        text-align: right;\n",
       "    }\n",
       "</style>\n",
       "<table border=\"1\" class=\"dataframe\">\n",
       "  <thead>\n",
       "    <tr style=\"text-align: right;\">\n",
       "      <th></th>\n",
       "      <th>Accepted</th>\n",
       "      <th>Queued</th>\n",
       "      <th>Completed</th>\n",
       "      <th>Unmatched</th>\n",
       "    </tr>\n",
       "  </thead>\n",
       "  <tbody>\n",
       "    <tr>\n",
       "      <th>Accepted</th>\n",
       "      <td>195211</td>\n",
       "      <td>60194</td>\n",
       "      <td>80657</td>\n",
       "      <td>22</td>\n",
       "    </tr>\n",
       "    <tr>\n",
       "      <th>Queued</th>\n",
       "      <td>74741</td>\n",
       "      <td>22684</td>\n",
       "      <td>24340</td>\n",
       "      <td>4</td>\n",
       "    </tr>\n",
       "    <tr>\n",
       "      <th>Completed</th>\n",
       "      <td>4485</td>\n",
       "      <td>1346</td>\n",
       "      <td>7382</td>\n",
       "      <td>6</td>\n",
       "    </tr>\n",
       "    <tr>\n",
       "      <th>Unmatched</th>\n",
       "      <td>11</td>\n",
       "      <td>0</td>\n",
       "      <td>10</td>\n",
       "      <td>0</td>\n",
       "    </tr>\n",
       "  </tbody>\n",
       "</table>\n",
       "</div>"
      ],
      "text/plain": [
       "           Accepted  Queued  Completed  Unmatched\n",
       "Accepted     195211   60194      80657         22\n",
       "Queued        74741   22684      24340          4\n",
       "Completed      4485    1346       7382          6\n",
       "Unmatched        11       0         10          0"
      ]
     },
     "metadata": {},
     "output_type": "display_data"
    },
    {
     "data": {
      "text/html": [
       "<div>\n",
       "<style scoped>\n",
       "    .dataframe tbody tr th:only-of-type {\n",
       "        vertical-align: middle;\n",
       "    }\n",
       "\n",
       "    .dataframe tbody tr th {\n",
       "        vertical-align: top;\n",
       "    }\n",
       "\n",
       "    .dataframe thead th {\n",
       "        text-align: right;\n",
       "    }\n",
       "</style>\n",
       "<table border=\"1\" class=\"dataframe\">\n",
       "  <thead>\n",
       "    <tr style=\"text-align: right;\">\n",
       "      <th></th>\n",
       "      <th>Accepted</th>\n",
       "      <th>Queued</th>\n",
       "      <th>Completed</th>\n",
       "      <th>Unmatched</th>\n",
       "    </tr>\n",
       "  </thead>\n",
       "  <tbody>\n",
       "    <tr>\n",
       "      <th>Accepted</th>\n",
       "      <td>s</td>\n",
       "      <td>s</td>\n",
       "      <td>s</td>\n",
       "      <td>s</td>\n",
       "    </tr>\n",
       "    <tr>\n",
       "      <th>Queued</th>\n",
       "      <td>s</td>\n",
       "      <td>s</td>\n",
       "      <td>s</td>\n",
       "      <td>s</td>\n",
       "    </tr>\n",
       "    <tr>\n",
       "      <th>Completed</th>\n",
       "      <td>s</td>\n",
       "      <td>s</td>\n",
       "      <td>s</td>\n",
       "      <td>s</td>\n",
       "    </tr>\n",
       "    <tr>\n",
       "      <th>Unmatched</th>\n",
       "      <td>s</td>\n",
       "      <td>n</td>\n",
       "      <td>s</td>\n",
       "      <td>n</td>\n",
       "    </tr>\n",
       "  </tbody>\n",
       "</table>\n",
       "</div>"
      ],
      "text/plain": [
       "          Accepted Queued Completed Unmatched\n",
       "Accepted         s      s         s         s\n",
       "Queued           s      s         s         s\n",
       "Completed        s      s         s         s\n",
       "Unmatched        s      n         s         n"
      ]
     },
     "metadata": {},
     "output_type": "display_data"
    },
    {
     "data": {
      "text/html": [
       "<div>\n",
       "<style scoped>\n",
       "    .dataframe tbody tr th:only-of-type {\n",
       "        vertical-align: middle;\n",
       "    }\n",
       "\n",
       "    .dataframe tbody tr th {\n",
       "        vertical-align: top;\n",
       "    }\n",
       "\n",
       "    .dataframe thead th {\n",
       "        text-align: right;\n",
       "    }\n",
       "</style>\n",
       "<table border=\"1\" class=\"dataframe\">\n",
       "  <thead>\n",
       "    <tr style=\"text-align: right;\">\n",
       "      <th></th>\n",
       "      <th>s</th>\n",
       "      <th>n</th>\n",
       "      <th>a</th>\n",
       "    </tr>\n",
       "  </thead>\n",
       "  <tbody>\n",
       "    <tr>\n",
       "      <th>Accepted</th>\n",
       "      <td>4</td>\n",
       "      <td>0</td>\n",
       "      <td>0</td>\n",
       "    </tr>\n",
       "    <tr>\n",
       "      <th>Queued</th>\n",
       "      <td>4</td>\n",
       "      <td>0</td>\n",
       "      <td>0</td>\n",
       "    </tr>\n",
       "    <tr>\n",
       "      <th>Completed</th>\n",
       "      <td>4</td>\n",
       "      <td>0</td>\n",
       "      <td>0</td>\n",
       "    </tr>\n",
       "    <tr>\n",
       "      <th>Unmatched</th>\n",
       "      <td>2</td>\n",
       "      <td>2</td>\n",
       "      <td>0</td>\n",
       "    </tr>\n",
       "  </tbody>\n",
       "</table>\n",
       "</div>"
      ],
      "text/plain": [
       "           s  n  a\n",
       "Accepted   4  0  0\n",
       "Queued     4  0  0\n",
       "Completed  4  0  0\n",
       "Unmatched  2  2  0"
      ]
     },
     "metadata": {},
     "output_type": "display_data"
    },
    {
     "data": {
      "text/plain": [
       "Accepted     0.0\n",
       "Queued       0.0\n",
       "Completed    0.0\n",
       "Unmatched    1.0\n",
       "dtype: float64"
      ]
     },
     "metadata": {},
     "output_type": "display_data"
    }
   ],
   "source": [
    "activity_occurences = features.get_activity_occurence_counts(log)\n",
    "display(activity_occurences)\n",
    "causality_counts = features.get_causality_counts(log)\n",
    "display(causality_counts)\n",
    "sna_relationships = features.get_sna_relationships(log)\n",
    "display(sna_relationships)\n",
    "relationship_type_counts = features.get_relationship_type_counts(log)\n",
    "display(relationship_type_counts)\n",
    "re = features.get_relational_entropy(log)\n",
    "display(re)"
   ]
  },
  {
   "cell_type": "code",
   "execution_count": null,
   "id": "811a8599-243d-4e72-a612-12d9fca19553",
   "metadata": {},
   "outputs": [],
   "source": []
  },
  {
   "cell_type": "code",
   "execution_count": 8,
   "id": "246b2f4a-d905-47c8-ada7-6a4b49ec4e5d",
   "metadata": {},
   "outputs": [],
   "source": [
    "fake_log = [1, 2, 3, 4, 5, 6]"
   ]
  },
  {
   "cell_type": "code",
   "execution_count": 17,
   "id": "4c576260-9e90-48df-ab44-0da9bd0b999c",
   "metadata": {},
   "outputs": [],
   "source": [
    "start = 0\n",
    "window_size = 2\n",
    "window_offset = window_size\n",
    "\n",
    "window_a_start = start\n",
    "window_a_end = window_a_start + window_size\n",
    "window_b_start = window_a_start + window_offset\n",
    "window_b_end = window_b_start + window_size"
   ]
  },
  {
   "cell_type": "code",
   "execution_count": 20,
   "id": "d0d8e008-14d6-4c8c-976e-d3a7becd0562",
   "metadata": {},
   "outputs": [
    {
     "data": {
      "text/plain": [
       "[3, 4]"
      ]
     },
     "execution_count": 20,
     "metadata": {},
     "output_type": "execute_result"
    }
   ],
   "source": [
    "fake_log[window_b_start:window_b_end]"
   ]
  },
  {
   "cell_type": "markdown",
   "id": "73952dc3-c708-4514-82dc-abf90adf6564",
   "metadata": {},
   "source": [
    "## Detect Change-Points"
   ]
  },
  {
   "cell_type": "code",
   "execution_count": 19,
   "id": "ccefecaf-d5ee-46c1-be74-0bb891eb78f6",
   "metadata": {},
   "outputs": [],
   "source": []
  },
  {
   "cell_type": "code",
   "execution_count": 20,
   "id": "0740af6d-6643-4006-a318-99eb2fbef9c2",
   "metadata": {},
   "outputs": [],
   "source": [
    "window_size = datetime.timedelta(10, 0, 0) # set window size to 10 days\n",
    "windows = get_windows(log, window_size)\n",
    "pass"
   ]
  },
  {
   "cell_type": "code",
   "execution_count": 21,
   "id": "61c9a68d-3a3c-4400-8cdd-f1f9516c8c5c",
   "metadata": {},
   "outputs": [],
   "source": [
    "window_a = windows[0][0]"
   ]
  },
  {
   "cell_type": "code",
   "execution_count": 22,
   "id": "0d1b34ce-1c2f-46e9-bf9b-ed56db7ab26d",
   "metadata": {},
   "outputs": [],
   "source": [
    "def get_directy_follows_relationships(log):\n",
    "    # get the directly follows relationships\n",
    "    dfg = dfg_discovery.apply(log)\n",
    "    \n",
    "    feature_results = {}\n",
    "    for activity_tuple, count in dfg.items():\n",
    "        feature_results[str(activity_tuple)] = count\n",
    "\n",
    "    return feature_results\n",
    "    \n",
    "get_directy_follows_relationships(window_a.log)\n",
    "pass"
   ]
  },
  {
   "cell_type": "code",
   "execution_count": 36,
   "id": "b3ec3452-45f3-4120-899b-492392bbedd1",
   "metadata": {},
   "outputs": [],
   "source": []
  },
  {
   "cell_type": "code",
   "execution_count": 37,
   "id": "f94da7fe-ab09-44c7-aa3d-532515b0b3be",
   "metadata": {},
   "outputs": [],
   "source": []
  },
  {
   "cell_type": "code",
   "execution_count": 44,
   "id": "eca5446e-aa26-4549-9135-77cbdd6a0d91",
   "metadata": {},
   "outputs": [],
   "source": [
    "def _get_sna_dataframe(sna_dict):\n",
    "    return pd.DataFrame().from_dict(sna_dict, orient='index')"
   ]
  },
  {
   "cell_type": "code",
   "execution_count": 60,
   "id": "3a532811-f4e2-4447-8f48-0c94606a1d7e",
   "metadata": {},
   "outputs": [],
   "source": [
    "def _get_relation_type_count_df(sna_dataframe):\n",
    "    activity_rc = {}\n",
    "    for i, row in sna_dataframe.iterrows():\n",
    "        # count sometimes, always and never\n",
    "        activity_rc[i] = row.value_counts().to_dict()\n",
    "        \n",
    "        if 'n' not in activity_rc[i]:\n",
    "            activity_rc[i]['n'] = 0\n",
    "        \n",
    "        if 'a' not in activity_rc[i]:\n",
    "            activity_rc[i]['a'] = 0\n",
    "            \n",
    "        if 's' not in activity_rc[i]:\n",
    "            activity_rc[i]['s'] = 0\n",
    "    \n",
    "    return pd.DataFrame().from_dict(activity_rc, orient='index')"
   ]
  },
  {
   "cell_type": "code",
   "execution_count": 77,
   "id": "8a3a1c6b-a40f-4cb8-8b21-fb7b4fc33020",
   "metadata": {},
   "outputs": [],
   "source": [
    "def _get_re(relation_type_count_df):\n",
    "    \"\"\"Get the relational entropy for a relation type count dataframe.\n",
    "    \"\"\"\n",
    "    activity_count = len(relation_type_count_df.index)\n",
    "    \n",
    "    activity_relation_entropy = {}\n",
    "    \n",
    "    for activity, row in relation_type_count_df.iterrows():\n",
    "        # get count for each relation type\n",
    "        ca = row['a']\n",
    "        cs = row['s']\n",
    "        cn = row['n']\n",
    "        \n",
    "        # get probability for each relation type\n",
    "        pa = ca / activity_count\n",
    "        ps = cs / activity_count\n",
    "        pn = cn / activity_count\n",
    "        \n",
    "        entropy = 0\n",
    "        for p in [pa, ps, pn]:\n",
    "            if p != 0:\n",
    "                entropy += -p * np.log2(p)\n",
    "        \n",
    "        activity_relation_entropy[activity] = entropy\n",
    "    \n",
    "    relation_entropy_series = pd.Series(activity_relation_entropy)\n",
    "    return(relation_entropy_series)"
   ]
  },
  {
   "cell_type": "code",
   "execution_count": 76,
   "id": "b5c5b58a-8402-4415-9796-80616e147893",
   "metadata": {},
   "outputs": [
    {
     "name": "stdout",
     "output_type": "stream",
     "text": [
      "{'a': {'b': 2, 'c': 2, 'x': 1, 'y': 1}, 'b': {'c': 2}, 'x': {'y': 2, 'z': 1}, 'y': {'z': 1}}\n",
      "{'a': {'b': 'a', 'c': 'a', 'x': 's', 'y': 's', 'z': 'n', 'a': 'n'}, 'b': {'c': 'a', 'z': 'n', 'b': 'n', 'y': 'n', 'a': 'n', 'x': 'n'}, 'x': {'y': 'a', 'z': 'a', 'c': 'n', 'b': 'n', 'a': 'n', 'x': 'n'}, 'y': {'z': 'a', 'c': 'n', 'b': 'n', 'y': 'n', 'a': 'n', 'x': 'n'}}\n"
     ]
    },
    {
     "data": {
      "text/html": [
       "<div>\n",
       "<style scoped>\n",
       "    .dataframe tbody tr th:only-of-type {\n",
       "        vertical-align: middle;\n",
       "    }\n",
       "\n",
       "    .dataframe tbody tr th {\n",
       "        vertical-align: top;\n",
       "    }\n",
       "\n",
       "    .dataframe thead th {\n",
       "        text-align: right;\n",
       "    }\n",
       "</style>\n",
       "<table border=\"1\" class=\"dataframe\">\n",
       "  <thead>\n",
       "    <tr style=\"text-align: right;\">\n",
       "      <th></th>\n",
       "      <th>b</th>\n",
       "      <th>c</th>\n",
       "      <th>x</th>\n",
       "      <th>y</th>\n",
       "      <th>z</th>\n",
       "      <th>a</th>\n",
       "    </tr>\n",
       "  </thead>\n",
       "  <tbody>\n",
       "    <tr>\n",
       "      <th>a</th>\n",
       "      <td>a</td>\n",
       "      <td>a</td>\n",
       "      <td>s</td>\n",
       "      <td>s</td>\n",
       "      <td>n</td>\n",
       "      <td>n</td>\n",
       "    </tr>\n",
       "    <tr>\n",
       "      <th>b</th>\n",
       "      <td>n</td>\n",
       "      <td>a</td>\n",
       "      <td>n</td>\n",
       "      <td>n</td>\n",
       "      <td>n</td>\n",
       "      <td>n</td>\n",
       "    </tr>\n",
       "    <tr>\n",
       "      <th>x</th>\n",
       "      <td>n</td>\n",
       "      <td>n</td>\n",
       "      <td>n</td>\n",
       "      <td>a</td>\n",
       "      <td>a</td>\n",
       "      <td>n</td>\n",
       "    </tr>\n",
       "    <tr>\n",
       "      <th>y</th>\n",
       "      <td>n</td>\n",
       "      <td>n</td>\n",
       "      <td>n</td>\n",
       "      <td>n</td>\n",
       "      <td>a</td>\n",
       "      <td>n</td>\n",
       "    </tr>\n",
       "  </tbody>\n",
       "</table>\n",
       "</div>"
      ],
      "text/plain": [
       "   b  c  x  y  z  a\n",
       "a  a  a  s  s  n  n\n",
       "b  n  a  n  n  n  n\n",
       "x  n  n  n  a  a  n\n",
       "y  n  n  n  n  a  n"
      ]
     },
     "metadata": {},
     "output_type": "display_data"
    },
    {
     "data": {
      "text/html": [
       "<div>\n",
       "<style scoped>\n",
       "    .dataframe tbody tr th:only-of-type {\n",
       "        vertical-align: middle;\n",
       "    }\n",
       "\n",
       "    .dataframe tbody tr th {\n",
       "        vertical-align: top;\n",
       "    }\n",
       "\n",
       "    .dataframe thead th {\n",
       "        text-align: right;\n",
       "    }\n",
       "</style>\n",
       "<table border=\"1\" class=\"dataframe\">\n",
       "  <thead>\n",
       "    <tr style=\"text-align: right;\">\n",
       "      <th></th>\n",
       "      <th>a</th>\n",
       "      <th>s</th>\n",
       "      <th>n</th>\n",
       "    </tr>\n",
       "  </thead>\n",
       "  <tbody>\n",
       "    <tr>\n",
       "      <th>a</th>\n",
       "      <td>2</td>\n",
       "      <td>2</td>\n",
       "      <td>2</td>\n",
       "    </tr>\n",
       "    <tr>\n",
       "      <th>b</th>\n",
       "      <td>1</td>\n",
       "      <td>0</td>\n",
       "      <td>5</td>\n",
       "    </tr>\n",
       "    <tr>\n",
       "      <th>x</th>\n",
       "      <td>2</td>\n",
       "      <td>0</td>\n",
       "      <td>4</td>\n",
       "    </tr>\n",
       "    <tr>\n",
       "      <th>y</th>\n",
       "      <td>1</td>\n",
       "      <td>0</td>\n",
       "      <td>5</td>\n",
       "    </tr>\n",
       "  </tbody>\n",
       "</table>\n",
       "</div>"
      ],
      "text/plain": [
       "   a  s  n\n",
       "a  2  2  2\n",
       "b  1  0  5\n",
       "x  2  0  4\n",
       "y  1  0  5"
      ]
     },
     "metadata": {},
     "output_type": "display_data"
    },
    {
     "data": {
      "text/plain": [
       "a    1.50000\n",
       "b    0.09759\n",
       "x    0.50000\n",
       "y    0.09759\n",
       "dtype: float64"
      ]
     },
     "metadata": {},
     "output_type": "display_data"
    }
   ],
   "source": [
    "traces = [['a', 'b', 'c'], ['a', 'b', 'c'], ['x', 'y', 'z'], ['a', 'x', 'y']]\n",
    "causality_count_dict = _get_causality_count_dict(traces, direction='followed_by')\n",
    "print(causality_count_dict)\n",
    "activity_occurence_counts = _get_activity_occurence_counts(traces)\n",
    "sna_dict = _get_sna_dict(causality_count_dict, activity_occurence_counts)\n",
    "print(sna_dict)\n",
    "sna_dataframe = _get_sna_dataframe(sna_dict)\n",
    "display(sna_dataframe)\n",
    "relation_type_count = _get_relation_type_count(sna_dataframe)\n",
    "display(relation_type_count)\n",
    "re = _get_re(relation_type_count)\n",
    "display(re)"
   ]
  },
  {
   "cell_type": "code",
   "execution_count": 42,
   "id": "1e9630c7-055f-4673-adbe-5b833293023b",
   "metadata": {},
   "outputs": [],
   "source": [
    "def get_causal_footprint_matrix(log, direction='preceded_by', activity_name_field='concept:name'):\n",
    "    traces = _get_traces(log, activity_name_field)\n",
    "    causality_count_dict = _get_causality_count_dict(traces, direction=direction)\n",
    "    activity_occurence_counts = _get_activity_occurence_counts(traces)\n",
    "    sna_dict = _get_sna_dict(causality_count_dict, activity_occurence_counts)\n",
    "    return sna_dict"
   ]
  },
  {
   "cell_type": "code",
   "execution_count": 43,
   "id": "aef74072-d43f-4577-8c65-3c7ad089e06d",
   "metadata": {},
   "outputs": [
    {
     "name": "stdout",
     "output_type": "stream",
     "text": [
      "{'Completed': {'Completed': 's', 'Accepted': 's', 'Queued': 's', 'Unmatched': 's'}, 'Accepted': {'Accepted': 's', 'Queued': 's', 'Completed': 's', 'Unmatched': 's'}, 'Queued': {'Accepted': 's', 'Queued': 's', 'Completed': 's', 'Unmatched': 'n'}, 'Unmatched': {'Completed': 's', 'Accepted': 's', 'Queued': 's', 'Unmatched': 'n'}}\n"
     ]
    }
   ],
   "source": [
    "print(get_causal_footprint_matrix(log))"
   ]
  },
  {
   "cell_type": "code",
   "execution_count": null,
   "id": "6cb931d2-b980-42b1-bf7f-343585eaa85f",
   "metadata": {},
   "outputs": [],
   "source": [
    "def get_causal_footprint_matrix(log, "
   ]
  },
  {
   "cell_type": "code",
   "execution_count": null,
   "id": "a523afcb-07ec-4ce0-ac67-7829cfc8f964",
   "metadata": {},
   "outputs": [],
   "source": [
    "def _get_causality_count_dict(traces, direction):\n",
    "    for "
   ]
  },
  {
   "cell_type": "code",
   "execution_count": 12,
   "id": "bf57402f-c74e-4e37-a1e3-6c5fdb848a6b",
   "metadata": {},
   "outputs": [
    {
     "name": "stdout",
     "output_type": "stream",
     "text": [
      "i: 0\n",
      "j: 0\n",
      "j: 1\n",
      "i: 1\n",
      "j: 0\n",
      "i: 0\n",
      "j: 0\n",
      "j: 1\n",
      "i: 1\n",
      "j: 0\n",
      "i: 0\n",
      "j: 0\n",
      "j: 1\n",
      "i: 1\n",
      "j: 0\n",
      "{'c': {'b': 2, 'a': 2}, 'b': {'a': 2}, 'z': {'y': 1, 'x': 1}, 'y': {'x': 1}}\n"
     ]
    }
   ],
   "source": [
    "traces = [['a', 'b', 'c'], ['a', 'b', 'c'], ['x', 'y', 'z']]\n",
    "direction = 'preceded_by'"
   ]
  },
  {
   "cell_type": "code",
   "execution_count": 1,
   "id": "126d6264-758d-49f9-ad33-f2feb1e08e8a",
   "metadata": {},
   "outputs": [],
   "source": [
    "def test_causal_footprint_matrix():\n",
    "    traces = [['a', 'b', 'c'], ['a', 'b', 'c']]"
   ]
  },
  {
   "cell_type": "code",
   "execution_count": null,
   "id": "2bf55923-90a2-489e-819b-b91f09ef4c8f",
   "metadata": {},
   "outputs": [],
   "source": []
  },
  {
   "cell_type": "code",
   "execution_count": 52,
   "id": "82cfa1df-d254-44ad-b8f2-23be1e23dcc9",
   "metadata": {},
   "outputs": [
    {
     "name": "stdout",
     "output_type": "stream",
     "text": [
      "{'Accepted': {'Completed': 's', 'Accepted': 's', 'Queued': 's', 'Unmatched': 's'}, 'Queued': {'Completed': 's', 'Accepted': 's', 'Queued': 's', 'Unmatched': 's'}, 'Completed': {'Completed': 's', 'Accepted': 's', 'Queued': 's', 'Unmatched': 's'}, 'Unmatched': {'Completed': 's', 'Accepted': 's', 'Unmatched': 's', 'Queued': 'n'}}\n"
     ]
    },
    {
     "data": {
      "text/html": [
       "<div>\n",
       "<style scoped>\n",
       "    .dataframe tbody tr th:only-of-type {\n",
       "        vertical-align: middle;\n",
       "    }\n",
       "\n",
       "    .dataframe tbody tr th {\n",
       "        vertical-align: top;\n",
       "    }\n",
       "\n",
       "    .dataframe thead th {\n",
       "        text-align: right;\n",
       "    }\n",
       "</style>\n",
       "<table border=\"1\" class=\"dataframe\">\n",
       "  <thead>\n",
       "    <tr style=\"text-align: right;\">\n",
       "      <th></th>\n",
       "      <th>Completed</th>\n",
       "      <th>Accepted</th>\n",
       "      <th>Queued</th>\n",
       "      <th>Unmatched</th>\n",
       "    </tr>\n",
       "  </thead>\n",
       "  <tbody>\n",
       "    <tr>\n",
       "      <th>Accepted</th>\n",
       "      <td>s</td>\n",
       "      <td>s</td>\n",
       "      <td>s</td>\n",
       "      <td>s</td>\n",
       "    </tr>\n",
       "    <tr>\n",
       "      <th>Queued</th>\n",
       "      <td>s</td>\n",
       "      <td>s</td>\n",
       "      <td>s</td>\n",
       "      <td>s</td>\n",
       "    </tr>\n",
       "    <tr>\n",
       "      <th>Completed</th>\n",
       "      <td>s</td>\n",
       "      <td>s</td>\n",
       "      <td>s</td>\n",
       "      <td>s</td>\n",
       "    </tr>\n",
       "    <tr>\n",
       "      <th>Unmatched</th>\n",
       "      <td>s</td>\n",
       "      <td>s</td>\n",
       "      <td>n</td>\n",
       "      <td>s</td>\n",
       "    </tr>\n",
       "  </tbody>\n",
       "</table>\n",
       "</div>"
      ],
      "text/plain": [
       "          Completed Accepted Queued Unmatched\n",
       "Accepted          s        s      s         s\n",
       "Queued            s        s      s         s\n",
       "Completed         s        s      s         s\n",
       "Unmatched         s        s      n         s"
      ]
     },
     "execution_count": 52,
     "metadata": {},
     "output_type": "execute_result"
    }
   ],
   "source": [
    "def create_causal_footprint_matrix(log, direction='followed_by'):\n",
    "    \"\"\" Create a causual footprint matrix as shown by Bose et al. 2014.\n",
    "    \n",
    "    The matrix holds the values s (sometimes), a (always), n (never). This value indicates\n",
    "    whether an activity sometimes/always/never follows or preceds an other activity.\n",
    "    \n",
    "    Params:\n",
    "        log: A pm4py Eventlog.\n",
    "        direction: 'follows' or 'precedes' based on the causal direction which should be reported.\n",
    "    \n",
    "    Returns:\n",
    "        Matrix similar to an adjacency matrix holding the value of the relationship between two activities.\n",
    "    \"\"\"\n",
    "    if direction=='precedes': raise NotImplementedError()\n",
    "    \n",
    "    following_counts = {} # dictionary that will hold from->to activities\n",
    "    activity_occurences = {}\n",
    "    \n",
    "    for trace in log:\n",
    "        for i in range(len(trace)):      \n",
    "            # last activity in trace\n",
    "            activity_after = trace[len(trace)-i-1]['concept:name']\n",
    "\n",
    "            if activity_after not in activity_occurences:\n",
    "                activity_occurences[activity_after] = 1\n",
    "            else:\n",
    "                activity_occurences[activity_after] += 1\n",
    "\n",
    "            for j in range(len(trace) - i):\n",
    "                activity_before = trace[j]['concept:name']\n",
    "                if activity_before not in following_counts:\n",
    "                    following_counts[activity_before] = {activity_after: 1}\n",
    "                elif activity_after not in following_counts[activity_before].keys():\n",
    "                    following_counts[activity_before][activity_after] = 1\n",
    "            else:\n",
    "                following_counts[activity_before][activity_after] += 1\n",
    "    \n",
    "    following_sna = following_counts.copy()\n",
    "    for activity_from in following_counts:\n",
    "        for activity_to in following_sna[activity_from]:\n",
    "            if following_sna[activity_from][activity_to] == activity_occurences[activity_to]:\n",
    "                following_sna[activity_from][activity_to] = 'a'\n",
    "            else:\n",
    "                following_sna[activity_from][activity_to] = 's'\n",
    "\n",
    "        # get all activities that have never been followed\n",
    "        never_followed_activities = activity_occurences.keys() - following_sna[activity_from].keys() \n",
    "        for never_followed_activity in never_followed_activities:\n",
    "            following_sna[activity_from][never_followed_activity] = 'n'\n",
    "    print(following_sna)\n",
    "    return pd.DataFrame().from_dict(following_sna, orient='index')\n",
    "                \n",
    "create_causal_footprint_matrix(log, direction='follows')"
   ]
  },
  {
   "cell_type": "code",
   "execution_count": 70,
   "id": "ec72c24b-9015-4585-ac7f-b16a808aac24",
   "metadata": {},
   "outputs": [],
   "source": [
    "def get_relation_type_count(causal_matrix):\n",
    "    activity_rc = {}\n",
    "    for i, row in causal_matrix.iterrows():\n",
    "        # count sometimes, always and never\n",
    "        activity_rc[i] = row.value_counts().to_dict()\n",
    "        \n",
    "        if 'n' not in activity_rc[i]:\n",
    "            activity_rc[i]['n'] = 0\n",
    "        \n",
    "        if 'a' not in activity_rc[i]:\n",
    "            activity_rc[i]['a'] = 0\n",
    "            \n",
    "        if 's' not in activity_rc[i]:\n",
    "            activity_rc[i]['s'] = 0\n",
    "    \n",
    "    return pd.DataFrame().x(activity_rc, orient='index')"
   ]
  },
  {
   "cell_type": "code",
   "execution_count": 71,
   "id": "5d6e0ac3-87d5-4110-a664-261b378efb51",
   "metadata": {},
   "outputs": [
    {
     "name": "stdout",
     "output_type": "stream",
     "text": [
      "{'Accepted': {'Completed': 's', 'Accepted': 's', 'Queued': 's', 'Unmatched': 's'}, 'Queued': {'Completed': 's', 'Accepted': 's', 'Queued': 's', 'Unmatched': 's'}, 'Completed': {'Completed': 's', 'Accepted': 's', 'Queued': 's', 'Unmatched': 's'}, 'Unmatched': {'Completed': 's', 'Accepted': 's', 'Unmatched': 's', 'Queued': 'n'}}\n"
     ]
    },
    {
     "data": {
      "text/html": [
       "<div>\n",
       "<style scoped>\n",
       "    .dataframe tbody tr th:only-of-type {\n",
       "        vertical-align: middle;\n",
       "    }\n",
       "\n",
       "    .dataframe tbody tr th {\n",
       "        vertical-align: top;\n",
       "    }\n",
       "\n",
       "    .dataframe thead th {\n",
       "        text-align: right;\n",
       "    }\n",
       "</style>\n",
       "<table border=\"1\" class=\"dataframe\">\n",
       "  <thead>\n",
       "    <tr style=\"text-align: right;\">\n",
       "      <th></th>\n",
       "      <th>s</th>\n",
       "      <th>n</th>\n",
       "      <th>a</th>\n",
       "    </tr>\n",
       "  </thead>\n",
       "  <tbody>\n",
       "    <tr>\n",
       "      <th>Accepted</th>\n",
       "      <td>4</td>\n",
       "      <td>0</td>\n",
       "      <td>0</td>\n",
       "    </tr>\n",
       "    <tr>\n",
       "      <th>Queued</th>\n",
       "      <td>4</td>\n",
       "      <td>0</td>\n",
       "      <td>0</td>\n",
       "    </tr>\n",
       "    <tr>\n",
       "      <th>Completed</th>\n",
       "      <td>4</td>\n",
       "      <td>0</td>\n",
       "      <td>0</td>\n",
       "    </tr>\n",
       "    <tr>\n",
       "      <th>Unmatched</th>\n",
       "      <td>3</td>\n",
       "      <td>1</td>\n",
       "      <td>0</td>\n",
       "    </tr>\n",
       "  </tbody>\n",
       "</table>\n",
       "</div>"
      ],
      "text/plain": [
       "           s  n  a\n",
       "Accepted   4  0  0\n",
       "Queued     4  0  0\n",
       "Completed  4  0  0\n",
       "Unmatched  3  1  0"
      ]
     },
     "execution_count": 71,
     "metadata": {},
     "output_type": "execute_result"
    }
   ],
   "source": [
    "get_relation_type_count(create_causal_footprint_matrix(log, direction='follows'))"
   ]
  },
  {
   "cell_type": "code",
   "execution_count": 34,
   "id": "018278ee-51b0-4261-b784-071e13050a11",
   "metadata": {},
   "outputs": [],
   "source": [
    "test = {}\n",
    "test['test'] = 1\n",
    "test['test2'] = 1\n",
    "test2 = {}\n",
    "test2['test'] = 1\n",
    "test2['test3'] = 1"
   ]
  },
  {
   "cell_type": "code",
   "execution_count": 53,
   "id": "4bee5f4a-b959-4d73-964d-cffd1c71019a",
   "metadata": {},
   "outputs": [
    {
     "ename": "AttributeError",
     "evalue": "'dict' object has no attribute 'unique'",
     "output_type": "error",
     "traceback": [
      "\u001b[1;31m---------------------------------------------------------------------------\u001b[0m",
      "\u001b[1;31mAttributeError\u001b[0m                            Traceback (most recent call last)",
      "Input \u001b[1;32mIn [53]\u001b[0m, in \u001b[0;36m<cell line: 1>\u001b[1;34m()\u001b[0m\n\u001b[1;32m----> 1\u001b[0m \u001b[43mtest\u001b[49m\u001b[38;5;241;43m.\u001b[39;49m\u001b[43munique\u001b[49m()\n",
      "\u001b[1;31mAttributeError\u001b[0m: 'dict' object has no attribute 'unique'"
     ]
    }
   ],
   "source": [
    "test.unique()"
   ]
  },
  {
   "cell_type": "code",
   "execution_count": 24,
   "id": "8b4984eb-ac80-41eb-b3df-273d19ad208d",
   "metadata": {},
   "outputs": [],
   "source": [
    "# how to detect sometimes, always, never follows relationship:\n",
    "# create matrix, count how often each relationship is encountered\n",
    "activities = {}\n",
    "activity_occurences = {}\n",
    "\n",
    "for trace in log:\n",
    "    for i in range(len(trace)):\n",
    "        # last activity in trace\n",
    "        activity_after = trace[len(trace)-i-1]['concept:name']\n",
    "        \n",
    "        if activity_after not in activity_occurences:\n",
    "            activity_occurences[activity_after] = 1\n",
    "        else:\n",
    "            activity_occurences[activity_after] += 1\n",
    "        \n",
    "        for j in range(len(trace) - i):\n",
    "            activity_before = trace[j]['concept:name']\n",
    "            if activity_before not in activities:\n",
    "                activities[activity_before] = {activity_after: 1}\n",
    "            elif activity_after not in activities[activity_before].keys():\n",
    "                activities[activity_before][activity_after] = 1\n",
    "            else:\n",
    "                activities[activity_before][activity_after] += 1"
   ]
  },
  {
   "cell_type": "code",
   "execution_count": 28,
   "id": "a308d4c7-09f5-409f-91ec-377ec609876b",
   "metadata": {},
   "outputs": [
    {
     "data": {
      "text/html": [
       "<div>\n",
       "<style scoped>\n",
       "    .dataframe tbody tr th:only-of-type {\n",
       "        vertical-align: middle;\n",
       "    }\n",
       "\n",
       "    .dataframe tbody tr th {\n",
       "        vertical-align: top;\n",
       "    }\n",
       "\n",
       "    .dataframe thead th {\n",
       "        text-align: right;\n",
       "    }\n",
       "</style>\n",
       "<table border=\"1\" class=\"dataframe\">\n",
       "  <thead>\n",
       "    <tr style=\"text-align: right;\">\n",
       "      <th></th>\n",
       "      <th>Accepted</th>\n",
       "      <th>Queued</th>\n",
       "      <th>Completed</th>\n",
       "      <th>Unmatched</th>\n",
       "    </tr>\n",
       "  </thead>\n",
       "  <tbody>\n",
       "    <tr>\n",
       "      <th>Completed</th>\n",
       "      <td>80657</td>\n",
       "      <td>24340</td>\n",
       "      <td>21249</td>\n",
       "      <td>10.0</td>\n",
       "    </tr>\n",
       "    <tr>\n",
       "      <th>Accepted</th>\n",
       "      <td>235328</td>\n",
       "      <td>74741</td>\n",
       "      <td>4485</td>\n",
       "      <td>11.0</td>\n",
       "    </tr>\n",
       "    <tr>\n",
       "      <th>Queued</th>\n",
       "      <td>60194</td>\n",
       "      <td>34228</td>\n",
       "      <td>1346</td>\n",
       "      <td>NaN</td>\n",
       "    </tr>\n",
       "    <tr>\n",
       "      <th>Unmatched</th>\n",
       "      <td>22</td>\n",
       "      <td>4</td>\n",
       "      <td>6</td>\n",
       "      <td>5.0</td>\n",
       "    </tr>\n",
       "  </tbody>\n",
       "</table>\n",
       "</div>"
      ],
      "text/plain": [
       "           Accepted  Queued  Completed  Unmatched\n",
       "Completed     80657   24340      21249       10.0\n",
       "Accepted     235328   74741       4485       11.0\n",
       "Queued        60194   34228       1346        NaN\n",
       "Unmatched        22       4          6        5.0"
      ]
     },
     "execution_count": 28,
     "metadata": {},
     "output_type": "execute_result"
    }
   ],
   "source": [
    "import pandas as pd\n",
    "pd.DataFrame(activities)"
   ]
  },
  {
   "cell_type": "code",
   "execution_count": null,
   "id": "08ead284-75ee-40a9-acbb-ca5ff86f6846",
   "metadata": {},
   "outputs": [],
   "source": [
    "def get_san_relationships(log):\n",
    "    \n",
    "    \n",
    "get_directy_follows_relationships(window_a.log)\n",
    "pass"
   ]
  },
  {
   "cell_type": "code",
   "execution_count": 72,
   "id": "4cc8ece8-8d7a-41b1-b3e2-3b923be9d4d9",
   "metadata": {},
   "outputs": [],
   "source": [
    "feature_function = get_directy_follows_relationships\n",
    "\n",
    "from scipy.stats import kstest\n",
    "import pandas as pd\n",
    "\n",
    "p_values = []\n",
    "\n",
    "# apply test for each window\n",
    "for window_a, window_b in windows:\n",
    "    features_window_a = feature_function(window_a.log)\n",
    "    features_window_b = feature_function(window_b.log)\n",
    "    \n",
    "    # skip if one of the windows is empty\n",
    "    if not features_window_a or not features_window_b:\n",
    "        continue\n",
    "    \n",
    "    series_a = pd.Series(features_window_a)\n",
    "    series_b = pd.Series(features_window_b)\n",
    "    df = pd.concat([series_a, series_b], axis=1, keys=['window_a', 'window_b'])\n",
    "    df = df.fillna(0)\n",
    "    \n",
    "    # perform hypothesis test\n",
    "    test_result = kstest(df['window_a'], df['window_b'])\n",
    "    \n",
    "    p_values.append(test_result.pvalue)"
   ]
  },
  {
   "cell_type": "code",
   "execution_count": 73,
   "id": "df5eb07d-7824-42f3-afde-9c34f95c899f",
   "metadata": {},
   "outputs": [
    {
     "data": {
      "text/plain": [
       "[0.07936507936507936,\n",
       " 0.6,\n",
       " 0.09999999999999999,\n",
       " 0.7714285714285716,\n",
       " 0.7714285714285716,\n",
       " 0.35714285714285715,\n",
       " 0.22857142857142862,\n",
       " 0.22857142857142862,\n",
       " 0.474025974025974,\n",
       " 1.0,\n",
       " 0.9307359307359307,\n",
       " 0.5751748251748252,\n",
       " 0.9627039627039629,\n",
       " 0.6601398601398599,\n",
       " 0.6601398601398599]"
      ]
     },
     "execution_count": 73,
     "metadata": {},
     "output_type": "execute_result"
    }
   ],
   "source": [
    "p_values"
   ]
  }
 ],
 "metadata": {
  "kernelspec": {
   "display_name": "Python 3 (ipykernel)",
   "language": "python",
   "name": "python3"
  },
  "language_info": {
   "codemirror_mode": {
    "name": "ipython",
    "version": 3
   },
   "file_extension": ".py",
   "mimetype": "text/x-python",
   "name": "python",
   "nbconvert_exporter": "python",
   "pygments_lexer": "ipython3",
   "version": "3.10.4"
  }
 },
 "nbformat": 4,
 "nbformat_minor": 5
}
