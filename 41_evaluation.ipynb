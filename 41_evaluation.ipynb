{
 "cells": [
  {
   "cell_type": "markdown",
   "id": "1f7017a7-9b03-48fa-a285-ce184f6403dc",
   "metadata": {},
   "source": [
    "# Attribute importance ranking for synthetic data with known change points\n",
    "The process change points are known. Hence, no change point detection algorithm needs to be used."
   ]
  },
  {
   "cell_type": "code",
   "execution_count": 1,
   "id": "8f294e18-0a29-4492-a8f9-a9287872684f",
   "metadata": {},
   "outputs": [],
   "source": [
    "import pm4py\n",
    "import helper\n",
    "import pandas as pd"
   ]
  },
  {
   "cell_type": "code",
   "execution_count": 2,
   "id": "40fc19f7-a38b-41d8-9a9f-595b9d9b8d8e",
   "metadata": {},
   "outputs": [],
   "source": [
    "# data_file_path = 'data/synthetic/maardji et al 2013_xes_attributes/logs/ROI/ROI2.5k.xes'\n",
    "# data_file_path = 'data/synthetic/maardji et al 2013_xes_attributes/logs/cb/cb10k.xes'\n",
    "data_file_path = 'data/synthetic/generated/new_attribute_values/2500_sudden_5_00.xes'"
   ]
  },
  {
   "cell_type": "markdown",
   "id": "1663a296-baa2-4778-ac0a-31c8e3aa9464",
   "metadata": {
    "tags": []
   },
   "source": [
    "## Load an event log"
   ]
  },
  {
   "cell_type": "code",
   "execution_count": 3,
   "id": "0d258cdc-e351-4c90-9b2d-c22d58d1d261",
   "metadata": {},
   "outputs": [],
   "source": [
    "# Display the data info\n",
    "data_info = helper.get_data_information(data_file_path)\n",
    "data_info\n",
    "\n",
    "change_points = data_info['change_points']"
   ]
  },
  {
   "cell_type": "code",
   "execution_count": 4,
   "id": "bf81c64e-8121-4d9d-998f-00bf2d3b4a29",
   "metadata": {},
   "outputs": [
    {
     "name": "stderr",
     "output_type": "stream",
     "text": [
      "c:\\Users\\Lennart\\Tools\\Anaconda3\\envs\\concept_drift\\lib\\site-packages\\tqdm\\auto.py:22: TqdmWarning: IProgress not found. Please update jupyter and ipywidgets. See https://ipywidgets.readthedocs.io/en/stable/user_install.html\n",
      "  from .autonotebook import tqdm as notebook_tqdm\n",
      "parsing log, completed traces :: 100%|██████████| 5000/5000 [00:05<00:00, 996.56it/s] \n"
     ]
    }
   ],
   "source": [
    "# load the event log into pm4py\n",
    "from pm4py.objects.log.importer.xes import importer as xes_importer\n",
    "event_log = xes_importer.apply(data_file_path)"
   ]
  },
  {
   "cell_type": "code",
   "execution_count": 5,
   "id": "e8c5aa00-5c05-42dc-bc98-13e4978f1414",
   "metadata": {},
   "outputs": [],
   "source": [
    "from processdrift.framework import drift_detection\n",
    "from processdrift.framework import drift_explanation\n",
    "from processdrift.framework import feature_extraction\n",
    "from processdrift.framework import pop_comparison\n",
    "from processdrift.framework import windowing"
   ]
  },
  {
   "cell_type": "code",
   "execution_count": 6,
   "id": "17f7ae97",
   "metadata": {},
   "outputs": [],
   "source": [
    "primary_process_drift_detector = drift_detection.DriftDetectorTrueKnown(change_points)"
   ]
  },
  {
   "cell_type": "code",
   "execution_count": 7,
   "id": "a36ba523-0064-4072-838e-03c05ba626cb",
   "metadata": {},
   "outputs": [],
   "source": [
    "# build the secondary process drift detectors\n",
    "secondary_window_generator = windowing.AdaptiveWindowGenerator(initial_window_size=100)\n",
    "secondary_population_comparer = pop_comparison.HellingerDistanceComparer()\n",
    "secondary_threshold = 0.7\n",
    "secondary_exclude_attributes = ['concept:name']\n",
    "secondary_drift_detectors = drift_detection.get_all_attribute_drift_detectors(event_log,\n",
    "                                                                         secondary_window_generator, \n",
    "                                                                         secondary_population_comparer, \n",
    "                                                                         threshold=secondary_threshold,\n",
    "                                                                         exclude_attributes=secondary_exclude_attributes)\n",
    "# only select one secondary drift detector for debugging\n",
    "secondary_drift_detectors = secondary_drift_detectors                                                      "
   ]
  },
  {
   "cell_type": "code",
   "execution_count": 8,
   "id": "7bffb64d-e1be-4fbc-8d36-763c3b61202b",
   "metadata": {},
   "outputs": [],
   "source": [
    "drift_explainer = drift_explanation.DriftExplainer(primary_process_drift_detector, secondary_drift_detectors)"
   ]
  },
  {
   "cell_type": "code",
   "execution_count": 9,
   "id": "9e136c3a",
   "metadata": {},
   "outputs": [
    {
     "data": {
      "text/plain": [
       "{250: [{'detector': 'relevant_attribute_1',\n",
       "   'change_point': 223,\n",
       "   'distance': -27}],\n",
       " 500: [{'detector': 'relevant_attribute_2',\n",
       "   'change_point': 438,\n",
       "   'distance': -62}],\n",
       " 750: [{'detector': 'relevant_attribute_3',\n",
       "   'change_point': 724,\n",
       "   'distance': -26}],\n",
       " 1000: [{'detector': 'relevant_attribute_4',\n",
       "   'change_point': 981,\n",
       "   'distance': -19},\n",
       "  {'detector': 'relevant_attribute_4', 'change_point': 972, 'distance': -28}],\n",
       " 1250: [{'detector': 'relevant_attribute_5',\n",
       "   'change_point': 1241,\n",
       "   'distance': -9}],\n",
       " 1500: [],\n",
       " 1750: [],\n",
       " 2000: [],\n",
       " 2250: []}"
      ]
     },
     "execution_count": 9,
     "metadata": {},
     "output_type": "execute_result"
    }
   ],
   "source": [
    "observed_change_point_explanations = drift_explainer.attribute_importance_per_primary_change_point(event_log, max_distance=100)\n",
    "observed_change_point_explanations"
   ]
  },
  {
   "cell_type": "markdown",
   "id": "b3f8dcc7",
   "metadata": {},
   "source": [
    "Evaluate the explanations"
   ]
  },
  {
   "cell_type": "code",
   "execution_count": 10,
   "id": "d434ea70",
   "metadata": {},
   "outputs": [],
   "source": [
    "from processdrift.framework import evaluation"
   ]
  },
  {
   "cell_type": "code",
   "execution_count": 11,
   "id": "82fcf284",
   "metadata": {},
   "outputs": [
    {
     "data": {
      "text/plain": [
       "{250: [{'detector': 'relevant_attribute_1',\n",
       "   'change_point': 223,\n",
       "   'distance': -27}],\n",
       " 500: [{'detector': 'relevant_attribute_2',\n",
       "   'change_point': 438,\n",
       "   'distance': -62}],\n",
       " 750: [{'detector': 'relevant_attribute_3',\n",
       "   'change_point': 724,\n",
       "   'distance': -26}],\n",
       " 1000: [{'detector': 'relevant_attribute_4',\n",
       "   'change_point': 981,\n",
       "   'distance': -19},\n",
       "  {'detector': 'relevant_attribute_4', 'change_point': 972, 'distance': -28}],\n",
       " 1250: [{'detector': 'relevant_attribute_5',\n",
       "   'change_point': 1241,\n",
       "   'distance': -9}],\n",
       " 1500: [],\n",
       " 1750: [],\n",
       " 2000: [],\n",
       " 2250: []}"
      ]
     },
     "metadata": {},
     "output_type": "display_data"
    },
    {
     "data": {
      "text/plain": [
       "[{'attribute_name': 'relevant_attribute_1',\n",
       "  'base_distribution': [0.15507678534396094,\n",
       "   0.4605471280640772,\n",
       "   0.3843760865919619],\n",
       "  'explain_change_point': 250,\n",
       "  'change_point': 250,\n",
       "  'drift_type': 'sudden'},\n",
       " {'attribute_name': 'relevant_attribute_2',\n",
       "  'base_distribution': [0.16487550177139298,\n",
       "   0.7426848905124938,\n",
       "   0.09243960771611343],\n",
       "  'explain_change_point': 500,\n",
       "  'change_point': 500,\n",
       "  'drift_type': 'sudden'},\n",
       " {'attribute_name': 'relevant_attribute_3',\n",
       "  'base_distribution': [0.7104320528086568,\n",
       "   0.2323879020103484,\n",
       "   0.05718004518099477],\n",
       "  'explain_change_point': 750,\n",
       "  'change_point': 750,\n",
       "  'drift_type': 'sudden'},\n",
       " {'attribute_name': 'relevant_attribute_4',\n",
       "  'base_distribution': [0.6376810784231896,\n",
       "   0.32200858055524667,\n",
       "   0.04031034102156378],\n",
       "  'explain_change_point': 1000,\n",
       "  'change_point': 1000,\n",
       "  'drift_type': 'sudden'},\n",
       " {'attribute_name': 'relevant_attribute_5',\n",
       "  'base_distribution': [0.37358488274714935, 0.6264151172528507, 0],\n",
       "  'explain_change_point': 1250,\n",
       "  'change_point': 1250,\n",
       "  'drift_type': 'sudden'}]"
      ]
     },
     "metadata": {},
     "output_type": "display_data"
    }
   ],
   "source": [
    "observed_change_point_explanations\n",
    "display(observed_change_point_explanations)\n",
    "true_change_point_explanations = data_info['change_point_explanations']\n",
    "display(true_change_point_explanations)"
   ]
  },
  {
   "cell_type": "code",
   "execution_count": 14,
   "id": "154fb9a2",
   "metadata": {},
   "outputs": [],
   "source": [
    "def get_simple_change_point_format_from_data_info(data_info):\n",
    "    complex_cp_explanations = data_info['change_point_explanations']\n",
    "    simple_cp_explanations = []\n",
    "    for complex_cp_explanation in complex_cp_explanations:\n",
    "        cp_location = complex_cp_explanation['change_point']\n",
    "        attribute_change = complex_cp_explanation['attribute_name']\n",
    "        simple_cp_explanations.append((cp_location, attribute_change))\n",
    "    return simple_cp_explanations"
   ]
  },
  {
   "cell_type": "code",
   "execution_count": 20,
   "id": "aca8f76c",
   "metadata": {},
   "outputs": [],
   "source": [
    "def get_simple_change_point_list_from_explainer(change_point_explanations):\n",
    "    # flatten explanations into single list\n",
    "    change_point_explanations_list = sum(change_point_explanations.values(), [])\n",
    "\n",
    "    # get cp tuples\n",
    "    cp_tuple_list = [(cp_explanation['change_point'], cp_explanation['detector']) for cp_explanation in change_point_explanations_list]\n",
    "    \n",
    "    return cp_tuple_list"
   ]
  },
  {
   "cell_type": "code",
   "execution_count": 23,
   "id": "834bc8c8",
   "metadata": {},
   "outputs": [
    {
     "data": {
      "text/plain": [
       "{'precision': 0.6666666666666666,\n",
       " 'recall': 0.8,\n",
       " 'f1_score': 0.7272727272727273,\n",
       " 'mean_lag': 22.5,\n",
       " 'all_lags': [27, 26, 28, 9]}"
      ]
     },
     "execution_count": 23,
     "metadata": {},
     "output_type": "execute_result"
    }
   ],
   "source": [
    "true_change_point_explanations = get_simple_change_point_format_from_data_info(data_info)\n",
    "detected_change_point_explanations =  get_simple_change_point_list_from_explainer(observed_change_point_explanations)\n",
    "\n",
    "evaluation.evaluate_explanations(true_change_point_explanations, detected_change_point_explanations, max_distance=40)"
   ]
  }
 ],
 "metadata": {
  "interpreter": {
   "hash": "3586acef3f5f923af4b971ce05811a36e3973e810e5c25f95daaeb0237b948ae"
  },
  "kernelspec": {
   "display_name": "Python 3 (ipykernel)",
   "language": "python",
   "name": "python3"
  },
  "language_info": {
   "codemirror_mode": {
    "name": "ipython",
    "version": 3
   },
   "file_extension": ".py",
   "mimetype": "text/x-python",
   "name": "python",
   "nbconvert_exporter": "python",
   "pygments_lexer": "ipython3",
   "version": "3.10.4"
  }
 },
 "nbformat": 4,
 "nbformat_minor": 5
}
