{
 "cells": [
  {
   "cell_type": "markdown",
   "id": "9475ab7f-f59d-4644-8e0a-99aa00517392",
   "metadata": {
    "tags": []
   },
   "source": [
    "### Insert attribute change\n",
    "The following attribute behavior can be combined freely\n",
    "1. Types of Drift (Lu et al. 2019)\n",
    "    1. \"*Sudden drift*: A new concept occurs within a short time\"\n",
    "    2. \"*Gradual drift*: A new concept replaces on old one over a period of time\"\n",
    "    3. \"*Incremental drift*: An old concept incrementally changes to a new concept over a period of time\".\n",
    "    4. \"*Reoccurring Concepts*: An old concept may reoccur after some time\"\n",
    "2. Attribute data type (Optional: add Ordinal)\n",
    "    1. Categorical (nominal)\n",
    "    2. Continuous\n",
    "3. Attribute level\n",
    "    1. Trace\n",
    "    2. Event\n",
    "4. Noise level\n",
    "    1. None (0%)\n",
    "    2. Low (10%)\n",
    "    3. Medium (25%)\n",
    "    4. Strong (50%)\n",
    "5. Concept change\n",
    "    1. Missing data\n",
    "    2. Completely new distribution\n",
    "    3. For categorical data: Oversampling of one class\n",
    "    4. For categorical data: Undersampling of one class\n",
    "    5. For continuous data: Increase of mean\n",
    "    6. For continuous data: Decrease of mean\n",
    "6. Data Stationarity\n",
    "    1. Strong decrease\n",
    "    2. Weak decrease\n",
    "    3. Stationary\n",
    "    4. Weak increase\n",
    "    5. Strong increase\n",
    "7. Location of Attribute Change\n",
    "    1. Normally distributed before changepoint"
   ]
  },
  {
   "cell_type": "code",
   "execution_count": 81,
   "id": "2ad55131-0706-44e0-b98b-4393be9e7267",
   "metadata": {},
   "outputs": [],
   "source": [
    "import os\n",
    "import json\n",
    "import helper\n",
    "from opyenxes.data_in import XesXmlParser\n",
    "from opyenxes.data_out import XesXmlSerializer\n",
    "from opyenxes.model import XAttributeLiteral\n",
    "import numpy as np"
   ]
  },
  {
   "cell_type": "code",
   "execution_count": 6,
   "id": "4ffa3d00-5009-4c8c-acf3-b04ef0060331",
   "metadata": {},
   "outputs": [],
   "source": [
    "# select a dataset to augment\n",
    "datasets = helper.get_datasets_by_criteria(is_synthetic=True, size=2500)\n",
    "dataset = next(iter(datasets))\n",
    "dataset_info = datasets[dataset]"
   ]
  },
  {
   "cell_type": "code",
   "execution_count": 166,
   "id": "565b670c-8667-4e36-af87-47685646a184",
   "metadata": {},
   "outputs": [],
   "source": [
    "def _opyenxes_read_xes(data_file_path, multiple_logs=False):\n",
    "    \"\"\"Reads an XES event log with opyenxes.\n",
    "    \n",
    "    Args:\n",
    "        data_file_path: Path to data file.\n",
    "        multiple_logs: Set to true if the XES file contains multiple logs.\n",
    "    \n",
    "    Return:\n",
    "        opyenxes event log(s)\n",
    "    \"\"\"\n",
    "    opyenxes_xes_parser = XesXmlParser.XesXmlParser()\n",
    "    \n",
    "    with open(data_file_path) as data_file:\n",
    "        opyenxes_logs = opyenxes_xes_parser.parse(data_file)\n",
    "    \n",
    "    if multiple_logs:\n",
    "        return opyenxes_logs\n",
    "    else:\n",
    "        return opyenxes_logs[0]"
   ]
  },
  {
   "cell_type": "code",
   "execution_count": 179,
   "id": "670f399a-d449-49fd-8706-5959db4ada9a",
   "metadata": {},
   "outputs": [],
   "source": [
    "def _opyenxes_write_xes(log, data_file_path):\n",
    "    \"\"\"Writes an XES event log with opyenxes.\n",
    "    \n",
    "    Args:\n",
    "        data_file_path: Path to data file.\n",
    "         \n",
    "    \"\"\"\n",
    "    opyenxes_xes_serializer = XesXmlSerializer.XesXmlSerializer()\n",
    "    \n",
    "    opyenxes_logs = None\n",
    "    with open(data_file_path, 'w') as data_file:\n",
    "        opyenxes_xes_serializer.serialize(log, data_file)"
   ]
  },
  {
   "cell_type": "code",
   "execution_count": 20,
   "id": "d169f09a-2c1a-4ff7-ac4f-789d25d7544f",
   "metadata": {},
   "outputs": [],
   "source": [
    "# read the event log\n",
    "opyenxes_log = _opyenxes_read_xes(dataset_info['file_path'])"
   ]
  },
  {
   "cell_type": "code",
   "execution_count": 153,
   "id": "1708965a-c316-480b-99e1-22d2af6e9f99",
   "metadata": {},
   "outputs": [],
   "source": [
    "class AttributeGenerator:\n",
    "    \"\"\"Simulates attributes for a given opyenxes event log\"\"\"\n",
    "    def __init__(self, opyenxes_log, change_points, timestamp_field = 'time:timestamp'):\n",
    "        \"\"\"Initialize an attribute generator which can be used to generate multiple attributes for a given event log.\n",
    "        \n",
    "        Args:\n",
    "            opyenxes_log: opyenxes event log\n",
    "            change_points: List of change points\n",
    "            timestamp filed: Field name of event timestamp field\n",
    "        \"\"\"\n",
    "        self.opyenxes_log = opyenxes_log\n",
    "        self.change_points = change_points\n",
    "        \n",
    "        # get start and end trace\n",
    "        self.start_trace_id = 0\n",
    "        self.end_trace_id = len(opyenxes_log) - 1\n",
    "        \n",
    "        # get start and end timestamp\n",
    "        self.start_time = opyenxes_log[0][0].get_attributes()['time:timestamp'].get_value()\n",
    "        \n",
    "        #iterate through all traces to find the last timestamp\n",
    "        self.end_time = opyenxes_log[-1][-1].get_attributes()['time:timestamp'].get_value()\n",
    "        for trace in reversed(opyenxes_log):\n",
    "            trace_end_time = trace[-1].get_attributes()['time:timestamp'].get_value()\n",
    "            if trace_end_time > self.end_time:\n",
    "                self.end_time = trace_end_time\n",
    "    \n",
    "    def _generate_attribute(self):\n",
    "        pass\n",
    "    \n",
    "    def generate_continuous_attribute(self, attribute_name, min_value, max_value):\n",
    "        pass\n",
    "    \n",
    "    def generate_categorical_attribute(self, attribute_name, count_attribute_values=3,\n",
    "                                       number_changes=1, change_location_standard_deviation = 10,\n",
    "                                       drift_type='sudden', attribute_level='trace', \n",
    "                                       noise_level='none', concept_change='oversampling', \n",
    "                                       data_stationarity='stationary', location_attribute_change='normal'):\n",
    "        # TODO implement a way that only select changepoints can be explained by attribute drift\n",
    "        if number_changes == None: number_changes = len(self.change_points)\n",
    "        \n",
    "        attribute_value_candidates = [f'value_{attribute_number + 1}' for attribute_number in range(count_attribute_values)]\n",
    "        \n",
    "        # assing a static percentage of category occurences (the baseline)\n",
    "        # use the Dirichlet distribution\n",
    "        baseline_probabilities = np.random.dirichlet(np.ones(count_attribute_values),size=1)[0]\n",
    "        \n",
    "        # get the baseline data\n",
    "        baseline_attribute_values = [] # one entry for each trace or event\n",
    "        for trace in opyenxes_log:\n",
    "            attribute_value = np.random.choice(attribute_value_candidates, 1, p=baseline_probabilities)[0]\n",
    "            baseline_attribute_values.append(attribute_value)\n",
    "        \n",
    "        attribute_values = baseline_attribute_values # attribute values start with just the baseline. The drift is overlayed.\n",
    "        \n",
    "        # introduce drift\n",
    "        explainable_changepoints = np.random.choice(self.change_points, number_changes)\n",
    "        explainable_changepoints.sort()\n",
    "        \n",
    "        print(self.change_points)\n",
    "        change_points_explained = {change_point: {} for change_point in self.change_points}\n",
    "        for change_point in explainable_changepoints:\n",
    "            # select a attribute change point\n",
    "            attribute_change_point_deviation = - np.abs(np.random.normal(0, change_location_standard_deviation, 1))[0]\n",
    "            attribute_change_point = int(change_point - attribute_change_point_deviation)\n",
    "            if attribute_change_point < 0: # handle the case that we try to get a non-existing trace\n",
    "                attribute_change_point == 0\n",
    "            \n",
    "            change_points_explained[change_point]['attribute_change_point'] = attribute_change_point\n",
    "            change_points_explained[change_point]['explained_by_attribute'] = 'attribute_name'    \n",
    "            \n",
    "            # start drift at change point # TODO implement other drift variants\n",
    "            changed_probabilities = np.random.dirichlet(np.ones(count_attribute_values),size=1)[0]\n",
    "            # get the changed attribute data\n",
    "            changed_attribute_values = [] # one entry for each trace or event\n",
    "            for trace in opyenxes_log:\n",
    "                attribute_value = np.random.choice(attribute_value_candidates, 1, p=changed_probabilities)[0]\n",
    "                changed_attribute_values.append(attribute_value)\n",
    "            \n",
    "            # place the changed attribute data starting from the changepoint\n",
    "            attribute_values[change_point:] = changed_attribute_values[change_point:]\n",
    "        \n",
    "        # write attribute values into the event log\n",
    "        # TODO implement for event attributes\n",
    "        \n",
    "        for trace, attribute_value in zip(self.opyenxes_log, attribute_values):\n",
    "            # build the new attribute\n",
    "            attribute = XAttributeLiteral.XAttributeLiteral(key=attribute_name, value=attribute_value)\n",
    "            \n",
    "            # add the new attribute to the existing trace attributes dictionary\n",
    "            trace_attributes = trace.get_attributes()\n",
    "            trace_attributes[attribute_name] = attribute\n",
    "            \n",
    "            # update the trace attribute dictionary\n",
    "            trace.set_attributes(trace_attributes)\n",
    "    \n",
    "        # return the change point explanations\n",
    "        return explainable_changepoints"
   ]
  },
  {
   "cell_type": "code",
   "execution_count": 154,
   "id": "97853b4e-fac1-40c9-9c8a-045755b0ed9c",
   "metadata": {},
   "outputs": [],
   "source": [
    "ag = AttributeGenerator(opyenxes_log, dataset_info['changepoints'])"
   ]
  },
  {
   "cell_type": "code",
   "execution_count": 155,
   "id": "0051f44c-1d49-4415-85d5-00ba9bc33d51",
   "metadata": {},
   "outputs": [
    {
     "name": "stdout",
     "output_type": "stream",
     "text": [
      "[250, 500, 750, 1000, 1250, 1500, 1750, 2000, 2250]\n"
     ]
    }
   ],
   "source": [
    "explainable_changepoints = ag.generate_categorical_attribute('supplier')\n",
    "pass"
   ]
  },
  {
   "cell_type": "code",
   "execution_count": 159,
   "id": "b17e1498-7229-44a3-acc1-12f068379343",
   "metadata": {},
   "outputs": [
    {
     "data": {
      "text/plain": [
       "{'concept:name': <opyenxes.model.XAttributeLiteral.XAttributeLiteral at 0x2509ed560b0>,\n",
       " 'supplier': <opyenxes.model.XAttributeLiteral.XAttributeLiteral at 0x250982a3a00>}"
      ]
     },
     "execution_count": 159,
     "metadata": {},
     "output_type": "execute_result"
    }
   ],
   "source": [
    "ag.opyenxes_log[0].get_attributes()"
   ]
  },
  {
   "cell_type": "code",
   "execution_count": 177,
   "id": "3c922239-2f80-4a82-bb60-62674ac37cc2",
   "metadata": {},
   "outputs": [
    {
     "data": {
      "text/plain": [
       "'value_2'"
      ]
     },
     "execution_count": 177,
     "metadata": {},
     "output_type": "execute_result"
    }
   ],
   "source": [
    "ag.opyenxes_log[50].get_attributes()['supplier'].get_value()"
   ]
  },
  {
   "cell_type": "code",
   "execution_count": 180,
   "id": "4ca82139-843e-49d1-984f-0953eb764175",
   "metadata": {},
   "outputs": [
    {
     "name": "stdout",
     "output_type": "stream",
     "text": [
      "Importance: DEBUG\n",
      "Message: Start serializing log to XES.XML\n",
      "\n",
      "Importance: DEBUG\n",
      "Message: finished serializing log (5538.06689453125 msec.)\n",
      "\n"
     ]
    }
   ],
   "source": [
    "_opyenxes_write_xes(ag.opyenxes_log, 'altered_log.xes')"
   ]
  },
  {
   "cell_type": "code",
   "execution_count": 165,
   "id": "95eec3bf-4b04-410f-8816-1dad672c263f",
   "metadata": {},
   "outputs": [
    {
     "ename": "NameError",
     "evalue": "name 'xes_file_path' is not defined",
     "output_type": "error",
     "traceback": [
      "\u001b[1;31m---------------------------------------------------------------------------\u001b[0m",
      "\u001b[1;31mNameError\u001b[0m                                 Traceback (most recent call last)",
      "Input \u001b[1;32mIn [165]\u001b[0m, in \u001b[0;36m<cell line: 3>\u001b[1;34m()\u001b[0m\n\u001b[0;32m      1\u001b[0m \u001b[38;5;66;03m# read xes into opyenxes\u001b[39;00m\n\u001b[0;32m      2\u001b[0m opyenxes_xes_parser \u001b[38;5;241m=\u001b[39m XesXmlParser\u001b[38;5;241m.\u001b[39mXesXmlParser()\n\u001b[1;32m----> 3\u001b[0m opyenxes_logs \u001b[38;5;241m=\u001b[39m opyenxes_xes_parser\u001b[38;5;241m.\u001b[39mparse(\u001b[38;5;28mopen\u001b[39m(\u001b[43mxes_file_path\u001b[49m))\n\u001b[0;32m      4\u001b[0m opyenxes_log \u001b[38;5;241m=\u001b[39m opyenxes_logs[\u001b[38;5;241m0\u001b[39m]\n",
      "\u001b[1;31mNameError\u001b[0m: name 'xes_file_path' is not defined"
     ]
    }
   ],
   "source": [
    "# read xes into opyenxes\n",
    "opyenxes_xes_parser = XesXmlParser.XesXmlParser()\n",
    "opyenxes_logs = opyenxes_xes_parser.parse(open(xes_file_path))\n",
    "opyenxes_log = opyenxes_logs[0]"
   ]
  },
  {
   "cell_type": "code",
   "execution_count": 23,
   "id": "7376a0c8-93f8-442c-883f-085fe44f6897",
   "metadata": {},
   "outputs": [],
   "source": [
    "# get a trace from the log\n",
    "trace = opyenxes_log[0]"
   ]
  },
  {
   "cell_type": "code",
   "execution_count": 26,
   "id": "302bb627-9305-4374-890e-7aee638eea3c",
   "metadata": {},
   "outputs": [
    {
     "data": {
      "text/plain": [
       "'61'"
      ]
     },
     "execution_count": 26,
     "metadata": {},
     "output_type": "execute_result"
    }
   ],
   "source": [
    "# get attributes for this trace\n",
    "trace_attributes = trace.get_attributes()\n",
    "\n",
    "# get a specific attribute value\n",
    "trace_attributes['concept:name'].get_value()"
   ]
  },
  {
   "cell_type": "code",
   "execution_count": 30,
   "id": "145f5091-3b64-4357-a9a2-623a159b0e6a",
   "metadata": {},
   "outputs": [],
   "source": [
    "# add an attribute to the trace's attributes\n",
    "\n",
    "# create the new trace attribute\n",
    "from opyenxes.model import XAttributeLiteral\n",
    "key = 'test_attribute'\n",
    "attribute = XAttributeLiteral.XAttributeLiteral(key=key, value='test_value')\n",
    "\n",
    "trace_attributes[key] = attribute"
   ]
  },
  {
   "cell_type": "code",
   "execution_count": 33,
   "id": "2f4b203f-6ab2-4502-9ffa-1080b65bf96d",
   "metadata": {},
   "outputs": [
    {
     "data": {
      "text/plain": [
       "{'concept:name': <opyenxes.model.XAttributeLiteral.XAttributeLiteral at 0x1c97a8ce1d0>,\n",
       " 'test_attribute': <opyenxes.model.XAttributeLiteral.XAttributeLiteral at 0x1c902712da0>}"
      ]
     },
     "execution_count": 33,
     "metadata": {},
     "output_type": "execute_result"
    }
   ],
   "source": [
    "trace_attributes"
   ]
  },
  {
   "cell_type": "code",
   "execution_count": 34,
   "id": "31a78d53-3a43-49f1-80c7-94ea722507e9",
   "metadata": {},
   "outputs": [],
   "source": [
    "trace.set_attributes(trace_attributes)"
   ]
  },
  {
   "cell_type": "code",
   "execution_count": 35,
   "id": "86314263-2a03-4fe0-b981-5f09fc33c046",
   "metadata": {},
   "outputs": [
    {
     "data": {
      "text/plain": [
       "'test_value'"
      ]
     },
     "execution_count": 35,
     "metadata": {},
     "output_type": "execute_result"
    }
   ],
   "source": [
    "# set a trace attribute\n",
    "opyenxes_log[0].get_attributes()[key].get_value()"
   ]
  },
  {
   "cell_type": "code",
   "execution_count": 39,
   "id": "3f2fe54e-a3ff-48a3-af48-62148160e66a",
   "metadata": {},
   "outputs": [],
   "source": [
    "# write out event log\n",
    "xes_xml_serializer = XesXmlSerializer.XesXmlSerializer()"
   ]
  },
  {
   "cell_type": "code",
   "execution_count": 43,
   "id": "3bd1ed8b-d109-4a73-ad96-47a2cd4f32e6",
   "metadata": {},
   "outputs": [
    {
     "name": "stdout",
     "output_type": "stream",
     "text": [
      "Importance: DEBUG\n",
      "Message: Start serializing log to XES.XML\n",
      "\n",
      "Importance: DEBUG\n",
      "Message: finished serializing log (5501.7255859375 msec.)\n",
      "\n"
     ]
    }
   ],
   "source": [
    "data_out_path = 'data/synthetic/maardji et al 2013_xes/augmented.xes'\n",
    "# write the XES log out\n",
    "with open(data_out_path, 'w') as to_file:\n",
    "    # save log back to XES file\n",
    "    xes_xml_serializer.serialize(opyenxes_log[0], to_file)"
   ]
  }
 ],
 "metadata": {
  "kernelspec": {
   "display_name": "Python 3 (ipykernel)",
   "language": "python",
   "name": "python3"
  },
  "language_info": {
   "codemirror_mode": {
    "name": "ipython",
    "version": 3
   },
   "file_extension": ".py",
   "mimetype": "text/x-python",
   "name": "python",
   "nbconvert_exporter": "python",
   "pygments_lexer": "ipython3",
   "version": "3.10.4"
  }
 },
 "nbformat": 4,
 "nbformat_minor": 5
}
