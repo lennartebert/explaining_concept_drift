{
 "cells": [
  {
   "cell_type": "markdown",
   "id": "89d46962-50d0-4a78-9552-08db7fa8e639",
   "metadata": {
    "tags": []
   },
   "source": [
    "# Secondary Drift Detection for Simple Configuration\n",
    "\n",
    "## Setup\n",
    "### Imports"
   ]
  },
  {
   "cell_type": "code",
   "execution_count": 1,
   "id": "9df7d0f7-1aa4-4c89-9392-3376586554d3",
   "metadata": {},
   "outputs": [],
   "source": [
    "# imports\n",
    "import helper\n",
    "from pm4py.objects.log.importer.xes import importer as xes_importer\n",
    "\n",
    "from processdrift.framework import drift_detection\n",
    "from processdrift.framework import drift_explanation\n",
    "from processdrift.framework import feature_extraction\n",
    "from processdrift.framework import pop_comparison\n",
    "from processdrift.framework import windowing\n",
    "from processdrift.framework import evaluation\n",
    "\n",
    "import time\n",
    "import os"
   ]
  },
  {
   "cell_type": "markdown",
   "id": "33d7ccb6",
   "metadata": {},
   "source": [
    "### Data settings and event log loading"
   ]
  },
  {
   "cell_type": "code",
   "execution_count": 2,
   "id": "1155596b",
   "metadata": {},
   "outputs": [],
   "source": [
    "input_path = r'data\\synthetic\\attribute_drift\\complex\\10000'\n",
    "output_path = r'results\\synthetic\\attribute_drift\\complex\\10000'\n",
    "size = 10000\n",
    "number_relevant_attributes = 5\n",
    "\n",
    "results_path = r'results\\complex\\10000\\100_iter_results.csv'\n",
    "delete_if_results_exists = True\n",
    "\n",
    "window_generator_types = ['fixed', 'adaptive']\n",
    "window_sizes= [100, 200]\n",
    "population_comparers = [pop_comparison.KSTestPopComparer(), pop_comparison.ChiSquaredComparer()] # pop_comparison.HellingerDistanceComparer()]# pop_comparison.KSTestPopComparer(), pop_comparison.ChiSquaredComparer()]\n",
    "thresholds = [0.05]\n",
    "max_distances = [200]\n",
    "slide_bys = [5, 10]\n",
    "\n",
    "# always exclude the concept name as an attribute\n",
    "exclude_attributes = ['concept:name']"
   ]
  },
  {
   "cell_type": "code",
   "execution_count": 3,
   "id": "1b39b77e",
   "metadata": {},
   "outputs": [],
   "source": [
    "# get the true change points and true change point explanations\n",
    "true_change_points = helper.get_change_points_maardji_et_al_2013(10000)\n",
    "true_change_point_explanations = [(true_change_points[i], f'relevant_attribute_{i+1:02d}') for i in range(number_relevant_attributes)]"
   ]
  },
  {
   "cell_type": "code",
   "execution_count": 4,
   "id": "2525ddc9",
   "metadata": {},
   "outputs": [],
   "source": [
    "# load all event logs from the input path\n",
    "event_log_file_paths = helper.get_all_files_in_dir(input_path, include_files_in_subdirs=True)"
   ]
  },
  {
   "cell_type": "code",
   "execution_count": 5,
   "id": "5685f73f",
   "metadata": {},
   "outputs": [],
   "source": [
    "# primary drift detector stays always the same\n",
    "primary_process_drift_detector = drift_detection.DriftDetectorTrueKnown(true_change_points)"
   ]
  },
  {
   "cell_type": "code",
   "execution_count": 6,
   "id": "98d02474",
   "metadata": {},
   "outputs": [],
   "source": [
    "# build all possible configuration:\n",
    "configurations = []\n",
    "for window_generator_type in window_generator_types:\n",
    "    for window_size in window_sizes:\n",
    "        for population_comparer in population_comparers:\n",
    "            for threshold in thresholds:\n",
    "                for max_distance in max_distances:\n",
    "                    for slide_by in slide_bys:\n",
    "                        configurations.append({\n",
    "                            'window_generator_type': window_generator_type,\n",
    "                            'window_size': window_size,\n",
    "                            'population_comparer': population_comparer,\n",
    "                            'threshold': threshold,\n",
    "                            'max_distance': max_distance,\n",
    "                            'slide_by': slide_by\n",
    "                        })"
   ]
  },
  {
   "cell_type": "code",
   "execution_count": 7,
   "id": "eb7cfde7",
   "metadata": {},
   "outputs": [],
   "source": [
    "# delete results file if exists\n",
    "if delete_if_results_exists:\n",
    "    if os.path.exists(results_path):\n",
    "        os.remove(results_path)"
   ]
  },
  {
   "cell_type": "code",
   "execution_count": 8,
   "id": "ceea0560",
   "metadata": {},
   "outputs": [
    {
     "name": "stdout",
     "output_type": "stream",
     "text": [
      "Event log 0\n"
     ]
    },
    {
     "name": "stderr",
     "output_type": "stream",
     "text": [
      "c:\\Users\\Lennart\\Tools\\Anaconda3\\envs\\concept_drift\\lib\\site-packages\\tqdm\\auto.py:22: TqdmWarning: IProgress not found. Please update jupyter and ipywidgets. See https://ipywidgets.readthedocs.io/en/stable/user_install.html\n",
      "  from .autonotebook import tqdm as notebook_tqdm\n",
      "parsing log, completed traces :: 100%|██████████| 10000/10000 [00:17<00:00, 565.75it/s]\n"
     ]
    },
    {
     "name": "stdout",
     "output_type": "stream",
     "text": [
      "\n",
      "Evaluating configuration {'window_generator_type': 'fixed', 'window_size': 100, 'population_comparer': KSTestPopComparer, 'threshold': 0.05, 'max_distance': 200, 'slide_by': 5}\n",
      "\n",
      "Evaluating configuration {'window_generator_type': 'fixed', 'window_size': 100, 'population_comparer': KSTestPopComparer, 'threshold': 0.05, 'max_distance': 200, 'slide_by': 10}\n",
      "\n",
      "Evaluating configuration {'window_generator_type': 'fixed', 'window_size': 100, 'population_comparer': ChiSquaredComparer, 'threshold': 0.05, 'max_distance': 200, 'slide_by': 5}\n",
      "\n",
      "Evaluating configuration {'window_generator_type': 'fixed', 'window_size': 100, 'population_comparer': ChiSquaredComparer, 'threshold': 0.05, 'max_distance': 200, 'slide_by': 10}\n",
      "\n",
      "Evaluating configuration {'window_generator_type': 'fixed', 'window_size': 200, 'population_comparer': KSTestPopComparer, 'threshold': 0.05, 'max_distance': 200, 'slide_by': 5}\n",
      "\n",
      "Evaluating configuration {'window_generator_type': 'fixed', 'window_size': 200, 'population_comparer': KSTestPopComparer, 'threshold': 0.05, 'max_distance': 200, 'slide_by': 10}\n",
      "\n",
      "Evaluating configuration {'window_generator_type': 'fixed', 'window_size': 200, 'population_comparer': ChiSquaredComparer, 'threshold': 0.05, 'max_distance': 200, 'slide_by': 5}\n",
      "\n",
      "Evaluating configuration {'window_generator_type': 'fixed', 'window_size': 200, 'population_comparer': ChiSquaredComparer, 'threshold': 0.05, 'max_distance': 200, 'slide_by': 10}\n",
      "\n",
      "Evaluating configuration {'window_generator_type': 'adaptive', 'window_size': 100, 'population_comparer': KSTestPopComparer, 'threshold': 0.05, 'max_distance': 200, 'slide_by': 5}\n",
      "\n",
      "Evaluating configuration {'window_generator_type': 'adaptive', 'window_size': 100, 'population_comparer': KSTestPopComparer, 'threshold': 0.05, 'max_distance': 200, 'slide_by': 10}\n",
      "\n",
      "Evaluating configuration {'window_generator_type': 'adaptive', 'window_size': 100, 'population_comparer': ChiSquaredComparer, 'threshold': 0.05, 'max_distance': 200, 'slide_by': 5}\n",
      "\n",
      "Evaluating configuration {'window_generator_type': 'adaptive', 'window_size': 100, 'population_comparer': ChiSquaredComparer, 'threshold': 0.05, 'max_distance': 200, 'slide_by': 10}\n",
      "\n",
      "Evaluating configuration {'window_generator_type': 'adaptive', 'window_size': 200, 'population_comparer': KSTestPopComparer, 'threshold': 0.05, 'max_distance': 200, 'slide_by': 5}\n",
      "\n",
      "Evaluating configuration {'window_generator_type': 'adaptive', 'window_size': 200, 'population_comparer': KSTestPopComparer, 'threshold': 0.05, 'max_distance': 200, 'slide_by': 10}\n",
      "\n",
      "Evaluating configuration {'window_generator_type': 'adaptive', 'window_size': 200, 'population_comparer': ChiSquaredComparer, 'threshold': 0.05, 'max_distance': 200, 'slide_by': 5}\n",
      "\n",
      "Evaluating configuration {'window_generator_type': 'adaptive', 'window_size': 200, 'population_comparer': ChiSquaredComparer, 'threshold': 0.05, 'max_distance': 200, 'slide_by': 10}\n",
      "Event log 1\n"
     ]
    },
    {
     "name": "stderr",
     "output_type": "stream",
     "text": [
      "parsing log, completed traces :: 100%|██████████| 10000/10000 [00:18<00:00, 548.31it/s]\n"
     ]
    },
    {
     "name": "stdout",
     "output_type": "stream",
     "text": [
      "\n",
      "Evaluating configuration {'window_generator_type': 'fixed', 'window_size': 100, 'population_comparer': KSTestPopComparer, 'threshold': 0.05, 'max_distance': 200, 'slide_by': 5}\n",
      "\n",
      "Evaluating configuration {'window_generator_type': 'fixed', 'window_size': 100, 'population_comparer': KSTestPopComparer, 'threshold': 0.05, 'max_distance': 200, 'slide_by': 10}\n",
      "\n",
      "Evaluating configuration {'window_generator_type': 'fixed', 'window_size': 100, 'population_comparer': ChiSquaredComparer, 'threshold': 0.05, 'max_distance': 200, 'slide_by': 5}\n",
      "\n",
      "Evaluating configuration {'window_generator_type': 'fixed', 'window_size': 100, 'population_comparer': ChiSquaredComparer, 'threshold': 0.05, 'max_distance': 200, 'slide_by': 10}\n",
      "\n",
      "Evaluating configuration {'window_generator_type': 'fixed', 'window_size': 200, 'population_comparer': KSTestPopComparer, 'threshold': 0.05, 'max_distance': 200, 'slide_by': 5}\n",
      "\n",
      "Evaluating configuration {'window_generator_type': 'fixed', 'window_size': 200, 'population_comparer': KSTestPopComparer, 'threshold': 0.05, 'max_distance': 200, 'slide_by': 10}\n",
      "\n",
      "Evaluating configuration {'window_generator_type': 'fixed', 'window_size': 200, 'population_comparer': ChiSquaredComparer, 'threshold': 0.05, 'max_distance': 200, 'slide_by': 5}\n",
      "\n",
      "Evaluating configuration {'window_generator_type': 'fixed', 'window_size': 200, 'population_comparer': ChiSquaredComparer, 'threshold': 0.05, 'max_distance': 200, 'slide_by': 10}\n",
      "\n",
      "Evaluating configuration {'window_generator_type': 'adaptive', 'window_size': 100, 'population_comparer': KSTestPopComparer, 'threshold': 0.05, 'max_distance': 200, 'slide_by': 5}\n",
      "\n",
      "Evaluating configuration {'window_generator_type': 'adaptive', 'window_size': 100, 'population_comparer': KSTestPopComparer, 'threshold': 0.05, 'max_distance': 200, 'slide_by': 10}\n",
      "\n",
      "Evaluating configuration {'window_generator_type': 'adaptive', 'window_size': 100, 'population_comparer': ChiSquaredComparer, 'threshold': 0.05, 'max_distance': 200, 'slide_by': 5}\n",
      "\n",
      "Evaluating configuration {'window_generator_type': 'adaptive', 'window_size': 100, 'population_comparer': ChiSquaredComparer, 'threshold': 0.05, 'max_distance': 200, 'slide_by': 10}\n",
      "\n",
      "Evaluating configuration {'window_generator_type': 'adaptive', 'window_size': 200, 'population_comparer': KSTestPopComparer, 'threshold': 0.05, 'max_distance': 200, 'slide_by': 5}\n",
      "\n",
      "Evaluating configuration {'window_generator_type': 'adaptive', 'window_size': 200, 'population_comparer': KSTestPopComparer, 'threshold': 0.05, 'max_distance': 200, 'slide_by': 10}\n",
      "\n",
      "Evaluating configuration {'window_generator_type': 'adaptive', 'window_size': 200, 'population_comparer': ChiSquaredComparer, 'threshold': 0.05, 'max_distance': 200, 'slide_by': 5}\n",
      "\n",
      "Evaluating configuration {'window_generator_type': 'adaptive', 'window_size': 200, 'population_comparer': ChiSquaredComparer, 'threshold': 0.05, 'max_distance': 200, 'slide_by': 10}\n",
      "Event log 2\n"
     ]
    },
    {
     "name": "stderr",
     "output_type": "stream",
     "text": [
      "parsing log, completed traces :: 100%|██████████| 10000/10000 [00:16<00:00, 604.94it/s]\n"
     ]
    },
    {
     "name": "stdout",
     "output_type": "stream",
     "text": [
      "\n",
      "Evaluating configuration {'window_generator_type': 'fixed', 'window_size': 100, 'population_comparer': KSTestPopComparer, 'threshold': 0.05, 'max_distance': 200, 'slide_by': 5}\n",
      "\n",
      "Evaluating configuration {'window_generator_type': 'fixed', 'window_size': 100, 'population_comparer': KSTestPopComparer, 'threshold': 0.05, 'max_distance': 200, 'slide_by': 10}\n",
      "\n",
      "Evaluating configuration {'window_generator_type': 'fixed', 'window_size': 100, 'population_comparer': ChiSquaredComparer, 'threshold': 0.05, 'max_distance': 200, 'slide_by': 5}\n",
      "\n",
      "Evaluating configuration {'window_generator_type': 'fixed', 'window_size': 100, 'population_comparer': ChiSquaredComparer, 'threshold': 0.05, 'max_distance': 200, 'slide_by': 10}\n",
      "\n",
      "Evaluating configuration {'window_generator_type': 'fixed', 'window_size': 200, 'population_comparer': KSTestPopComparer, 'threshold': 0.05, 'max_distance': 200, 'slide_by': 5}\n",
      "\n",
      "Evaluating configuration {'window_generator_type': 'fixed', 'window_size': 200, 'population_comparer': KSTestPopComparer, 'threshold': 0.05, 'max_distance': 200, 'slide_by': 10}\n",
      "\n",
      "Evaluating configuration {'window_generator_type': 'fixed', 'window_size': 200, 'population_comparer': ChiSquaredComparer, 'threshold': 0.05, 'max_distance': 200, 'slide_by': 5}\n",
      "\n",
      "Evaluating configuration {'window_generator_type': 'fixed', 'window_size': 200, 'population_comparer': ChiSquaredComparer, 'threshold': 0.05, 'max_distance': 200, 'slide_by': 10}\n",
      "\n",
      "Evaluating configuration {'window_generator_type': 'adaptive', 'window_size': 100, 'population_comparer': KSTestPopComparer, 'threshold': 0.05, 'max_distance': 200, 'slide_by': 5}\n",
      "\n",
      "Evaluating configuration {'window_generator_type': 'adaptive', 'window_size': 100, 'population_comparer': KSTestPopComparer, 'threshold': 0.05, 'max_distance': 200, 'slide_by': 10}\n",
      "\n",
      "Evaluating configuration {'window_generator_type': 'adaptive', 'window_size': 100, 'population_comparer': ChiSquaredComparer, 'threshold': 0.05, 'max_distance': 200, 'slide_by': 5}\n",
      "\n",
      "Evaluating configuration {'window_generator_type': 'adaptive', 'window_size': 100, 'population_comparer': ChiSquaredComparer, 'threshold': 0.05, 'max_distance': 200, 'slide_by': 10}\n",
      "\n",
      "Evaluating configuration {'window_generator_type': 'adaptive', 'window_size': 200, 'population_comparer': KSTestPopComparer, 'threshold': 0.05, 'max_distance': 200, 'slide_by': 5}\n",
      "\n",
      "Evaluating configuration {'window_generator_type': 'adaptive', 'window_size': 200, 'population_comparer': KSTestPopComparer, 'threshold': 0.05, 'max_distance': 200, 'slide_by': 10}\n",
      "\n",
      "Evaluating configuration {'window_generator_type': 'adaptive', 'window_size': 200, 'population_comparer': ChiSquaredComparer, 'threshold': 0.05, 'max_distance': 200, 'slide_by': 5}\n",
      "\n",
      "Evaluating configuration {'window_generator_type': 'adaptive', 'window_size': 200, 'population_comparer': ChiSquaredComparer, 'threshold': 0.05, 'max_distance': 200, 'slide_by': 10}\n",
      "Event log 3\n"
     ]
    },
    {
     "name": "stderr",
     "output_type": "stream",
     "text": [
      "parsing log, completed traces :: 100%|██████████| 10000/10000 [00:14<00:00, 712.47it/s]\n"
     ]
    },
    {
     "name": "stdout",
     "output_type": "stream",
     "text": [
      "\n",
      "Evaluating configuration {'window_generator_type': 'fixed', 'window_size': 100, 'population_comparer': KSTestPopComparer, 'threshold': 0.05, 'max_distance': 200, 'slide_by': 5}\n",
      "\n",
      "Evaluating configuration {'window_generator_type': 'fixed', 'window_size': 100, 'population_comparer': KSTestPopComparer, 'threshold': 0.05, 'max_distance': 200, 'slide_by': 10}\n",
      "\n",
      "Evaluating configuration {'window_generator_type': 'fixed', 'window_size': 100, 'population_comparer': ChiSquaredComparer, 'threshold': 0.05, 'max_distance': 200, 'slide_by': 5}\n",
      "\n",
      "Evaluating configuration {'window_generator_type': 'fixed', 'window_size': 100, 'population_comparer': ChiSquaredComparer, 'threshold': 0.05, 'max_distance': 200, 'slide_by': 10}\n",
      "\n",
      "Evaluating configuration {'window_generator_type': 'fixed', 'window_size': 200, 'population_comparer': KSTestPopComparer, 'threshold': 0.05, 'max_distance': 200, 'slide_by': 5}\n",
      "\n",
      "Evaluating configuration {'window_generator_type': 'fixed', 'window_size': 200, 'population_comparer': KSTestPopComparer, 'threshold': 0.05, 'max_distance': 200, 'slide_by': 10}\n",
      "\n",
      "Evaluating configuration {'window_generator_type': 'fixed', 'window_size': 200, 'population_comparer': ChiSquaredComparer, 'threshold': 0.05, 'max_distance': 200, 'slide_by': 5}\n",
      "\n",
      "Evaluating configuration {'window_generator_type': 'fixed', 'window_size': 200, 'population_comparer': ChiSquaredComparer, 'threshold': 0.05, 'max_distance': 200, 'slide_by': 10}\n",
      "\n",
      "Evaluating configuration {'window_generator_type': 'adaptive', 'window_size': 100, 'population_comparer': KSTestPopComparer, 'threshold': 0.05, 'max_distance': 200, 'slide_by': 5}\n",
      "\n",
      "Evaluating configuration {'window_generator_type': 'adaptive', 'window_size': 100, 'population_comparer': KSTestPopComparer, 'threshold': 0.05, 'max_distance': 200, 'slide_by': 10}\n",
      "\n",
      "Evaluating configuration {'window_generator_type': 'adaptive', 'window_size': 100, 'population_comparer': ChiSquaredComparer, 'threshold': 0.05, 'max_distance': 200, 'slide_by': 5}\n",
      "\n",
      "Evaluating configuration {'window_generator_type': 'adaptive', 'window_size': 100, 'population_comparer': ChiSquaredComparer, 'threshold': 0.05, 'max_distance': 200, 'slide_by': 10}\n",
      "\n",
      "Evaluating configuration {'window_generator_type': 'adaptive', 'window_size': 200, 'population_comparer': KSTestPopComparer, 'threshold': 0.05, 'max_distance': 200, 'slide_by': 5}\n",
      "\n",
      "Evaluating configuration {'window_generator_type': 'adaptive', 'window_size': 200, 'population_comparer': KSTestPopComparer, 'threshold': 0.05, 'max_distance': 200, 'slide_by': 10}\n",
      "\n",
      "Evaluating configuration {'window_generator_type': 'adaptive', 'window_size': 200, 'population_comparer': ChiSquaredComparer, 'threshold': 0.05, 'max_distance': 200, 'slide_by': 5}\n",
      "\n",
      "Evaluating configuration {'window_generator_type': 'adaptive', 'window_size': 200, 'population_comparer': ChiSquaredComparer, 'threshold': 0.05, 'max_distance': 200, 'slide_by': 10}\n",
      "Event log 4\n"
     ]
    },
    {
     "name": "stderr",
     "output_type": "stream",
     "text": [
      "parsing log, completed traces :: 100%|██████████| 10000/10000 [00:14<00:00, 671.61it/s]\n"
     ]
    },
    {
     "name": "stdout",
     "output_type": "stream",
     "text": [
      "\n",
      "Evaluating configuration {'window_generator_type': 'fixed', 'window_size': 100, 'population_comparer': KSTestPopComparer, 'threshold': 0.05, 'max_distance': 200, 'slide_by': 5}\n",
      "\n",
      "Evaluating configuration {'window_generator_type': 'fixed', 'window_size': 100, 'population_comparer': KSTestPopComparer, 'threshold': 0.05, 'max_distance': 200, 'slide_by': 10}\n",
      "\n",
      "Evaluating configuration {'window_generator_type': 'fixed', 'window_size': 100, 'population_comparer': ChiSquaredComparer, 'threshold': 0.05, 'max_distance': 200, 'slide_by': 5}\n",
      "\n",
      "Evaluating configuration {'window_generator_type': 'fixed', 'window_size': 100, 'population_comparer': ChiSquaredComparer, 'threshold': 0.05, 'max_distance': 200, 'slide_by': 10}\n",
      "\n",
      "Evaluating configuration {'window_generator_type': 'fixed', 'window_size': 200, 'population_comparer': KSTestPopComparer, 'threshold': 0.05, 'max_distance': 200, 'slide_by': 5}\n",
      "\n",
      "Evaluating configuration {'window_generator_type': 'fixed', 'window_size': 200, 'population_comparer': KSTestPopComparer, 'threshold': 0.05, 'max_distance': 200, 'slide_by': 10}\n",
      "\n",
      "Evaluating configuration {'window_generator_type': 'fixed', 'window_size': 200, 'population_comparer': ChiSquaredComparer, 'threshold': 0.05, 'max_distance': 200, 'slide_by': 5}\n",
      "\n",
      "Evaluating configuration {'window_generator_type': 'fixed', 'window_size': 200, 'population_comparer': ChiSquaredComparer, 'threshold': 0.05, 'max_distance': 200, 'slide_by': 10}\n",
      "\n",
      "Evaluating configuration {'window_generator_type': 'adaptive', 'window_size': 100, 'population_comparer': KSTestPopComparer, 'threshold': 0.05, 'max_distance': 200, 'slide_by': 5}\n",
      "\n",
      "Evaluating configuration {'window_generator_type': 'adaptive', 'window_size': 100, 'population_comparer': KSTestPopComparer, 'threshold': 0.05, 'max_distance': 200, 'slide_by': 10}\n",
      "\n",
      "Evaluating configuration {'window_generator_type': 'adaptive', 'window_size': 100, 'population_comparer': ChiSquaredComparer, 'threshold': 0.05, 'max_distance': 200, 'slide_by': 5}\n",
      "\n",
      "Evaluating configuration {'window_generator_type': 'adaptive', 'window_size': 100, 'population_comparer': ChiSquaredComparer, 'threshold': 0.05, 'max_distance': 200, 'slide_by': 10}\n",
      "\n",
      "Evaluating configuration {'window_generator_type': 'adaptive', 'window_size': 200, 'population_comparer': KSTestPopComparer, 'threshold': 0.05, 'max_distance': 200, 'slide_by': 5}\n",
      "\n",
      "Evaluating configuration {'window_generator_type': 'adaptive', 'window_size': 200, 'population_comparer': KSTestPopComparer, 'threshold': 0.05, 'max_distance': 200, 'slide_by': 10}\n",
      "\n",
      "Evaluating configuration {'window_generator_type': 'adaptive', 'window_size': 200, 'population_comparer': ChiSquaredComparer, 'threshold': 0.05, 'max_distance': 200, 'slide_by': 5}\n",
      "\n",
      "Evaluating configuration {'window_generator_type': 'adaptive', 'window_size': 200, 'population_comparer': ChiSquaredComparer, 'threshold': 0.05, 'max_distance': 200, 'slide_by': 10}\n",
      "Event log 5\n"
     ]
    },
    {
     "name": "stderr",
     "output_type": "stream",
     "text": [
      "parsing log, completed traces :: 100%|██████████| 10000/10000 [00:10<00:00, 914.34it/s]\n"
     ]
    },
    {
     "name": "stdout",
     "output_type": "stream",
     "text": [
      "\n",
      "Evaluating configuration {'window_generator_type': 'fixed', 'window_size': 100, 'population_comparer': KSTestPopComparer, 'threshold': 0.05, 'max_distance': 200, 'slide_by': 5}\n",
      "\n",
      "Evaluating configuration {'window_generator_type': 'fixed', 'window_size': 100, 'population_comparer': KSTestPopComparer, 'threshold': 0.05, 'max_distance': 200, 'slide_by': 10}\n",
      "\n",
      "Evaluating configuration {'window_generator_type': 'fixed', 'window_size': 100, 'population_comparer': ChiSquaredComparer, 'threshold': 0.05, 'max_distance': 200, 'slide_by': 5}\n",
      "\n",
      "Evaluating configuration {'window_generator_type': 'fixed', 'window_size': 100, 'population_comparer': ChiSquaredComparer, 'threshold': 0.05, 'max_distance': 200, 'slide_by': 10}\n",
      "\n",
      "Evaluating configuration {'window_generator_type': 'fixed', 'window_size': 200, 'population_comparer': KSTestPopComparer, 'threshold': 0.05, 'max_distance': 200, 'slide_by': 5}\n",
      "\n",
      "Evaluating configuration {'window_generator_type': 'fixed', 'window_size': 200, 'population_comparer': KSTestPopComparer, 'threshold': 0.05, 'max_distance': 200, 'slide_by': 10}\n",
      "\n",
      "Evaluating configuration {'window_generator_type': 'fixed', 'window_size': 200, 'population_comparer': ChiSquaredComparer, 'threshold': 0.05, 'max_distance': 200, 'slide_by': 5}\n",
      "\n",
      "Evaluating configuration {'window_generator_type': 'fixed', 'window_size': 200, 'population_comparer': ChiSquaredComparer, 'threshold': 0.05, 'max_distance': 200, 'slide_by': 10}\n",
      "\n",
      "Evaluating configuration {'window_generator_type': 'adaptive', 'window_size': 100, 'population_comparer': KSTestPopComparer, 'threshold': 0.05, 'max_distance': 200, 'slide_by': 5}\n",
      "\n",
      "Evaluating configuration {'window_generator_type': 'adaptive', 'window_size': 100, 'population_comparer': KSTestPopComparer, 'threshold': 0.05, 'max_distance': 200, 'slide_by': 10}\n",
      "\n",
      "Evaluating configuration {'window_generator_type': 'adaptive', 'window_size': 100, 'population_comparer': ChiSquaredComparer, 'threshold': 0.05, 'max_distance': 200, 'slide_by': 5}\n",
      "\n",
      "Evaluating configuration {'window_generator_type': 'adaptive', 'window_size': 100, 'population_comparer': ChiSquaredComparer, 'threshold': 0.05, 'max_distance': 200, 'slide_by': 10}\n",
      "\n",
      "Evaluating configuration {'window_generator_type': 'adaptive', 'window_size': 200, 'population_comparer': KSTestPopComparer, 'threshold': 0.05, 'max_distance': 200, 'slide_by': 5}\n",
      "\n",
      "Evaluating configuration {'window_generator_type': 'adaptive', 'window_size': 200, 'population_comparer': KSTestPopComparer, 'threshold': 0.05, 'max_distance': 200, 'slide_by': 10}\n",
      "\n",
      "Evaluating configuration {'window_generator_type': 'adaptive', 'window_size': 200, 'population_comparer': ChiSquaredComparer, 'threshold': 0.05, 'max_distance': 200, 'slide_by': 5}\n",
      "\n",
      "Evaluating configuration {'window_generator_type': 'adaptive', 'window_size': 200, 'population_comparer': ChiSquaredComparer, 'threshold': 0.05, 'max_distance': 200, 'slide_by': 10}\n",
      "Event log 6\n"
     ]
    },
    {
     "name": "stderr",
     "output_type": "stream",
     "text": [
      "parsing log, completed traces :: 100%|██████████| 10000/10000 [00:10<00:00, 915.84it/s]\n"
     ]
    },
    {
     "name": "stdout",
     "output_type": "stream",
     "text": [
      "\n",
      "Evaluating configuration {'window_generator_type': 'fixed', 'window_size': 100, 'population_comparer': KSTestPopComparer, 'threshold': 0.05, 'max_distance': 200, 'slide_by': 5}\n",
      "\n",
      "Evaluating configuration {'window_generator_type': 'fixed', 'window_size': 100, 'population_comparer': KSTestPopComparer, 'threshold': 0.05, 'max_distance': 200, 'slide_by': 10}\n",
      "\n",
      "Evaluating configuration {'window_generator_type': 'fixed', 'window_size': 100, 'population_comparer': ChiSquaredComparer, 'threshold': 0.05, 'max_distance': 200, 'slide_by': 5}\n",
      "\n",
      "Evaluating configuration {'window_generator_type': 'fixed', 'window_size': 100, 'population_comparer': ChiSquaredComparer, 'threshold': 0.05, 'max_distance': 200, 'slide_by': 10}\n",
      "\n",
      "Evaluating configuration {'window_generator_type': 'fixed', 'window_size': 200, 'population_comparer': KSTestPopComparer, 'threshold': 0.05, 'max_distance': 200, 'slide_by': 5}\n",
      "\n",
      "Evaluating configuration {'window_generator_type': 'fixed', 'window_size': 200, 'population_comparer': KSTestPopComparer, 'threshold': 0.05, 'max_distance': 200, 'slide_by': 10}\n",
      "\n",
      "Evaluating configuration {'window_generator_type': 'fixed', 'window_size': 200, 'population_comparer': ChiSquaredComparer, 'threshold': 0.05, 'max_distance': 200, 'slide_by': 5}\n",
      "\n",
      "Evaluating configuration {'window_generator_type': 'fixed', 'window_size': 200, 'population_comparer': ChiSquaredComparer, 'threshold': 0.05, 'max_distance': 200, 'slide_by': 10}\n",
      "\n",
      "Evaluating configuration {'window_generator_type': 'adaptive', 'window_size': 100, 'population_comparer': KSTestPopComparer, 'threshold': 0.05, 'max_distance': 200, 'slide_by': 5}\n",
      "\n",
      "Evaluating configuration {'window_generator_type': 'adaptive', 'window_size': 100, 'population_comparer': KSTestPopComparer, 'threshold': 0.05, 'max_distance': 200, 'slide_by': 10}\n",
      "\n",
      "Evaluating configuration {'window_generator_type': 'adaptive', 'window_size': 100, 'population_comparer': ChiSquaredComparer, 'threshold': 0.05, 'max_distance': 200, 'slide_by': 5}\n",
      "\n",
      "Evaluating configuration {'window_generator_type': 'adaptive', 'window_size': 100, 'population_comparer': ChiSquaredComparer, 'threshold': 0.05, 'max_distance': 200, 'slide_by': 10}\n",
      "\n",
      "Evaluating configuration {'window_generator_type': 'adaptive', 'window_size': 200, 'population_comparer': KSTestPopComparer, 'threshold': 0.05, 'max_distance': 200, 'slide_by': 5}\n",
      "\n",
      "Evaluating configuration {'window_generator_type': 'adaptive', 'window_size': 200, 'population_comparer': KSTestPopComparer, 'threshold': 0.05, 'max_distance': 200, 'slide_by': 10}\n",
      "\n",
      "Evaluating configuration {'window_generator_type': 'adaptive', 'window_size': 200, 'population_comparer': ChiSquaredComparer, 'threshold': 0.05, 'max_distance': 200, 'slide_by': 5}\n",
      "\n",
      "Evaluating configuration {'window_generator_type': 'adaptive', 'window_size': 200, 'population_comparer': ChiSquaredComparer, 'threshold': 0.05, 'max_distance': 200, 'slide_by': 10}\n",
      "Event log 7\n"
     ]
    },
    {
     "name": "stderr",
     "output_type": "stream",
     "text": [
      "parsing log, completed traces :: 100%|██████████| 10000/10000 [00:14<00:00, 689.32it/s]\n"
     ]
    },
    {
     "name": "stdout",
     "output_type": "stream",
     "text": [
      "\n",
      "Evaluating configuration {'window_generator_type': 'fixed', 'window_size': 100, 'population_comparer': KSTestPopComparer, 'threshold': 0.05, 'max_distance': 200, 'slide_by': 5}\n",
      "\n",
      "Evaluating configuration {'window_generator_type': 'fixed', 'window_size': 100, 'population_comparer': KSTestPopComparer, 'threshold': 0.05, 'max_distance': 200, 'slide_by': 10}\n",
      "\n",
      "Evaluating configuration {'window_generator_type': 'fixed', 'window_size': 100, 'population_comparer': ChiSquaredComparer, 'threshold': 0.05, 'max_distance': 200, 'slide_by': 5}\n",
      "\n",
      "Evaluating configuration {'window_generator_type': 'fixed', 'window_size': 100, 'population_comparer': ChiSquaredComparer, 'threshold': 0.05, 'max_distance': 200, 'slide_by': 10}\n",
      "\n",
      "Evaluating configuration {'window_generator_type': 'fixed', 'window_size': 200, 'population_comparer': KSTestPopComparer, 'threshold': 0.05, 'max_distance': 200, 'slide_by': 5}\n",
      "\n",
      "Evaluating configuration {'window_generator_type': 'fixed', 'window_size': 200, 'population_comparer': KSTestPopComparer, 'threshold': 0.05, 'max_distance': 200, 'slide_by': 10}\n",
      "\n",
      "Evaluating configuration {'window_generator_type': 'fixed', 'window_size': 200, 'population_comparer': ChiSquaredComparer, 'threshold': 0.05, 'max_distance': 200, 'slide_by': 5}\n",
      "\n",
      "Evaluating configuration {'window_generator_type': 'fixed', 'window_size': 200, 'population_comparer': ChiSquaredComparer, 'threshold': 0.05, 'max_distance': 200, 'slide_by': 10}\n",
      "\n",
      "Evaluating configuration {'window_generator_type': 'adaptive', 'window_size': 100, 'population_comparer': KSTestPopComparer, 'threshold': 0.05, 'max_distance': 200, 'slide_by': 5}\n",
      "\n",
      "Evaluating configuration {'window_generator_type': 'adaptive', 'window_size': 100, 'population_comparer': KSTestPopComparer, 'threshold': 0.05, 'max_distance': 200, 'slide_by': 10}\n",
      "\n",
      "Evaluating configuration {'window_generator_type': 'adaptive', 'window_size': 100, 'population_comparer': ChiSquaredComparer, 'threshold': 0.05, 'max_distance': 200, 'slide_by': 5}\n",
      "\n",
      "Evaluating configuration {'window_generator_type': 'adaptive', 'window_size': 100, 'population_comparer': ChiSquaredComparer, 'threshold': 0.05, 'max_distance': 200, 'slide_by': 10}\n",
      "\n",
      "Evaluating configuration {'window_generator_type': 'adaptive', 'window_size': 200, 'population_comparer': KSTestPopComparer, 'threshold': 0.05, 'max_distance': 200, 'slide_by': 5}\n",
      "\n",
      "Evaluating configuration {'window_generator_type': 'adaptive', 'window_size': 200, 'population_comparer': KSTestPopComparer, 'threshold': 0.05, 'max_distance': 200, 'slide_by': 10}\n",
      "\n",
      "Evaluating configuration {'window_generator_type': 'adaptive', 'window_size': 200, 'population_comparer': ChiSquaredComparer, 'threshold': 0.05, 'max_distance': 200, 'slide_by': 5}\n",
      "\n",
      "Evaluating configuration {'window_generator_type': 'adaptive', 'window_size': 200, 'population_comparer': ChiSquaredComparer, 'threshold': 0.05, 'max_distance': 200, 'slide_by': 10}\n",
      "Event log 8\n"
     ]
    },
    {
     "name": "stderr",
     "output_type": "stream",
     "text": [
      "parsing log, completed traces :: 100%|██████████| 10000/10000 [00:20<00:00, 477.48it/s]\n"
     ]
    },
    {
     "name": "stdout",
     "output_type": "stream",
     "text": [
      "\n",
      "Evaluating configuration {'window_generator_type': 'fixed', 'window_size': 100, 'population_comparer': KSTestPopComparer, 'threshold': 0.05, 'max_distance': 200, 'slide_by': 5}\n",
      "\n",
      "Evaluating configuration {'window_generator_type': 'fixed', 'window_size': 100, 'population_comparer': KSTestPopComparer, 'threshold': 0.05, 'max_distance': 200, 'slide_by': 10}\n",
      "\n",
      "Evaluating configuration {'window_generator_type': 'fixed', 'window_size': 100, 'population_comparer': ChiSquaredComparer, 'threshold': 0.05, 'max_distance': 200, 'slide_by': 5}\n",
      "\n",
      "Evaluating configuration {'window_generator_type': 'fixed', 'window_size': 100, 'population_comparer': ChiSquaredComparer, 'threshold': 0.05, 'max_distance': 200, 'slide_by': 10}\n",
      "\n",
      "Evaluating configuration {'window_generator_type': 'fixed', 'window_size': 200, 'population_comparer': KSTestPopComparer, 'threshold': 0.05, 'max_distance': 200, 'slide_by': 5}\n",
      "\n",
      "Evaluating configuration {'window_generator_type': 'fixed', 'window_size': 200, 'population_comparer': KSTestPopComparer, 'threshold': 0.05, 'max_distance': 200, 'slide_by': 10}\n",
      "\n",
      "Evaluating configuration {'window_generator_type': 'fixed', 'window_size': 200, 'population_comparer': ChiSquaredComparer, 'threshold': 0.05, 'max_distance': 200, 'slide_by': 5}\n",
      "\n",
      "Evaluating configuration {'window_generator_type': 'fixed', 'window_size': 200, 'population_comparer': ChiSquaredComparer, 'threshold': 0.05, 'max_distance': 200, 'slide_by': 10}\n",
      "\n",
      "Evaluating configuration {'window_generator_type': 'adaptive', 'window_size': 100, 'population_comparer': KSTestPopComparer, 'threshold': 0.05, 'max_distance': 200, 'slide_by': 5}\n",
      "\n",
      "Evaluating configuration {'window_generator_type': 'adaptive', 'window_size': 100, 'population_comparer': KSTestPopComparer, 'threshold': 0.05, 'max_distance': 200, 'slide_by': 10}\n",
      "\n",
      "Evaluating configuration {'window_generator_type': 'adaptive', 'window_size': 100, 'population_comparer': ChiSquaredComparer, 'threshold': 0.05, 'max_distance': 200, 'slide_by': 5}\n",
      "\n",
      "Evaluating configuration {'window_generator_type': 'adaptive', 'window_size': 100, 'population_comparer': ChiSquaredComparer, 'threshold': 0.05, 'max_distance': 200, 'slide_by': 10}\n",
      "\n",
      "Evaluating configuration {'window_generator_type': 'adaptive', 'window_size': 200, 'population_comparer': KSTestPopComparer, 'threshold': 0.05, 'max_distance': 200, 'slide_by': 5}\n",
      "\n",
      "Evaluating configuration {'window_generator_type': 'adaptive', 'window_size': 200, 'population_comparer': KSTestPopComparer, 'threshold': 0.05, 'max_distance': 200, 'slide_by': 10}\n",
      "\n",
      "Evaluating configuration {'window_generator_type': 'adaptive', 'window_size': 200, 'population_comparer': ChiSquaredComparer, 'threshold': 0.05, 'max_distance': 200, 'slide_by': 5}\n",
      "\n",
      "Evaluating configuration {'window_generator_type': 'adaptive', 'window_size': 200, 'population_comparer': ChiSquaredComparer, 'threshold': 0.05, 'max_distance': 200, 'slide_by': 10}\n",
      "Event log 9\n"
     ]
    },
    {
     "name": "stderr",
     "output_type": "stream",
     "text": [
      "parsing log, completed traces :: 100%|██████████| 10000/10000 [00:15<00:00, 640.93it/s]\n"
     ]
    },
    {
     "name": "stdout",
     "output_type": "stream",
     "text": [
      "\n",
      "Evaluating configuration {'window_generator_type': 'fixed', 'window_size': 100, 'population_comparer': KSTestPopComparer, 'threshold': 0.05, 'max_distance': 200, 'slide_by': 5}\n",
      "\n",
      "Evaluating configuration {'window_generator_type': 'fixed', 'window_size': 100, 'population_comparer': KSTestPopComparer, 'threshold': 0.05, 'max_distance': 200, 'slide_by': 10}\n",
      "\n",
      "Evaluating configuration {'window_generator_type': 'fixed', 'window_size': 100, 'population_comparer': ChiSquaredComparer, 'threshold': 0.05, 'max_distance': 200, 'slide_by': 5}\n",
      "\n",
      "Evaluating configuration {'window_generator_type': 'fixed', 'window_size': 100, 'population_comparer': ChiSquaredComparer, 'threshold': 0.05, 'max_distance': 200, 'slide_by': 10}\n",
      "\n",
      "Evaluating configuration {'window_generator_type': 'fixed', 'window_size': 200, 'population_comparer': KSTestPopComparer, 'threshold': 0.05, 'max_distance': 200, 'slide_by': 5}\n",
      "\n",
      "Evaluating configuration {'window_generator_type': 'fixed', 'window_size': 200, 'population_comparer': KSTestPopComparer, 'threshold': 0.05, 'max_distance': 200, 'slide_by': 10}\n",
      "\n",
      "Evaluating configuration {'window_generator_type': 'fixed', 'window_size': 200, 'population_comparer': ChiSquaredComparer, 'threshold': 0.05, 'max_distance': 200, 'slide_by': 5}\n",
      "\n",
      "Evaluating configuration {'window_generator_type': 'fixed', 'window_size': 200, 'population_comparer': ChiSquaredComparer, 'threshold': 0.05, 'max_distance': 200, 'slide_by': 10}\n",
      "\n",
      "Evaluating configuration {'window_generator_type': 'adaptive', 'window_size': 100, 'population_comparer': KSTestPopComparer, 'threshold': 0.05, 'max_distance': 200, 'slide_by': 5}\n",
      "\n",
      "Evaluating configuration {'window_generator_type': 'adaptive', 'window_size': 100, 'population_comparer': KSTestPopComparer, 'threshold': 0.05, 'max_distance': 200, 'slide_by': 10}\n",
      "\n",
      "Evaluating configuration {'window_generator_type': 'adaptive', 'window_size': 100, 'population_comparer': ChiSquaredComparer, 'threshold': 0.05, 'max_distance': 200, 'slide_by': 5}\n",
      "\n",
      "Evaluating configuration {'window_generator_type': 'adaptive', 'window_size': 100, 'population_comparer': ChiSquaredComparer, 'threshold': 0.05, 'max_distance': 200, 'slide_by': 10}\n",
      "\n",
      "Evaluating configuration {'window_generator_type': 'adaptive', 'window_size': 200, 'population_comparer': KSTestPopComparer, 'threshold': 0.05, 'max_distance': 200, 'slide_by': 5}\n",
      "\n",
      "Evaluating configuration {'window_generator_type': 'adaptive', 'window_size': 200, 'population_comparer': KSTestPopComparer, 'threshold': 0.05, 'max_distance': 200, 'slide_by': 10}\n",
      "\n",
      "Evaluating configuration {'window_generator_type': 'adaptive', 'window_size': 200, 'population_comparer': ChiSquaredComparer, 'threshold': 0.05, 'max_distance': 200, 'slide_by': 5}\n",
      "\n",
      "Evaluating configuration {'window_generator_type': 'adaptive', 'window_size': 200, 'population_comparer': ChiSquaredComparer, 'threshold': 0.05, 'max_distance': 200, 'slide_by': 10}\n",
      "Event log 10\n"
     ]
    },
    {
     "name": "stderr",
     "output_type": "stream",
     "text": [
      "parsing log, completed traces :: 100%|██████████| 10000/10000 [00:14<00:00, 688.66it/s]\n"
     ]
    },
    {
     "name": "stdout",
     "output_type": "stream",
     "text": [
      "\n",
      "Evaluating configuration {'window_generator_type': 'fixed', 'window_size': 100, 'population_comparer': KSTestPopComparer, 'threshold': 0.05, 'max_distance': 200, 'slide_by': 5}\n",
      "\n",
      "Evaluating configuration {'window_generator_type': 'fixed', 'window_size': 100, 'population_comparer': KSTestPopComparer, 'threshold': 0.05, 'max_distance': 200, 'slide_by': 10}\n",
      "\n",
      "Evaluating configuration {'window_generator_type': 'fixed', 'window_size': 100, 'population_comparer': ChiSquaredComparer, 'threshold': 0.05, 'max_distance': 200, 'slide_by': 5}\n",
      "\n",
      "Evaluating configuration {'window_generator_type': 'fixed', 'window_size': 100, 'population_comparer': ChiSquaredComparer, 'threshold': 0.05, 'max_distance': 200, 'slide_by': 10}\n",
      "\n",
      "Evaluating configuration {'window_generator_type': 'fixed', 'window_size': 200, 'population_comparer': KSTestPopComparer, 'threshold': 0.05, 'max_distance': 200, 'slide_by': 5}\n",
      "\n",
      "Evaluating configuration {'window_generator_type': 'fixed', 'window_size': 200, 'population_comparer': KSTestPopComparer, 'threshold': 0.05, 'max_distance': 200, 'slide_by': 10}\n",
      "\n",
      "Evaluating configuration {'window_generator_type': 'fixed', 'window_size': 200, 'population_comparer': ChiSquaredComparer, 'threshold': 0.05, 'max_distance': 200, 'slide_by': 5}\n",
      "\n",
      "Evaluating configuration {'window_generator_type': 'fixed', 'window_size': 200, 'population_comparer': ChiSquaredComparer, 'threshold': 0.05, 'max_distance': 200, 'slide_by': 10}\n",
      "\n",
      "Evaluating configuration {'window_generator_type': 'adaptive', 'window_size': 100, 'population_comparer': KSTestPopComparer, 'threshold': 0.05, 'max_distance': 200, 'slide_by': 5}\n",
      "\n",
      "Evaluating configuration {'window_generator_type': 'adaptive', 'window_size': 100, 'population_comparer': KSTestPopComparer, 'threshold': 0.05, 'max_distance': 200, 'slide_by': 10}\n",
      "\n",
      "Evaluating configuration {'window_generator_type': 'adaptive', 'window_size': 100, 'population_comparer': ChiSquaredComparer, 'threshold': 0.05, 'max_distance': 200, 'slide_by': 5}\n",
      "\n",
      "Evaluating configuration {'window_generator_type': 'adaptive', 'window_size': 100, 'population_comparer': ChiSquaredComparer, 'threshold': 0.05, 'max_distance': 200, 'slide_by': 10}\n",
      "\n",
      "Evaluating configuration {'window_generator_type': 'adaptive', 'window_size': 200, 'population_comparer': KSTestPopComparer, 'threshold': 0.05, 'max_distance': 200, 'slide_by': 5}\n",
      "\n",
      "Evaluating configuration {'window_generator_type': 'adaptive', 'window_size': 200, 'population_comparer': KSTestPopComparer, 'threshold': 0.05, 'max_distance': 200, 'slide_by': 10}\n",
      "\n",
      "Evaluating configuration {'window_generator_type': 'adaptive', 'window_size': 200, 'population_comparer': ChiSquaredComparer, 'threshold': 0.05, 'max_distance': 200, 'slide_by': 5}\n",
      "\n",
      "Evaluating configuration {'window_generator_type': 'adaptive', 'window_size': 200, 'population_comparer': ChiSquaredComparer, 'threshold': 0.05, 'max_distance': 200, 'slide_by': 10}\n",
      "Event log 11\n"
     ]
    },
    {
     "name": "stderr",
     "output_type": "stream",
     "text": [
      "parsing log, completed traces :: 100%|██████████| 10000/10000 [00:21<00:00, 463.29it/s]\n"
     ]
    },
    {
     "name": "stdout",
     "output_type": "stream",
     "text": [
      "\n",
      "Evaluating configuration {'window_generator_type': 'fixed', 'window_size': 100, 'population_comparer': KSTestPopComparer, 'threshold': 0.05, 'max_distance': 200, 'slide_by': 5}\n",
      "\n",
      "Evaluating configuration {'window_generator_type': 'fixed', 'window_size': 100, 'population_comparer': KSTestPopComparer, 'threshold': 0.05, 'max_distance': 200, 'slide_by': 10}\n",
      "\n",
      "Evaluating configuration {'window_generator_type': 'fixed', 'window_size': 100, 'population_comparer': ChiSquaredComparer, 'threshold': 0.05, 'max_distance': 200, 'slide_by': 5}\n",
      "\n",
      "Evaluating configuration {'window_generator_type': 'fixed', 'window_size': 100, 'population_comparer': ChiSquaredComparer, 'threshold': 0.05, 'max_distance': 200, 'slide_by': 10}\n",
      "\n",
      "Evaluating configuration {'window_generator_type': 'fixed', 'window_size': 200, 'population_comparer': KSTestPopComparer, 'threshold': 0.05, 'max_distance': 200, 'slide_by': 5}\n",
      "\n",
      "Evaluating configuration {'window_generator_type': 'fixed', 'window_size': 200, 'population_comparer': KSTestPopComparer, 'threshold': 0.05, 'max_distance': 200, 'slide_by': 10}\n",
      "\n",
      "Evaluating configuration {'window_generator_type': 'fixed', 'window_size': 200, 'population_comparer': ChiSquaredComparer, 'threshold': 0.05, 'max_distance': 200, 'slide_by': 5}\n",
      "\n",
      "Evaluating configuration {'window_generator_type': 'fixed', 'window_size': 200, 'population_comparer': ChiSquaredComparer, 'threshold': 0.05, 'max_distance': 200, 'slide_by': 10}\n",
      "\n",
      "Evaluating configuration {'window_generator_type': 'adaptive', 'window_size': 100, 'population_comparer': KSTestPopComparer, 'threshold': 0.05, 'max_distance': 200, 'slide_by': 5}\n",
      "\n",
      "Evaluating configuration {'window_generator_type': 'adaptive', 'window_size': 100, 'population_comparer': KSTestPopComparer, 'threshold': 0.05, 'max_distance': 200, 'slide_by': 10}\n",
      "\n",
      "Evaluating configuration {'window_generator_type': 'adaptive', 'window_size': 100, 'population_comparer': ChiSquaredComparer, 'threshold': 0.05, 'max_distance': 200, 'slide_by': 5}\n",
      "\n",
      "Evaluating configuration {'window_generator_type': 'adaptive', 'window_size': 100, 'population_comparer': ChiSquaredComparer, 'threshold': 0.05, 'max_distance': 200, 'slide_by': 10}\n",
      "\n",
      "Evaluating configuration {'window_generator_type': 'adaptive', 'window_size': 200, 'population_comparer': KSTestPopComparer, 'threshold': 0.05, 'max_distance': 200, 'slide_by': 5}\n",
      "\n",
      "Evaluating configuration {'window_generator_type': 'adaptive', 'window_size': 200, 'population_comparer': KSTestPopComparer, 'threshold': 0.05, 'max_distance': 200, 'slide_by': 10}\n",
      "\n",
      "Evaluating configuration {'window_generator_type': 'adaptive', 'window_size': 200, 'population_comparer': ChiSquaredComparer, 'threshold': 0.05, 'max_distance': 200, 'slide_by': 5}\n",
      "\n",
      "Evaluating configuration {'window_generator_type': 'adaptive', 'window_size': 200, 'population_comparer': ChiSquaredComparer, 'threshold': 0.05, 'max_distance': 200, 'slide_by': 10}\n",
      "Event log 12\n"
     ]
    },
    {
     "name": "stderr",
     "output_type": "stream",
     "text": [
      "parsing log, completed traces ::  11%|█         | 1097/10000 [00:01<00:12, 713.52it/s]"
     ]
    },
    {
     "ename": "KeyboardInterrupt",
     "evalue": "",
     "output_type": "error",
     "traceback": [
      "\u001b[1;31m---------------------------------------------------------------------------\u001b[0m",
      "\u001b[1;31mKeyboardInterrupt\u001b[0m                         Traceback (most recent call last)",
      "\u001b[1;32mc:\\Users\\Lennart\\Documents\\1_Workspaces\\explaining_concept_drift\\35_secondary detection_synthetic_complex.ipynb Cell 10'\u001b[0m in \u001b[0;36m<cell line: 2>\u001b[1;34m()\u001b[0m\n\u001b[0;32m      <a href='vscode-notebook-cell:/c%3A/Users/Lennart/Documents/1_Workspaces/explaining_concept_drift/35_secondary%20detection_synthetic_complex.ipynb#ch0000009?line=1'>2</a>\u001b[0m \u001b[39mfor\u001b[39;00m i, event_log_file_path \u001b[39min\u001b[39;00m \u001b[39menumerate\u001b[39m(event_log_file_paths):\n\u001b[0;32m      <a href='vscode-notebook-cell:/c%3A/Users/Lennart/Documents/1_Workspaces/explaining_concept_drift/35_secondary%20detection_synthetic_complex.ipynb#ch0000009?line=3'>4</a>\u001b[0m     \u001b[39mprint\u001b[39m(\u001b[39mf\u001b[39m\u001b[39m'\u001b[39m\u001b[39mEvent log \u001b[39m\u001b[39m{\u001b[39;00mi\u001b[39m}\u001b[39;00m\u001b[39m'\u001b[39m)\n\u001b[1;32m----> <a href='vscode-notebook-cell:/c%3A/Users/Lennart/Documents/1_Workspaces/explaining_concept_drift/35_secondary%20detection_synthetic_complex.ipynb#ch0000009?line=4'>5</a>\u001b[0m     event_log \u001b[39m=\u001b[39m xes_importer\u001b[39m.\u001b[39;49mapply(event_log_file_path)\n\u001b[0;32m      <a href='vscode-notebook-cell:/c%3A/Users/Lennart/Documents/1_Workspaces/explaining_concept_drift/35_secondary%20detection_synthetic_complex.ipynb#ch0000009?line=6'>7</a>\u001b[0m     \u001b[39mfor\u001b[39;00m configuration \u001b[39min\u001b[39;00m configurations:\n\u001b[0;32m      <a href='vscode-notebook-cell:/c%3A/Users/Lennart/Documents/1_Workspaces/explaining_concept_drift/35_secondary%20detection_synthetic_complex.ipynb#ch0000009?line=7'>8</a>\u001b[0m         \u001b[39mprint\u001b[39m(\u001b[39mf\u001b[39m\u001b[39m'\u001b[39m\u001b[39m\\n\u001b[39;00m\u001b[39mEvaluating configuration \u001b[39m\u001b[39m{\u001b[39;00mconfiguration\u001b[39m}\u001b[39;00m\u001b[39m'\u001b[39m)\n",
      "File \u001b[1;32mc:\\users\\lennart\\documents\\1_workspaces\\explaining_concept_drift\\pm4py-concept-drift\\pm4py\\objects\\log\\importer\\xes\\importer.py:66\u001b[0m, in \u001b[0;36mapply\u001b[1;34m(path, parameters, variant)\u001b[0m\n\u001b[0;32m     63\u001b[0m \u001b[39melif\u001b[39;00m variant \u001b[39m==\u001b[39m \u001b[39m'\u001b[39m\u001b[39miterparse\u001b[39m\u001b[39m'\u001b[39m:\n\u001b[0;32m     64\u001b[0m     variant \u001b[39m=\u001b[39m Variants\u001b[39m.\u001b[39mITERPARSE\n\u001b[1;32m---> 66\u001b[0m \u001b[39mreturn\u001b[39;00m variant\u001b[39m.\u001b[39;49mvalue\u001b[39m.\u001b[39;49mapply(path, parameters\u001b[39m=\u001b[39;49mparameters)\n",
      "File \u001b[1;32mc:\\users\\lennart\\documents\\1_workspaces\\explaining_concept_drift\\pm4py-concept-drift\\pm4py\\objects\\log\\importer\\xes\\variants\\iterparse.py:300\u001b[0m, in \u001b[0;36mapply\u001b[1;34m(filename, parameters)\u001b[0m\n\u001b[0;32m    278\u001b[0m \u001b[39mdef\u001b[39;00m \u001b[39mapply\u001b[39m(filename, parameters\u001b[39m=\u001b[39m\u001b[39mNone\u001b[39;00m):\n\u001b[0;32m    279\u001b[0m     \u001b[39m\"\"\"\u001b[39;00m\n\u001b[0;32m    280\u001b[0m \u001b[39m    Imports an XES file into a log object\u001b[39;00m\n\u001b[0;32m    281\u001b[0m \n\u001b[1;32m   (...)\u001b[0m\n\u001b[0;32m    298\u001b[0m \u001b[39m        A log\u001b[39;00m\n\u001b[0;32m    299\u001b[0m \u001b[39m    \"\"\"\u001b[39;00m\n\u001b[1;32m--> 300\u001b[0m     \u001b[39mreturn\u001b[39;00m import_log(filename, parameters)\n",
      "File \u001b[1;32mc:\\users\\lennart\\documents\\1_workspaces\\explaining_concept_drift\\pm4py-concept-drift\\pm4py\\objects\\log\\importer\\xes\\variants\\iterparse.py:351\u001b[0m, in \u001b[0;36mimport_log\u001b[1;34m(filename, parameters)\u001b[0m\n\u001b[0;32m    348\u001b[0m     f \u001b[39m=\u001b[39m \u001b[39mopen\u001b[39m(filename, \u001b[39m\"\u001b[39m\u001b[39mrb\u001b[39m\u001b[39m\"\u001b[39m)\n\u001b[0;32m    349\u001b[0m context \u001b[39m=\u001b[39m etree\u001b[39m.\u001b[39miterparse(f, events\u001b[39m=\u001b[39m[_EVENT_START, _EVENT_END], encoding\u001b[39m=\u001b[39mencoding)\n\u001b[1;32m--> 351\u001b[0m \u001b[39mreturn\u001b[39;00m import_from_context(context, num_traces, parameters\u001b[39m=\u001b[39;49mparameters)\n",
      "File \u001b[1;32mc:\\users\\lennart\\documents\\1_workspaces\\explaining_concept_drift\\pm4py-concept-drift\\pm4py\\objects\\log\\importer\\xes\\variants\\iterparse.py:114\u001b[0m, in \u001b[0;36mimport_from_context\u001b[1;34m(context, num_traces, parameters)\u001b[0m\n\u001b[0;32m    112\u001b[0m \u001b[39mfor\u001b[39;00m tree_event, elem \u001b[39min\u001b[39;00m context:\n\u001b[0;32m    113\u001b[0m     \u001b[39mif\u001b[39;00m tree_event \u001b[39m==\u001b[39m _EVENT_START:  \u001b[39m# starting to read\u001b[39;00m\n\u001b[1;32m--> 114\u001b[0m         parent \u001b[39m=\u001b[39m tree[elem\u001b[39m.\u001b[39mgetparent()] \u001b[39mif\u001b[39;00m elem\u001b[39m.\u001b[39;49mgetparent() \u001b[39min\u001b[39;00m tree \u001b[39melse\u001b[39;00m \u001b[39mNone\u001b[39;00m\n\u001b[0;32m    116\u001b[0m         \u001b[39mif\u001b[39;00m elem\u001b[39m.\u001b[39mtag\u001b[39m.\u001b[39mendswith(xes_constants\u001b[39m.\u001b[39mTAG_STRING):\n\u001b[0;32m    117\u001b[0m             \u001b[39mif\u001b[39;00m parent \u001b[39mis\u001b[39;00m \u001b[39mnot\u001b[39;00m \u001b[39mNone\u001b[39;00m:\n",
      "\u001b[1;31mKeyboardInterrupt\u001b[0m: "
     ]
    },
    {
     "name": "stderr",
     "output_type": "stream",
     "text": [
      "parsing log, completed traces ::  12%|█▏        | 1160/10000 [00:13<00:12, 713.52it/s]"
     ]
    }
   ],
   "source": [
    "# iterate all datasets with all settings\n",
    "for i, event_log_file_path in enumerate(event_log_file_paths):\n",
    "    \n",
    "    print(f'Event log {i}')\n",
    "    event_log = xes_importer.apply(event_log_file_path)\n",
    "\n",
    "    for configuration in configurations:\n",
    "        print(f'\\nEvaluating configuration {configuration}')\n",
    "        \n",
    "        start_time = time.time()\n",
    "\n",
    "        window_generator_type = configuration['window_generator_type']\n",
    "        window_size = configuration['window_size']\n",
    "        population_comparer = configuration['population_comparer']\n",
    "        threshold = configuration['threshold']\n",
    "        max_distance = configuration['max_distance']\n",
    "        slide_by = configuration['slide_by']\n",
    "        \n",
    "        window_generator = None\n",
    "        # build the secondary drift detector\n",
    "        if window_generator_type == 'fixed':\n",
    "            window_generator = windowing.FixedSizeWindowGenerator(window_size, slide_by=slide_by)\n",
    "        elif window_generator_type == 'adaptive':\n",
    "            window_generator = windowing.AdaptiveWindowGenerator(window_size, slide_by=slide_by)\n",
    "\n",
    "        secondary_drift_detectors = drift_detection.get_all_attribute_drift_detectors(event_log,\n",
    "                                                                            window_generator, \n",
    "                                                                            population_comparer,\n",
    "                                                                            level='trace', \n",
    "                                                                            threshold=threshold,\n",
    "                                                                            exclude_attributes=exclude_attributes)\n",
    "\n",
    "        drift_explainer = drift_explanation.DriftExplainer(primary_process_drift_detector, secondary_drift_detectors)\n",
    "\n",
    "        # calculate the drift explanations\n",
    "        observed_changes = drift_explainer.get_primary_and_secondary_changes(event_log, max_distance)\n",
    "        observed_drift_point_explanations = drift_explanation.get_possible_change_explanations(observed_changes, max_distance)\n",
    "        \n",
    "        # evaluate the change point explanations\n",
    "        observed_drift_point_explanations_simple =  helper.get_simple_change_point_list_from_explainer(observed_drift_point_explanations)    \n",
    "\n",
    "        result = evaluation.evaluate_explanations(true_change_point_explanations, observed_drift_point_explanations_simple, max_distance=window_size)\n",
    "        \n",
    "        # get end time\n",
    "        end_time = time.time()\n",
    "        # get the compute time and write into results\n",
    "        compute_time = end_time - start_time\n",
    "        \n",
    "        # write the configuration results to file\n",
    "        helper.append_config_results(results_path, event_log_file_path, configuration, result, compute_time)"
   ]
  }
 ],
 "metadata": {
  "interpreter": {
   "hash": "3586acef3f5f923af4b971ce05811a36e3973e810e5c25f95daaeb0237b948ae"
  },
  "kernelspec": {
   "display_name": "Python 3.10.4 ('concept_drift')",
   "language": "python",
   "name": "python3"
  },
  "language_info": {
   "codemirror_mode": {
    "name": "ipython",
    "version": 3
   },
   "file_extension": ".py",
   "mimetype": "text/x-python",
   "name": "python",
   "nbconvert_exporter": "python",
   "pygments_lexer": "ipython3",
   "version": "3.10.4"
  }
 },
 "nbformat": 4,
 "nbformat_minor": 5
}
