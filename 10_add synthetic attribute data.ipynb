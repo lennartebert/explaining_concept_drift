{
 "cells": [
  {
   "cell_type": "markdown",
   "id": "9475ab7f-f59d-4644-8e0a-99aa00517392",
   "metadata": {
    "tags": []
   },
   "source": [
    "### Insert attribute change\n",
    "The following attribute behavior can be combined freely\n",
    "1. Types of Drift (Lu et al. 2019)\n",
    "    1. \"*Sudden drift*: A new concept occurs within a short time\"\n",
    "    2. \"*Gradual drift*: A new concept replaces on old one over a period of time\"\n",
    "    3. \"*Incremental drift*: An old concept incrementally changes to a new concept over a period of time\".\n",
    "    4. \"*Reoccurring Concepts*: An old concept may reoccur after some time\"\n",
    "2. Attribute data type (Optional: add Ordinal)\n",
    "    1. Categorical (nominal)\n",
    "    2. Continuous\n",
    "3. Attribute level\n",
    "    1. Trace\n",
    "    2. Event\n",
    "4. Noise level\n",
    "    1. None (0%)\n",
    "    2. Low (10%)\n",
    "    3. Medium (25%)\n",
    "    4. Strong (50%)\n",
    "5. Concept change\n",
    "    1. Missing data\n",
    "    2. Completely new distribution\n",
    "    3. For categorical data: Oversampling of one class\n",
    "    4. For categorical data: Undersampling of one class\n",
    "    5. For continuous data: Increase of mean\n",
    "    6. For continuous data: Decrease of mean\n",
    "6. Data Stationarity\n",
    "    1. Strong decrease\n",
    "    2. Weak decrease\n",
    "    3. Stationary\n",
    "    4. Weak increase\n",
    "    5. Strong increase\n",
    "7. Location of Attribute Change\n",
    "    1. Normally distributed before changepoint"
   ]
  },
  {
   "cell_type": "code",
   "execution_count": 1,
   "id": "2ad55131-0706-44e0-b98b-4393be9e7267",
   "metadata": {},
   "outputs": [],
   "source": [
    "import os\n",
    "import json\n",
    "import helper\n",
    "from concept_drift import generate_attributes\n",
    "import numpy as np"
   ]
  },
  {
   "cell_type": "code",
   "execution_count": 2,
   "id": "4ffa3d00-5009-4c8c-acf3-b04ef0060331",
   "metadata": {},
   "outputs": [],
   "source": [
    "# select a dataset to augment\n",
    "datasets = helper.get_datasets_by_criteria(is_synthetic=True, size=2500)\n",
    "dataset = next(iter(datasets))\n",
    "dataset_info = datasets[dataset]"
   ]
  },
  {
   "cell_type": "code",
   "execution_count": 3,
   "id": "d169f09a-2c1a-4ff7-ac4f-789d25d7544f",
   "metadata": {},
   "outputs": [],
   "source": [
    "# read the event log\n",
    "opyenxes_log = helper.opyenxes_read_xes(dataset_info['file_path'])"
   ]
  },
  {
   "cell_type": "code",
   "execution_count": 4,
   "id": "97853b4e-fac1-40c9-9c8a-045755b0ed9c",
   "metadata": {},
   "outputs": [],
   "source": [
    "ag = generate_attributes.AttributeGenerator(opyenxes_log, dataset_info['changepoints'])"
   ]
  },
  {
   "cell_type": "code",
   "execution_count": 5,
   "id": "0051f44c-1d49-4415-85d5-00ba9bc33d51",
   "metadata": {},
   "outputs": [],
   "source": [
    "relevant_attribute_count = 3\n",
    "for attribute_index in range(relevant_attribute_count):\n",
    "    attribute_name = f'relevant_attribute_{attribute_index + 1}'\n",
    "    # changepoint to explain\n",
    "    explain_changepoint = dataset_info['changepoints'][attribute_index]\n",
    "    explainable_changepoints = ag.generate_categorical_attribute(attribute_name, \n",
    "                                                                 explain_change_points=[dataset_info['changepoints'][attribute_index]],\n",
    "                                                                noise_level=0.1)"
   ]
  },
  {
   "cell_type": "code",
   "execution_count": 6,
   "id": "ff00593f-3f5e-4ad4-af73-5db8021aba87",
   "metadata": {},
   "outputs": [],
   "source": [
    "# add 10 more attributes that do not explain the change points\n",
    "irrelevant_attribute_count = 10\n",
    "for attribute_index in range(irrelevant_attribute_count):\n",
    "    attribute_name = f'irrelevant_attribute_{attribute_index + 1}'\n",
    "    ag.generate_categorical_attribute(attribute_name)"
   ]
  },
  {
   "cell_type": "code",
   "execution_count": 7,
   "id": "da46a488-483e-4c9c-8f26-3b3746787060",
   "metadata": {},
   "outputs": [],
   "source": [
    "change_point_explanations = ag.change_point_explanations"
   ]
  },
  {
   "cell_type": "code",
   "execution_count": 8,
   "id": "2f432160-a390-4d4a-86ea-62cbbdd18342",
   "metadata": {},
   "outputs": [],
   "source": [
    "new_base_path = 'data/synthetic/maardji et al 2013_xes_attributes'\n",
    "old_base_path = 'data\\\\synthetic\\\\maardji et al 2013_xes\\\\'"
   ]
  },
  {
   "cell_type": "code",
   "execution_count": 9,
   "id": "2a24b209-8d2b-4102-88a3-889df2025858",
   "metadata": {},
   "outputs": [
    {
     "data": {
      "text/plain": [
       "'data\\\\synthetic\\\\maardji et al 2013_xes_attributes\\\\logs\\\\cb2.5k.xes'"
      ]
     },
     "execution_count": 9,
     "metadata": {},
     "output_type": "execute_result"
    }
   ],
   "source": [
    "new_path = helper.create_and_get_new_path(dataset_info['file_path'], old_base_path, new_base_path, new_extension=None)\n",
    "new_path"
   ]
  },
  {
   "cell_type": "code",
   "execution_count": 10,
   "id": "5cbab278-7a03-4e22-bd74-9b00faa5433e",
   "metadata": {},
   "outputs": [
    {
     "name": "stdout",
     "output_type": "stream",
     "text": [
      "Importance: DEBUG\n",
      "Message: Start serializing log to XES.XML\n",
      "\n",
      "Importance: DEBUG\n",
      "Message: finished serializing log (7636.572998046875 msec.)\n",
      "\n"
     ]
    }
   ],
   "source": [
    "helper.opyenxes_write_xes(ag.opyenxes_log, new_path)"
   ]
  },
  {
   "cell_type": "code",
   "execution_count": 11,
   "id": "cfc08f65-3fde-48f9-b483-bcde7c92efb2",
   "metadata": {},
   "outputs": [
    {
     "data": {
      "text/plain": [
       "{'file_path': 'data\\\\synthetic\\\\maardji et al 2013_xes_attributes\\\\logs\\\\cb2.5k.xes',\n",
       " 'file_name': 'cb2.5k',\n",
       " 'drift_type': 'sudden',\n",
       " 'dataset': 'maardji et al 2013',\n",
       " 'size': 2500,\n",
       " 'changepoints': [250, 500, 750, 1000, 1250, 1500, 1750, 2000, 2250],\n",
       " 'is_synthetic': True,\n",
       " 'has_generated_attributes': True,\n",
       " 'change_point_explanations': {250: [{'attribute_name': 'relevant_attribute_1',\n",
       "    'drift_type': 'sudden',\n",
       "    'drift_location': 244}],\n",
       "  500: [{'attribute_name': 'relevant_attribute_2',\n",
       "    'drift_type': 'sudden',\n",
       "    'drift_location': 479}],\n",
       "  750: [{'attribute_name': 'relevant_attribute_3',\n",
       "    'drift_type': 'sudden',\n",
       "    'drift_location': 748}],\n",
       "  1000: [],\n",
       "  1250: [],\n",
       "  1500: [],\n",
       "  1750: [],\n",
       "  2000: [],\n",
       "  2250: []}}"
      ]
     },
     "execution_count": 11,
     "metadata": {},
     "output_type": "execute_result"
    }
   ],
   "source": [
    "# update the data dictionary\n",
    "data_info_new = dataset_info.copy()\n",
    "data_info_new['file_path'] = new_path\n",
    "data_info_new['has_generated_attributes'] = True\n",
    "data_info_new['change_point_explanations'] = change_point_explanations\n",
    "data_info_new"
   ]
  },
  {
   "cell_type": "code",
   "execution_count": 12,
   "id": "dcae81a3-b7d1-4a84-a24d-ac22b876ee55",
   "metadata": {},
   "outputs": [],
   "source": [
    "data_dictionary = {new_path: data_info_new}\n",
    "helper.update_data_dictionary(data_dictionary)"
   ]
  }
 ],
 "metadata": {
  "kernelspec": {
   "display_name": "Python 3 (ipykernel)",
   "language": "python",
   "name": "python3"
  },
  "language_info": {
   "codemirror_mode": {
    "name": "ipython",
    "version": 3
   },
   "file_extension": ".py",
   "mimetype": "text/x-python",
   "name": "python",
   "nbconvert_exporter": "python",
   "pygments_lexer": "ipython3",
   "version": "3.10.4"
  }
 },
 "nbformat": 4,
 "nbformat_minor": 5
}
