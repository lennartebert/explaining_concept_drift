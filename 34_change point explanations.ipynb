{
 "cells": [
  {
   "cell_type": "markdown",
   "id": "1f7017a7-9b03-48fa-a285-ce184f6403dc",
   "metadata": {},
   "source": [
    "# Get change point explanations for all event logs in a folder\n",
    "The process change points are known. Hence, no primary change point detection algorithm needs to be used."
   ]
  },
  {
   "cell_type": "code",
   "execution_count": 1,
   "id": "8f294e18-0a29-4492-a8f9-a9287872684f",
   "metadata": {},
   "outputs": [],
   "source": [
    "import helper\n",
    "import pandas as pd\n",
    "from processdrift.framework import drift_detection\n",
    "from processdrift.framework import drift_explanation\n",
    "from processdrift.framework import feature_extraction\n",
    "from processdrift.framework import pop_comparison\n",
    "from processdrift.framework import windowing\n",
    "from processdrift.framework import evaluation\n",
    "from pm4py.objects.log.importer.xes import importer as xes_importer"
   ]
  },
  {
   "cell_type": "code",
   "execution_count": 2,
   "id": "c3b98128",
   "metadata": {},
   "outputs": [],
   "source": [
    "datasets = helper.get_datasets_by_criteria(in_folder='data/synthetic/attribute_drift/simple/5000/')"
   ]
  },
  {
   "cell_type": "markdown",
   "id": "1663a296-baa2-4778-ac0a-31c8e3aa9464",
   "metadata": {
    "tags": []
   },
   "source": [
    "Get explanations under different configurations:\n",
    "\n",
    "## 1. Fixed window, chi-square\n",
    "- windowing: fixed\n",
    "- window_size: [50, 100, 150]\n",
    "- population_comparer: Chi-Square\n",
    "- secondary threshold: 0.05\n",
    "- max_distance: window_size"
   ]
  },
  {
   "cell_type": "code",
   "execution_count": 12,
   "id": "64b92669",
   "metadata": {},
   "outputs": [],
   "source": [
    "window_sizes = [50, 100, 150]\n",
    "SecondaryWindowGeneratorClass = windowing.FixedSizeWindowGenerator\n",
    "secondary_population_comparer = pop_comparison.ChiSquaredComparer()\n",
    "secondary_threshold = 0.5\n",
    "secondary_exclude_attributes = ['concept:name']\n",
    "max_distance = None"
   ]
  },
  {
   "cell_type": "code",
   "execution_count": 18,
   "id": "aaa7b15f",
   "metadata": {},
   "outputs": [],
   "source": [
    "def run_experiments(change_point_explainer, datasets):\n",
    "    intermediate_results = []\n",
    "    for dataset in datasets.values():\n",
    "        data_file_path = dataset['file_path']\n",
    "\n",
    "        # load the event log into pm4py\n",
    "        event_log = xes_importer.apply(data_file_path)\n",
    "\n",
    "        # calculate the drift explanations\n",
    "        observed_change_point_explanations = drift_explainer.attribute_importance_per_primary_change_point(event_log, max_distance=max_distance)\n",
    "\n",
    "        # convert change point explanations into simple format\n",
    "        simple_true_change_point_explanations = helper.get_simple_change_point_format_from_data_info(dataset)\n",
    "        simple_observed_change_point_explanations =  helper.get_simple_change_point_list_from_explainer(observed_change_point_explanations)    \n",
    "        \n",
    "        # set the maximum distance for the evaluation\n",
    "        max_distance_evaluation = change_point_explainer.max_distance\n",
    "\n",
    "        result = evaluation.evaluate_explanations(simple_true_change_point_explanations, simple_observed_change_point_explanations, max_distance=max_distance_evaluation)\n",
    "        intermediate_results.append(result)\n",
    "        \n",
    "    aggregated_results = evaluation.aggregate_cp_explanation_results(results_list)\n",
    "    \n",
    "    return aggregated_results"
   ]
  },
  {
   "cell_type": "code",
   "execution_count": null,
   "id": "7ce208a5",
   "metadata": {},
   "outputs": [],
   "source": [
    "for window_size in window_size:\n",
    "    \n",
    "    break"
   ]
  },
  {
   "cell_type": "code",
   "execution_count": 9,
   "id": "2122c117",
   "metadata": {},
   "outputs": [
    {
     "name": "stdout",
     "output_type": "stream",
     "text": [
      "Working on dataset 1\n"
     ]
    },
    {
     "name": "stderr",
     "output_type": "stream",
     "text": [
      "parsing log, completed traces :: 100%|██████████| 2500/2500 [00:01<00:00, 1532.80it/s]\n",
      "parsing log, completed traces :: 100%|██████████| 2500/2500 [00:02<00:00, 1247.16it/s]\n",
      "parsing log, completed traces :: 100%|██████████| 2500/2500 [00:02<00:00, 911.12it/s] \n"
     ]
    },
    {
     "name": "stdout",
     "output_type": "stream",
     "text": [
      "Working on dataset 2\n"
     ]
    },
    {
     "name": "stderr",
     "output_type": "stream",
     "text": [
      "parsing log, completed traces :: 100%|██████████| 2500/2500 [00:02<00:00, 1136.89it/s]\n",
      "parsing log, completed traces :: 100%|██████████| 2500/2500 [00:02<00:00, 870.32it/s] \n",
      "parsing log, completed traces :: 100%|██████████| 2500/2500 [00:01<00:00, 1279.93it/s]\n"
     ]
    },
    {
     "name": "stdout",
     "output_type": "stream",
     "text": [
      "Working on dataset 3\n"
     ]
    },
    {
     "name": "stderr",
     "output_type": "stream",
     "text": [
      "parsing log, completed traces :: 100%|██████████| 2500/2500 [00:02<00:00, 1133.31it/s]\n",
      "parsing log, completed traces :: 100%|██████████| 2500/2500 [00:01<00:00, 1564.55it/s]\n",
      "parsing log, completed traces :: 100%|██████████| 2500/2500 [00:02<00:00, 1147.77it/s]\n"
     ]
    },
    {
     "name": "stdout",
     "output_type": "stream",
     "text": [
      "Working on dataset 4\n"
     ]
    },
    {
     "name": "stderr",
     "output_type": "stream",
     "text": [
      "parsing log, completed traces :: 100%|██████████| 2500/2500 [00:02<00:00, 937.97it/s] \n",
      "parsing log, completed traces :: 100%|██████████| 2500/2500 [00:01<00:00, 1313.69it/s]\n",
      "parsing log, completed traces :: 100%|██████████| 2500/2500 [00:02<00:00, 1241.85it/s]\n"
     ]
    },
    {
     "name": "stdout",
     "output_type": "stream",
     "text": [
      "Working on dataset 5\n"
     ]
    },
    {
     "name": "stderr",
     "output_type": "stream",
     "text": [
      "parsing log, completed traces :: 100%|██████████| 2500/2500 [00:02<00:00, 1209.02it/s]\n",
      "parsing log, completed traces :: 100%|██████████| 2500/2500 [00:02<00:00, 1023.61it/s]\n",
      "parsing log, completed traces :: 100%|██████████| 2500/2500 [00:02<00:00, 1185.55it/s]\n"
     ]
    },
    {
     "name": "stdout",
     "output_type": "stream",
     "text": [
      "Working on dataset 6\n"
     ]
    },
    {
     "name": "stderr",
     "output_type": "stream",
     "text": [
      "parsing log, completed traces :: 100%|██████████| 2500/2500 [00:02<00:00, 1088.26it/s]\n",
      "parsing log, completed traces :: 100%|██████████| 2500/2500 [00:01<00:00, 1265.89it/s]\n",
      "parsing log, completed traces :: 100%|██████████| 2500/2500 [00:02<00:00, 1036.88it/s]\n"
     ]
    },
    {
     "name": "stdout",
     "output_type": "stream",
     "text": [
      "Working on dataset 7\n"
     ]
    },
    {
     "name": "stderr",
     "output_type": "stream",
     "text": [
      "parsing log, completed traces :: 100%|██████████| 2500/2500 [00:02<00:00, 1201.38it/s]\n",
      "parsing log, completed traces :: 100%|██████████| 2500/2500 [00:01<00:00, 1345.10it/s]\n",
      "parsing log, completed traces :: 100%|██████████| 2500/2500 [00:02<00:00, 1139.85it/s]\n"
     ]
    },
    {
     "name": "stdout",
     "output_type": "stream",
     "text": [
      "Working on dataset 8\n"
     ]
    },
    {
     "name": "stderr",
     "output_type": "stream",
     "text": [
      "parsing log, completed traces :: 100%|██████████| 2500/2500 [00:02<00:00, 1112.24it/s]\n",
      "parsing log, completed traces :: 100%|██████████| 2500/2500 [00:01<00:00, 1382.10it/s]\n",
      "parsing log, completed traces :: 100%|██████████| 2500/2500 [00:01<00:00, 1427.92it/s]\n"
     ]
    },
    {
     "name": "stdout",
     "output_type": "stream",
     "text": [
      "Working on dataset 9\n"
     ]
    },
    {
     "name": "stderr",
     "output_type": "stream",
     "text": [
      "parsing log, completed traces :: 100%|██████████| 2500/2500 [00:01<00:00, 1446.19it/s]\n",
      "parsing log, completed traces :: 100%|██████████| 2500/2500 [00:01<00:00, 1291.42it/s]\n",
      "parsing log, completed traces :: 100%|██████████| 2500/2500 [00:01<00:00, 1331.99it/s]\n"
     ]
    },
    {
     "name": "stdout",
     "output_type": "stream",
     "text": [
      "Working on dataset 10\n"
     ]
    },
    {
     "name": "stderr",
     "output_type": "stream",
     "text": [
      "parsing log, completed traces :: 100%|██████████| 2500/2500 [00:01<00:00, 1270.76it/s]\n",
      "parsing log, completed traces :: 100%|██████████| 2500/2500 [00:02<00:00, 1226.12it/s]\n",
      "parsing log, completed traces :: 100%|██████████| 2500/2500 [00:01<00:00, 1474.64it/s]\n"
     ]
    }
   ],
   "source": [
    "results_lists = {}\n",
    "for i, dataset in enumerate(datasets.values()):\n",
    "    print(f'Working on dataset {i+1}')\n",
    "\n",
    "    for window_size in window_sizes:\n",
    "        if window_size not in results_lists:\n",
    "            results_lists[window_size] = []\n",
    "\n",
    "        if max_distance == None:\n",
    "            max_distance = window_size\n",
    "        \n",
    "        secondary_window_generator = SecondaryWindowGeneratorClass(window_size)\n",
    "        \n",
    "        data_file_path = dataset['file_path']\n",
    "        change_points = dataset['change_points']\n",
    "\n",
    "        true_change_point_explanations =  dataset['change_point_explanations']\n",
    "\n",
    "        # load the event log into pm4py\n",
    "        event_log = xes_importer.apply(data_file_path)\n",
    "        primary_process_drift_detector = drift_detection.DriftDetectorTrueKnown(change_points)\n",
    "        secondary_drift_detectors = drift_detection.get_all_attribute_drift_detectors(event_log,\n",
    "                                                                            secondary_window_generator, \n",
    "                                                                            secondary_population_comparer, \n",
    "                                                                            threshold=secondary_threshold,\n",
    "                                                                            exclude_attributes=secondary_exclude_attributes)\n",
    "        drift_explainer = drift_explanation.DriftExplainer(primary_process_drift_detector, secondary_drift_detectors)\n",
    "        \n",
    "        # calculate the drift explanations\n",
    "        observed_change_point_explanations = drift_explainer.attribute_importance_per_primary_change_point(event_log, max_distance=max_distance)\n",
    "\n",
    "        simple_true = helper.get_simple_change_point_format_from_data_info(dataset)\n",
    "        simple_detected =  helper.get_simple_change_point_list_from_explainer(observed_change_point_explanations)    \n",
    "        \n",
    "        result = evaluation.evaluate_explanations(simple_true, simple_detected, max_distance=max_distance)\n",
    "        results_lists[window_size].append(result)"
   ]
  },
  {
   "cell_type": "code",
   "execution_count": 10,
   "id": "5a6b42b6",
   "metadata": {},
   "outputs": [],
   "source": [
    "# get the average results per window size\n",
    "average_results_per_window_size = {}\n",
    "\n",
    "for window_size, results_list in results_lists.items():\n",
    "    average_results = evaluation.aggregate_cp_explanation_results(results_list)\n",
    "    average_results_per_window_size[window_size] = average_results"
   ]
  },
  {
   "cell_type": "code",
   "execution_count": 15,
   "id": "f60ba0ac",
   "metadata": {},
   "outputs": [],
   "source": [
    "import pandas as pd\n",
    "results_df = pd.DataFrame().from_dict(average_results_per_window_size, orient='index')\n",
    "results_df = results_df.drop(columns=['lags'])"
   ]
  },
  {
   "cell_type": "code",
   "execution_count": 16,
   "id": "47a5a8fa",
   "metadata": {},
   "outputs": [
    {
     "data": {
      "text/html": [
       "<div>\n",
       "<style scoped>\n",
       "    .dataframe tbody tr th:only-of-type {\n",
       "        vertical-align: middle;\n",
       "    }\n",
       "\n",
       "    .dataframe tbody tr th {\n",
       "        vertical-align: top;\n",
       "    }\n",
       "\n",
       "    .dataframe thead th {\n",
       "        text-align: right;\n",
       "    }\n",
       "</style>\n",
       "<table border=\"1\" class=\"dataframe\">\n",
       "  <thead>\n",
       "    <tr style=\"text-align: right;\">\n",
       "      <th></th>\n",
       "      <th>number_of_correct_detections</th>\n",
       "      <th>number_of_true_changes</th>\n",
       "      <th>number_of_detections</th>\n",
       "      <th>precision</th>\n",
       "      <th>recall</th>\n",
       "      <th>f1_score</th>\n",
       "      <th>mean_lag</th>\n",
       "    </tr>\n",
       "  </thead>\n",
       "  <tbody>\n",
       "    <tr>\n",
       "      <th>50</th>\n",
       "      <td>45</td>\n",
       "      <td>50</td>\n",
       "      <td>1439</td>\n",
       "      <td>0.031272</td>\n",
       "      <td>0.9</td>\n",
       "      <td>0.060443</td>\n",
       "      <td>24.844444</td>\n",
       "    </tr>\n",
       "    <tr>\n",
       "      <th>100</th>\n",
       "      <td>25</td>\n",
       "      <td>50</td>\n",
       "      <td>986</td>\n",
       "      <td>0.025355</td>\n",
       "      <td>0.5</td>\n",
       "      <td>0.048263</td>\n",
       "      <td>7.200000</td>\n",
       "    </tr>\n",
       "    <tr>\n",
       "      <th>150</th>\n",
       "      <td>25</td>\n",
       "      <td>50</td>\n",
       "      <td>781</td>\n",
       "      <td>0.032010</td>\n",
       "      <td>0.5</td>\n",
       "      <td>0.060168</td>\n",
       "      <td>15.920000</td>\n",
       "    </tr>\n",
       "  </tbody>\n",
       "</table>\n",
       "</div>"
      ],
      "text/plain": [
       "     number_of_correct_detections  number_of_true_changes  \\\n",
       "50                             45                      50   \n",
       "100                            25                      50   \n",
       "150                            25                      50   \n",
       "\n",
       "     number_of_detections  precision  recall  f1_score   mean_lag  \n",
       "50                   1439   0.031272     0.9  0.060443  24.844444  \n",
       "100                   986   0.025355     0.5  0.048263   7.200000  \n",
       "150                   781   0.032010     0.5  0.060168  15.920000  "
      ]
     },
     "execution_count": 16,
     "metadata": {},
     "output_type": "execute_result"
    }
   ],
   "source": [
    "results_df"
   ]
  },
  {
   "cell_type": "code",
   "execution_count": null,
   "id": "d3063b0c",
   "metadata": {},
   "outputs": [],
   "source": []
  },
  {
   "cell_type": "code",
   "execution_count": null,
   "id": "c4358d4c",
   "metadata": {},
   "outputs": [],
   "source": []
  }
 ],
 "metadata": {
  "interpreter": {
   "hash": "3586acef3f5f923af4b971ce05811a36e3973e810e5c25f95daaeb0237b948ae"
  },
  "kernelspec": {
   "display_name": "Python 3 (ipykernel)",
   "language": "python",
   "name": "python3"
  },
  "language_info": {
   "codemirror_mode": {
    "name": "ipython",
    "version": 3
   },
   "file_extension": ".py",
   "mimetype": "text/x-python",
   "name": "python",
   "nbconvert_exporter": "python",
   "pygments_lexer": "ipython3",
   "version": "3.10.4"
  }
 },
 "nbformat": 4,
 "nbformat_minor": 5
}
